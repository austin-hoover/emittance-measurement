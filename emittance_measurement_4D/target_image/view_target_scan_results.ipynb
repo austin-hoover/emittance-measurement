{
 "cells": [
  {
   "cell_type": "markdown",
   "metadata": {},
   "source": [
    "# Plot results of the target phase scan"
   ]
  },
  {
   "cell_type": "code",
   "execution_count": null,
   "metadata": {},
   "outputs": [],
   "source": [
    "import sys\n",
    "import os\n",
    "\n",
    "import numpy as np\n",
    "import pandas as pd\n",
    "from matplotlib import pyplot as plt\n",
    "from matplotlib.lines import Line2D\n",
    "import proplot as pplt\n",
    "\n",
    "from target_image_analysis import Image\n",
    "from target_image_analysis import PIXEL_WIDTH\n",
    "from target_image_analysis import process_image_array\n",
    "\n",
    "sys.path.append('/Users/46h/Research/')\n",
    "from accphys.tools import utils\n",
    "from accphys.tools import plotting as myplt"
   ]
  },
  {
   "cell_type": "code",
   "execution_count": null,
   "metadata": {},
   "outputs": [],
   "source": [
    "pplt.rc['axes.grid'] = False\n",
    "pplt.rc['savefig.transparent'] = True\n",
    "pplt.rc['cmap.discrete'] = False\n",
    "pplt.rc['cmap.sequential'] = 'dusk_r'\n",
    "savefig_kws = dict(dpi=300)"
   ]
  },
  {
   "cell_type": "markdown",
   "metadata": {},
   "source": [
    "## Optics "
   ]
  },
  {
   "cell_type": "code",
   "execution_count": null,
   "metadata": {},
   "outputs": [],
   "source": [
    "phase_adv = np.loadtxt('_output/data/phase_adv.dat')"
   ]
  },
  {
   "cell_type": "code",
   "execution_count": null,
   "metadata": {},
   "outputs": [],
   "source": [
    "fig, ax = pplt.subplots(figsize=(6, 2.25))\n",
    "g1 = ax.plot(phase_adv[:, 0], marker='.')\n",
    "g2 = ax.plot(phase_adv[:, 1], marker='.')\n",
    "ax.legend([g1, g2], labels=[r\"$\\mu_x$\", r\"$\\mu_y$\"], loc=(0., 1.), framealpha=0.)\n",
    "ax.format(ylabel='[rad]', xlabel='Scan index', ylim=(0., 2*np.pi))\n",
    "plt.savefig('_output/figures/phase_adv.png', **savefig_kws)"
   ]
  },
  {
   "cell_type": "code",
   "execution_count": null,
   "metadata": {},
   "outputs": [],
   "source": [
    "twiss_filenames = [f for f in utils.list_files('_output/data/') if 'twiss' in f]\n",
    "twiss_filenames = sorted(twiss_filenames, key=lambda f: float(f.split('.')[0].split('_')[-1]))\n",
    "twiss_list = [np.loadtxt(f) for f in twiss_filenames]"
   ]
  },
  {
   "cell_type": "code",
   "execution_count": null,
   "metadata": {},
   "outputs": [],
   "source": [
    "fig, ax = pplt.subplots(figsize=(6, 2.25))\n",
    "plot_kws = dict(alpha=0.1, marker=None)\n",
    "colors = myplt.DEFAULT_COLORCYCLE\n",
    "\n",
    "for twiss in twiss_list:\n",
    "    positions, mux, muy, alpha_x, alpha_y, beta_x, beta_y, eps_x, eps_y = twiss.T\n",
    "    ax.plot(positions, beta_x, color=colors[0], **plot_kws)\n",
    "    ax.plot(positions, beta_y, color=colors[1], **plot_kws)\n",
    "ax.format(ylabel='[m/rad]', ylim=(0., 100.), xlabel='Position [m]')\n",
    "\n",
    "lines = [Line2D([0], [0], color=colors[0]), Line2D([0], [0], color=colors[1])]\n",
    "ax.legend(lines, [r\"$\\beta_x$\", r\"$\\beta_y$\"], loc=(0., 1.), framealpha=0.)\n",
    "# plt.savefig('_output/figures/beta_vs_pos.png', **savefig_kws)\n",
    "plt.show()"
   ]
  },
  {
   "cell_type": "code",
   "execution_count": null,
   "metadata": {},
   "outputs": [],
   "source": [
    "fig, ax = pplt.subplots(figsize=(6, 2.25))\n",
    "for twiss in twiss_list:\n",
    "    positions, mu_x, mu_y, alpha_x, alpha_y, beta_x, beta_y, eps_x, eps_y = twiss.T\n",
    "    ax.plot(positions, mu_x, color=colors[0], **plot_kws)\n",
    "    ax.plot(positions, mu_y, color=colors[1], **plot_kws)\n",
    "ax.format(ylabel='[m/rad]', xlabel='Position [m]', ylim=(0., 2*np.pi))\n",
    "\n",
    "lines = [Line2D([0], [0], color=colors[0]), Line2D([0], [0], color=colors[1])]\n",
    "ax.legend(lines, [r\"$\\mu_x$\", r\"$\\mu_y$\"], loc=(0., 1.), framealpha=0.)\n",
    "# plt.savefig('_output/figures/phase_adv_vs_pos.png', **savefig_kws)\n",
    "plt.show()"
   ]
  },
  {
   "cell_type": "code",
   "execution_count": null,
   "metadata": {},
   "outputs": [],
   "source": [
    "fields = pd.read_table('_output/data/fields.dat', sep=' ')\n",
    "fields.head()"
   ]
  },
  {
   "cell_type": "code",
   "execution_count": null,
   "metadata": {},
   "outputs": [],
   "source": [
    "fig, ax = pplt.subplots()\n",
    "ax.format(ylabel='Field strength [T/m]', cycle='538', xlabel='Scan index')\n",
    "for col in fields.columns[:-1]:\n",
    "    ax.plot(fields.loc[:, col], marker='.')\n",
    "ax.legend(ncols=1, loc='r')\n",
    "# plt.savefig('_output/figures/fields.png', **savefig_kws)\n",
    "plt.show()"
   ]
  },
  {
   "cell_type": "markdown",
   "metadata": {},
   "source": [
    "## Beam image "
   ]
  },
  {
   "cell_type": "code",
   "execution_count": null,
   "metadata": {},
   "outputs": [],
   "source": [
    "image_arrays = np.loadtxt('_output/data/images.dat')\n",
    "images = []\n",
    "for image_array in image_arrays:\n",
    "    Z = process_image_array(image_array, make_square=False)\n",
    "    images.append(Image(Z, pixel_width=PIXEL_WIDTH))"
   ]
  },
  {
   "cell_type": "markdown",
   "metadata": {},
   "source": [
    "Check if the images are different."
   ]
  },
  {
   "cell_type": "code",
   "execution_count": null,
   "metadata": {},
   "outputs": [],
   "source": [
    "for i in range(len(images) - 1):\n",
    "    print(i, np.all(images[i].Z == images[i + 1]))"
   ]
  },
  {
   "cell_type": "markdown",
   "metadata": {},
   "source": [
    "Plot the images."
   ]
  },
  {
   "cell_type": "code",
   "execution_count": null,
   "metadata": {},
   "outputs": [],
   "source": [
    "sigma = 3.0\n",
    "\n",
    "for i, image in enumerate(images):\n",
    "    fig, axes = pplt.subplots(ncols=2, figsize=(8, 2.5))\n",
    "    axes[0].pcolormesh(image.xx, image.yy, image.Z.T)\n",
    "    axes[1].pcolormesh(image.xx, image.yy, image.filter(sigma).T)\n",
    "    axes[0].set_title('Raw')\n",
    "    axes[0].set_title(r'Step {}: $\\mu_x = {:.2f}\\degree$, $\\mu_y = {:.2f}\\degree$.'.format(\n",
    "        i, np.degrees(phase_adv[i, 0]), np.degrees(phase_adv[i, 1])))\n",
    "    axes.format(xlabel='x [mm]', ylabel='y [mm]', aspect=1.0)\n",
    "    plt.show()"
   ]
  },
  {
   "cell_type": "code",
   "execution_count": null,
   "metadata": {},
   "outputs": [],
   "source": []
  }
 ],
 "metadata": {
  "kernelspec": {
   "display_name": "Python 3",
   "language": "python",
   "name": "python3"
  },
  "language_info": {
   "codemirror_mode": {
    "name": "ipython",
    "version": 3
   },
   "file_extension": ".py",
   "mimetype": "text/x-python",
   "name": "python",
   "nbconvert_exporter": "python",
   "pygments_lexer": "ipython3",
   "version": "3.7.6"
  }
 },
 "nbformat": 4,
 "nbformat_minor": 4
}
