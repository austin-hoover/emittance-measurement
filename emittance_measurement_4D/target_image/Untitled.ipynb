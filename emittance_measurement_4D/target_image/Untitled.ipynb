{
 "cells": [
  {
   "cell_type": "markdown",
   "metadata": {},
   "source": [
    "### Comparison with wire-scanner measurements"
   ]
  },
  {
   "cell_type": "markdown",
   "metadata": {},
   "source": [
    "Load the model Twiss parameters at each node."
   ]
  },
  {
   "cell_type": "code",
   "execution_count": null,
   "metadata": {},
   "outputs": [],
   "source": [
    "model_twiss = pd.read_table(join(folder, 'model_twiss.dat'), sep=' ')\n",
    "model_twiss"
   ]
  },
  {
   "cell_type": "markdown",
   "metadata": {},
   "source": [
    "Load the reconstructed beam moments at each node. These were reconstructed from wire-scanner measurements. We should ignore everything downstream of `RTBT_Diag:QH18` because the magnets downstream were changed during the target scan."
   ]
  },
  {
   "cell_type": "code",
   "execution_count": null,
   "metadata": {},
   "outputs": [],
   "source": [
    "rec_moments = pd.read_table(join(folder, 'rec_moments.dat'), sep=' ')\n",
    "rec_moments"
   ]
  },
  {
   "cell_type": "code",
   "execution_count": null,
   "metadata": {},
   "outputs": [],
   "source": [
    "rec_stats = ba.BeamStats()\n",
    "rec_stats.read_moments(rec_moments.iloc[:, 2:].values)\n",
    "rec_stats.twiss2D"
   ]
  },
  {
   "cell_type": "code",
   "execution_count": null,
   "metadata": {},
   "outputs": [],
   "source": [
    "ws_ids = ['RTBT_Diag:WS20', 'RTBT_Diag:WS21', 'RTBT_Diag:WS23', 'RTBT_Diag:WS24']\n",
    "ws_positions = []\n",
    "for ws_id in ws_ids:\n",
    "    ws_position = float(rec_moments[rec_moments['node_id'] == ws_id]['position']) \n",
    "    ws_positions.append(ws_position)"
   ]
  },
  {
   "cell_type": "code",
   "execution_count": null,
   "metadata": {},
   "outputs": [],
   "source": [
    "fig, axes = pplt.subplots(nrows=4, figsize=(3, 5), spany=False)\n",
    "colors = pplt.Cycle('538').by_key()['color']\n",
    "plot_kws = dict(marker='.', ms=0)\n",
    "axes[0].plot(rec_moments['position'], rec_stats.corr['xy'], color=colors[0], **plot_kws)\n",
    "axes[1].plot(rec_moments['position'], rec_stats.corr['xyp'], color=colors[1], **plot_kws)\n",
    "axes[2].plot(rec_moments['position'], rec_stats.corr['yxp'], color=colors[2], **plot_kws)\n",
    "axes[3].plot(rec_moments['position'], rec_stats.corr['xpyp'], color=colors[3], **plot_kws)\n",
    "axes.format(xlabel='position', ylim=(-1.0, 1.0), suptitle='Cross-plane correlation coefficients.')\n",
    "axes[0].set_ylabel(\"x-y\")\n",
    "axes[1].set_ylabel(\"x-y'\")\n",
    "axes[2].set_ylabel(\"y-x'\")\n",
    "axes[3].set_ylabel(\"x'-y'\")\n",
    "for ax in axes:\n",
    "    for ws_position in ws_positions:\n",
    "        ax.axvline(ws_position, color='black', alpha=0.2, ls='--', lw=0.5)\n",
    "plt.savefig('_output/figures/corr_coeff.png', **savefig_kws)\n",
    "plt.show()"
   ]
  },
  {
   "cell_type": "code",
   "execution_count": null,
   "metadata": {},
   "outputs": [],
   "source": [
    "fig, ax = pplt.subplots(figsize=(6.5, 2.5))\n",
    "rec_kws = dict(ls='--', lw=0.75)\n",
    "model_kws = dict(marker='.', ms=3, lw=1.25)\n",
    "colors = myplt.DEFAULT_COLORCYCLE\n",
    "g1 = ax.plot(model_twiss['position'], model_twiss['beta_x'], color=colors[0], **model_kws)\n",
    "g2 = ax.plot(model_twiss['position'], rec_stats.twiss2D['beta_x'], color=colors[0], **rec_kws)\n",
    "g3 = ax.plot(model_twiss['position'], model_twiss['beta_y'], color=colors[1], **model_kws)\n",
    "g4 = ax.plot(model_twiss['position'], rec_stats.twiss2D['beta_y'], color=colors[1], **rec_kws)\n",
    "ax.legend(handles=[g1, g2, g3, g4], \n",
    "          labels=[r'$\\beta_x$ (model)', r'$\\beta_x$ (rec)',\n",
    "                  r'$\\beta_y$ (model)', r'$\\beta_y$ (rec)'], \n",
    "          ncols=2, loc='upper left')\n",
    "ax.format(xlabel='Position [m]', ylabel='[m/rad]')\n",
    "ax.format(ylim=(0., 120.))\n",
    "plt.savefig('_output/figures/rec_betas.png', **savefig_kws)\n",
    "plt.show()"
   ]
  },
  {
   "cell_type": "code",
   "execution_count": null,
   "metadata": {},
   "outputs": [],
   "source": [
    "fig, ax = pplt.subplots(figsize=(6.5, 2.5))\n",
    "rec_kws = dict(ls='--', lw=0.75)\n",
    "colors = myplt.DEFAULT_COLORCYCLE\n",
    "g1 = ax.plot(model_twiss['position'], model_twiss['alpha_x'], color=colors[0], **model_kws)\n",
    "g2 = ax.plot(rec_moments['position'], rec_stats.twiss2D['alpha_x'], color=colors[0], **rec_kws)\n",
    "g3 = ax.plot(model_twiss['position'], model_twiss['alpha_y'], color=colors[1], **model_kws)\n",
    "g4 = ax.plot(rec_moments['position'], rec_stats.twiss2D['alpha_y'], color=colors[1], **rec_kws)\n",
    "ax.legend(handles=[g1, g2, g3, g4], \n",
    "          labels=[r'$\\alpha_x$ (model)', r'$\\alpha_x$ (rec)',\n",
    "                  r'$\\alpha_y$ (model)', r'$\\alpha_y$ (rec)'], \n",
    "          ncols=2, loc='upper left')\n",
    "ax.format(xlabel='Position [m]', ylabel='[rad]')\n",
    "plt.savefig('_output/figures/rec_alphas.png', **savefig_kws)\n",
    "plt.show()"
   ]
  },
  {
   "cell_type": "markdown",
   "metadata": {},
   "source": [
    "The measured Twiss parameters seem to agree reasonably well with the model at `RTBT_Diag:BPM16`. We will use this as our reconstruction location; although the method functions the same for any reconstruction location, choosing a point where the beam is matched will make the projection angles close to the phase advances in normalized phase space. Also, the reconstructed distribution will be more round in normalized phase space."
   ]
  },
  {
   "cell_type": "code",
   "execution_count": null,
   "metadata": {},
   "outputs": [],
   "source": [
    "rec_node_id = 'RTBT_Diag:BPM16'\n",
    "\n",
    "idx = model_twiss['node_id'] == rec_node_id\n",
    "rec_node_id, position, alpha_x, alpha_y, beta_x, beta_y = model_twiss.loc[idx].values[0]\n",
    "print('rec_node_id = {} [m]'.format(rec_node_id))\n",
    "print('position = {:.2f}'.format(position))\n",
    "print('alpha_x = {:.2f} [rad]'.format(alpha_x))\n",
    "print('alpha_y = {:.2f} [rad]'.format(alpha_y))\n",
    "print('beta_x = {:.2f} [m/rad]'.format(beta_x))\n",
    "print('beta_y = {:.2f} [m/rad]'.format(beta_y))\n",
    "\n",
    "V = V_matrix_4x4_uncoupled(alpha_x, alpha_y, beta_x, beta_y)\n",
    "Vx = V[:2, :2]\n",
    "Vy = V[2:, 2:]\n",
    "print('V =')\n",
    "print(V)"
   ]
  },
  {
   "cell_type": "markdown",
   "metadata": {},
   "source": [
    "### Transfer matrices "
   ]
  },
  {
   "cell_type": "markdown",
   "metadata": {},
   "source": [
    "Load the transfer matrices from this node to the target for each optics setting."
   ]
  },
  {
   "cell_type": "code",
   "execution_count": null,
   "metadata": {},
   "outputs": [],
   "source": [
    "tmat_filenames = [f for f in filenames if 'tmat' in f]\n",
    "tmat_filenames = sorted(tmat_filenames, key=lambda f: float(f.split('.')[0].split('_')[-1]))\n",
    "tmats = []\n",
    "for filename in tmat_filenames:\n",
    "    file = open(filename, 'r')\n",
    "    lines = [line.rstrip() for line in file]\n",
    "    for line in lines[1:]:\n",
    "        tokens = line.rstrip().split()\n",
    "        node_id, tmat_elems = tokens[0], [float(token) for token in tokens[1:]]\n",
    "        if node_id == rec_node_id:\n",
    "            tmats.append(np.array(tmat_elems).reshape((4, 4)))\n",
    "    file.close()\n",
    "    \n",
    "tmats_x = [tmat[:2, :2] for tmat in tmats]\n",
    "tmats_y = [tmat[2:, 2:] for tmat in tmats]\n",
    "\n",
    "tmats_norm = [np.matmul(M, V) for M in tmats]\n",
    "tmats_x_norm = [tmat[:2, :2] for tmat in tmats_norm]\n",
    "tmats_y_norm = [tmat[2:, 2:] for tmat in tmats_norm]"
   ]
  }
 ],
 "metadata": {
  "kernelspec": {
   "display_name": "Python 3",
   "language": "python",
   "name": "python3"
  },
  "language_info": {
   "codemirror_mode": {
    "name": "ipython",
    "version": 3
   },
   "file_extension": ".py",
   "mimetype": "text/x-python",
   "name": "python",
   "nbconvert_exporter": "python",
   "pygments_lexer": "ipython3",
   "version": "3.7.6"
  }
 },
 "nbformat": 4,
 "nbformat_minor": 4
}
