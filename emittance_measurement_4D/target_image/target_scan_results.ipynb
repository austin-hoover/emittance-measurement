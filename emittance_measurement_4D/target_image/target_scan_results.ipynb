{
 "cells": [
  {
   "cell_type": "markdown",
   "metadata": {},
   "source": [
    "# 4D tomography using the target imaging system"
   ]
  },
  {
   "cell_type": "code",
   "execution_count": null,
   "metadata": {},
   "outputs": [],
   "source": [
    "import sys\n",
    "import os\n",
    "from os.path import join\n",
    "\n",
    "import importlib\n",
    "from tqdm import tqdm\n",
    "from tqdm import trange\n",
    "import numpy as np\n",
    "import pandas as pd\n",
    "from matplotlib import pyplot as plt\n",
    "from matplotlib.lines import Line2D\n",
    "from matplotlib import animation\n",
    "import proplot as pplt\n",
    "\n",
    "import target_image_analysis\n",
    "\n",
    "sys.path.append('/Users/46h/Research/')\n",
    "from accphys.tools import beam_analysis as ba\n",
    "from accphys.tools import utils\n",
    "from accphys.tools import plotting as myplt\n",
    "from accphys.tools.accphys_utils import V_matrix_4x4_uncoupled\n",
    "from accphys.emittance_measurement_4D.tomography import reconstruct as rec"
   ]
  },
  {
   "cell_type": "code",
   "execution_count": null,
   "metadata": {},
   "outputs": [],
   "source": [
    "pplt.rc['figure.facecolor'] = 'white'\n",
    "pplt.rc['axes.grid'] = False\n",
    "pplt.rc['grid.alpha'] = 0.04\n",
    "pplt.rc['savefig.transparent'] = True\n",
    "pplt.rc['cmap.discrete'] = False\n",
    "pplt.rc['cmap.sequential'] = 'dusk_r'\n",
    "pplt.rc['savefig.dpi'] = 'figure'\n",
    "pplt.rc['animation.html'] = 'jshtml'\n",
    "pplt.rc['animation.ffmpeg_path'] = '/usr/local/bin/ffmpeg'\n",
    "savefig_kws = dict(dpi=300)"
   ]
  },
  {
   "cell_type": "markdown",
   "metadata": {},
   "source": [
    "## Optics"
   ]
  },
  {
   "cell_type": "code",
   "execution_count": null,
   "metadata": {},
   "outputs": [],
   "source": [
    "folder = join(\n",
    "    '/Users/46h/Research/code/openxal-scripts/emittance_measurement_4D/',\n",
    "    '_saved/2021-10-21/setting2/injturns400/turn400/'\n",
    ")"
   ]
  },
  {
   "cell_type": "code",
   "execution_count": null,
   "metadata": {},
   "outputs": [],
   "source": [
    "filenames = utils.list_files(join(folder, 'target_scan/data/'))"
   ]
  },
  {
   "cell_type": "markdown",
   "metadata": {},
   "source": [
    "### Phase advances "
   ]
  },
  {
   "cell_type": "code",
   "execution_count": null,
   "metadata": {},
   "outputs": [],
   "source": [
    "phase_adv = np.loadtxt(join(folder, 'target_scan/data/phase_adv.dat'))"
   ]
  },
  {
   "cell_type": "code",
   "execution_count": null,
   "metadata": {},
   "outputs": [],
   "source": [
    "fig, ax = pplt.subplots(figsize=(6, 2.25))\n",
    "g1 = ax.plot(phase_adv[:, 0], marker='.')\n",
    "g2 = ax.plot(phase_adv[:, 1], marker='.')\n",
    "ax.legend([g1, g2], labels=[r\"$\\mu_x$\", r\"$\\mu_y$\"], loc=(0., 1.), framealpha=0.)\n",
    "ax.format(ylabel='[rad]', xlabel='Scan index', ylim=(0., 2*np.pi), ygrid=True)\n",
    "plt.savefig('_output/figures/phase_adv.png', **savefig_kws)\n",
    "plt.show()"
   ]
  },
  {
   "cell_type": "markdown",
   "metadata": {},
   "source": [
    "### Twiss parameters vs. position"
   ]
  },
  {
   "cell_type": "code",
   "execution_count": null,
   "metadata": {},
   "outputs": [],
   "source": [
    "twiss_filenames = [f for f in filenames if 'twiss' in f]\n",
    "twiss_filenames = sorted(twiss_filenames, key=lambda f: float(f.split('.')[0].split('_')[-1]))\n",
    "twiss_list = np.array([np.loadtxt(f) for f in twiss_filenames])"
   ]
  },
  {
   "cell_type": "code",
   "execution_count": null,
   "metadata": {},
   "outputs": [],
   "source": [
    "fig, ax = pplt.subplots(figsize=(6, 2.25))\n",
    "plot_kws = dict(alpha=0.15, marker=None, lw=None)\n",
    "colors = myplt.DEFAULT_COLORCYCLE\n",
    "\n",
    "for twiss in twiss_list:\n",
    "    positions, mux, muy, alpha_x, alpha_y, beta_x, beta_y, eps_x, eps_y = twiss.T\n",
    "    ax.plot(positions, beta_x, color=colors[0], **plot_kws)\n",
    "    ax.plot(positions, beta_y, color=colors[1], **plot_kws)\n",
    "ax.format(ylabel='[m/rad]', ylim=(0., 100.), xlabel='Position [m]', ygrid=True)\n",
    "\n",
    "lines = [Line2D([0], [0], color=colors[0]), Line2D([0], [0], color=colors[1])]\n",
    "ax.legend(lines, [r\"$\\beta_x$\", r\"$\\beta_y$\"], loc=(0., 1.), framealpha=0.)\n",
    "plt.savefig('_output/figures/beta_vs_pos.png', **savefig_kws)\n",
    "plt.show()"
   ]
  },
  {
   "cell_type": "code",
   "execution_count": null,
   "metadata": {},
   "outputs": [],
   "source": [
    "fig, ax = pplt.subplots(figsize=(6, 2.25))\n",
    "for twiss in twiss_list:\n",
    "    positions, mu_x, mu_y, alpha_x, alpha_y, beta_x, beta_y, eps_x, eps_y = twiss.T\n",
    "    ax.plot(positions, mu_x, color=colors[0], **plot_kws)\n",
    "    ax.plot(positions, mu_y, color=colors[1], **plot_kws)\n",
    "ax.format(ylabel='[m/rad]', xlabel='Position [m]', ylim=(0., 2*np.pi), ygrid=True)\n",
    "\n",
    "lines = [Line2D([0], [0], color=colors[0]), Line2D([0], [0], color=colors[1])]\n",
    "ax.legend(lines, [r\"$\\mu_x$\", r\"$\\mu_y$\"], loc=(0., 1.), framealpha=0.)\n",
    "plt.savefig('_output/figures/phase_adv_vs_pos.png', **savefig_kws)\n",
    "plt.show()"
   ]
  },
  {
   "cell_type": "markdown",
   "metadata": {},
   "source": [
    "### Quadrupole field strengths "
   ]
  },
  {
   "cell_type": "code",
   "execution_count": null,
   "metadata": {},
   "outputs": [],
   "source": [
    "fields = pd.read_table(join(folder, 'target_scan/data/fields.dat'), sep=' ')"
   ]
  },
  {
   "cell_type": "code",
   "execution_count": null,
   "metadata": {},
   "outputs": [],
   "source": [
    "fig, ax = pplt.subplots()\n",
    "ax.format(ylabel='Field strength [T/m]', cycle='538', xlabel='Scan index', ygrid=True)\n",
    "for col in fields.columns[:-1]:\n",
    "    ax.plot(fields.loc[:, col], marker='.', ms=3)\n",
    "ax.legend(ncols=1, loc='r')\n",
    "plt.savefig('_output/figures/fields.png', **savefig_kws)\n",
    "plt.show()"
   ]
  },
  {
   "cell_type": "markdown",
   "metadata": {},
   "source": [
    "### Comparison with wire-scanner measurements"
   ]
  },
  {
   "cell_type": "markdown",
   "metadata": {},
   "source": [
    "Load the model Twiss parameters at each node."
   ]
  },
  {
   "cell_type": "code",
   "execution_count": null,
   "metadata": {},
   "outputs": [],
   "source": [
    "model_twiss = pd.read_table(join(folder, 'model_twiss.dat'), sep=' ')\n",
    "model_twiss"
   ]
  },
  {
   "cell_type": "markdown",
   "metadata": {},
   "source": [
    "Load the reconstructed beam moments at each node. These were reconstructed from wire-scanner measurements. We should ignore everything downstream of `RTBT_Diag:QH18` because the magnets downstream were changed during the target scan."
   ]
  },
  {
   "cell_type": "code",
   "execution_count": null,
   "metadata": {},
   "outputs": [],
   "source": [
    "rec_moments = pd.read_table(join(folder, 'rec_moments.dat'), sep=' ')\n",
    "rec_moments"
   ]
  },
  {
   "cell_type": "code",
   "execution_count": null,
   "metadata": {},
   "outputs": [],
   "source": [
    "rec_stats = ba.StatsReader()\n",
    "rec_stats.read_moments(rec_moments.iloc[:, 2:].values)\n",
    "rec_stats.twiss2D"
   ]
  },
  {
   "cell_type": "code",
   "execution_count": null,
   "metadata": {},
   "outputs": [],
   "source": [
    "ws_ids = ['RTBT_Diag:WS20', 'RTBT_Diag:WS21', 'RTBT_Diag:WS23', 'RTBT_Diag:WS24']\n",
    "ws_positions = []\n",
    "for ws_id in ws_ids:\n",
    "    ws_position = float(rec_moments[rec_moments['node_id'] == ws_id]['position']) \n",
    "    ws_positions.append(ws_position)"
   ]
  },
  {
   "cell_type": "code",
   "execution_count": null,
   "metadata": {},
   "outputs": [],
   "source": [
    "fig, axes = pplt.subplots(nrows=4, figsize=(3, 5), spany=False)\n",
    "colors = pplt.Cycle('538').by_key()['color']\n",
    "plot_kws = dict(marker='.', ms=0)\n",
    "axes[0].plot(rec_moments['position'], rec_stats.corr['xy'], color=colors[0], **plot_kws)\n",
    "axes[1].plot(rec_moments['position'], rec_stats.corr['xyp'], color=colors[1], **plot_kws)\n",
    "axes[2].plot(rec_moments['position'], rec_stats.corr['yxp'], color=colors[2], **plot_kws)\n",
    "axes[3].plot(rec_moments['position'], rec_stats.corr['xpyp'], color=colors[3], **plot_kws)\n",
    "axes.format(xlabel='position', ylim=(-1.0, 1.0), suptitle='Cross-plane correlation coefficients.')\n",
    "axes[0].set_ylabel(\"x-y\")\n",
    "axes[1].set_ylabel(\"x-y'\")\n",
    "axes[2].set_ylabel(\"y-x'\")\n",
    "axes[3].set_ylabel(\"x'-y'\")\n",
    "for ax in axes:\n",
    "    for ws_position in ws_positions:\n",
    "        ax.axvline(ws_position, color='black', alpha=0.2, ls='--', lw=0.5)\n",
    "plt.savefig('_output/figures/corr_coeff.png', **savefig_kws)\n",
    "plt.show()"
   ]
  },
  {
   "cell_type": "code",
   "execution_count": null,
   "metadata": {},
   "outputs": [],
   "source": [
    "fig, ax = pplt.subplots(figsize=(6.5, 2.5))\n",
    "rec_kws = dict(ls='--', lw=0.75)\n",
    "model_kws = dict(marker='.', ms=3, lw=1.25)\n",
    "colors = myplt.DEFAULT_COLORCYCLE\n",
    "g1 = ax.plot(model_twiss['position'], model_twiss['beta_x'], color=colors[0], **model_kws)\n",
    "g2 = ax.plot(rec_twiss['position'], rec_twiss['beta_x'], color=colors[0], **rec_kws)\n",
    "g3 = ax.plot(model_twiss['position'], model_twiss['beta_y'], color=colors[1], **model_kws)\n",
    "g4 = ax.plot(rec_twiss['position'], rec_twiss['beta_y'], color=colors[1], **rec_kws)\n",
    "ax.legend(handles=[g1, g2, g3, g4], \n",
    "          labels=[r'$\\beta_x$ (model)', r'$\\beta_x$ (rec)',\n",
    "                  r'$\\beta_y$ (model)', r'$\\beta_y$ (rec)'], \n",
    "          ncols=2, loc='upper left')\n",
    "ax.format(xlabel='Position [m]', ylabel='[m/rad]')\n",
    "plt.savefig('_output/figures/rec_betas.png', **savefig_kws)\n",
    "plt.show()"
   ]
  },
  {
   "cell_type": "code",
   "execution_count": null,
   "metadata": {},
   "outputs": [],
   "source": [
    "fig, ax = pplt.subplots(figsize=(6.5, 2.5))\n",
    "rec_kws = dict(ls='--', lw=0.75)\n",
    "colors = myplt.DEFAULT_COLORCYCLE\n",
    "g1 = ax.plot(model_twiss['position'], model_twiss['alpha_x'], color=colors[0], **model_kws)\n",
    "g2 = ax.plot(rec_moments['position'], rec_stats.twiss2D['alpha_x'], color=colors[0], **rec_kws)\n",
    "g3 = ax.plot(model_twiss['position'], model_twiss['alpha_y'], color=colors[1], **model_kws)\n",
    "g4 = ax.plot(rec_moments['position'], rec_stats.twiss2D['alpha_y'], color=colors[1], **rec_kws)\n",
    "ax.legend(handles=[g1, g2, g3, g4], \n",
    "          labels=[r'$\\alpha_x$ (model)', r'$\\alpha_x$ (rec)',\n",
    "                  r'$\\alpha_y$ (model)', r'$\\alpha_y$ (rec)'], \n",
    "          ncols=2, loc='upper left')\n",
    "ax.format(xlabel='Position [m]', ylabel='[rad]')\n",
    "plt.savefig('_output/figures/rec_alphas.png', **savefig_kws)\n",
    "plt.show()"
   ]
  },
  {
   "cell_type": "markdown",
   "metadata": {},
   "source": [
    "The measured Twiss parameters seem to agree reasonably well with the model at `RTBT_Diag:BPM16`. We will use this as our reconstruction location; although the method functions the same for any reconstruction location, choosing a point where the beam is matched will make the projection angles close to the phase advances in normalized phase space. Also, the reconstructed distribution will be more round in normalized phase space."
   ]
  },
  {
   "cell_type": "code",
   "execution_count": null,
   "metadata": {},
   "outputs": [],
   "source": [
    "rec_node_id = 'RTBT_Diag:BPM16'\n",
    "\n",
    "idx = model_twiss['node_id'] == rec_node_id\n",
    "rec_node_id, position, alpha_x, alpha_y, beta_x, beta_y = model_twiss.loc[idx].values[0]\n",
    "print('rec_node_id = {} [m]'.format(rec_node_id))\n",
    "print('position = {:.2f}'.format(position))\n",
    "print('alpha_x = {:.2f} [rad]'.format(alpha_x))\n",
    "print('alpha_y = {:.2f} [rad]'.format(alpha_y))\n",
    "print('beta_x = {:.2f} [m/rad]'.format(beta_x))\n",
    "print('beta_y = {:.2f} [m/rad]'.format(beta_y))\n",
    "\n",
    "V = V_matrix_4x4_uncoupled(alpha_x, alpha_y, beta_x, beta_y)\n",
    "Vx = V[:2, :2]\n",
    "Vy = V[2:, 2:]\n",
    "print('V =')\n",
    "print(V)"
   ]
  },
  {
   "cell_type": "markdown",
   "metadata": {},
   "source": [
    "### Transfer matrices "
   ]
  },
  {
   "cell_type": "markdown",
   "metadata": {},
   "source": [
    "Load the transfer matrices from this node to the target for each optics setting."
   ]
  },
  {
   "cell_type": "code",
   "execution_count": null,
   "metadata": {},
   "outputs": [],
   "source": [
    "tmat_filenames = [f for f in filenames if 'tmat' in f]\n",
    "tmat_filenames = sorted(tmat_filenames, key=lambda f: float(f.split('.')[0].split('_')[-1]))\n",
    "tmats = []\n",
    "for filename in tmat_filenames:\n",
    "    file = open(filename, 'r')\n",
    "    lines = [line.rstrip() for line in file]\n",
    "    for line in lines[1:]:\n",
    "        tokens = line.rstrip().split()\n",
    "        node_id, tmat_elems = tokens[0], [float(token) for token in tokens[1:]]\n",
    "        if node_id == rec_node_id:\n",
    "            tmats.append(np.array(tmat_elems).reshape((4, 4)))\n",
    "    file.close()"
   ]
  },
  {
   "cell_type": "markdown",
   "metadata": {},
   "source": [
    "## Target images "
   ]
  },
  {
   "cell_type": "code",
   "execution_count": null,
   "metadata": {
    "scrolled": true,
    "tags": []
   },
   "outputs": [],
   "source": [
    "image_filenames = [f for f in filenames if 'image' in f]\n",
    "image_filenames = list(sorted(image_filenames, key=lambda f: int(f.split('.dat')[0].split('_')[-1])))\n",
    "images = []\n",
    "for image_filenames in tqdm(image_filenames):\n",
    "    image = target_image_analysis.read_file(image_filenames, n_avg='all', make_square=True, thresh=200)\n",
    "    images.append(image)"
   ]
  },
  {
   "cell_type": "markdown",
   "metadata": {},
   "source": [
    "Plot the images."
   ]
  },
  {
   "cell_type": "code",
   "execution_count": null,
   "metadata": {},
   "outputs": [],
   "source": [
    "# fig, ax = pplt.subplots(figsize=(4.2, 2.5))\n",
    "# ax.format(xlabel='x [mm]', ylabel='y [mm]', aspect=1.0)\n",
    "    \n",
    "# for ellipse in [True, False]:\n",
    "#     for sigma in [0.0, 4.0]:\n",
    "#         for i, image in enumerate(tqdm(images)):\n",
    "#             fstr = r'Step {}: $\\mu_x = {:.2f}\\degree$, $\\mu_y = {:.2f}\\degree$.'\n",
    "#             ax.set_title(fstr.format(i, np.degrees(phase_adv[i, 0]), np.degrees(phase_adv[i, 1])))\n",
    "\n",
    "#             image.filter(sigma)\n",
    "#             q = ax.pcolormesh(image.xx, image.yy, image.Zf.T, cmap='mono_r')\n",
    "\n",
    "#             for patch in ax.patches:\n",
    "#                 patch.set_visible(False)\n",
    "#             if ellipse:\n",
    "#                 mean_x, mean_y, sig_xx, sig_yy, sig_xy = image.estimate_moments(use_filtered=sigma==0.0)\n",
    "#                 c1, c2, angle = target_image_analysis.rms_ellipse_dims(sig_xx, sig_yy, sig_xy)  \n",
    "#                 myplt.ellipse(ax, 2 * c1, 2 * c2, angle, center=(mean_x, mean_y), \n",
    "#                               color='red8', lw=None, alpha=0.25)\n",
    "                \n",
    "#                 r = sig_xy / np.sqrt(sig_xx * sig_yy)\n",
    "#                 for text in ax.texts:\n",
    "#                     text.set_visible(False)\n",
    "#                 ax.annotate('r = {:.2f}'.format(r), xy=(0.02, 0.92), xycoords='axes fraction', color='white',\n",
    "#                             fontsize='small')\n",
    "\n",
    "#             plt.savefig('_output/figures/target_image_sigma={}_ellipse={}_{}.png'.format(sigma, ellipse, i), **savefig_kws)\n",
    "#             q.set_visible(False)"
   ]
  },
  {
   "cell_type": "markdown",
   "metadata": {},
   "source": [
    "The $x$-$y$ correlation coefficient can be computed directly from the image."
   ]
  },
  {
   "cell_type": "code",
   "execution_count": null,
   "metadata": {},
   "outputs": [],
   "source": [
    "sigma = 4.0\n",
    "cor_coefs = []\n",
    "for image in images:\n",
    "    image.filter(sigma)\n",
    "    mean_x, mean_y, sig_xx, sig_yy, sig_xy = image.estimate_moments(use_filtered=sigma==0.0)\n",
    "    r = sig_xy / np.sqrt(sig_xx * sig_yy)\n",
    "    cor_coefs.append(r)"
   ]
  },
  {
   "cell_type": "code",
   "execution_count": null,
   "metadata": {},
   "outputs": [],
   "source": [
    "fig, axes = pplt.subplots(nrows=2, figsize=(3.5, 3.5), height_ratios=[1.0, 1.0], spany=False)\n",
    "axes[0].plot(cor_coefs, marker='.', color='black')\n",
    "ymax = max(np.abs(axes[0].get_ylim()))\n",
    "axes[0].format(ylim=(-ymax, ymax), ylabel='x-y cor. coef.')\n",
    "g1 = axes[1].plot(phase_adv[:, 0], marker='.')\n",
    "g2 = axes[1].plot(phase_adv[:, 1], marker='.')\n",
    "axes[1].legend([g1, g2], labels=[r\"$\\mu_x$\", r\"$\\mu_y$\"], loc='upper left')\n",
    "axes[1].format(ylabel='[rad]', ylim=(0.0, 2.0 * np.pi))\n",
    "axes.format(xlabel='Scan index', ygrid=True, xgrid=False)\n",
    "plt.savefig('_output/figures/cor_coef.png', **savefig_kws)\n",
    "plt.show()"
   ]
  },
  {
   "cell_type": "markdown",
   "metadata": {},
   "source": [
    "## 4D reconstruction from multiple 2D reconstructions"
   ]
  },
  {
   "cell_type": "markdown",
   "metadata": {},
   "source": [
    "### Form measurement array "
   ]
  },
  {
   "cell_type": "markdown",
   "metadata": {},
   "source": [
    "The transfer matrix $M$ connects the phase space coordinates at the reconstruction location (1) and measurement location (2):\n",
    "\n",
    "$$ u_2 = M u_1. $$\n",
    "\n",
    "We can perform the reconstruction in normalized phase space. We have \n",
    "\n",
    "$$\\begin{aligned}\n",
    "    u_2 &= M u_1, \\\\\n",
    "    V_{2}^{-1} u_2 &= V_{2}^{-1} M V_{1} V_{1}^{-1} u_1, \\\\\n",
    "    u_2 &= M V_{1} u_{1n}, \\\\\n",
    "\\end{aligned}$$\n",
    "\n",
    "where $V_i = V_i(\\alpha_i, \\beta_i)$ is the normalization matrix at position $i$. Defining $\\tilde{M} = M V_{1}$ gives\n",
    "\n",
    "$$ u_2 = \\tilde{M} u_{1n}.$$\n",
    "\n",
    "We then proceed with the reconstruction method as normal with $\\tilde{M}$ so that the projections are converted to normalized phase space at position 1.  "
   ]
  },
  {
   "cell_type": "markdown",
   "metadata": {},
   "source": [
    "Collect the transfer matrices for each of these optics settings. There should be 7 matrices for each plane."
   ]
  },
  {
   "cell_type": "code",
   "execution_count": null,
   "metadata": {},
   "outputs": [],
   "source": [
    "n_steps_per_dim = 6"
   ]
  },
  {
   "cell_type": "code",
   "execution_count": null,
   "metadata": {},
   "outputs": [],
   "source": [
    "x_idx = [i * n_steps_per_dim for i in range(n_steps_per_dim)]\n",
    "y_idx = [i for i in range(n_steps_per_dim)]"
   ]
  },
  {
   "cell_type": "markdown",
   "metadata": {},
   "source": [
    "We have to do a little extra work because the optics calculation was done incorrectly in the last study. The corrections were done on top of additional corrections from the wire-scanner measurement, so a couple settings failed to maintain a constant $\\mu_x$ while $\\mu_y$ was changed. It was really just two steps (see plot of phase advances during scan). Vertical optics were still perfect. We will neglect this error since it is very small. "
   ]
  },
  {
   "cell_type": "code",
   "execution_count": null,
   "metadata": {},
   "outputs": [],
   "source": [
    "x_idx[5] += 2"
   ]
  },
  {
   "cell_type": "code",
   "execution_count": null,
   "metadata": {},
   "outputs": [],
   "source": [
    "tmats_x = [tmats[i][:2, :2] for i in x_idx]\n",
    "tmats_y = [tmats[i][2:, 2:] for i in y_idx]"
   ]
  },
  {
   "cell_type": "markdown",
   "metadata": {},
   "source": [
    "Create the measurement array $S$ such that $S_{i, j, k, l}$ gives the intensity at position ($x = x_i$, $y = y_j$) on the screen for the $k$th set of $x$ optics and $l$th set of $y$ optics. We'll need to downsize the image resolution."
   ]
  },
  {
   "cell_type": "code",
   "execution_count": null,
   "metadata": {},
   "outputs": [],
   "source": [
    "from skimage import transform"
   ]
  },
  {
   "cell_type": "code",
   "execution_count": null,
   "metadata": {},
   "outputs": [],
   "source": [
    "n_bins = 100\n",
    "sigma = 4.0\n",
    "\n",
    "S = np.zeros((n_bins, n_bins, len(tmats_x), len(tmats_y)))\n",
    "scan_index = 0\n",
    "for k in range(len(tmats_x)):\n",
    "    for l in range(len(tmats_y)):\n",
    "        if scan_index > len(images) - 1:\n",
    "            break    \n",
    "        image = images[scan_index]\n",
    "        Z = image.filter(sigma)        \n",
    "        Z = transform.resize(Z, (n_bins, n_bins), anti_aliasing=True)\n",
    "\n",
    "        \n",
    "        xmax = max(image.xx)\n",
    "        grid = 2 * [np.linspace(-xmax, xmax, n_bins)]\n",
    "        xmax_new = 0.6 * xmax\n",
    "        new_grid = 2 * [np.linspace(-xmax_new, xmax_new, n_bins)]\n",
    "        Z, _ = rec.transform(Z, np.identity(2), grid, new_grid)\n",
    "        \n",
    "        S[:, :, k, l] = Z\n",
    "        scan_index += 1"
   ]
  },
  {
   "cell_type": "markdown",
   "metadata": {},
   "source": [
    "### Test projection scaling "
   ]
  },
  {
   "cell_type": "markdown",
   "metadata": {},
   "source": [
    "Given the projection at location 2, we can find the corresponding projection angle $\\theta$ at location 1:\n",
    "\n",
    "$$ \\tan\\theta = M_{11} / M_{12}.$$\n",
    "\n",
    "We can also find the scaling between $s$, the distance along the projection axis at location 1 in normalized phase space, and $x_2$:\n",
    "\n",
    "$$ a \\equiv \\frac{x_2}{s} = \\sqrt{M_{11}^2 + M_{12}^2} .$$\n",
    "\n",
    "Let $p$ be the projection. Then\n",
    "\n",
    "$$ p_1(s) = a p_2(x_2) .$$"
   ]
  },
  {
   "cell_type": "code",
   "execution_count": null,
   "metadata": {},
   "outputs": [],
   "source": [
    "def transfer_matrix_scale_factor(M):\n",
    "    return np.sqrt(M[0, 0]**2 + M[0, 1]**2)\n",
    "\n",
    "def transfer_matrix_angle(M):\n",
    "    return np.arctan(M[0, 1] / M[0, 0])"
   ]
  },
  {
   "cell_type": "markdown",
   "metadata": {},
   "source": [
    "First test on rotation matrices."
   ]
  },
  {
   "cell_type": "code",
   "execution_count": null,
   "metadata": {},
   "outputs": [],
   "source": [
    "theta_xs, theta_ys = [], []\n",
    "for mux, muy in zip(phase_adv[x_idx, 0], phase_adv[y_idx, 1]):\n",
    "    Nx = utils.rotation_matrix(mux)\n",
    "    Ny = utils.rotation_matrix(muy)    \n",
    "    theta_xs.append(transfer_matrix_angle(Nx))\n",
    "    theta_ys.append(transfer_matrix_angle(Ny)) \n",
    "    \n",
    "theta_xs = np.array(theta_xs)\n",
    "theta_ys = np.array(theta_ys)\n",
    "theta_xs[np.where(theta_xs < 0.)] += np.pi\n",
    "theta_ys[np.where(theta_ys < 0.)] += np.pi\n",
    "    \n",
    "fig, ax = pplt.subplots()\n",
    "ax.format(yformatter='deg', xtickminor=False)\n",
    "ax.plot(np.degrees(theta_xs), label=r'$\\theta_x$')\n",
    "ax.plot(np.degrees(theta_ys), label=r'$\\theta_y$')\n",
    "ax.plot(np.degrees(phase_adv[x_idx, 0] % np.pi), lw=0, marker='+', ms=10, color='black')\n",
    "ax.plot(np.degrees(phase_adv[y_idx, 1] % np.pi), lw=0, marker='+', ms=10, color='black')\n",
    "ax.legend(ncols=2, loc='top')\n",
    "plt.show()"
   ]
  },
  {
   "cell_type": "markdown",
   "metadata": {},
   "source": [
    "Now calculate the real angles."
   ]
  },
  {
   "cell_type": "code",
   "execution_count": null,
   "metadata": {},
   "outputs": [],
   "source": [
    "theta_xs, theta_ys = [], []\n",
    "for Mx, My in zip(tmats_x, tmats_y):\n",
    "    Nx = np.matmul(Mx, Vx)\n",
    "    Ny = np.matmul(My, Vy)\n",
    "    theta_xs.append(transfer_matrix_angle(Nx))\n",
    "    theta_ys.append(transfer_matrix_angle(Ny))   \n",
    "        \n",
    "theta_xs = np.array(theta_xs)\n",
    "theta_ys = np.array(theta_ys)\n",
    "theta_xs[np.where(theta_xs < 0.)] += np.pi\n",
    "theta_ys[np.where(theta_ys < 0.)] += np.pi\n",
    "    \n",
    "fig, ax = pplt.subplots()\n",
    "ax.format(yformatter='deg', xtickminor=False)\n",
    "ax.plot(np.degrees(theta_xs), marker='.', label=r'$\\theta_x$')\n",
    "ax.plot(np.degrees(theta_ys), marker='.', label=r'$\\theta_y$')\n",
    "ax.legend(ncols=2, loc='top')\n",
    "plt.show()"
   ]
  },
  {
   "cell_type": "markdown",
   "metadata": {},
   "source": [
    "### Reconstruct x-x'-y"
   ]
  },
  {
   "cell_type": "code",
   "execution_count": null,
   "metadata": {},
   "outputs": [],
   "source": [
    "K = len(tmats_x)\n",
    "L = len(tmats_y)\n",
    "\n",
    "D = np.zeros((n_bins, L, n_bins, n_bins))\n",
    "for j in trange(n_bins):\n",
    "    for l in range(L):\n",
    "        projections = S[:, j, :, l]\n",
    "        \n",
    "        # Get projections in normalized phase space at reconstruction location.\n",
    "        angles = []\n",
    "        for k in range(K):\n",
    "            Mx = np.matmul(tmats_x[k], Vx)\n",
    "            projections[:, k] *= transfer_matrix_scale_factor(Mx)\n",
    "            theta = transfer_matrix_angle(Mx)\n",
    "            if theta < 0.:\n",
    "                theta += np.pi\n",
    "            angles.append(theta)    \n",
    "            \n",
    "        # Reconstruct x-x'.\n",
    "        D[j, l, :, :] = rec.sart(projections, angles, iterations=2)"
   ]
  },
  {
   "cell_type": "markdown",
   "metadata": {},
   "source": [
    "### Reconstruct x-x'-y-y'"
   ]
  },
  {
   "cell_type": "code",
   "execution_count": null,
   "metadata": {},
   "outputs": [],
   "source": [
    "Z = np.zeros((n_bins, n_bins, n_bins, n_bins))\n",
    "\n",
    "for r in trange(n_bins):\n",
    "    for s in range(n_bins):\n",
    "        projections = D[:, :, r, s]\n",
    "        \n",
    "        angles = []\n",
    "        for l in range(L):\n",
    "            My = np.matmul(tmats_y[l], Vy)\n",
    "            projections[:, l] *= transfer_matrix_scale_factor(My)\n",
    "            theta = transfer_matrix_angle(My)\n",
    "            if theta < 0.:\n",
    "                theta += np.pi\n",
    "            angles.append(theta)    \n",
    "        \n",
    "        # Reconstruct y-y'.\n",
    "        Z[r, s, :, :] = rec.sart(projections, angles, iterations=2)"
   ]
  },
  {
   "cell_type": "code",
   "execution_count": null,
   "metadata": {},
   "outputs": [],
   "source": [
    "Z = np.clip(Z, 0.0, None)"
   ]
  },
  {
   "cell_type": "code",
   "execution_count": null,
   "metadata": {},
   "outputs": [],
   "source": [
    "proj_2D = [[], [], []]\n",
    "for i in range(3):\n",
    "    for j in range(i + 1):\n",
    "        proj_2D[i].append(rec.project(Z, [j, i + 1]))\n",
    "\n",
    "        \n",
    "joint_kws = dict(cmap='mono_r')\n",
    "line_kws = dict(lw=1)\n",
    "labels = [r\"$x_n$\", r\"$x'_n$\", r\"$y_n$\", r\"$y'_n$\"]\n",
    "\n",
    "fig, axes = myplt.pair_grid_nodiag(4, figsize=(7, 7))\n",
    "for i in range(3):\n",
    "    for j in range(i + 1):\n",
    "        ax = axes[i, j]\n",
    "        _Z = proj_2D[i][j]\n",
    "#         xlim, ylim = ax.get_xlim(), ax.get_ylim()\n",
    "#         xx = np.linspace(xlim[0], xlim[1], Z.shape[0])\n",
    "#         yy = np.linspace(ylim[0], ylim[1], Z.shape[1])\n",
    "#         ax.pcolormesh(xx, yy, Z.T, **joint_kws)\n",
    "        ax.pcolormesh(_Z.T, **joint_kws)\n",
    "    \n",
    "#         ax.axvline(50, color='red', **line_kws)\n",
    "#         ax.axhline(50, color='red', **line_kws)\n",
    "    \n",
    "# for ax in axes.flat:\n",
    "#     ax.set_xlim(20, 80)\n",
    "#     ax.set_ylim(20, 80)"
   ]
  },
  {
   "cell_type": "markdown",
   "metadata": {},
   "source": [
    "* What are the dimensions of the reconstruction grid? We need this to transform to the actual phase space coordinates.\n",
    "* I think we need more projections to get rid of streaking.\n",
    "* We may need to center the measured projections; some appear to be off-center here. "
   ]
  },
  {
   "cell_type": "markdown",
   "metadata": {},
   "source": [
    "## Direct 4D reconstruction "
   ]
  },
  {
   "cell_type": "markdown",
   "metadata": {},
   "source": [
    "### ART "
   ]
  },
  {
   "cell_type": "markdown",
   "metadata": {},
   "source": [
    "### MENT "
   ]
  },
  {
   "cell_type": "markdown",
   "metadata": {},
   "source": [
    "### PIC iteration"
   ]
  }
 ],
 "metadata": {
  "kernelspec": {
   "display_name": "Python 3",
   "language": "python",
   "name": "python3"
  },
  "language_info": {
   "codemirror_mode": {
    "name": "ipython",
    "version": 3
   },
   "file_extension": ".py",
   "mimetype": "text/x-python",
   "name": "python",
   "nbconvert_exporter": "python",
   "pygments_lexer": "ipython3",
   "version": "3.7.6"
  }
 },
 "nbformat": 4,
 "nbformat_minor": 4
}
