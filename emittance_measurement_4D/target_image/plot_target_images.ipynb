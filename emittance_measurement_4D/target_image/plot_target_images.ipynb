{
 "cells": [
  {
   "cell_type": "markdown",
   "metadata": {},
   "source": [
    "# Quickly plot target images"
   ]
  },
  {
   "cell_type": "code",
   "execution_count": null,
   "metadata": {},
   "outputs": [],
   "source": [
    "import sys\n",
    "\n",
    "import numpy as np\n",
    "from matplotlib import pyplot as plt\n",
    "import proplot as pplt\n",
    "from scipy import signal\n",
    "\n",
    "import target_image_analysis as tis\n",
    "\n",
    "sys.path.append('/Users/46h/Research/')\n",
    "from scdist.tools import utils"
   ]
  },
  {
   "cell_type": "code",
   "execution_count": null,
   "metadata": {},
   "outputs": [],
   "source": [
    "pplt.rc['cmap.discrete'] = False\n",
    "pplt.rc['cmap.sequential'] = 'dusk_r'\n",
    "pplt.rc['figure.facecolor'] = 'white'\n",
    "pplt.rc['grid'] = False\n",
    "pplt.rc['grid.alpha'] = 0.05"
   ]
  },
  {
   "cell_type": "markdown",
   "metadata": {},
   "source": [
    "Load the image arrays."
   ]
  },
  {
   "cell_type": "code",
   "execution_count": null,
   "metadata": {},
   "outputs": [],
   "source": [
    "filenames = utils.list_files('_output/data/')\n",
    "filenames = [filename for filename in filenames if 'image' in filename]\n",
    "images = tis.read_files(filenames, n_avg='all', make_square=False)"
   ]
  },
  {
   "cell_type": "markdown",
   "metadata": {},
   "source": [
    "Plot each image."
   ]
  },
  {
   "cell_type": "code",
   "execution_count": null,
   "metadata": {},
   "outputs": [],
   "source": [
    "sigma = 3.0\n",
    "plot_kws = dict(ec='None', colorbar=True, colorbar_kw=dict(width=0.1))\n",
    "for image in images:\n",
    "    fig, axes = pplt.subplots(ncols=2, figwidth=9.0, wspace=5.0)\n",
    "    axes[0].pcolormesh(image.xx, image.yy, image.Z.T, **plot_kws)\n",
    "    axes[1].pcolormesh(image.xx, image.yy, image.filter(sigma).T, **plot_kws)\n",
    "    axes[0].set_title('Raw')\n",
    "    axes[1].set_title(r'Gaussian blur ($\\sigma = {}$)'.format(sigma))\n",
    "    axes.format(xlabel='x [mm]', ylabel='y [mm]', aspect=1.0)\n",
    "    plt.show()"
   ]
  }
 ],
 "metadata": {
  "kernelspec": {
   "display_name": "Python 3",
   "language": "python",
   "name": "python3"
  },
  "language_info": {
   "codemirror_mode": {
    "name": "ipython",
    "version": 3
   },
   "file_extension": ".py",
   "mimetype": "text/x-python",
   "name": "python",
   "nbconvert_exporter": "python",
   "pygments_lexer": "ipython3",
   "version": "3.7.6"
  }
 },
 "nbformat": 4,
 "nbformat_minor": 4
}
