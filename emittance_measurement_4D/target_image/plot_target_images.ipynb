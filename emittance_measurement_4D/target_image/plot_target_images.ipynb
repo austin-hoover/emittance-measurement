{
 "cells": [
  {
   "cell_type": "markdown",
   "metadata": {},
   "source": [
    "# Quickly plot target images"
   ]
  },
  {
   "cell_type": "code",
   "execution_count": null,
   "metadata": {},
   "outputs": [],
   "source": [
    "import sys\n",
    "\n",
    "import numpy as np\n",
    "from matplotlib import pyplot as plt\n",
    "import proplot as pplt\n",
    "\n",
    "from target_image_analysis import Image\n",
    "from target_image_analysis import read_files\n",
    "\n",
    "sys.path.append('/Users/46h/Research/')\n",
    "from accphys.tools import utils"
   ]
  },
  {
   "cell_type": "code",
   "execution_count": null,
   "metadata": {},
   "outputs": [],
   "source": [
    "pplt.rc['grid.alpha'] = 0.05\n",
    "pplt.rc['axes.grid'] = False\n",
    "pplt.rc['figure.facecolor'] = 'white'\n",
    "pplt.rc['cmap.discrete'] = False\n",
    "pplt.rc['cmap.sequential'] = 'dusk_r'"
   ]
  },
  {
   "cell_type": "markdown",
   "metadata": {},
   "source": [
    "## Load files"
   ]
  },
  {
   "cell_type": "code",
   "execution_count": null,
   "metadata": {},
   "outputs": [],
   "source": [
    "folder = '_output/data/'\n",
    "filenames = utils.list_files(folder)\n",
    "images = read_files(filenames, n_avg='all', make_square=False)"
   ]
  },
  {
   "cell_type": "markdown",
   "metadata": {},
   "source": [
    "## Plot "
   ]
  },
  {
   "cell_type": "code",
   "execution_count": null,
   "metadata": {},
   "outputs": [],
   "source": [
    "n_turns_list = list(range(50, 550, 50))\n",
    "sigma = 3.0"
   ]
  },
  {
   "cell_type": "code",
   "execution_count": null,
   "metadata": {},
   "outputs": [],
   "source": [
    "for image in images:\n",
    "    fig, axes = pplt.subplots(ncols=2, figsize=(8, 2.5))\n",
    "    axes[0].pcolormesh(image.xx, image.yy, image.Z.T)\n",
    "    axes[1].pcolormesh(image.xx, image.yy, image.filter(sigma).T)\n",
    "    axes[0].set_title('Raw')\n",
    "    axes[1].set_title(r'Gaussian blur ($\\sigma = {}$)'.format(sigma))\n",
    "    axes.format(xlabel='x [mm]', ylabel='y [mm]', aspect=1.0)"
   ]
  }
 ],
 "metadata": {
  "kernelspec": {
   "display_name": "Python 3",
   "language": "python",
   "name": "python3"
  },
  "language_info": {
   "codemirror_mode": {
    "name": "ipython",
    "version": 3
   },
   "file_extension": ".py",
   "mimetype": "text/x-python",
   "name": "python",
   "nbconvert_exporter": "python",
   "pygments_lexer": "ipython3",
   "version": "3.7.6"
  }
 },
 "nbformat": 4,
 "nbformat_minor": 4
}
