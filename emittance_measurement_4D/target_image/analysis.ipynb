{
 "cells": [
  {
   "cell_type": "markdown",
   "metadata": {},
   "source": [
    "# 4D reconstruction using beam images on the target"
   ]
  },
  {
   "cell_type": "code",
   "execution_count": null,
   "metadata": {},
   "outputs": [],
   "source": [
    "import sys\n",
    "import os\n",
    "from os.path import join\n",
    "\n",
    "import numpy as np\n",
    "import pandas as pd\n",
    "from skimage import transform\n",
    "from scipy import ndimage\n",
    "from matplotlib import pyplot as plt\n",
    "from matplotlib.lines import Line2D\n",
    "from matplotlib import animation\n",
    "import proplot as pplt\n",
    "import importlib\n",
    "from tqdm import tqdm\n",
    "from tqdm import trange\n",
    "\n",
    "sys.path.append('/Users/46h/Research/')\n",
    "from scdist.tools import ap_utils\n",
    "from scdist.tools import beam_analysis as ba\n",
    "from scdist.tools import plotting as myplt\n",
    "from scdist.tools import utils\n",
    "from scdist.measurement import tis\n",
    "from scdist.measurement.tomography import reconstruct as rec"
   ]
  },
  {
   "cell_type": "code",
   "execution_count": null,
   "metadata": {},
   "outputs": [],
   "source": [
    "pplt.rc['animation.html'] = 'jshtml'\n",
    "pplt.rc['animation.ffmpeg_path'] = '/usr/local/bin/ffmpeg'\n",
    "pplt.rc['cmap.discrete'] = False\n",
    "pplt.rc['cmap.sequential'] = 'mono_r'\n",
    "pplt.rc['figure.facecolor'] = 'white'\n",
    "pplt.rc['grid'] = False\n",
    "pplt.rc['grid.alpha'] = 0.04\n",
    "pplt.rc['savefig.transparent'] = True\n",
    "pplt.rc['savefig.dpi'] = 'figure'\n",
    "savefig_kws = dict(dpi=350)"
   ]
  },
  {
   "cell_type": "markdown",
   "metadata": {},
   "source": [
    "## Optics"
   ]
  },
  {
   "cell_type": "code",
   "execution_count": null,
   "metadata": {},
   "outputs": [],
   "source": [
    "folder = '_output/data/'\n",
    "filenames = utils.list_files(folder)"
   ]
  },
  {
   "cell_type": "markdown",
   "metadata": {},
   "source": [
    "### Phase advances "
   ]
  },
  {
   "cell_type": "code",
   "execution_count": null,
   "metadata": {},
   "outputs": [],
   "source": [
    "phase_adv = np.loadtxt(join(folder, 'phase_adv.dat'))\n",
    "phase_adv_exp = np.loadtxt(join(folder, 'phase_adv_exp.dat'))\n",
    "steps_per_dim = int(np.sqrt(len(phase_adv)))"
   ]
  },
  {
   "cell_type": "code",
   "execution_count": null,
   "metadata": {},
   "outputs": [],
   "source": [
    "fig, ax = pplt.subplots(figsize=(6, 2.25))\n",
    "g1 = ax.plot(phase_adv[:, 0], marker='.', ms=0)\n",
    "g2 = ax.plot(phase_adv[:, 1], marker='.', ms=0)\n",
    "ax.legend([g1, g2], labels=[r\"$\\mu_x$\", r\"$\\mu_y$\"], loc=(0., 1.), framealpha=0.)\n",
    "ax.format(ylabel='[rad]', xlabel='Scan index', ylim=(0., 2*np.pi), ygrid=True)\n",
    "plt.savefig('_output/figures/phase_adv.png', **savefig_kws)\n",
    "plt.show()"
   ]
  },
  {
   "cell_type": "code",
   "execution_count": null,
   "metadata": {},
   "outputs": [],
   "source": [
    "phase_adv_error = np.sqrt(np.sum((phase_adv_exp - phase_adv)**2, axis=1))\n",
    "phase_adv_error = phase_adv_error.reshape((steps_per_dim, steps_per_dim))\n",
    "\n",
    "fig, ax = pplt.subplots()\n",
    "ax.pcolormesh(phase_adv_error.T, colorbar=True)\n",
    "ax.format(xlabel='Hor. step', ylabel='Ver. step')\n",
    "plt.show()"
   ]
  },
  {
   "cell_type": "markdown",
   "metadata": {},
   "source": [
    "### Twiss parameters vs. position"
   ]
  },
  {
   "cell_type": "code",
   "execution_count": null,
   "metadata": {},
   "outputs": [],
   "source": [
    "filenames = utils.list_files(folder)\n",
    "twiss_filenames = [f for f in filenames if 'twiss' in f and 'default' not in f]\n",
    "twiss_filenames = sorted(twiss_filenames, \n",
    "                         key=lambda f: float(f.split('.')[0].split('_')[-1]))\n",
    "twiss_list = np.array([np.loadtxt(f) for f in twiss_filenames])"
   ]
  },
  {
   "cell_type": "code",
   "execution_count": null,
   "metadata": {},
   "outputs": [],
   "source": [
    "plot_kws = dict(alpha=0.1, marker=None, lw=0.75)\n",
    "i = 210\n",
    "colors = myplt.DEFAULT_COLORCYCLE\n",
    "\n",
    "# fig, ax = pplt.subplots(figsize=(5.0, 3.0))\n",
    "# for twiss in twiss_list:\n",
    "#     positions, mux, muy, alpha_x, alpha_y, beta_x, beta_y, eps_x, eps_y = twiss[i:].T\n",
    "#     ax.plot(positions, beta_x, color=colors[0], **plot_kws)\n",
    "#     ax.plot(positions, beta_y, color=colors[1], **plot_kws)\n",
    "# ax.format(ylabel='[m/rad]', ylim=(0., 100.), xlabel='Position [m]', ygrid=False)\n",
    "\n",
    "# lines = [Line2D([0], [0], color=colors[0]), Line2D([0], [0], color=colors[1])]\n",
    "# ax.legend(lines, [r\"$\\beta_x$\", r\"$\\beta_y$\"], loc=(0., 1.), framealpha=0.)\n",
    "# plt.savefig('_output/figures/beta_vs_pos.png', **savefig_kws)\n",
    "# plt.show()"
   ]
  },
  {
   "cell_type": "code",
   "execution_count": null,
   "metadata": {},
   "outputs": [],
   "source": [
    "# fig, ax = pplt.subplots(figsize=(6, 2.25))\n",
    "# for twiss in twiss_list:\n",
    "#     positions, mu_x, mu_y, alpha_x, alpha_y, beta_x, beta_y, eps_x, eps_y = twiss[i:].T\n",
    "#     ax.plot(positions, mu_x, color=colors[0], **plot_kws)\n",
    "#     ax.plot(positions, mu_y, color=colors[1], **plot_kws)\n",
    "# ax.format(ylabel='[rad]', xlabel='Position [m]', ylim=(0., 2*np.pi), ygrid=False)\n",
    "\n",
    "# lines = [Line2D([0], [0], color=colors[0]), Line2D([0], [0], color=colors[1])]\n",
    "# ax.legend(lines, [r\"$\\mu_x$\", r\"$\\mu_y$\"], loc=(0., 1.), framealpha=0.)\n",
    "# plt.savefig('_output/figures/phase_adv_vs_pos.png', **savefig_kws)\n",
    "# plt.show()"
   ]
  },
  {
   "cell_type": "code",
   "execution_count": null,
   "metadata": {},
   "outputs": [],
   "source": [
    "fig, axes = pplt.subplots(nrows=2, figsize=(6.0, 4.0), spany=False)\n",
    "for twiss in twiss_list:\n",
    "    positions, mux, muy, alpha_x, alpha_y, beta_x, beta_y, eps_x, eps_y = twiss[i:].T\n",
    "    axes[0].plot(positions, beta_x, color=colors[0], **plot_kws)\n",
    "    axes[0].plot(positions, beta_y, color=colors[1], **plot_kws)\n",
    "    axes[1].plot(positions, mux, color=colors[0], **plot_kws)\n",
    "    axes[1].plot(positions, muy, color=colors[1], **plot_kws)\n",
    "axes[0].format(ylabel='[m/rad]', ylim=(0., 100.), xlabel='Position [m]')\n",
    "axes[1].format(ylabel='[rad]', xlabel='Position [m]')\n",
    "\n",
    "lines = [Line2D([0], [0], color=colors[0]), Line2D([0], [0], color=colors[1])]\n",
    "axes[0].legend(lines, [r\"$\\beta_x$\", r\"$\\beta_y$\"], loc='r', ncols=1, framealpha=0.)\n",
    "axes[1].legend(lines, [r\"$\\mu_x$\", r\"$\\mu_y$\"], loc='r', ncols=1, framealpha=0.)\n",
    "plt.savefig('_output/figures/beta_and_phase_vs_pos.png', **savefig_kws)\n",
    "plt.show()"
   ]
  },
  {
   "cell_type": "markdown",
   "metadata": {},
   "source": [
    "### Quadrupole field strengths "
   ]
  },
  {
   "cell_type": "code",
   "execution_count": null,
   "metadata": {},
   "outputs": [],
   "source": [
    "fields = pd.read_table(join(folder, 'fields.dat'), sep=' ')"
   ]
  },
  {
   "cell_type": "code",
   "execution_count": null,
   "metadata": {},
   "outputs": [],
   "source": [
    "fig, axes = pplt.subplots(nrows=2, figsize=(6., 4.5), spany=False)\n",
    "\n",
    "for i, label in enumerate([r\"$\\mu_x$\", r\"$\\mu_y$\"]):\n",
    "    axes[0].plot(np.degrees(phase_adv[:, i]), label=r\"$\\mu_x$\", marker='.', ms=0, alpha=1.0)\n",
    "axes[0].legend(loc='r', framealpha=0., ncols=1)\n",
    "axes[0].format(ylabel='Phase advance [deg]', xlabel='Scan index', \n",
    "               ylim=(0., 360.0), \n",
    "               ygrid=False)\n",
    "\n",
    "axes[1].format(ylabel='Field strength [T/m]', xlabel='Scan index', ygrid=False, cycle='538')\n",
    "colors = pplt.Cycle('538').by_key()['color'] + ['darkblue']\n",
    "for col, color in zip(fields.columns[:-1], colors):\n",
    "    axes[1].plot(fields.loc[:, col], marker='.', ms=0, color=color)\n",
    "with pplt.rc.context(legendfontsize=8):\n",
    "    axes[1].legend(ncols=1, loc='r', framealpha=0.)\n",
    "\n",
    "plt.savefig('_output/figures/phase_adv_comb.png', **savefig_kws)\n",
    "plt.show()"
   ]
  },
  {
   "cell_type": "code",
   "execution_count": null,
   "metadata": {},
   "outputs": [],
   "source": [
    "with pplt.rc.context(legendfontsize=9):\n",
    "    fig, ax = pplt.subplots()\n",
    "    ax.format(ylabel='Field strength [T/m]', xlabel='Scan index', ygrid=True, cycle='538')\n",
    "    colors = pplt.Cycle('538').by_key()['color'] + ['darkblue']\n",
    "    for col, color in zip(fields.columns[:-1], colors):\n",
    "        ax.plot(fields.loc[:, col], marker='.', ms=0, color=color)\n",
    "    ax.legend(ncols=1, loc='r', framealpha=0.)\n",
    "    plt.savefig('_output/figures/fields.png', **savefig_kws)\n",
    "    plt.show()"
   ]
  },
  {
   "cell_type": "markdown",
   "metadata": {},
   "source": [
    "### Model Twiss parameters at each node"
   ]
  },
  {
   "cell_type": "code",
   "execution_count": null,
   "metadata": {},
   "outputs": [],
   "source": [
    "default_twiss = pd.read_table(join(folder, 'default_twiss.dat'), sep=' ')\n",
    "i = default_twiss.index[default_twiss['node_id'] == 'RTBT_Mag:QH18'][0]\n",
    "default_twiss = default_twiss.iloc[:i]\n",
    "default_twiss"
   ]
  },
  {
   "cell_type": "code",
   "execution_count": null,
   "metadata": {},
   "outputs": [],
   "source": [
    "rec_node_id = 'RTBT_Diag:BPM17'"
   ]
  },
  {
   "cell_type": "code",
   "execution_count": null,
   "metadata": {},
   "outputs": [],
   "source": [
    "idx = default_twiss['node_id'] == rec_node_id\n",
    "rec_node_id, mu_x, mu_y, alpha_x, alpha_y, beta_x, beta_y = default_twiss.loc[idx].values[0]\n",
    "print('rec_node_id = {} [m]'.format(rec_node_id))\n",
    "print('alpha_x = {:.2f} [rad]'.format(alpha_x))\n",
    "print('alpha_y = {:.2f} [rad]'.format(alpha_y))\n",
    "print('beta_x = {:.2f} [m/rad]'.format(beta_x))\n",
    "print('beta_y = {:.2f} [m/rad]'.format(beta_y))\n",
    "\n",
    "V = ap_utils.V_matrix_4x4_uncoupled(alpha_x, alpha_y, beta_x, beta_y)\n",
    "Vx = V[:2, :2]\n",
    "Vy = V[2:, 2:]\n",
    "print('V =')\n",
    "print(V)"
   ]
  },
  {
   "cell_type": "markdown",
   "metadata": {},
   "source": [
    "### Transfer matrices "
   ]
  },
  {
   "cell_type": "markdown",
   "metadata": {},
   "source": [
    "Load the transfer matrices from this node to the target for each optics setting."
   ]
  },
  {
   "cell_type": "code",
   "execution_count": null,
   "metadata": {},
   "outputs": [],
   "source": [
    "tmat_filenames = [f for f in filenames if 'tmat' in f]\n",
    "tmat_filenames = sorted(tmat_filenames, key=lambda f: float(f.split('.')[0].split('_')[-1]))\n",
    "tmats = []\n",
    "for filename in tmat_filenames:\n",
    "    file = open(filename, 'r')\n",
    "    lines = [line.rstrip() for line in file]\n",
    "    for line in lines[1:]:\n",
    "        tokens = line.rstrip().split()\n",
    "        node_id, tmat_elems = tokens[0], [float(token) for token in tokens[1:]]\n",
    "        if node_id == rec_node_id:\n",
    "            tmats.append(np.array(tmat_elems).reshape((4, 4)))\n",
    "    file.close()\n",
    "\n",
    "tmats_norm = [np.matmul(M, V) for M in tmats]\n",
    "tmats_x = [tmat[:2, :2] for tmat in tmats]\n",
    "tmats_y = [tmat[2:, 2:] for tmat in tmats]\n",
    "tmats_x_norm = [tmat[:2, :2] for tmat in tmats_norm]\n",
    "tmats_y_norm = [tmat[2:, 2:] for tmat in tmats_norm]"
   ]
  },
  {
   "cell_type": "markdown",
   "metadata": {},
   "source": [
    "## Target images "
   ]
  },
  {
   "cell_type": "code",
   "execution_count": null,
   "metadata": {
    "scrolled": true,
    "tags": []
   },
   "outputs": [],
   "source": [
    "image_filenames = [f for f in filenames if 'image' in f]\n",
    "image_filenames = list(sorted(image_filenames, key=lambda f: int(f.split('.dat')[0].split('_')[-1])))\n",
    "images = []\n",
    "for image_filenames in tqdm(image_filenames):\n",
    "    image = tis.read_file(image_filenames, n_avg='all', make_square=True, thresh=2000)\n",
    "    images.append(image)"
   ]
  },
  {
   "cell_type": "markdown",
   "metadata": {},
   "source": [
    "Plot the images."
   ]
  },
  {
   "cell_type": "code",
   "execution_count": null,
   "metadata": {},
   "outputs": [],
   "source": [
    "# plot_kws = dict(cmap='mono_r')\n",
    "# ellipse_kws = dict(lw=0.5, alpha=0.75)\n",
    "\n",
    "# fig, ax = pplt.subplots(figsize=(5.0, 3.0))\n",
    "# ax.format(\n",
    "# #     xlabel='x [mm]', ylabel='y [mm]', \n",
    "#     aspect=1.0\n",
    "# )\n",
    "# ax.axis('off')\n",
    "# for ellipse in [True]:\n",
    "#     for sigma in [4.0]:\n",
    "#         for i, image in enumerate(tqdm(images)):\n",
    "#             fstr = r'Step {}: $\\mu_x = {:.2f}\\degree$, $\\mu_y = {:.2f}\\degree$.'\n",
    "#             ax.set_title(fstr.format(i, np.degrees(phase_adv[i, 0]), np.degrees(phase_adv[i, 1])))\n",
    "\n",
    "#             image.filter(sigma)\n",
    "#             q = ax.pcolormesh(image.xx, image.yy, image.Zf.T, **plot_kws)\n",
    "\n",
    "#             for patch in ax.patches:\n",
    "#                 patch.set_visible(False)\n",
    "#             if ellipse:\n",
    "#                 mean_x, mean_y, sig_xx, sig_yy, sig_xy = image.estimate_moments(use_filtered=sigma==0.0)\n",
    "#                 c1, c2, angle = target_image_analysis.rms_ellipse_dims(sig_xx, sig_yy, sig_xy)  \n",
    "#                 myplt.ellipse(ax, 2 * c1, 2 * c2, angle, center=(mean_x, mean_y), \n",
    "#                                    color='red8', **ellipse_kws)                                \n",
    "                \n",
    "# #                 Sigma_target = Sigmas_target[i]\n",
    "# #                 angle, c1, c2 = ba.rms_ellipse_dims(Sigma_target, 'x', 'y')\n",
    "# #                 myplt.ellipse(ax, 2 * c1, 2 * c2, angle, center=(mean_x, mean_y), \n",
    "# #                                   color='blue8', **ellipse_kws)\n",
    "                \n",
    "                \n",
    "#                 ax.legend([Line2D([0], [0], color='red8', **ellipse_kws),\n",
    "# #                            Line2D([0], [0], color='blue8', **ellipse_kws)\n",
    "#                           ],\n",
    "#                           ['image rms', \n",
    "# #                            'from ws'\n",
    "#                           ],\n",
    "#                           ncols=1, handlelength=1.2, fontsize=6)                \n",
    "                \n",
    "#                 r = sig_xy / np.sqrt(sig_xx * sig_yy)\n",
    "#                 for text in ax.texts:\n",
    "#                     text.set_visible(False)\n",
    "#                 ax.annotate('r = {:.2f}'.format(r), xy=(0.02, 0.92), xycoords='axes fraction', color='white',\n",
    "#                             fontsize='small')\n",
    "                \n",
    "# #                 r = Sigma_target[0, 2] / np.sqrt(Sigma_target[0, 0] * Sigma_target[2, 2])\n",
    "# #                 ax.annotate(r'$r_w$ = {:.2f}'.format(r), xy=(0.02, 0.85), xycoords='axes fraction', color='white',\n",
    "# #                             fontsize='small')\n",
    "                \n",
    "                \n",
    "#             plt.savefig('_output/figures/target_image_sigma={}_ellipse={}_{}.png'.format(sigma, ellipse, i), **savefig_kws)\n",
    "#             q.set_visible(False)"
   ]
  },
  {
   "cell_type": "markdown",
   "metadata": {},
   "source": [
    "## 4D reconstruction from multiple 2D reconstructions"
   ]
  },
  {
   "cell_type": "markdown",
   "metadata": {},
   "source": [
    "### Form measurement array "
   ]
  },
  {
   "cell_type": "code",
   "execution_count": null,
   "metadata": {},
   "outputs": [],
   "source": [
    "tmats = np.array(tmats)\n",
    "tmats = tmats.reshape((steps_per_dim, steps_per_dim, 4, 4))\n",
    "tmats.shape"
   ]
  },
  {
   "cell_type": "markdown",
   "metadata": {},
   "source": [
    "Create the measurement array $S$ such that $S_{i, j, k, l}$ gives the intensity at position ($x = x_i$, $y = y_j$) on the screen for the $k$th set of $x$ optics and $l$th set of $y$ optics. We'll need to downsize the image resolution."
   ]
  },
  {
   "cell_type": "code",
   "execution_count": null,
   "metadata": {},
   "outputs": [],
   "source": [
    "n_bins = 75 \n",
    "sigma = 4.0 \n",
    "limit_scaling = 0.65"
   ]
  },
  {
   "cell_type": "code",
   "execution_count": null,
   "metadata": {},
   "outputs": [],
   "source": [
    "S = np.zeros((n_bins, n_bins, len(tmats_x), len(tmats_y)))\n",
    "scan_index = 0\n",
    "for k in trange(len(tmats_x)):\n",
    "    for l in range(len(tmats_y)):        \n",
    "        if scan_index > len(images) - 1:\n",
    "            break    \n",
    "        image = images[scan_index]\n",
    "        \n",
    "        # Apply Gaussian filter.\n",
    "        Z = image.filter(sigma)    \n",
    "        \n",
    "        # Change resolution.\n",
    "        Z = transform.resize(Z, (n_bins, n_bins), anti_aliasing=True)\n",
    "        screen_xcenters = np.linspace(image.xx[0], image.xx[-1], n_bins)\n",
    "        screen_ycenters = np.linspace(image.xx[0], image.xx[-1], n_bins)\n",
    "\n",
    "        # Zoom in while mainting the same resolution.\n",
    "        screen_xcenters_old = np.copy(screen_xcenters)\n",
    "        screen_ycenters_old = np.copy(screen_ycenters)\n",
    "        screen_xcenters = limit_scaling * screen_xcenters_old\n",
    "        screen_ycenters = limit_scaling * screen_ycenters_old\n",
    "        screen_xedges = rec.get_bin_edges(screen_xcenters)\n",
    "        screen_yedges = rec.get_bin_edges(screen_ycenters)        \n",
    "        Z, _ = rec.transform(Z, np.identity(2), \n",
    "                             [screen_xcenters_old, screen_ycenters_old], \n",
    "                             [screen_xcenters, screen_ycenters])\n",
    "        # Save the image.\n",
    "        S[:, :, k, l] = Z\n",
    "        scan_index += 1"
   ]
  },
  {
   "cell_type": "code",
   "execution_count": null,
   "metadata": {},
   "outputs": [],
   "source": [
    "fig, axes = pplt.subplots(nrows=S.shape[2], ncols=S.shape[3], figwidth=8, space=0.1)\n",
    "for i in range(axes.shape[0]):\n",
    "    for j in range(axes.shape[1]):\n",
    "        ax = axes[i, j]\n",
    "        ax.pcolormesh(screen_xcenters, screen_ycenters, S[:, :, i, j].T, \n",
    "                      cmap='mono_r', ec='None')\n",
    "axes.format(xticks=[], yticks=[])\n",
    "plt.show()"
   ]
  },
  {
   "cell_type": "code",
   "execution_count": null,
   "metadata": {},
   "outputs": [],
   "source": [
    "centers_rec = 2 * [np.linspace(-20.0, 20.0, n_bins)]\n",
    "centers_meas = [screen_xcenters, screen_ycenters]"
   ]
  },
  {
   "cell_type": "code",
   "execution_count": null,
   "metadata": {},
   "outputs": [],
   "source": [
    "Z = rec.hock4D(S, centers_meas, centers_rec, \n",
    "               tmats_x_norm, tmats_y_norm, method='SART', iterations=2)\n",
    "Z = rec.process(Z, keep_positive=True)"
   ]
  },
  {
   "cell_type": "code",
   "execution_count": null,
   "metadata": {},
   "outputs": [],
   "source": [
    "joint_kws = dict(cmap='mono_r', ec='None')\n",
    "line_kws = dict(color='red8', alpha=0.5, lw=0.25)\n",
    "labels = [r\"$x_n$\", r\"$x'_n$\", r\"$y_n$\", r\"$y'_n$\"]\n",
    "\n",
    "fig, axes = pplt.subplots(ncols=3, nrows=3, figsize=(5, 5), spanx=False, spany=False)\n",
    "for j in range(3):\n",
    "    for i in range(j):\n",
    "        axes[i, j].axis('off')\n",
    "for i in range(3):\n",
    "    for j in range(i + 1):\n",
    "        ax = axes[i, j]\n",
    "        _Z = rec.project(Z, [j, i + 1])\n",
    "        ax.pcolormesh(_Z.T, **joint_kws)\n",
    "\n",
    "        mean_x, mean_y, sig_xx, sig_yy, sig_xy = tis.estimate_moments(_Z)\n",
    "        angle, c1, c2 = ba._rms_ellipse_dims(sig_xx, sig_yy, sig_xy)\n",
    "        myplt.ellipse(ax, 2 * c1, 2 * c2, angle, center=(mean_x, mean_y), **line_kws)\n",
    "        \n",
    "    axes[i, 0].set_ylabel([r\"x\", r\"x$\\,$'\", r\"y\", r\"y$\\,$'\"][i + 1])\n",
    "    axes[-1, i].set_xlabel([r\"x\", r\"x$\\,$'\", r\"y\", r\"y$\\,$'\"][i])\n",
    "\n",
    "# plt.suptitle('Reconstruction in normalized phase space')\n",
    "plt.savefig('_output/figures/Hock.png', **savefig_kws)\n",
    "plt.show()"
   ]
  },
  {
   "cell_type": "markdown",
   "metadata": {},
   "source": [
    "### RMS reconstruction from image moments"
   ]
  },
  {
   "cell_type": "code",
   "execution_count": null,
   "metadata": {},
   "outputs": [],
   "source": [
    "sigma = 4.0\n",
    "cor_coefs = []\n",
    "moments_image = []\n",
    "means_image = []\n",
    "for image in images:\n",
    "    if sigma > 0.:\n",
    "        image.filter(sigma)\n",
    "    mean_x, mean_y, sig_xx, sig_yy, sig_xy = image.estimate_moments(use_filtered=sigma>0.)\n",
    "    r = sig_xy / np.sqrt(sig_xx * sig_yy)\n",
    "    cor_coefs.append(r)\n",
    "    moments_image.append([sig_xx, sig_yy, sig_xy])\n",
    "    means_image.append([mean_x, mean_y])"
   ]
  },
  {
   "cell_type": "code",
   "execution_count": null,
   "metadata": {},
   "outputs": [],
   "source": [
    "fig, axes = pplt.subplots(nrows=2, figsize=(3.5, 3.5), height_ratios=[1.0, 1.0], spany=False)\n",
    "axes[0].plot(cor_coefs, marker='.', color='black')\n",
    "ymax = max(np.abs(axes[0].get_ylim()))\n",
    "axes[0].format(ylim=(-ymax, ymax), ylabel='x-y cor. coef.')\n",
    "g1 = axes[1].plot(phase_adv[:, 0])\n",
    "g2 = axes[1].plot(phase_adv[:, 1])\n",
    "axes[1].legend([g1, g2], labels=[r\"$\\mu_x$\", r\"$\\mu_y$\"], \n",
    "               loc='upper left')\n",
    "axes[1].format(ylabel='[rad]', ylim=(0.0, 2.0 * np.pi))\n",
    "axes.format(xlabel='Scan index', ygrid=True, xgrid=False)\n",
    "plt.savefig('_output/figures/cor_coef.png', **savefig_kws)\n",
    "plt.show()"
   ]
  },
  {
   "cell_type": "code",
   "execution_count": null,
   "metadata": {},
   "outputs": [],
   "source": [
    "from scdist.measurement import analysis"
   ]
  },
  {
   "cell_type": "code",
   "execution_count": null,
   "metadata": {},
   "outputs": [],
   "source": [
    "Sigma, C = analysis.reconstruct(moments_image, tmats)"
   ]
  },
  {
   "cell_type": "code",
   "execution_count": null,
   "metadata": {},
   "outputs": [],
   "source": [
    "Corr = utils.cov2corr(Sigma)\n",
    "alpha_x, alpha_y, beta_x, beta_y = ba.twiss2D(Sigma)\n",
    "eps_x, eps_y, eps_1, eps_2 = ba.emittances(Sigma)\n",
    "eps_4D = eps_1 * eps_2\n",
    "coupling_coeff = 1.0 - np.sqrt((eps_1 * eps_2) / (eps_x * eps_y))"
   ]
  },
  {
   "cell_type": "code",
   "execution_count": null,
   "metadata": {},
   "outputs": [],
   "source": [
    "Sigma_std = analysis.to_mat(np.sqrt(C.diagonal()))\n",
    "eps_x_std, eps_y_std, eps_1_std, eps_2_std = analysis.propagate_emittance_errors(Sigma, C)\n",
    "alpha_x_std, alpha_y_std, beta_x_std, beta_y_std = analysis.propagate_twiss_errors(Sigma, C)\n",
    "eps_4D_std = analysis.get_eps4D_std(eps_1, eps_2, eps_1_std, eps_2_std)"
   ]
  },
  {
   "cell_type": "code",
   "execution_count": null,
   "metadata": {},
   "outputs": [],
   "source": [
    "print('Sigma =')\n",
    "print(Sigma)\n",
    "print('Standard deviation in Sigma from LLSQ =')\n",
    "print(Sigma_std)\n",
    "print('Corr =')\n",
    "print(Corr)\n",
    "print('eps_4D = {:.3f} +- {:.3f} [mm^2 mrad^2]'.format(eps_4D, eps_4D_std))\n",
    "print('eps_1 = {:.3f} +- {:.3f} [mm mrad]'.format(eps_1, eps_1_std))\n",
    "print('eps_2 = {:.3f} +- {:.3f} [mm mrad]'.format(eps_2, eps_2_std))\n",
    "print('eps_x = {:.3f} +- {:.3f} [mm mrad]'.format(eps_x, eps_x_std))\n",
    "print('eps_y = {:.3f} +- {:.3f} [mm mrad]'.format(eps_y, eps_y_std))\n",
    "print('beta_x = {:.3f} +- {:.3f} [m/rad]'.format(beta_x, beta_x_std))\n",
    "print('beta_y = {:.3f} +- {:.3f} [m/rad]'.format(beta_y, beta_y_std))\n",
    "print('alpha_x = {:.3f} +- {:.3f} [m/rad]'.format(alpha_x, alpha_x_std))\n",
    "print('alpha_y = {:.3f} +- {:.3f} [m/rad]'.format(alpha_y, alpha_y_std))\n",
    "print('Coupling coefficient = {}'.format(coupling_coeff))"
   ]
  },
  {
   "cell_type": "code",
   "execution_count": null,
   "metadata": {},
   "outputs": [],
   "source": [
    "from scdist.measurement.plotting import reconstruction_lines\n",
    "from scdist.measurement.plotting import rec_lines"
   ]
  },
  {
   "cell_type": "code",
   "execution_count": null,
   "metadata": {},
   "outputs": [],
   "source": [
    "norm = True\n",
    "if norm:\n",
    "    norm_mat = V\n",
    "else:\n",
    "    norm_mat = np.identity(4)\n",
    "norm_mat_inv = np.linalg.inv(norm_mat)\n",
    "Sigma_n = np.linalg.multi_dot([norm_mat_inv, Sigma, norm_mat_inv.T])\n",
    "\n",
    "axes = myplt.rms_ellipses(Sigma_n, color='black', pad=0.75, alpha=0.15, fill=True, lw=0, zorder=0)\n",
    "line_kws = dict(color='pink9', lw=0.5)\n",
    "\n",
    "\n",
    "Sigma_ws_n = np.linalg.multi_dot([norm_mat_inv, Sigma_ws, norm_mat_inv.T])\n",
    "myplt.rms_ellipses(Sigma_ws_n, axes=axes, color='black', fill=False)\n",
    "\n",
    "\n",
    "rec_lines(axes[0, 0], tmats, moments_image, plane='x-xp', norm_mat=norm_mat, **line_kws)\n",
    "rec_lines(axes[2, 2], tmats, moments_image, plane='y-yp', norm_mat=norm_mat, **line_kws)\n",
    "\n",
    "if norm:\n",
    "    labels = [r\"$x_n$\", r\"$x'_n$\", r\"$y_n$\", r\"$y'_n$\"]\n",
    "    plt.suptitle('Reconstructed covariance matrix (normalized)')\n",
    "else:\n",
    "    labels = [r\"$x$ [mm]\", r\"$x'$  [mrad]\", r\"$y$ [mm]\", r\"$y'$ [mrad]\"]\n",
    "    plt.suptitle('Reconstructed covariance matrix')\n",
    "plt.suptitle('')\n",
    "for ax, label in zip(axes[:, 0], labels[1:]):\n",
    "    ax.set_ylabel(label)\n",
    "for ax, label in zip(axes[-1, :], labels):\n",
    "    ax.set_xlabel(label)\n",
    "    \n",
    "handles = [\n",
    "    Line2D([0], [0], color='black', alpha=0.15, lw=5),\n",
    "    Line2D([0], [0], color='black'),\n",
    "]\n",
    "axes[0, 1].legend(handles=handles, labels=['images', 'wire-scanners (different beam)'], \n",
    "                  loc='upper left', framealpha=0.)\n",
    "    \n",
    "plt.savefig('_output/figures/corner.png', **savefig_kws)"
   ]
  },
  {
   "cell_type": "code",
   "execution_count": null,
   "metadata": {},
   "outputs": [],
   "source": []
  }
 ],
 "metadata": {
  "kernelspec": {
   "display_name": "Python 3",
   "language": "python",
   "name": "python3"
  },
  "language_info": {
   "codemirror_mode": {
    "name": "ipython",
    "version": 3
   },
   "file_extension": ".py",
   "mimetype": "text/x-python",
   "name": "python",
   "nbconvert_exporter": "python",
   "pygments_lexer": "ipython3",
   "version": "3.7.6"
  }
 },
 "nbformat": 4,
 "nbformat_minor": 4
}
