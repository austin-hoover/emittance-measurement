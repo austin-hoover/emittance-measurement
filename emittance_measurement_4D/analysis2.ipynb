{
 "cells": [
  {
   "cell_type": "markdown",
   "metadata": {},
   "source": [
    "# 4D emittance measurement analysis "
   ]
  },
  {
   "cell_type": "code",
   "execution_count": null,
   "metadata": {},
   "outputs": [],
   "source": [
    "import sys\n",
    "import os\n",
    "from os.path import join\n",
    "import copy\n",
    "import importlib\n",
    "\n",
    "import numpy as np\n",
    "import pandas as pd\n",
    "from scipy import optimize as opt\n",
    "from scipy import interpolate\n",
    "from skimage import filters\n",
    "from matplotlib import pyplot as plt\n",
    "from matplotlib import animation\n",
    "from matplotlib.lines import Line2D\n",
    "import proplot as pplt\n",
    "import seaborn as sns\n",
    "from tqdm import trange\n",
    "from tqdm import tqdm\n",
    "\n",
    "from target_image import target_image_analysis as tis\n",
    "\n",
    "sys.path.append('/Users/46h/Research/')\n",
    "from scdist.coupling import coupling as BL\n",
    "from scdist.measurement import analysis\n",
    "from scdist.measurement import pta\n",
    "from scdist.measurement.plotting import reconstruction_lines\n",
    "from scdist.tools import beam_analysis as ba\n",
    "from scdist.tools import plotting as myplt\n",
    "from scdist.tools import utils\n",
    "from scdist.tools.ap_utils import V_matrix_4x4_uncoupled\n",
    "from scdist.tools.ap_utils import phase_adv_matrix"
   ]
  },
  {
   "cell_type": "code",
   "execution_count": null,
   "metadata": {},
   "outputs": [],
   "source": [
    "pplt.rc['figure.facecolor'] = 'white'\n",
    "pplt.rc['grid.alpha'] = 0.04\n",
    "pplt.rc['axes.grid'] = False\n",
    "pplt.rc['cmap.discrete'] = False\n",
    "pplt.rc['savefig.transparent'] = True\n",
    "pplt.rc['savefig.dpi'] = 'figure'\n",
    "pplt.rc['animation.html'] = 'jshtml'"
   ]
  },
  {
   "cell_type": "code",
   "execution_count": null,
   "metadata": {},
   "outputs": [],
   "source": [
    "utils.delete_files_not_folders('_output/figures/')"
   ]
  },
  {
   "cell_type": "code",
   "execution_count": null,
   "metadata": {},
   "outputs": [],
   "source": [
    "eps_labels = [r'$\\varepsilon_x$', r'$\\varepsilon_y$', r'$\\varepsilon_1$', r'$\\varepsilon_2$']\n",
    "xlim_frac_pad = 1.05\n",
    "\n",
    "# Key word arguments for `ax.plot`.\n",
    "lineplt_kws = dict(marker='.', alpha=0.7)\n",
    "\n",
    "# Key word arguments for `ax.errorbar`.\n",
    "elinewidth = 1.2\n",
    "capsize = 1.75\n",
    "ebar_lineplt_kws = lineplt_kws.copy()\n",
    "ebar_lineplt_kws['elinewidth'] = elinewidth\n",
    "ebar_lineplt_kws['capsize'] = capsize\n",
    "\n",
    "# Key word arguments for `ax.errorbar` (error bars only).\n",
    "ebar_kws = dict(marker=None, lw=0, elinewidth=1.2, capsize=1.75)\n",
    "ebar_kws.setdefault('alpha', lineplt_kws['alpha'])\n",
    "\n",
    "# Key word arguments `ax.format`.\n",
    "format_kws = dict(ygrid=True, xgrid=False)\n",
    "\n",
    "# Key word arguments for `plt.savefig`.\n",
    "savefig_kws = dict(dpi=300)\n",
    "\n",
    "dims = ['x', 'y', 'u']"
   ]
  },
  {
   "cell_type": "markdown",
   "metadata": {},
   "source": [
    "## Data processing"
   ]
  },
  {
   "cell_type": "code",
   "execution_count": null,
   "metadata": {},
   "outputs": [],
   "source": [
    "folder = './_saved/2021-09-07/TBT_production_0.5ms/ramp_turns/'\n",
    "# folder = './_saved/2021-09-07/TBT_SCBD_0.5ms/ramp_turns/'\n",
    "# folder = './_saved/2021-09-26/setting1/ramp_turns/'\n",
    "# folder = './_saved/2021-10-21/setting2/injturns400/ramp_turns/'"
   ]
  },
  {
   "cell_type": "markdown",
   "metadata": {},
   "source": [
    "A series of measurements will be loaded. Each measurement contains four wire-scanner profiles. There are a few options: \n",
    "1. All measurements correspond to the same beam. \n",
    "2. Each measurement corresponds to a different beam. \n",
    "3. Some measurements correspond to the same beam."
   ]
  },
  {
   "cell_type": "code",
   "execution_count": null,
   "metadata": {},
   "outputs": [],
   "source": [
    "xlabel = 'Turn number' # {'Turn number', 'Measurement index'}\n",
    "\n",
    "if xlabel == 'Turn number':\n",
    "    xvals = list(range(50, 550, 50))\n",
    "elif xlabel == 'Measurement index':\n",
    "    xvals = meas_indices\n",
    "else:\n",
    "    raise ValueError('Fix the xlabel.')"
   ]
  },
  {
   "cell_type": "markdown",
   "metadata": {},
   "source": [
    "Load the transfer matrices."
   ]
  },
  {
   "cell_type": "code",
   "execution_count": null,
   "metadata": {},
   "outputs": [],
   "source": [
    "filename = os.path.join(folder, 'info/transfer_mats.dat')\n",
    "tmats_dict = dict()\n",
    "file = open(filename, 'r')\n",
    "for line in file:\n",
    "    tokens = line.rstrip().split(' ')\n",
    "    ws_id = tokens[0]\n",
    "    items = [float(token) for token in tokens[1:]]\n",
    "    if ws_id not in tmats_dict:\n",
    "        tmats_dict[ws_id] = []\n",
    "    tmats_dict[ws_id].append(items)\n",
    "file.close()\n",
    "\n",
    "ws_ids = sorted(list(tmats_dict))\n",
    "n_meas = len(tmats_dict[ws_ids[0]])\n",
    "meas_indices = list(range(n_meas))\n",
    "\n",
    "for ws_id in ws_ids:\n",
    "    for i in range(n_meas):\n",
    "        tmats_dict[ws_id][i] = np.reshape(tmats_dict[ws_id][i], (4, 4))"
   ]
  },
  {
   "cell_type": "markdown",
   "metadata": {},
   "source": [
    "Load the wire-scanner profiles."
   ]
  },
  {
   "cell_type": "code",
   "execution_count": null,
   "metadata": {},
   "outputs": [],
   "source": [
    "filenames = utils.list_files(os.path.join(folder, 'profiles/'))\n",
    "measurements = pta.read_files(filenames)"
   ]
  },
  {
   "cell_type": "markdown",
   "metadata": {},
   "source": [
    "CORRECT MISSING DATA POINT. In a measurement from 2021-09-26, the diagonal wire scan has a missing data point. I chose to fill in this data point by linear interpolation. "
   ]
  },
  {
   "cell_type": "code",
   "execution_count": null,
   "metadata": {},
   "outputs": [],
   "source": [
    "if folder == './_saved/2021-09-26/setting1/ramp_turns/':\n",
    "    meas_index_bad = -2\n",
    "    ibad = 18\n",
    "    measurement = measurements[meas_index_bad]\n",
    "    for ws_id in ws_ids[:2]:\n",
    "        profile = measurement[ws_id]\n",
    "        signal = profile.dia\n",
    "        signal.raw[ibad] = np.mean(signal.raw[[ibad - 1, ibad + 1]])\n",
    "        signal.stats['Sigma'].rms = np.mean([\n",
    "            measurements[meas_index_bad - 1][ws_id].dia.stats['Sigma'].rms,\n",
    "            measurements[meas_index_bad + 1][ws_id].dia.stats['Sigma'].rms\n",
    "        ])"
   ]
  },
  {
   "cell_type": "code",
   "execution_count": null,
   "metadata": {},
   "outputs": [],
   "source": [
    "ws_plot_kws = dict(marker='.', ms=3, alpha=0.7)\n",
    "width = 120.\n",
    "xcenter = 120.\n",
    "ycenter = 95.\n",
    "ucenter = 100.\n",
    "xlim_x = (xcenter - 0.5 * width, xcenter + 0.5 * width)\n",
    "xlim_y = (ycenter - 0.5 * width, ycenter + 0.5 * width)\n",
    "xlim_u = (ucenter - 0.5 * width, ucenter + 0.5 * width)"
   ]
  },
  {
   "cell_type": "markdown",
   "metadata": {},
   "source": [
    "## Wire-scanner profiles "
   ]
  },
  {
   "cell_type": "code",
   "execution_count": null,
   "metadata": {},
   "outputs": [],
   "source": [
    "# for same_ylim in [False, True]:\n",
    "#     # Get global maximum signal height.\n",
    "#     ymax = 0.\n",
    "#     for meas_index in range(n_meas):\n",
    "#         measurement = measurements[meas_index]\n",
    "#         for ws_id in ws_ids:\n",
    "#             fx = measurement[ws_id].hor.raw\n",
    "#             fy = measurement[ws_id].ver.raw\n",
    "#             fu = measurement[ws_id].dia.raw            \n",
    "#             ymax = max(ymax, max(np.max(fx), np.max(fy), np.max(fu)))\n",
    "\n",
    "#     for meas_index in range(n_meas):\n",
    "#         measurement = measurements[meas_index]\n",
    "#         fig, axes = pplt.subplots(ncols=3, figsize=(8, 2.0), sharex=False)\n",
    "#         axes.format(cycle='538', rc_kw={'legend.fontsize': 5}, **format_kws)\n",
    "#         handles = []\n",
    "#         for ws_id in ws_ids:\n",
    "#             axes[0].plot(measurement[ws_id].hor.pos, measurement[ws_id].hor.raw, **ws_plot_kws)\n",
    "#             axes[1].plot(measurement[ws_id].ver.pos, measurement[ws_id].ver.raw, **ws_plot_kws)\n",
    "#             g = axes[2].plot(measurement[ws_id].dia.pos, measurement[ws_id].dia.raw, **ws_plot_kws)            \n",
    "#             handles.append(g)\n",
    "#         axes[0].format(xlabel='x [mm]')\n",
    "#         axes[1].format(xlabel='y [mm]')\n",
    "#         axes[2].format(xlabel='u [mm]')\n",
    "#         if same_ylim:\n",
    "#             ymin = axes[0].get_ylim()[0]\n",
    "#             axes.format(ylim=(ymin, ymax))\n",
    "#         axes[0].set_xlim(xlim_x)\n",
    "#         axes[1].set_xlim(xlim_y)\n",
    "#         axes[2].set_xlim(xlim_u)\n",
    "#         axes[2].legend(handles, labels=ws_ids, ncols=1, loc='r')\n",
    "        \n",
    "#         if xlabel == 'Turn number':\n",
    "#             plt.suptitle('Turn = {}'.format(xvals[meas_index]))\n",
    "#         else:\n",
    "#             plt.suptitle('Measurement index = {}'.format(meas_index))\n",
    "        \n",
    "#         if same_ylim:\n",
    "#             figname = '_output/figures/profiles_sameylim_{}.png'.format(meas_index)\n",
    "#         else:\n",
    "#             figname = '_output/figures/profiles_{}.png'.format(meas_index)\n",
    "#         plt.savefig(figname, **savefig_kws)\n",
    "#         plt.show()\n",
    "        \n",
    "#     print()\n",
    "#     print()"
   ]
  },
  {
   "cell_type": "code",
   "execution_count": null,
   "metadata": {},
   "outputs": [],
   "source": [
    "width = 3.5\n",
    "norm = False"
   ]
  },
  {
   "cell_type": "code",
   "execution_count": null,
   "metadata": {},
   "outputs": [],
   "source": [
    "# for ws_id in ws_ids:\n",
    "#     fig, axes = pplt.subplots(ncols=3, figsize=(8.25, 2.0), spanx=False)\n",
    "#     for ax, dim in zip(axes, dims):\n",
    "#         pos, data = pta.processed_profiles(measurements, ws_id, dim=dim, \n",
    "#                                            width=width, norm=norm, n_interp=200)\n",
    "#         ax.pcolormesh(pos, xvals, data, cmap='viridis', ec='none')        \n",
    "#         ax.set_xlabel('{} [mm]'.format(dim))\n",
    "#     plt.suptitle('{}'.format(ws_id), fontsize='medium')\n",
    "#     axes.format(ylabel=xlabel, ytickminor=False)\n",
    "#     plt.savefig('_output/figures/waterfall_heatmap_{}.png'.format(ws_id), **savefig_kws)\n",
    "#     plt.show()"
   ]
  },
  {
   "cell_type": "code",
   "execution_count": null,
   "metadata": {},
   "outputs": [],
   "source": [
    "pos_mins = 3 * [+np.inf]\n",
    "pos_maxs = 3 * [-np.inf]\n",
    "cmap = 'viridis'\n",
    "fig, axes = pplt.subplots(nrows=4, ncols=3, figsize=(8.25, 6.1), spanx=False)\n",
    "for row, ws_id in enumerate(ws_ids):\n",
    "    for col, (ax, dim) in enumerate(zip(axes[row, :], dims)):\n",
    "        pos, data = pta.processed_profiles(measurements, ws_id, dim=dim, \n",
    "                                           width=width, norm=norm, n_interp=200)\n",
    "        pos_mins[col] = min(np.min(pos), pos_mins[col])\n",
    "        pos_maxs[col] = max(np.max(pos), pos_maxs[col])\n",
    "        # Make the background match.\n",
    "        ax.pcolormesh(np.linspace(0, 500, 100), xvals, np.zeros((len(xvals), 100)), cmap=cmap) \n",
    "        ax.pcolormesh(pos, xvals, data, cmap=pplt.Colormap(cmap), ec='none')        \n",
    "        ax.set_xlabel('{} [mm]'.format(dim))\n",
    "axes.format(ylabel=xlabel, ytickminor=False, \n",
    "            leftlabels=ws_ids, leftlabels_kw=dict(fontsize='small'))\n",
    "for col, (pos_min, pos_max) in enumerate(zip(pos_mins, pos_maxs)):\n",
    "    axes[:, col].format(xlim=(pos_min, pos_max))\n",
    "plt.savefig('_output/figures/waterfall_heatmap_combined_{}.png'.format(cmap), **savefig_kws)\n",
    "plt.show()"
   ]
  },
  {
   "cell_type": "code",
   "execution_count": null,
   "metadata": {},
   "outputs": [],
   "source": [
    "line_kws = dict(color='black', marker='.', ms=0)\n",
    "for ws_id in ws_ids:\n",
    "    fig, axes = pplt.subplots(ncols=3, figsize=(6.0, 3.0), spanx=False)\n",
    "    for ax, dim in zip(axes, dims):\n",
    "        pos, data = pta.processed_profiles(measurements, ws_id, dim=dim, \n",
    "                                           width=width, norm=norm)\n",
    "        for i in range(len(data)):\n",
    "            offset = xvals[i]\n",
    "            scale = 100.\n",
    "            ax.plot(pos, offset + scale * data[i], **line_kws)\n",
    "        ax.set_xlabel('{} [mm]'.format(dim))\n",
    "    axes.format(ylabel=xlabel, ytickminor=False)\n",
    "    plt.suptitle('{}'.format(ws_id), fontsize='medium')\n",
    "    plt.savefig('_output/figures/waterfall_{}.png'.format(ws_id), **savefig_kws)\n",
    "    plt.show()"
   ]
  },
  {
   "cell_type": "markdown",
   "metadata": {},
   "source": [
    "Extract the estimated moments from the wire-scanner measurements."
   ]
  },
  {
   "cell_type": "code",
   "execution_count": null,
   "metadata": {},
   "outputs": [],
   "source": [
    "moments_dict = dict() # [<xx>, <yy>, <uu>, <xy>]\n",
    "for ws_id in ws_ids:\n",
    "    moments = []\n",
    "    for measurement in measurements:\n",
    "        sig_xx = measurement[ws_id].hor.stats['Sigma'].rms**2\n",
    "        sig_yy = measurement[ws_id].ver.stats['Sigma'].rms**2\n",
    "        sig_uu = measurement[ws_id].dia.stats['Sigma'].rms**2\n",
    "        sig_xy = sig_uu - 0.5 * (sig_xx + sig_yy)\n",
    "        moments.append([sig_xx, sig_yy, sig_uu, sig_xy])\n",
    "    moments_dict[ws_id] = np.array(moments)"
   ]
  },
  {
   "cell_type": "markdown",
   "metadata": {},
   "source": [
    "Compute the rms values from squared moments."
   ]
  },
  {
   "cell_type": "code",
   "execution_count": null,
   "metadata": {},
   "outputs": [],
   "source": [
    "rms_dict = dict() # [xrms, yrms, urms]\n",
    "for ws_id in ws_ids:\n",
    "    moments = moments_dict[ws_id]\n",
    "    rms_dict[ws_id] = np.sqrt(moments[:, :3])"
   ]
  },
  {
   "cell_type": "markdown",
   "metadata": {},
   "source": [
    "Compute the x-y correlation coefficient."
   ]
  },
  {
   "cell_type": "code",
   "execution_count": null,
   "metadata": {},
   "outputs": [],
   "source": [
    "xy_corr_coef_dict = dict() # [<xy> / (xrms * yrms)]\n",
    "for ws_id in ws_ids:\n",
    "    moments = moments_dict[ws_id]\n",
    "    xy_corr_coef_dict[ws_id] = moments[:, 3] / np.sqrt(moments[:, 0] * moments[:, 1]) "
   ]
  },
  {
   "cell_type": "markdown",
   "metadata": {},
   "source": [
    "Repeated wire-scanner measurements have shown around a 2% variation in the squared moments."
   ]
  },
  {
   "cell_type": "code",
   "execution_count": null,
   "metadata": {},
   "outputs": [],
   "source": [
    "frac_err = 0.02\n",
    "moments_err_dict = dict()\n",
    "for ws_id in ws_ids:\n",
    "    moments = moments_dict[ws_id]\n",
    "    moments_err = np.zeros(moments.shape)    \n",
    "    moments_err[:, :3] = frac_err * moments[:, :3]\n",
    "    moments_err[:, 3] = np.sqrt(moments_err[:, 2]**2 + 0.25 * (moments_err[:, 0]**2 + moments_err[:, 1]**2))\n",
    "    moments_err_dict[ws_id] = moments_err"
   ]
  },
  {
   "cell_type": "code",
   "execution_count": null,
   "metadata": {},
   "outputs": [],
   "source": [
    "rms_err_dict = dict()\n",
    "for ws_id in ws_ids:\n",
    "    moments = moments_dict[ws_id]\n",
    "    moments_err = moments_err_dict[ws_id]\n",
    "    rms = rms_dict[ws_id]    \n",
    "    rms_err_dict[ws_id] = 0.5 * moments_err[:, :3] / rms"
   ]
  },
  {
   "cell_type": "code",
   "execution_count": null,
   "metadata": {},
   "outputs": [],
   "source": [
    "xy_corr_coef_err_dict = dict()\n",
    "for ws_id in ws_ids:\n",
    "    moments = moments_dict[ws_id]\n",
    "    moments_err = moments_err_dict[ws_id]\n",
    "    xy_corr_coef_err_dict[ws_id] = analysis.get_corr_coef_err(moments[:, 0], moments[:, 1], moments[:, 3], \n",
    "                                                              moments_err[:, 0], moments_err[:, 1], moments_err[:, 3])"
   ]
  },
  {
   "cell_type": "code",
   "execution_count": null,
   "metadata": {},
   "outputs": [],
   "source": [
    "with pplt.rc.context(legendfontsize='small'):\n",
    "    fig, axes = pplt.subplots(nrows=4, figsize=(4.25, 5.5), spany=False, aligny=True)\n",
    "    axes.format(cycle='538')\n",
    "    handles = []\n",
    "    for ws_id in ws_ids:    \n",
    "        moments = moments_dict[ws_id]\n",
    "        moments_err = moments_err_dict[ws_id]\n",
    "        for i in range(4):\n",
    "            ebars = axes[i].errorbar(xvals, moments[:, i], yerr=moments_err[:, i], **ebar_lineplt_kws)\n",
    "        data_line, caplines, barlinecols = ebars\n",
    "        handles.append(data_line)\n",
    "    axes[0].legend(handles, labels=ws_ids, ncols=1, loc='r', framealpha=0.)\n",
    "    axes[0].format(ylabel=r'$\\langle{x^2}\\rangle$ [mm$^2$]')\n",
    "    axes[1].format(ylabel=r'$\\langle{y^2}\\rangle$ [mm$^2$]')\n",
    "    axes[2].format(ylabel=r'$\\langle{u^2}\\rangle$ [mm$^2$]')\n",
    "    axes[3].format(ylabel=r'$\\langle{xy}\\rangle$ [mm$^2$]')\n",
    "    axes.format(xlabel=xlabel, **format_kws)\n",
    "    axes.format(xlim=(0, xlim_frac_pad * axes[0].get_xlim()[1]))\n",
    "    plt.savefig('_output/figures/moments_vert.png', **savefig_kws)"
   ]
  },
  {
   "cell_type": "code",
   "execution_count": null,
   "metadata": {},
   "outputs": [],
   "source": [
    "with pplt.rc.context(legendfontsize='small'):\n",
    "    \n",
    "    fig, axes = pplt.subplots([[1, 2, 3], [None, None, 4]], figsize=(8.0, 3.5), sharey=False)\n",
    "    axes.format(cycle='538')\n",
    "    handles = []\n",
    "    for ws_id in ws_ids:    \n",
    "        moments = moments_dict[ws_id]\n",
    "        moments_err = moments_err_dict[ws_id]\n",
    "        for i in range(4):\n",
    "            ebars = axes[i].errorbar(xvals, moments[:, i], yerr=moments_err[:, i], **ebar_lineplt_kws)\n",
    "        data_line, caplines, barlinecols = ebars\n",
    "        handles.append(data_line)\n",
    "    axes[0].legend(handles, labels=ws_ids, ncols=1, loc=(0, -0.95), framealpha=0.)\n",
    "    axes[0].format(ylabel=r'$\\langle{x^2}\\rangle$ [mm$^2$]')\n",
    "    axes[1].format(ylabel=r'$\\langle{y^2}\\rangle$ [mm$^2$]')\n",
    "    axes[2].format(ylabel=r'$\\langle{u^2}\\rangle$ [mm$^2$]')\n",
    "    axes[3].format(ylabel=r'$\\langle{xy}\\rangle$ [mm$^2$]')\n",
    "    \n",
    "    ymax = max(ax.get_ylim()[1] for ax in axes[:3])\n",
    "    for ax in axes[:3]:\n",
    "        ax.set_ylim(0., ymax)\n",
    "    ymax = max(np.abs(axes[3].get_ylim()))\n",
    "    axes[3].set_ylim(-ymax, ymax)\n",
    "    axes[0].set_xlim(0, xlim_frac_pad * axes[0].get_xlim()[1])\n",
    "    \n",
    "    axes.format(xlabel=xlabel, **format_kws)\n",
    "    axes.format(xlim=(0, xlim_frac_pad * axes[0].get_xlim()[1]))\n",
    "    plt.savefig('_output/figures/moments_stack.png', **savefig_kws)"
   ]
  },
  {
   "cell_type": "code",
   "execution_count": null,
   "metadata": {},
   "outputs": [],
   "source": [
    "with pplt.rc.context(legendfontsize='small'):\n",
    "    \n",
    "    fig, axes = pplt.subplots([[1, 2, 3], [None, None, 4]], figsize=(8.0, 3.5), sharey=False)\n",
    "    axes.format(cycle='538')\n",
    "    handles = []\n",
    "    for ws_id in ws_ids:    \n",
    "        rms = rms_dict[ws_id]\n",
    "        rms_err = rms_err_dict[ws_id]\n",
    "        xycorr = xy_corr_coef_dict[ws_id]\n",
    "        xycorr_err = xy_corr_coef_err_dict[ws_id]\n",
    "        for i in range(3):\n",
    "            ebars = axes[i].errorbar(xvals, rms[:, i], yerr=rms_err[:, i], **ebar_lineplt_kws)\n",
    "        data_line, caplines, barlinecols = ebars\n",
    "        handles.append(data_line)\n",
    "        axes[3].errorbar(xvals, xycorr, xycorr_err, **ebar_lineplt_kws)\n",
    "    axes[0].legend(handles, labels=ws_ids, ncols=1, loc=(0, -0.95), framealpha=0.)\n",
    "    axes[0].format(ylabel=r'$\\sqrt{\\langle{x^2}\\rangle}$ [mm]')\n",
    "    axes[1].format(ylabel=r'$\\sqrt{\\langle{y^2}\\rangle}$ [mm]')\n",
    "    axes[2].format(ylabel=r'$\\sqrt{\\langle{u^2}\\rangle}$ [mm]')\n",
    "    axes[3].format(ylabel='x-y corr. coef.')\n",
    "    \n",
    "    ymax = max(ax.get_ylim()[1] for ax in axes[:3])\n",
    "    for ax in axes[:3]:\n",
    "        ax.set_ylim(0., ymax)\n",
    "    ymax = max(np.abs(axes[3].get_ylim()))\n",
    "    axes[3].set_ylim(-ymax, ymax)\n",
    "    axes[0].set_xlim(0, xlim_frac_pad * axes[0].get_xlim()[1])\n",
    "    \n",
    "    axes.format(xlabel=xlabel, **format_kws)\n",
    "    axes.format(xlim=(0, xlim_frac_pad * axes[0].get_xlim()[1]))\n",
    "    plt.savefig('_output/figures/corr_stack.png', **savefig_kws)"
   ]
  },
  {
   "cell_type": "code",
   "execution_count": null,
   "metadata": {},
   "outputs": [],
   "source": [
    "with pplt.rc.context(legendfontsize='small'):\n",
    "    fig, axes = pplt.subplots(nrows=4, figsize=(4.25, 5.5), spany=False, aligny=True)\n",
    "    axes.format(cycle='538')\n",
    "    handles = []\n",
    "    for ws_id in ws_ids:    \n",
    "        rms = moments_dict[ws_id]\n",
    "        rms_err = moments_err_dict[ws_id]\n",
    "        xycorr = xy_corr_coef_dict[ws_id]\n",
    "        xycorr_err = xy_corr_coef_err_dict[ws_id]\n",
    "        for i in range(3):\n",
    "            ebars = axes[i].errorbar(xvals, rms[:, i], yerr=rms_err[:, i], **ebar_lineplt_kws)\n",
    "        data_line, caplines, barlinecols = ebars\n",
    "        handles.append(data_line)\n",
    "        axes[3].errorbar(xvals, xycorr, xycorr_err, **ebar_lineplt_kws)\n",
    "    axes[0].legend(handles, labels=ws_ids, ncols=1, loc='r')\n",
    "    axes[0].format(ylabel=r'$\\sqrt{\\langle{x^2}\\rangle}$ [mm]')\n",
    "    axes[1].format(ylabel=r'$\\sqrt{\\langle{y^2}\\rangle}$ [mm]')\n",
    "    axes[2].format(ylabel=r'$\\sqrt{\\langle{u^2}\\rangle}$ [mm]')\n",
    "    axes[3].format(ylabel='x-y corr. coef.')\n",
    "    axes.format(xlabel=xlabel, **format_kws)\n",
    "    axes[0].set_xlim(0, xlim_frac_pad * axes[0].get_xlim()[1])\n",
    "    plt.savefig('_output/figures/corr_vert.png', **savefig_kws)"
   ]
  },
  {
   "cell_type": "code",
   "execution_count": null,
   "metadata": {},
   "outputs": [],
   "source": [
    "fig, axes = pplt.subplots(ncols=4, figsize=(10.0, 1.75), sharey=False)\n",
    "axes.format(cycle='538')\n",
    "for ws_id in ws_ids:\n",
    "    moments = moments_dict[ws_id]\n",
    "    moments_err = moments_err_dict[ws_id]\n",
    "    for i in range(4):\n",
    "        axes[i].errorbar(xvals, moments[:, i], yerr=moments_err[:, i], **ebar_lineplt_kws)    \n",
    "axes[0].format(ylabel=r'$\\langle{x^2}\\rangle$ [mm$^2$]')\n",
    "axes[1].format(ylabel=r'$\\langle{y^2}\\rangle$ [mm$^2$]')\n",
    "axes[2].format(ylabel=r'$\\langle{u^2}\\rangle$ [mm$^2$]')\n",
    "axes[3].format(ylabel=r'$\\langle{xy}\\rangle$ [mm$^2$]')\n",
    "ymax = max(ax.get_ylim()[1] for ax in axes[:3])\n",
    "for ax in axes[:3]:\n",
    "    ax.set_ylim(0., ymax)\n",
    "ymax = max(np.abs(axes[3].get_ylim()))\n",
    "axes[3].set_ylim(-ymax, ymax)\n",
    "axes.format(xlabel=xlabel, **format_kws)\n",
    "axes[0].set_xlim(0, xlim_frac_pad * axes[0].get_xlim()[1])\n",
    "plt.savefig('_output/figures/moments_hor.png', **savefig_kws)"
   ]
  },
  {
   "cell_type": "code",
   "execution_count": null,
   "metadata": {},
   "outputs": [],
   "source": [
    "fig, axes = pplt.subplots(ncols=4, figsize=(10.0, 1.75), sharey=False)\n",
    "axes.format(cycle='538')\n",
    "for ws_id in ws_ids:\n",
    "    moments = moments_dict[ws_id]\n",
    "    moments_err = moments_err_dict[ws_id]\n",
    "    xycorr = xy_corr_coef_dict[ws_id]\n",
    "    xycorr_err = xy_corr_coef_err_dict[ws_id]\n",
    "    for i in range(3):\n",
    "        axes[i].errorbar(xvals, moments[:, i], yerr=moments_err[:, i], **ebar_lineplt_kws)      \n",
    "    axes[3].errorbar(xvals, xycorr, yerr=xycorr_err, **ebar_lineplt_kws)\n",
    "axes[0].format(ylabel=r'$\\sqrt{\\langle{x^2}\\rangle}$ [mm]')\n",
    "axes[1].format(ylabel=r'$\\sqrt{\\langle{y^2}\\rangle}$ [mm]')\n",
    "axes[2].format(ylabel=r'$\\sqrt{\\langle{u^2}\\rangle}$ [mm]')\n",
    "axes[3].format(ylabel='x-y corr. coef.')\n",
    "ymax = max(ax.get_ylim()[1] for ax in axes[:3])\n",
    "for ax in axes[:3]:\n",
    "    ax.set_ylim(0., ymax)\n",
    "ymax = max(np.abs(axes[3].get_ylim(   )))\n",
    "axes[3].set_ylim(-ymax, ymax)\n",
    "axes[0].set_xlim(0, xlim_frac_pad * axes[0].get_xlim()[1])\n",
    "axes.format(xlabel=xlabel, **format_kws)\n",
    "plt.savefig('_output/figures/corr_hor.png', **savefig_kws)"
   ]
  },
  {
   "cell_type": "code",
   "execution_count": null,
   "metadata": {},
   "outputs": [],
   "source": [
    "fig, axes = pplt.subplots(ncols=4, figsize=(8, 2))\n",
    "xmax = 0.\n",
    "for ax, ws_id in zip(axes, ws_ids):\n",
    "    ax.set_title(ws_id, fontsize='small')\n",
    "    for sig_xx, sig_yy, sig_uu, sig_xy in moments_dict[ws_id]:\n",
    "        angle, c1, c2 = ba._rms_ellipse_dims(sig_xx, sig_yy, sig_xy)\n",
    "        xmax = max(xmax, c1, c2)\n",
    "        myplt.ellipse(ax, c1, c2, angle)\n",
    "xmax *= 1.5\n",
    "axes.format(xlim=(-xmax, xmax), ylim=(-xmax, xmax), \n",
    "            xlabel='x [mm]', ylabel='y [mm]',\n",
    "            suptitle='Measured rms ellipses in x-y plane')\n",
    "plt.savefig('_output/figures/corr.png', **savefig_kws)"
   ]
  },
  {
   "cell_type": "markdown",
   "metadata": {},
   "source": [
    "## Reconstruction"
   ]
  },
  {
   "cell_type": "markdown",
   "metadata": {},
   "source": [
    "To estimate the uncertainty in the reconstructed parameters, we repeat the reconstruction multiple times with random noise added to the measured $\\langle{xx}\\rangle$, $\\langle{yy}\\rangle$, and $\\langle{uu}\\rangle$ within the 2% window. The error bar widths are calculated from the standard deviation across the trials, and the error bar centers are calculated from the mean across the trials."
   ]
  },
  {
   "cell_type": "code",
   "execution_count": null,
   "metadata": {},
   "outputs": [],
   "source": [
    "n_trials = 2000\n",
    "Sigma_list = [] # reconstructions from measurements\n",
    "Sigmas_list = [] # reconstructions from noisy measurements\n",
    "fails_list = [] # number of failed fits\n",
    "\n",
    "for meas_index in meas_indices:\n",
    "    moments = [moments_dict[ws_id][meas_index] for ws_id in ws_ids]\n",
    "    moments = np.array(moments)\n",
    "    transfer_matrices = [tmats_dict[ws_id][meas_index] for ws_id in ws_ids]\n",
    "    \n",
    "    Sigma, C = analysis.reconstruct(moments[:, [0, 1, 3]], transfer_matrices)\n",
    "    Sigma_list.append(Sigma)\n",
    "    \n",
    "    Sigmas, fails = analysis.monte_carlo(moments[:, :3], transfer_matrices, frac_err, n_trials)\n",
    "    Sigmas_list.append(Sigmas)\n",
    "    fails_list.append(fails)"
   ]
  },
  {
   "cell_type": "code",
   "execution_count": null,
   "metadata": {},
   "outputs": [],
   "source": [
    "print(fails_list)"
   ]
  },
  {
   "cell_type": "markdown",
   "metadata": {},
   "source": [
    "Compute the beam statistics from the reconstructed covariance matrices."
   ]
  },
  {
   "cell_type": "code",
   "execution_count": null,
   "metadata": {},
   "outputs": [],
   "source": [
    "stats = ba.BeamStats()\n",
    "stats.read_cov(Sigma_list)"
   ]
  },
  {
   "cell_type": "markdown",
   "metadata": {},
   "source": [
    "For each measurement, compute the beam statistics for every covariance matrix in the random trials. "
   ]
  },
  {
   "cell_type": "code",
   "execution_count": null,
   "metadata": {},
   "outputs": [],
   "source": [
    "mc_stats_list = []\n",
    "for Sigmas in tqdm(Sigmas_list):\n",
    "    mc_stats = ba.BeamStats()\n",
    "    mc_stats.read_cov(Sigmas)\n",
    "    mc_stats_list.append(mc_stats)"
   ]
  },
  {
   "cell_type": "markdown",
   "metadata": {},
   "source": [
    "Emittances"
   ]
  },
  {
   "cell_type": "code",
   "execution_count": null,
   "metadata": {},
   "outputs": [],
   "source": [
    "fig_kws = dict(figsize=(4.0, 2.5))\n",
    "legend_kws=dict(loc='r', ncols=1, handlelength=1.5, framealpha=0.)"
   ]
  },
  {
   "cell_type": "code",
   "execution_count": null,
   "metadata": {},
   "outputs": [],
   "source": [
    "fig, ax = pplt.subplots(**fig_kws)\n",
    "for col in ['eps_x', 'eps_y']:\n",
    "    ax.errorbar(\n",
    "        xvals, \n",
    "        [s.twiss2D[col].mean() for s in mc_stats_list], \n",
    "        yerr=[s.twiss2D[col].std() for s in mc_stats_list], \n",
    "        **ebar_kws,\n",
    "    )\n",
    "for col in ['eps_1', 'eps_2']:\n",
    "    ax.errorbar(\n",
    "        xvals, \n",
    "        [s.twiss4D[col].mean() for s in mc_stats_list], \n",
    "        yerr=[s.twiss4D[col].std() for s in mc_stats_list], \n",
    "        **ebar_kws,\n",
    "    )\n",
    "ax.format(cycle=pplt.rc['cycle'])\n",
    "g1 = ax.plot(xvals, stats.twiss2D['eps_x'].values, **lineplt_kws)\n",
    "g2 = ax.plot(xvals, stats.twiss2D['eps_y'].values, **lineplt_kws)\n",
    "g3 = ax.plot(xvals, stats.twiss4D['eps_1'].values, **lineplt_kws)\n",
    "g4 = ax.plot(xvals, stats.twiss4D['eps_2'].values, **lineplt_kws)\n",
    "ax.legend([g1, g2, g3, g4], labels=eps_labels, **legend_kws)\n",
    "ax.format(\n",
    "    xlabel=xlabel, ylabel='[mm mrad]', \n",
    "    ylim=(0., ax.get_ylim()[1]), \n",
    "    xlim=(0, xlim_frac_pad * ax.get_xlim()[1]),\n",
    "    **format_kws\n",
    ")\n",
    "plt.savefig('_output/figures/emittance.png', **savefig_kws)\n",
    "plt.show()"
   ]
  },
  {
   "cell_type": "code",
   "execution_count": null,
   "metadata": {},
   "outputs": [],
   "source": [
    "with pplt.rc.context(legendfontsize='medium'):\n",
    "    fig, ax = pplt.subplots(figsize=(3.5, 3.0))\n",
    "    for col in ['eps_x', 'eps_y']:\n",
    "        ax.errorbar(\n",
    "            xvals, \n",
    "            [s.twiss2D[col].mean() for s in mc_stats_list], \n",
    "            yerr=[s.twiss2D[col].std() for s in mc_stats_list], \n",
    "            **ebar_kws,\n",
    "        )\n",
    "    for col in ['eps_1', 'eps_2']:\n",
    "        ax.errorbar(\n",
    "            xvals, \n",
    "            [s.twiss4D[col].mean() for s in mc_stats_list], \n",
    "            yerr=[s.twiss4D[col].std() for s in mc_stats_list], \n",
    "            **ebar_kws,\n",
    "        )\n",
    "    ax.format(cycle=pplt.rc['cycle'])\n",
    "    g1 = ax.plot(xvals, stats.twiss2D['eps_x'].values, **lineplt_kws)\n",
    "    g2 = ax.plot(xvals, stats.twiss2D['eps_y'].values, **lineplt_kws)\n",
    "    g3 = ax.plot(xvals, stats.twiss4D['eps_1'].values, **lineplt_kws)\n",
    "    g4 = ax.plot(xvals, stats.twiss4D['eps_2'].values, **lineplt_kws)\n",
    "    ax.legend([g1, g2, g3, g4], labels=eps_labels, loc='t', ncols=4, framealpha=0., fontsize='small')\n",
    "    ax.format(\n",
    "        xlabel=xlabel, ylabel='[mm mrad]', \n",
    "        ylim=(0., ax.get_ylim()[1]), \n",
    "        xlim=(0, xlim_frac_pad * ax.get_xlim()[1]),\n",
    "        **format_kws\n",
    "    )\n",
    "    plt.savefig('_output/figures/emittance2.png', **savefig_kws)\n",
    "    plt.show()"
   ]
  },
  {
   "cell_type": "code",
   "execution_count": null,
   "metadata": {},
   "outputs": [],
   "source": [
    "fig, ax = pplt.subplots(**fig_kws)\n",
    "colors = ['red8', 'blue8']\n",
    "for col, color in zip(['eps_4D', 'eps_4D_app'], colors):\n",
    "    ax.errorbar(\n",
    "        xvals, [s.twiss4D[col].mean() for s in mc_stats_list], \n",
    "        yerr=[s.twiss4D[col].std() for s in mc_stats_list], \n",
    "        color=color,\n",
    "        **ebar_kws,\n",
    "    )\n",
    "g1 = ax.plot(xvals, stats.twiss4D['eps_4D'].values, color=colors[0], **lineplt_kws)\n",
    "g2 = ax.plot(xvals, stats.twiss4D['eps_4D_app'].values, color=colors[1], **lineplt_kws)\n",
    "ax.legend([g1, g2], labels=[r'$\\varepsilon_1\\varepsilon_2$', r'$\\varepsilon_x\\varepsilon_y$'], **legend_kws)\n",
    "ax.format(\n",
    "    xlabel=xlabel, ylabel=r'[mm$^2$ mrad$^2$]', \n",
    "    ylim=(0., ax.get_ylim()[1]), \n",
    "    xlim=(0, xlim_frac_pad * ax.get_xlim()[1]),\n",
    "    **format_kws\n",
    ")\n",
    "plt.savefig('_output/figures/emittance4D.png', **savefig_kws)\n",
    "plt.show()"
   ]
  },
  {
   "cell_type": "markdown",
   "metadata": {},
   "source": [
    "Coupling coefficient"
   ]
  },
  {
   "cell_type": "code",
   "execution_count": null,
   "metadata": {},
   "outputs": [],
   "source": [
    "fig, ax = pplt.subplots(**fig_kws)\n",
    "ax.errorbar(\n",
    "    xvals, [s.twiss4D['C'].mean() for s in mc_stats_list], \n",
    "    yerr=[s.twiss4D['C'].std() for s in mc_stats_list], \n",
    "    color='black',\n",
    "    **ebar_kws,\n",
    "    )\n",
    "ax.plot(xvals, stats.twiss4D['C'].values, color='black', **lineplt_kws)\n",
    "ax.format(\n",
    "    xlabel=xlabel,\n",
    "    title=r'$C = \\sqrt{\\frac{\\varepsilon_x\\varepsilon_y}{\\varepsilon_1\\varepsilon_2}}$',\n",
    "    xlim=(0, xlim_frac_pad * ax.get_xlim()[1]),\n",
    "    **format_kws\n",
    ")\n",
    "plt.savefig('_output/figures/C.png', **savefig_kws)\n",
    "plt.show()"
   ]
  },
  {
   "cell_type": "code",
   "execution_count": null,
   "metadata": {},
   "outputs": [],
   "source": [
    "for meas_index in meas_indices:\n",
    "    mc_stats = mc_stats_list[meas_index]\n",
    "    emittances_mc = pd.DataFrame()\n",
    "    emittances_mc[[r'$\\varepsilon_x$', r'$\\varepsilon_y$']] = mc_stats.twiss2D[['eps_x', 'eps_y']]\n",
    "    emittances_mc[[r'$\\varepsilon_1$', r'$\\varepsilon_2$']] = mc_stats.twiss4D[['eps_1', 'eps_2']]\n",
    "    g = sns.pairplot(emittances_mc,\n",
    "                     kind='hist', corner=False, height=1.5, \n",
    "                     diag_kws=dict(color='black'), \n",
    "                     plot_kws=dict(cmap='mono'))\n",
    "\n",
    "    eps_x_rec, eps_y_rec = stats.twiss2D.loc[meas_index, ['eps_x', 'eps_y']].values\n",
    "    eps_1_rec, eps_2_rec = stats.twiss4D.loc[meas_index, ['eps_1', 'eps_2']].values\n",
    "    emittances_rec = [eps_x_rec, eps_y_rec, eps_1_rec, eps_2_rec]\n",
    "    for i in range(4):\n",
    "        for j in range(4):\n",
    "            if i != j:\n",
    "                g.axes[i, j].scatter(emittances_rec[j], emittances_rec[i], c='red', s=10)\n",
    "            else:\n",
    "                g.diag_axes[j].axvline(emittances_rec[j], c='red')\n",
    "    plt.suptitle('meas_index = {}'.format(meas_index))\n",
    "#     plt.tight_layout()\n",
    "    plt.savefig('_output/figures/eps_rand_{}.png'.format(meas_index), facecolor='white', **savefig_kws)\n",
    "    plt.show()"
   ]
  },
  {
   "cell_type": "code",
   "execution_count": null,
   "metadata": {},
   "outputs": [],
   "source": [
    "fig, ax = pplt.subplots()\n",
    "ax.bar(xvals, fails_list, color='black')\n",
    "ax.format(xlabel=xlabel, ylabel='Number of failed fits', ylim=(0, ax.get_ylim()[1]))\n",
    "plt.savefig('_output/figures/failed_fits.png', **savefig_kws)"
   ]
  },
  {
   "cell_type": "markdown",
   "metadata": {},
   "source": [
    "2D Twiss parameters "
   ]
  },
  {
   "cell_type": "code",
   "execution_count": null,
   "metadata": {},
   "outputs": [],
   "source": [
    "fig, ax = pplt.subplots(figsize=(4.0, 2.5))\n",
    "for col in ['beta_x', 'beta_y']:\n",
    "    ax.errorbar(\n",
    "        xvals, [s.twiss2D[col].mean() for s in mc_stats_list], \n",
    "        yerr=[s.twiss2D[col].std() for s in mc_stats_list], \n",
    "        **ebar_kws,\n",
    "    )\n",
    "ax.format(cycle=pplt.rc['cycle'])\n",
    "g1 = ax.plot(xvals, stats.twiss2D['beta_x'].values, **lineplt_kws)\n",
    "g2 = ax.plot(xvals, stats.twiss2D['beta_y'].values, **lineplt_kws)\n",
    "ax.legend([g1, g2], labels=[r'$\\beta_x$', r'$\\beta_y$'], **legend_kws)\n",
    "ax.format(\n",
    "    xlabel=xlabel, ylabel='[m/rad]', \n",
    "    ylim=(0., ax.get_ylim()[1]), \n",
    "    xlim=(0, xlim_frac_pad * ax.get_xlim()[1]),\n",
    "    **format_kws\n",
    ")\n",
    "plt.savefig('_output/figures/beta.png', **savefig_kws)\n",
    "plt.show()"
   ]
  },
  {
   "cell_type": "code",
   "execution_count": null,
   "metadata": {},
   "outputs": [],
   "source": [
    "fig, ax = pplt.subplots(figsize=(4.0, 2.5))\n",
    "for col in ['alpha_x', 'alpha_y']:\n",
    "    ax.errorbar(\n",
    "        xvals, [s.twiss2D[col].mean() for s in mc_stats_list], \n",
    "        yerr=[s.twiss2D[col].std() for s in mc_stats_list], \n",
    "        **ebar_kws,\n",
    "    )\n",
    "ax.format(cycle=pplt.rc['cycle'])\n",
    "g1 = ax.plot(xvals, stats.twiss2D['alpha_x'].values, **lineplt_kws)\n",
    "g2 = ax.plot(xvals, stats.twiss2D['alpha_y'].values, **lineplt_kws)\n",
    "ax.legend([g1, g2], labels=[r'$\\alpha_x$', r'$\\alpha_y$'], **legend_kws)\n",
    "ymax = np.max(np.abs(ax.get_ylim()))\n",
    "ax.format(\n",
    "    xlabel=xlabel, ylabel='[rad]', \n",
    "    ylim=(-ymax, ymax),\n",
    "    xlim=(0, xlim_frac_pad * ax.get_xlim()[1]),\n",
    "    **format_kws\n",
    ")\n",
    "plt.savefig('_output/figures/alpha.png', **savefig_kws)\n",
    "plt.show()"
   ]
  },
  {
   "cell_type": "markdown",
   "metadata": {},
   "source": [
    "Reconstructed covariance ellipses."
   ]
  },
  {
   "cell_type": "code",
   "execution_count": null,
   "metadata": {},
   "outputs": [],
   "source": [
    "axes = myplt.rms_ellipses(Sigma_list, figsize=(4.5, 4.5), cmap=pplt.Colormap('flare'))\n",
    "labels = [\"x [mm]\", \"x' [mrad]\", \"y [mm]\", \"y' [mrad]\"]\n",
    "for i in range(3):\n",
    "    axes[i, 0].set_ylabel(labels[i + 1])\n",
    "    axes[-1, i].set_xlabel(labels[i])\n",
    "xlims = [ax.get_xlim() for ax in axes[-1, :]]\n",
    "ylims = [ax.get_ylim() for ax in axes[:, 0]]\n",
    "plt.savefig('_output/figures/corner.png', **savefig_kws)\n",
    "plt.show()"
   ]
  },
  {
   "cell_type": "markdown",
   "metadata": {},
   "source": [
    "Mean covariance ellipses over the trials."
   ]
  },
  {
   "cell_type": "code",
   "execution_count": null,
   "metadata": {},
   "outputs": [],
   "source": [
    "axes = myplt.rms_ellipses(np.mean(Sigmas_list, axis=1), figsize=(4.5, 4.5), cmap=pplt.Colormap('flare'))\n",
    "labels = [\"x [mm]\", \"x' [mrad]\", \"y [mm]\", \"y' [mrad]\"]\n",
    "for i in range(3):\n",
    "    axes[i, 0].set_ylabel(labels[i + 1])\n",
    "    axes[-1, i].set_xlabel(labels[i])\n",
    "plt.savefig('_output/figures/corner_mean.png', **savefig_kws)\n",
    "plt.show()"
   ]
  },
  {
   "cell_type": "code",
   "execution_count": null,
   "metadata": {},
   "outputs": [],
   "source": [
    "rec_xrms = np.sqrt(np.array(Sigma_list)[:, 0, 0])\n",
    "rec_yrms = np.sqrt(np.array(Sigma_list)[:, 2, 2])\n",
    "rec_xycorr = np.array(Sigma_list)[:, 0, 2] / (rec_xrms * rec_yrms)\n",
    "\n",
    "fig, axes = pplt.subplots(ncols=3, figwidth=8.0, sharey=False)\n",
    "axes[0].plot(xvals, rec_xrms, color='black', marker='.')\n",
    "axes[1].plot(xvals, rec_yrms, color='black', marker='.')\n",
    "axes[2].plot(xvals, rec_xycorr, color='black', marker='.')\n",
    "axes[0].format(ylabel=r'$\\sqrt{\\langle{x^2}\\rangle}$ [mm]')\n",
    "axes[1].format(ylabel=r'$\\sqrt{\\langle{y^2}\\rangle}$ [mm]')\n",
    "axes[2].format(ylabel='x-y corr. coef.')\n",
    "\n",
    "ymax = np.max([ax.get_ylim()[1] for ax in axes[:2]])\n",
    "axes[:2].format(ylim=(0., ymax))\n",
    "plt.savefig('_output/figures/rec_rms.png', **savefig_kws)"
   ]
  },
  {
   "cell_type": "markdown",
   "metadata": {},
   "source": [
    "### Reconstruct throughout RTBT "
   ]
  },
  {
   "cell_type": "code",
   "execution_count": null,
   "metadata": {},
   "outputs": [],
   "source": [
    "container = '_output/data'\n",
    "\n",
    "ws_ids = ['RTBT_Diag:WS20', 'RTBT_Diag:WS21', 'RTBT_Diag:WS23', 'RTBT_Diag:WS24']\n",
    "_tmats_dict_master = dict()\n",
    "for ws_id in ws_ids:\n",
    "    filename = join(container, 'tmats_{}.dat'.format(ws_id))\n",
    "    file = open(filename, 'r')\n",
    "    lines = [line.rstrip() for line in file]\n",
    "    _tmats_dict = dict()\n",
    "    node_ids = []\n",
    "    for line in lines[1:]:\n",
    "        tokens = line.rstrip().split()\n",
    "        node_id, tmat_elems = tokens[0], [float(token) for token in tokens[1:]]\n",
    "        _tmats_dict[node_id] = np.array(tmat_elems).reshape((4, 4))\n",
    "        node_ids.append(node_id)\n",
    "    _tmats_dict_master[ws_id] = _tmats_dict\n",
    "    file.close()"
   ]
  },
  {
   "cell_type": "code",
   "execution_count": null,
   "metadata": {},
   "outputs": [],
   "source": [
    "node_positions_dict = dict()\n",
    "node_positions = []\n",
    "file = open(join(container, 'node_positions.dat'), 'r')\n",
    "for line in file:\n",
    "    node_id, position = line.split()\n",
    "    position = float(position)\n",
    "    node_positions_dict[node_id] = position\n",
    "    node_positions.append(position)\n",
    "file.close()"
   ]
  },
  {
   "cell_type": "code",
   "execution_count": null,
   "metadata": {
    "scrolled": true,
    "tags": []
   },
   "outputs": [],
   "source": [
    "meas_index = -1\n",
    "moments = [moments_dict[ws_id][meas_index] for ws_id in ws_ids]\n",
    "moments = np.array(moments)\n",
    "Sigma_dict, Sigmas_dict = dict(), dict()\n",
    "for node_id in node_ids:\n",
    "    tmats = [_tmats_dict_master[ws_id][node_id] for ws_id in ws_ids]\n",
    "    Sigma_dict[node_id], C = analysis.reconstruct(moments[:, [0, 1, 3]], tmats)\n",
    "    Sigmas_dict[node_id], fails = analysis.monte_carlo(moments[:, :3], tmats, n_trials=1000, frac_err=0.02)"
   ]
  },
  {
   "cell_type": "code",
   "execution_count": null,
   "metadata": {},
   "outputs": [],
   "source": [
    "def mean_std(func, Sigmas):\n",
    "    data = [func(Sigma) for Sigma in Sigmas]\n",
    "    mean = np.mean(data, axis=0)\n",
    "    std = np.std(data, axis=0)\n",
    "    return mean, std"
   ]
  },
  {
   "cell_type": "code",
   "execution_count": null,
   "metadata": {},
   "outputs": [],
   "source": [
    "Sigma_list = np.array([Sigma_dict[node_id] for node_id in node_ids]) # (node, Sigma)\n",
    "Sigmas_list = np.array([Sigmas_dict[node_id] for node_id in node_ids]) # (node, trial, Sigma)\n",
    "Sigma_mean_list, Sigma_std_list = [], []\n",
    "for Sigmas in Sigmas_list:\n",
    "    Sigma_mean = np.mean(Sigmas, axis=0)\n",
    "    Sigma_std = np.std(Sigmas, axis=0)\n",
    "    Sigma_mean_list.append(Sigma_mean)\n",
    "    Sigma_std_list.append(Sigma_std)\n",
    "Sigma_mean_list = np.array(Sigma_mean_list)\n",
    "Sigma_std_list = np.array(Sigma_std_list)"
   ]
  },
  {
   "cell_type": "code",
   "execution_count": null,
   "metadata": {},
   "outputs": [],
   "source": [
    "Cor_list = []\n",
    "Cor_mean_list, Cor_std_list = [], []\n",
    "for Sigma, Sigmas in zip(Sigma_list, Sigmas_list):\n",
    "    Cor = ba.cov2corr(Sigma)\n",
    "    Cor_mean, Cor_std = mean_std(ba.cov2corr, Sigmas)\n",
    "    Cor_list.append(Cor)\n",
    "    Cor_mean_list.append(Cor_mean)\n",
    "    Cor_std_list.append(Cor_std)\n",
    "Cor_list = np.array(Cor_list)\n",
    "Cor_mean_list = np.array(Cor_mean_list)\n",
    "Cor_std_list = np.array(Cor_std_list)"
   ]
  },
  {
   "cell_type": "code",
   "execution_count": null,
   "metadata": {},
   "outputs": [],
   "source": [
    "eps_mean_list = []\n",
    "eps_std_list = []\n",
    "eps_meas_list = []\n",
    "for Sigma, Sigmas in zip(Sigma_list, Sigmas_list):\n",
    "    eps_mean, eps_std = mean_std(ba.emittances, Sigmas)\n",
    "    eps_meas = ba.emittances(Sigma)\n",
    "    eps_mean_list.append(eps_mean)\n",
    "    eps_std_list.append(eps_std)\n",
    "    eps_meas_list.append(eps_meas)\n",
    "eps_meas_list = np.array(eps_meas_list)\n",
    "eps_mean_list = np.array(eps_mean_list)\n",
    "eps_std_list = np.array(eps_std_list)"
   ]
  },
  {
   "cell_type": "code",
   "execution_count": null,
   "metadata": {},
   "outputs": [],
   "source": [
    "fig, axes = pplt.subplots(nrows=4, figsize=(3, 5), spany=False)\n",
    "\n",
    "axes.format(xlabel='Position [m]', ylim=(-1.0, 1.0))\n",
    "axes[0].set_title('Experiment 1a', fontsize='medium')\n",
    "\n",
    "indices = [(0, 2), (0, 3), (2, 1), (1, 3)]\n",
    "labels = {0: \"x\", 1: \"x'\", 2: \"y\", 3: \"y'\"}\n",
    "plot_kws = dict(color='black', alpha=1.0, lw=1.0)\n",
    "fill_kws = plot_kws.copy()\n",
    "fill_kws['alpha'] *= 0.2\n",
    "fill_kws['ec'] = 'none'\n",
    "\n",
    "for ax, (i, j) in zip(axes, indices):\n",
    "    ymeas = Cor_list[:, i, j]\n",
    "    ymean = Cor_mean_list[:, i, j]\n",
    "    yerr = Cor_std_list[:, i, j]\n",
    "    ax.fill_between(node_positions, ymean - yerr, ymean + yerr, **fill_kws)\n",
    "    ax.plot(node_positions, ymeas, **plot_kws)\n",
    "    ax.set_ylabel('{}-{}'.format(labels[i], labels[j]))\n",
    "    for ws_id in ws_ids:\n",
    "        ws_position = node_positions_dict[ws_id]\n",
    "        ax.axvline(ws_position, color='black', alpha=0.2, ls='--', lw=0.5)\n",
    "plt.savefig('_output/figures/compare_corr.png', **savefig_kws)\n",
    "plt.show()"
   ]
  },
  {
   "cell_type": "markdown",
   "metadata": {},
   "source": [
    "## Target images "
   ]
  },
  {
   "cell_type": "code",
   "execution_count": null,
   "metadata": {},
   "outputs": [],
   "source": [
    "images = tis.read_files(\n",
    "    utils.list_files(os.path.join(folder, 'target_images')), \n",
    "    make_square=False, # normal image follows target dimensions\n",
    "    thresh=200, # image arrays must sum to at least `thresh` to be included (avoid blanks)\n",
    "    n_avg=10 # number of images to average for each final image\n",
    ")"
   ]
  },
  {
   "cell_type": "code",
   "execution_count": null,
   "metadata": {},
   "outputs": [],
   "source": [
    "sigma = 4.0 # Gaussian blur\n",
    "plot_kws = dict(cmap='mono_r')\n",
    "ellipse_kws = dict(lw=0.3, alpha=0.75)\n",
    "n_turns = xvals\n",
    "image_moments = []\n",
    "\n",
    "for i in range(len(images)):\n",
    "    image = images[i]\n",
    "    image.filter(sigma)\n",
    "\n",
    "    fig, ax = pplt.subplots(figsize=(4.2, 2.0))\n",
    "\n",
    "    # Plot the filtered image.\n",
    "    ax.pcolormesh(image.xx, image.yy, image.Zf.T, **plot_kws)\n",
    "    \n",
    "    # Plot the rms ellipse calculated from the image. \n",
    "    mean_x, mean_y, sig_xx, sig_yy, sig_xy = image.estimate_moments(use_filtered=True)\n",
    "    image_moments.append([sig_xx, sig_yy, sig_xy])\n",
    "    angle, c1, c2 = ba._rms_ellipse_dims(sig_xx, sig_yy, sig_xy)\n",
    "    myplt.ellipse(ax, 2.0 * c1, 2.0 * c2, angle, center=(mean_x, mean_y), color='blue8', **ellipse_kws)  \n",
    "\n",
    "    # # Plot the wire-scanner measurement. This assumes the wire-scanner \n",
    "    # # reconstruction is at the target. \n",
    "    # Sigma = Sigma_list[i]\n",
    "    # angle, c1, c2 = ba._rms_ellipse_dims(Sigma[0, 0], Sigma[2, 2], Sigma[0, 2])\n",
    "    # myplt.ellipse(ax, 2.0 * c1, 2.0 * c2, angle, center=(mean_x, mean_y), \n",
    "    #               color='red8', **ellipse_kws)  \n",
    "    \n",
    "    # Formatting\n",
    "    scale = 1.0\n",
    "    xmax = scale * np.max(image.xx)\n",
    "    ymax = scale * np.max(image.yy)\n",
    "    ax.format(aspect=1.0, xlabel='x [mm]', ylabel='y [mm]',\n",
    "              xlim=(-xmax, xmax), ylim=(-ymax, ymax),\n",
    "              title='Turn {}'.format(n_turns[i])\n",
    "             )\n",
    "    plt.savefig('_output/figures/target_image_{}.png'.format(i), **savefig_kws)\n",
    "    plt.show()"
   ]
  },
  {
   "cell_type": "code",
   "execution_count": null,
   "metadata": {},
   "outputs": [],
   "source": [
    "image_moments = np.array(image_moments)"
   ]
  },
  {
   "cell_type": "code",
   "execution_count": null,
   "metadata": {},
   "outputs": [],
   "source": [
    "fig, axes = pplt.subplots(ncols=3, figsize=(7.5, 1.75), sharey=False) \n",
    "color = 'black'\n",
    "for i in range(3):\n",
    "    axes[i].plot(image_moments[:, i], color='black', **lineplt_kws)\n",
    "axes[0].format(ylabel=r'$\\langle{x^2}\\rangle$ [mm$^2$]')\n",
    "axes[1].format(ylabel=r'$\\langle{y^2}\\rangle$ [mm$^2$]')\n",
    "axes[2].format(ylabel=r'$\\langle{xy}\\rangle$ [mm$^2$]')\n",
    "ymax = max(ax.get_ylim()[1] for ax in axes[:2])\n",
    "for ax in axes[:2]:\n",
    "    ax.set_ylim(0., ymax)\n",
    "ymax = max(np.abs(axes[2].get_ylim()))\n",
    "axes[2].set_ylim(-ymax, ymax)\n",
    "axes.format(xlabel=xlabel, **format_kws)\n",
    "plt.savefig('_output/figures/image_moments_hor.png', **savefig_kws)"
   ]
  },
  {
   "cell_type": "code",
   "execution_count": null,
   "metadata": {},
   "outputs": [],
   "source": [
    "fig, axes = pplt.subplots(ncols=3, figsize=(7.5, 1.75), sharey=False, sharex=True) \n",
    "color = 'black'\n",
    "axes[0].plot(xvals, np.sqrt(image_moments[:, 0]), color='black', **lineplt_kws)\n",
    "axes[1].plot(xvals, np.sqrt(image_moments[:, 0]), color='black', **lineplt_kws)\n",
    "axes[2].plot(xvals, image_moments[:, 2] / np.sqrt(image_moments[:, 0] * image_moments[:, 1]), color='black', **lineplt_kws)\n",
    "axes[0].format(ylabel=r'$\\sqrt{\\langle{x^2}\\rangle}$ [mm]')\n",
    "axes[1].format(ylabel=r'$\\sqrt{\\langle{y^2}\\rangle}$ [mm]')\n",
    "axes[2].format(ylabel='x-y corr. coef.')\n",
    "ymax = max(ax.get_ylim()[1] for ax in axes[:2])\n",
    "for ax in axes[:2]:\n",
    "    ax.set_ylim(0., ymax)\n",
    "ymax = max(np.abs(axes[2].get_ylim()))\n",
    "axes[2].set_ylim(-ymax, ymax)\n",
    "axes.format(xlim=(0., xlim_frac_pad * axes[0].get_xlim()[1]))\n",
    "axes.format(xlabel=xlabel, **format_kws)\n",
    "plt.savefig('_output/figures/image_rms_hor.png', **savefig_kws)"
   ]
  },
  {
   "cell_type": "code",
   "execution_count": null,
   "metadata": {},
   "outputs": [],
   "source": []
  }
 ],
 "metadata": {
  "kernelspec": {
   "display_name": "Python 3",
   "language": "python",
   "name": "python3"
  },
  "language_info": {
   "codemirror_mode": {
    "name": "ipython",
    "version": 3
   },
   "file_extension": ".py",
   "mimetype": "text/x-python",
   "name": "python",
   "nbconvert_exporter": "python",
   "pygments_lexer": "ipython3",
   "version": "3.7.6"
  }
 },
 "nbformat": 4,
 "nbformat_minor": 4
}
