{
 "cells": [
  {
   "cell_type": "code",
   "execution_count": 1,
   "metadata": {},
   "outputs": [],
   "source": [
    "import sys\n",
    "\n",
    "import numpy as np\n",
    "import pandas as pd\n",
    "from matplotlib import pyplot as plt\n",
    "import proplot as plot\n",
    "\n",
    "sys.path.append('/Users/46h/Research/code/')\n",
    "from accphys.tools import emittance_measurement as em\n",
    "from accphys.tools import utils"
   ]
  },
  {
   "cell_type": "code",
   "execution_count": 2,
   "metadata": {},
   "outputs": [
    {
     "data": {
      "text/plain": [
       "['./_saved/2021-08-01/production_scan_phases/WireAnalysisFmt-2021.08.01_12.35.05.pta.txt',\n",
       " './_saved/2021-08-01/production_scan_phases/WireAnalysisFmt-2021.08.01_12.28.57.pta.txt',\n",
       " './_saved/2021-08-01/production_scan_phases/WireAnalysisFmt-2021.08.01_12.55.17.pta.txt',\n",
       " './_saved/2021-08-01/production_scan_phases/WireAnalysisFmt-2021.08.01_13.10.22.pta.txt',\n",
       " './_saved/2021-08-01/production_scan_phases/WireAnalysisFmt-2021.08.01_12.50.20.pta.txt',\n",
       " './_saved/2021-08-01/production_scan_phases/WireAnalysisFmt-2021.08.01_13.05.11.pta.txt',\n",
       " './_saved/2021-08-01/production_scan_phases/WireAnalysisFmt-2021.08.01_13.00.11.pta.txt',\n",
       " './_saved/2021-08-01/production_scan_phases/WireAnalysisFmt-2021.08.01_12.45.24.pta.txt',\n",
       " './_saved/2021-08-01/production_scan_phases/WireAnalysisFmt-2021.08.01_13.16.17.pta.txt',\n",
       " './_saved/2021-08-01/production_scan_phases/WireAnalysisFmt-2021.08.01_13.21.14.pta.txt']"
      ]
     },
     "execution_count": 2,
     "metadata": {},
     "output_type": "execute_result"
    }
   ],
   "source": [
    "filenames = utils.list_files('./_saved/2021-08-01/production_scan_phases/')\n",
    "filenames"
   ]
  },
  {
   "cell_type": "code",
   "execution_count": 4,
   "metadata": {},
   "outputs": [],
   "source": [
    "measurements = [em.Measurement(filename) for filename in filenames]"
   ]
  },
  {
   "cell_type": "code",
   "execution_count": null,
   "metadata": {},
   "outputs": [],
   "source": []
  }
 ],
 "metadata": {
  "kernelspec": {
   "display_name": "Python 3",
   "language": "python",
   "name": "python3"
  },
  "language_info": {
   "codemirror_mode": {
    "name": "ipython",
    "version": 3
   },
   "file_extension": ".py",
   "mimetype": "text/x-python",
   "name": "python",
   "nbconvert_exporter": "python",
   "pygments_lexer": "ipython3",
   "version": "3.7.6"
  }
 },
 "nbformat": 4,
 "nbformat_minor": 4
}
