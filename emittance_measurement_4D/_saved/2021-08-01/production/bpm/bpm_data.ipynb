{
 "cells": [
  {
   "cell_type": "markdown",
   "metadata": {},
   "source": [
    "# Turn-by-turn BPM data in the SNS ring"
   ]
  },
  {
   "cell_type": "code",
   "execution_count": null,
   "metadata": {},
   "outputs": [],
   "source": [
    "import sys\n",
    "from pprint import pprint\n",
    "\n",
    "import numpy as np\n",
    "import pandas as pd\n",
    "from matplotlib import pyplot as plt\n",
    "from matplotlib.lines import Line2D\n",
    "import proplot as plot\n",
    "\n",
    "sys.path.append('/Users/46h/Research/accphys/')\n",
    "from tools import animation as myanim\n",
    "from tools import plotting as myplt\n",
    "\n",
    "plot.rc['grid.alpha'] = 0.04\n",
    "plot.rc['axes.grid'] = False\n",
    "plot.rc['cycle'] = 'default'\n",
    "plot.rc['savefig.dpi'] = 'figure'\n",
    "plot.rc['animation.html'] = 'jshtml'"
   ]
  },
  {
   "cell_type": "markdown",
   "metadata": {},
   "source": [
    "Each BPM records data for 1059 turns (the number of stored turns in the machine was much less). This was repeated for 50 minipulses."
   ]
  },
  {
   "cell_type": "code",
   "execution_count": null,
   "metadata": {},
   "outputs": [],
   "source": [
    "df = pd.read_table('ring_tbt.dat', sep=',')\n",
    "df"
   ]
  },
  {
   "cell_type": "markdown",
   "metadata": {},
   "source": [
    "Average over the minipulses."
   ]
  },
  {
   "cell_type": "code",
   "execution_count": null,
   "metadata": {},
   "outputs": [],
   "source": [
    "n_turns = df['turn'].max()\n",
    "columns = df.columns\n",
    "df = [df.loc[df['turn'] == i].mean().values for i in range(n_turns)]\n",
    "df = pd.DataFrame(df, columns=columns)\n",
    "df = df.drop(columns=['pulse', 'turn'])\n",
    "df"
   ]
  },
  {
   "cell_type": "markdown",
   "metadata": {},
   "source": [
    "Find the number of stored turns and cut off all data beyond this turn."
   ]
  },
  {
   "cell_type": "code",
   "execution_count": null,
   "metadata": {},
   "outputs": [],
   "source": [
    "n_stored_turns = len(df)\n",
    "for i in reversed(range(len(df))):\n",
    "    if np.any(df.iloc[i]):\n",
    "        n_stored_turns = i + 1\n",
    "        break\n",
    "df = df.iloc[:n_stored_turns]\n",
    "df"
   ]
  },
  {
   "cell_type": "markdown",
   "metadata": {},
   "source": [
    "Learn the BPM names."
   ]
  },
  {
   "cell_type": "code",
   "execution_count": null,
   "metadata": {},
   "outputs": [],
   "source": [
    "bpm_names = []\n",
    "for col in df.columns:\n",
    "    if 'BPM' in col:\n",
    "        name = None\n",
    "        if 'xAvg' in col:\n",
    "            name = col.split(':xAvg')[0]\n",
    "        elif 'yAvg' in col:\n",
    "            name = col.split(':yAvg')[0]\n",
    "        if name and name not in bpm_names:\n",
    "            bpm_names.append(name)"
   ]
  },
  {
   "cell_type": "markdown",
   "metadata": {},
   "source": [
    "Load the BPM positions."
   ]
  },
  {
   "cell_type": "code",
   "execution_count": null,
   "metadata": {},
   "outputs": [],
   "source": [
    "bpm_positions_dict = dict()\n",
    "file = open('ring_bpm_positions.dat', 'r')\n",
    "for line in file:\n",
    "    name, position = line.split(' ')\n",
    "    position = float(position)\n",
    "    bpm_positions_dict[name] = position\n",
    "file.close()"
   ]
  },
  {
   "cell_type": "markdown",
   "metadata": {},
   "source": [
    "Make sure they are sorted by position. They should be already."
   ]
  },
  {
   "cell_type": "code",
   "execution_count": null,
   "metadata": {},
   "outputs": [],
   "source": [
    "sorted_name_position_list = sorted(bpm_positions_dict.items(), key=lambda item: item[1])\n",
    "bpm_names, bpm_positions = zip(*sorted_name_position_list)"
   ]
  },
  {
   "cell_type": "markdown",
   "metadata": {},
   "source": [
    "Plot example trajectory."
   ]
  },
  {
   "cell_type": "code",
   "execution_count": null,
   "metadata": {},
   "outputs": [],
   "source": [
    "fig, axes = plot.subplots(nrows=2, figsize=(8, 3.5), spany=False)\n",
    "for bpm_name in bpm_names[:4]:\n",
    "    col_xavg = bpm_name + ':xAvg'\n",
    "    col_yavg = bpm_name + ':yAvg'\n",
    "    df[col_xavg].plot(ax=axes[0], marker='.', ms=4, label=bpm_name)\n",
    "    df[col_yavg].plot(ax=axes[1], marker='.', ms=4, label=bpm_name)\n",
    "axes[0].format(ylabel='x [mm]', title='TBT data for selected BPMS')\n",
    "axes[1].format(ylabel='y [mm]', xlabel='Turn number')\n",
    "axes[0].legend(ncol=1, loc=(1.01, 0));"
   ]
  },
  {
   "cell_type": "markdown",
   "metadata": {},
   "source": [
    "## Phase space "
   ]
  },
  {
   "cell_type": "markdown",
   "metadata": {},
   "source": [
    "Try to plot the phase space just before a BPM. I guess I'm assuming that there are no quads between the BPMs, and that the BPMs are located at the quad centers."
   ]
  },
  {
   "cell_type": "code",
   "execution_count": null,
   "metadata": {},
   "outputs": [],
   "source": [
    "def bpm_phase_space_coords(bpm_name, slope='before'):        \n",
    "    x_avg = df[bpm_name + ':xAvg']\n",
    "    y_avg = df[bpm_name + ':yAvg']\n",
    "    i = bpm_names.index(bpm_name)\n",
    "    if slope == 'before':\n",
    "        if i == 0:\n",
    "            raise ValueError('Cannot plot phase space before first BPM')\n",
    "        name_before = bpm_names[i - 1]\n",
    "        delta_x = x_avg - df[name_before + ':xAvg']\n",
    "        delta_y = y_avg - df[name_before + ':yAvg']\n",
    "        delta_s = bpm_positions[i] - bpm_positions[i - 1]\n",
    "    elif slope == 'after':\n",
    "        if i == len(bpm_names):\n",
    "            raise ValueError('Cannot plot phase space before first BPM')\n",
    "        name_after = bpm_names[i + 1]\n",
    "        delta_x = df[name_after + ':xAvg'] - x_avg\n",
    "        delta_y = df[name_after + ':yAvg'] - y_avg\n",
    "        delta_s = bpm_positions[i + 1] - bpm_positions[i]\n",
    "    else:\n",
    "        raise ValueError(\"`slope` must be in {'before', 'after'}\")\n",
    "    xp_avg = delta_x / delta_s\n",
    "    yp_avg = delta_y / delta_s\n",
    "    coords = np.vstack([x_avg, xp_avg, y_avg, yp_avg]).T\n",
    "    return coords"
   ]
  },
  {
   "cell_type": "code",
   "execution_count": null,
   "metadata": {
    "tags": []
   },
   "outputs": [],
   "source": [
    "colors = ['red8', 'blue8']\n",
    "\n",
    "for bpm_name, bpm_pos in zip(bpm_names, bpm_positions):\n",
    "    X_before, X_after = None, None\n",
    "    if bpm_name != bpm_names[0]:\n",
    "        X_before = bpm_phase_space_coords(bpm_name, slope='before')\n",
    "    if bpm_name != bpm_names[-1]:\n",
    "        X_after = bpm_phase_space_coords(bpm_name, slope='after')\n",
    "    coords = [X_before, X_after]\n",
    "    if X_after is not None and X_before is None:\n",
    "        colors = list(reversed(colors))\n",
    "        coords = list(reversed(coords))\n",
    "                \n",
    "    axes = myplt.corner(coords[0], diag_kind=None, s=20, c='red8')\n",
    "    if coords[1] is not None:\n",
    "        for i in range(3):\n",
    "            for j in range(i + 1):\n",
    "                ax = axes[i, j]\n",
    "                ax.scatter(coords[1][:, j], coords[1][:, i + 1], s=2, c='blue8')\n",
    "    axes[0, 1].annotate(bpm_name, xy=(0, 0.425), xycoords='axes fraction', fontsize=8.75)\n",
    "    lines = [Line2D([0], [0], color=colors[0]), \n",
    "             Line2D([0], [0], color=colors[1])]\n",
    "    axes[0, 0].legend(lines, ['before', 'after'], loc=(1.18, 0), \n",
    "                      handlelength=1, framealpha=0)\n",
    "    plt.show()"
   ]
  },
  {
   "cell_type": "code",
   "execution_count": null,
   "metadata": {},
   "outputs": [],
   "source": [
    "coords_before, coords_after = [], []\n",
    "for bpm_name, bpm_position in zip(bpm_names[1:-1], bpm_positions[1:-1]):\n",
    "    coords_before.append(bpm_phase_space_coords(bpm_name, slope='before'))\n",
    "    coords_after.append(bpm_phase_space_coords(bpm_name, slope='after'))"
   ]
  },
  {
   "cell_type": "code",
   "execution_count": null,
   "metadata": {},
   "outputs": [],
   "source": [
    "anim = myanim.corner(coords_before, diag_kind=None, limits=None, pad=0, s=5,\n",
    "                     c='red8', text_fmt='{}', text_vals=bpm_names[1:-1])\n",
    "anim"
   ]
  },
  {
   "cell_type": "code",
   "execution_count": null,
   "metadata": {},
   "outputs": [],
   "source": [
    "anim = myanim.corner(coords_after, diag_kind=None, limits=None, pad=0, s=5,\n",
    "                     c='blue8', text_fmt='{}', text_vals=bpm_names[1:-1])\n",
    "anim"
   ]
  }
 ],
 "metadata": {
  "kernelspec": {
   "display_name": "Python 3",
   "language": "python",
   "name": "python3"
  },
  "language_info": {
   "codemirror_mode": {
    "name": "ipython",
    "version": 3
   },
   "file_extension": ".py",
   "mimetype": "text/x-python",
   "name": "python",
   "nbconvert_exporter": "python",
   "pygments_lexer": "ipython3",
   "version": "3.7.6"
  }
 },
 "nbformat": 4,
 "nbformat_minor": 4
}
