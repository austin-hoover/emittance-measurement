{
 "cells": [
  {
   "cell_type": "code",
   "execution_count": null,
   "metadata": {},
   "outputs": [],
   "source": [
    "import sys\n",
    "import importlib\n",
    "from pprint import pprint\n",
    "\n",
    "import numpy as np\n",
    "import pandas as pd\n",
    "from matplotlib import pyplot as plt\n",
    "import proplot as plot\n",
    "from matplotlib.lines import Line2D\n",
    "from matplotlib.patches import Patch\n",
    "\n",
    "sys.path.append('/Users/46h/Research/code/')\n",
    "from accphys.tools import utils\n",
    "from accphys.tools import beam_analysis as ba \n",
    "from accphys.tools import plotting as myplt\n",
    "from accphys.tools.accphys_utils import V_matrix_4x4_uncoupled\n",
    "from accphys.tools.accphys_utils import Sigma_from_twiss2D\n",
    "from accphys.tools.accphys_utils import normalize\n",
    "from accphys.tools.accphys_utils import possible_points\n",
    "from accphys.tools.accphys_utils import normalized_Sigma\n",
    "from accphys.tools.emittance_measurement import reconstruct\n",
    "from accphys.tools.emittance_measurement import read_pta\n",
    "from accphys.tools.emittance_measurement import plot_profiles\n",
    "from accphys.tools.emittance_measurement import get_sig_xy"
   ]
  },
  {
   "cell_type": "code",
   "execution_count": null,
   "metadata": {},
   "outputs": [],
   "source": [
    "plot.rc['grid.alpha'] = 0.04\n",
    "plot.rc['figure.facecolor'] = 'white'"
   ]
  },
  {
   "cell_type": "markdown",
   "metadata": {},
   "source": [
    "# RTBT emittance measurement data analysis \n",
    "> 05.31.2021"
   ]
  },
  {
   "cell_type": "markdown",
   "metadata": {},
   "source": [
    "## Introduction "
   ]
  },
  {
   "cell_type": "markdown",
   "metadata": {},
   "source": [
    "### Method summary"
   ]
  },
  {
   "cell_type": "markdown",
   "metadata": {},
   "source": [
    "Our goal is to reconstruct the transverse beam covariance matrix at position $s = s_0$:\n",
    "<br>\n",
    "<br>\n",
    "$$\n",
    "\\Sigma_{0} = \\begin{bmatrix}\n",
    "    \\langle{x^2}\\rangle & \\langle{xx'}\\rangle & \\langle{xy}\\rangle & \\langle{xy'}\\rangle \\\\\n",
    "    \\langle{xx'}\\rangle & \\langle{{x'}^2}\\rangle & \\langle{yx'}\\rangle & \\langle{x'y'}\\rangle \\\\\n",
    "    \\langle{xy}\\rangle & \\langle{yx'}\\rangle & \\langle{y^2}\\rangle & \\langle{yy'}\\rangle \\\\\n",
    "    \\langle{xy'}\\rangle & \\langle{x'y'}\\rangle & \\langle{yy'}\\rangle & \\langle{{y'}^2}\\rangle\n",
    "\\end{bmatrix}.\n",
    "$$\n",
    "\n",
    "We are taking $s_0$ to be the start of the RTBT. To do this, a set of $n$ wire-scanners can be placed at positions $\\{s_i\\} > s_0$ with $i = 1, ..., n$. A single measurement from the $i$th wire-scanner will produce the real-space moments of the beam at $s_i$: $\\langle{x^2}\\rangle_{i}$, $\\langle{y^2}\\rangle_{i}$, and $\\langle{xy}\\rangle_{i}$. Without space charge, the transfer matrix $M_{s_0 \\rightarrow s_i} = M_i$ is known. The moments at $s_0$ are then related to those at $s_i$ by\n",
    "\n",
    "$$\\Sigma_i = M_i \\Sigma_{0} {M_i}^T.$$ This gives three equations relating the measured moments at $s_i$ and the unknown moments at $s_0$: <br>"
   ]
  },
  {
   "cell_type": "markdown",
   "metadata": {},
   "source": [
    "$$\n",
    "\\begin{align}\n",
    "    \\langle{x^2}\\rangle_i &= \n",
    "        m_{11}^2\\langle{x^2}\\rangle_{0} \n",
    "      + m_{12}^2\\langle{x'^2}\\rangle_{0} \n",
    "      + 2m_{11}m_{22}\\langle{xx'}\\rangle_{0} ,\\\\\n",
    "    \\langle{y^2}\\rangle_i &= \n",
    "        m_{33}^2\\langle{y^2}\\rangle_{0} \n",
    "      + m_{34}^2\\langle{y'^2}\\rangle_{0} \n",
    "      + 2m_{33}m_{34}\\langle{yy'}\\rangle_{0} ,\\\\\n",
    "    \\langle{xy}\\rangle_i &= \n",
    "        m_{11}m_{33}\\langle{xy}\\rangle_{0} \n",
    "      + m_{12}m_{33}\\langle{yx'}\\rangle_{0} \n",
    "      + m_{11}m_{34}\\langle{xy'}\\rangle_{0} \n",
    "      + m_{12}m_{34}\\langle{x'y'}\\rangle_{0} ,\n",
    "\\end{align}\n",
    "$$"
   ]
  },
  {
   "cell_type": "markdown",
   "metadata": {},
   "source": [
    "where $m_{jk}$ are the elements of the transfer matrix. Taking 3 measurements with different optics settings between $s_0$ and $s_i$ (and therefore different transfer matrices) gives the 10 equations necessary to solve for $\\Sigma_0$; however, real measurements will be noisy, so it is better to take more measurements if possible. Given $N$ measurements, we can form a $3N \\times 1$ observation array $\\mathbf{b}$ from the measured moments and a $3N \\times 10$ coefficient array $\\mathbf{A}$ from the transfer matrix such that\n",
    "\n",
    "$$\\begin{align} \\mathbf{A \\sigma}_0 = \\mathbf{b},\\end{align}$$ \n",
    "\n",
    "where $\\mathbf{\\sigma}_0$ is a $10 \\times 1$ vector of the moments at $s_0$. There are 5 wire-scanners in the RTBT which operate simultaneously, so using all of them increases the size of the coefficient array to $15N \\times 10$. We then choose $\\mathbf{\\sigma}_0$ such that $|\\mathbf{A\\sigma}_0 - \\mathbf{b}|^2$ is minimized. "
   ]
  },
  {
   "cell_type": "markdown",
   "metadata": {},
   "source": [
    "### Details of this run"
   ]
  },
  {
   "cell_type": "markdown",
   "metadata": {},
   "source": [
    "Regular production settings were used, i.e., the beam should be somewhat square in real space and have no cross-plane correlations. Thus, the four-dimensional emittance is expected to be the product of the two-dimensional apparent emittances. I don't remember the number of turns that were accumulated — maybe around 250. \n",
    "\n",
    "The phase advances were measured from the start of the RTBT to the last wire-scanner — WS24. Ideally, these phase advances are varied linearly in a 180 degree range centered on the default phase advances. We chose to cover this range in 12 steps; however, we didn't have time to do all 12 measurements. Therefore, instead of [0, 1, 2, 3, 4, 5, 6, 7, 8, 9, 10, 11], we only did [0, 1, 3, 7, 11]. This should still be sufficient to reconstruct the covariance matrix. We also took a measurement at the default machine settings, but we can't use this in the reconstruction: I didn't record the field settings and can't get them now because the machine is down.\n",
    "\n",
    "#### Note\n",
    "We've changed our method since this study. The optics don't need to be changed so much; around 30 degrees at one wire-scanner will do. Furthermore, only the power supply on QH18 and QV19 need to be varied to set the phase advances. So, we should take these results with a grain of salt.\n",
    "\n",
    "The profiles also look quite a bit different than the production documenation scans that we've analyzed. I think this is because our beam wasn't fully accumulated.\n",
    "\n",
    "I also need to clean up this notebook move as much as possible to modules."
   ]
  },
  {
   "cell_type": "code",
   "execution_count": null,
   "metadata": {},
   "outputs": [],
   "source": [
    "scan_indices = [0, 1, 3, 7, 11]"
   ]
  },
  {
   "cell_type": "markdown",
   "metadata": {},
   "source": [
    "## View parameters at each scan index "
   ]
  },
  {
   "cell_type": "code",
   "execution_count": null,
   "metadata": {},
   "outputs": [],
   "source": [
    "phases = np.loadtxt('phases.dat')\n",
    "twiss_list = [np.loadtxt('./twiss_{}.dat'.format(i)) \n",
    "              for i in scan_indices + ['default']]"
   ]
  },
  {
   "cell_type": "code",
   "execution_count": null,
   "metadata": {},
   "outputs": [],
   "source": [
    "fig, ax = plot.subplots(figsize=(4, 2))\n",
    "ax.plot(np.degrees(phases[:, 0]), marker='.', alpha=0.1)\n",
    "ax.plot(np.degrees(phases[:, 1]), marker='.', alpha=0.1)\n",
    "ax.format(cycle='colorblind')\n",
    "ax.scatter(scan_indices, np.degrees(phases[scan_indices, 0]), marker='.', s=50)\n",
    "ax.scatter(scan_indices, np.degrees(phases[scan_indices, 1]), marker='.', s=50)\n",
    "ax.legend(labels=[r'$\\mu_x$', r'$\\mu_y$']);\n",
    "ax.format(xlabel='Scan index', ylabel='[degrees]', xticks=range(12), xtickminor=False,\n",
    "          title='Phase advance at WS24 at each optics setting', grid=False)"
   ]
  },
  {
   "cell_type": "code",
   "execution_count": null,
   "metadata": {},
   "outputs": [],
   "source": [
    "fig, ax = plot.subplots(figsize=(5, 2))\n",
    "for twiss in twiss_list:\n",
    "    pos, mu_x, mu_y, alpha_x, alpha_y, beta_x, beta_y, eps_x, eps_y = twiss.T\n",
    "    ax.format(cycle='colorblind')\n",
    "    ax.plot(pos, mu_x)\n",
    "    ax.plot(pos, mu_y)\n",
    "ax.legend(labels=[r'$\\mu_x$', r'$\\mu_y$'], ncols=1);\n",
    "ax.format(ylabel=r'Phase adv. / 2$\\pi$', xlabel='Position [m]',\n",
    "          title='Phase advances at each optics setting')"
   ]
  },
  {
   "cell_type": "code",
   "execution_count": null,
   "metadata": {},
   "outputs": [],
   "source": [
    "fig, ax = plot.subplots(figsize=(5, 2))\n",
    "for twiss in twiss_list:\n",
    "    pos, mu_x, mu_y, alpha_x, alpha_y, beta_x, beta_y, eps_x, eps_y = twiss.T\n",
    "    ax.format(cycle='colorblind')\n",
    "    ax.plot(pos, beta_x)\n",
    "    ax.plot(pos, beta_y)\n",
    "ax.legend(labels=[r'$\\beta_x$', r'$\\beta_y$'], ncols=1);\n",
    "ax.format(ylabel='[m]', xlabel='Position [m]', \n",
    "          title='Beta functions at each optics setting')"
   ]
  },
  {
   "cell_type": "markdown",
   "metadata": {},
   "source": [
    "## Process wire-scanner data "
   ]
  },
  {
   "cell_type": "markdown",
   "metadata": {},
   "source": [
    "### Collect files "
   ]
  },
  {
   "cell_type": "code",
   "execution_count": null,
   "metadata": {},
   "outputs": [],
   "source": [
    "filenames_and_indices = []\n",
    "for filename in utils.list_files('./', join=False):\n",
    "    if not filename.startswith('Wire') or 'default' in filename:\n",
    "        continue\n",
    "    index = int(filename.split('.pta')[0].split('_')[-1])\n",
    "    filenames_and_indices.append([filename, index])\n",
    "filenames_and_indices = sorted(filenames_and_indices, key=lambda item: item[1])\n",
    "filenames = [filename for (filename, index) in filenames_and_indices]\n",
    "indices = [index for (filename, index) in filenames_and_indices]"
   ]
  },
  {
   "cell_type": "markdown",
   "metadata": {},
   "source": [
    "We also took a measurement when the machine was at its default setting, but didn't save the transfer matrix. Add this measurement data for now."
   ]
  },
  {
   "cell_type": "code",
   "execution_count": null,
   "metadata": {},
   "outputs": [],
   "source": [
    "filenames.append('WireAnalysisFmt-2021.05.31_21.08.18_default.pta.txt')"
   ]
  },
  {
   "cell_type": "code",
   "execution_count": null,
   "metadata": {},
   "outputs": [],
   "source": [
    "pprint(filenames)"
   ]
  },
  {
   "cell_type": "markdown",
   "metadata": {},
   "source": [
    "### Extract profile data"
   ]
  },
  {
   "cell_type": "markdown",
   "metadata": {},
   "source": [
    "Each profile measurement contains a series of positions $\\{x_{i}\\}$ and signal amplitudes $\\{f(x_i)\\}$ with $i$ = 1, ..., $N$. The Profile Tools and Analysis (PTA) application in OpenXAL actually analyzes the signals for us."
   ]
  },
  {
   "cell_type": "code",
   "execution_count": null,
   "metadata": {},
   "outputs": [],
   "source": [
    "measurements = [read_pta(filename) for filename in filenames]"
   ]
  },
  {
   "cell_type": "code",
   "execution_count": null,
   "metadata": {},
   "outputs": [],
   "source": [
    "profile = measurements[0]['WS24']\n",
    "display(profile.data)\n",
    "display(profile.params)"
   ]
  },
  {
   "cell_type": "markdown",
   "metadata": {},
   "source": [
    "### View profiles "
   ]
  },
  {
   "cell_type": "code",
   "execution_count": null,
   "metadata": {},
   "outputs": [],
   "source": [
    "ws_ids = ['WS20', 'WS21', 'WS23', 'WS24']\n",
    "kws_raw = dict(legend=False, marker='.', ms=3, lw=0)\n",
    "kws_fit = dict(legend=False, color='k', alpha=0.2, zorder=0)"
   ]
  },
  {
   "cell_type": "markdown",
   "metadata": {},
   "source": [
    "#### Raw"
   ]
  },
  {
   "cell_type": "code",
   "execution_count": null,
   "metadata": {},
   "outputs": [],
   "source": [
    "axes = plot_profiles(measurements, ws_ids, show_fit=False, kws_raw=kws_raw, kws_fit=kws_fit)\n",
    "axes.format(leftlabels=scan_indices + ['default'])"
   ]
  },
  {
   "cell_type": "markdown",
   "metadata": {},
   "source": [
    "#### Raw + fit"
   ]
  },
  {
   "cell_type": "code",
   "execution_count": null,
   "metadata": {},
   "outputs": [],
   "source": [
    "axes = plot_profiles(measurements, ws_ids, show_fit=True, kws_raw=kws_raw, kws_fit=kws_fit)\n",
    "axes.format(leftlabels=scan_indices + ['default'])"
   ]
  },
  {
   "cell_type": "markdown",
   "metadata": {},
   "source": [
    "## Reconstruct beam moments"
   ]
  },
  {
   "cell_type": "markdown",
   "metadata": {},
   "source": [
    "The covariance $\\sigma_{xy}$ between *x* and *y* can be found using the beam size along the *u* axis normal to the diagonal wire."
   ]
  },
  {
   "cell_type": "markdown",
   "metadata": {},
   "source": [
    "<img src='diag_wire.png' width=200>"
   ]
  },
  {
   "cell_type": "markdown",
   "metadata": {},
   "source": [
    "$$\n",
    "\\begin{align}\n",
    "    u &= x\\cos\\phi + y\\sin\\phi \\\\\n",
    "    \\sigma_u^2 &= \\langle{u^2}\\rangle - \\langle{u}\\rangle^2 = \\sigma_x^2\\cos^2\\phi + \\sigma_y^2\\sin^2\\phi + 2\\sigma_{xy}\\sin\\phi\\cos\\phi\n",
    "\\end{align}\n",
    "$$"
   ]
  },
  {
   "cell_type": "code",
   "execution_count": null,
   "metadata": {},
   "outputs": [],
   "source": [
    "diag_wire_angle = np.radians(-45.0)"
   ]
  },
  {
   "cell_type": "markdown",
   "metadata": {},
   "source": [
    "Since we didn't store the default optics, we can't use that measurement in the reconstruction. "
   ]
  },
  {
   "cell_type": "code",
   "execution_count": null,
   "metadata": {},
   "outputs": [],
   "source": [
    "measurements = measurements[:-1]"
   ]
  },
  {
   "cell_type": "markdown",
   "metadata": {},
   "source": [
    "Collect the measured beam moments at each wire-scanner. This is just for convenience."
   ]
  },
  {
   "cell_type": "code",
   "execution_count": null,
   "metadata": {},
   "outputs": [],
   "source": [
    "moments = {ws_id: [] for ws_id in ws_ids}\n",
    "for ws_id in ws_ids:\n",
    "    for measurement in measurements:\n",
    "        profile = measurement[ws_id]\n",
    "        sig_xx = profile.get_param('Sigma', dim='x')**2\n",
    "        sig_yy = profile.get_param('Sigma', dim='y')**2\n",
    "        sig_uu = profile.get_param('Sigma', dim='u')**2\n",
    "        sig_xy = get_sig_xy(sig_xx, sig_yy, sig_uu, diag_wire_angle)\n",
    "        moments[ws_id].append([sig_xx, sig_yy, sig_xy])\n",
    "    moments[ws_id] = np.array(moments[ws_id])"
   ]
  },
  {
   "cell_type": "code",
   "execution_count": null,
   "metadata": {},
   "outputs": [],
   "source": [
    "fig, axes = plot.subplots(ncols=4, figsize=(9, 2))\n",
    "plt_kws = dict(marker='.')\n",
    "for ws_id, ax in zip(ws_ids, axes):\n",
    "    ax.plot(scan_indices, moments[ws_id][:, 0], **plt_kws)\n",
    "    ax.plot(scan_indices, moments[ws_id][:, 1], **plt_kws)\n",
    "    ax.plot(scan_indices, moments[ws_id][:, 2], **plt_kws)\n",
    "axes.format(ylabel=r'[mm$^2$]', xlabel='Scan index', xtickminor=False, xticks=range(12), toplabels=ws_ids)\n",
    "ax.legend(labels=[r'$\\langle{x^2}\\rangle$', r'$\\langle{y^2}\\rangle$', r'$\\langle{xy}\\rangle$'],\n",
    "          ncols=1, loc=(1.02, 0));"
   ]
  },
  {
   "cell_type": "markdown",
   "metadata": {},
   "source": [
    "Collect the transfer matrices at each wire-scanner as calculated by OpenXAL."
   ]
  },
  {
   "cell_type": "code",
   "execution_count": null,
   "metadata": {},
   "outputs": [],
   "source": [
    "transfer_mats = {ws_id: [] for ws_id in ws_ids}\n",
    "for ws_index, ws_id in enumerate(ws_ids):\n",
    "    if ws_id == 'WS02': # didn't take data from this wire-scanner\n",
    "        continue\n",
    "    for scan_index in scan_indices:\n",
    "        filename = './transfer_mat_elems_{}.dat'.format(scan_index)\n",
    "        matrix_elements = np.loadtxt(filename)[ws_index]\n",
    "        transfer_mats[ws_id].append(matrix_elements.reshape((4, 4)))"
   ]
  },
  {
   "cell_type": "markdown",
   "metadata": {},
   "source": [
    "Reconstruct the covariance matrix at the RTBT entrance."
   ]
  },
  {
   "cell_type": "code",
   "execution_count": null,
   "metadata": {},
   "outputs": [],
   "source": [
    "moments_list, transfer_mats_list = [], []\n",
    "for ws_id in ws_ids:\n",
    "    moments_list.extend(moments[ws_id])\n",
    "    transfer_mats_list.extend(transfer_mats[ws_id])"
   ]
  },
  {
   "cell_type": "code",
   "execution_count": null,
   "metadata": {},
   "outputs": [],
   "source": [
    "Sigma = reconstruct(transfer_mats_list, moments_list)\n",
    "print('Sigma:')\n",
    "print(Sigma)\n",
    "alpha_x, alpha_y, beta_x, beta_y, eps_x, eps_y = ba.get_twiss2D(Sigma)\n",
    "twiss = (alpha_x, alpha_y, beta_x, beta_y)\n",
    "eps_1, eps_2 = ba.intrinsic_emittances(Sigma)\n",
    "print('eps_4D = {:.3f}'.format(np.sqrt(np.linalg.det(Sigma))))\n",
    "print('eps_1, eps_2 = {:.3f}, {:.3f}'.format(eps_1, eps_2))\n",
    "print('eps_x, eps_y = {:.3f}, {:.3f}'.format(eps_x, eps_y))\n",
    "print('beta_x, beta_y = {:.3f}, {:.3f}'.format(beta_x, beta_y))\n",
    "print('alpha_x, alpha_y = {:.3f}, {:.3f}'.format(alpha_x, alpha_y))"
   ]
  },
  {
   "cell_type": "markdown",
   "metadata": {},
   "source": [
    "### Discussion "
   ]
  },
  {
   "cell_type": "markdown",
   "metadata": {},
   "source": [
    "The reconstructed beam has a larger emittance the $y$ direction than in the $x$ direction. The cross-plane moments are nonzero."
   ]
  },
  {
   "cell_type": "code",
   "execution_count": null,
   "metadata": {},
   "outputs": [],
   "source": [
    "correlation_matrix = utils.cov2corr(Sigma)\n",
    "print(correlation_matrix)"
   ]
  },
  {
   "cell_type": "markdown",
   "metadata": {},
   "source": [
    "I propose that we use a different definition of the coupling coefficient *C*. Prat and others define it as \n",
    "\n",
    "$$ C = \\sqrt{\\frac{\\varepsilon_x\\varepsilon_y}{\\varepsilon_1\\varepsilon_2}}.$$\n",
    "\n",
    "$C = 1$ is no coupling, while $C \\gt 1$ is nonzero coupling. In our case, ideally $\\varepsilon_{4D} = \\sqrt{\\varepsilon_1\\varepsilon_2} = 0$, so it would make more sense to define\n",
    "\n",
    "$$ C = 1 - \\sqrt{\\frac{\\varepsilon_1\\varepsilon_2}{\\varepsilon_x\\varepsilon_y}},$$\n",
    "\n",
    "so that $C$ is confined to the range [0, 1] (0 if no coupling, 1 if perfect rigid rotator)."
   ]
  },
  {
   "cell_type": "code",
   "execution_count": null,
   "metadata": {},
   "outputs": [],
   "source": [
    "coupling_coeff = 1.0 - np.sqrt((eps_1 * eps_2) / (eps_x * eps_y))\n",
    "print('Coupling coefficient = {}'.format(coupling_coeff))"
   ]
  },
  {
   "cell_type": "markdown",
   "metadata": {},
   "source": [
    "Below are the rms ellipses defined by the covariance matrix: $x^T \\Sigma x = 1$."
   ]
  },
  {
   "cell_type": "code",
   "execution_count": null,
   "metadata": {},
   "outputs": [],
   "source": [
    "myplt.rms_ellipses(Sigma, fill=True);"
   ]
  },
  {
   "cell_type": "markdown",
   "metadata": {},
   "source": [
    "The $x$-$x'$ and $y$-$y'$ reconstructions don't depend on the diagonal wire. There's no way to check if the emittances are correct, but we can check the Twiss parameters. Below is a comparison of the rms ellipses."
   ]
  },
  {
   "cell_type": "code",
   "execution_count": null,
   "metadata": {},
   "outputs": [],
   "source": [
    "# Expected covariance matrix at RTBT entrance (from default optics)\n",
    "alpha_x_exp = -1.22636996168 # [rad]\n",
    "alpha_y_exp = 0.76481800616 # [rad]\n",
    "beta_x_exp = 5.6562618021 # [m/rad]\n",
    "beta_y_exp = 9.86908808294 # [m/rad]\n",
    "twiss_exp = (alpha_x_exp, alpha_y_exp, beta_x_exp, beta_y_exp)\n",
    "Sigma_exp = Sigma_from_twiss2D(alpha_x_exp, alpha_y_exp, beta_x_exp, beta_y_exp, eps_x, eps_y)"
   ]
  },
  {
   "cell_type": "code",
   "execution_count": null,
   "metadata": {},
   "outputs": [],
   "source": [
    "def plot_lines(ax, transfer_mats, moments, dim='x', twiss=None, **plt_kws):  \n",
    "    for transfer_mat, (sig_xx, sig_yy, sig_xy) in zip(transfer_mats, moments):\n",
    "        h_pts, v_pts = possible_points(transfer_mat, sig_xx, sig_yy, dim, twiss)\n",
    "        ax.plot(h_pts, v_pts, **plt_kws)"
   ]
  },
  {
   "cell_type": "code",
   "execution_count": null,
   "metadata": {},
   "outputs": [],
   "source": [
    "def plot_reconstructed_phasespace(Sigma, Sigma_exp=None, twiss=None, scale=2.0):\n",
    "    fig, axes = plot.subplots(ncols=2, sharex=False, sharey=False, figsize=(6, 2.5))\n",
    "\n",
    "    # Plot reconstructed ellipses\n",
    "    if twiss is not None:\n",
    "        Sigma = normalized_Sigma(Sigma, *twiss)\n",
    "    angle_xxp, cx, cxp = myplt.rms_ellipse_dims(Sigma, 'x', 'xp')\n",
    "    angle_yyp, cy, cyp = myplt.rms_ellipse_dims(Sigma, 'y', 'yp')\n",
    "    myplt.ellipse(axes[0], 2 * cx, 2 * cxp, angle_xxp, lw=2)\n",
    "    myplt.ellipse(axes[1], 2 * cy, 2 * cyp, angle_yyp, lw=2)\n",
    "\n",
    "    # Plot design ellipses\n",
    "    plot_exp = Sigma_exp is not None\n",
    "    if plot_exp:\n",
    "        if twiss is not None:\n",
    "            Sigma_exp = normalized_Sigma(Sigma_exp, *twiss)\n",
    "        angle_xxp_exp, cx_exp, cxp_exp = myplt.rms_ellipse_dims(Sigma_exp, 'x', 'xp')\n",
    "        angle_yyp_exp, cy_exp, cyp_exp = myplt.rms_ellipse_dims(Sigma_exp, 'y', 'yp')\n",
    "        myplt.ellipse(axes[0], 2 * cx_exp, 2 * cxp_exp, angle_xxp_exp, lw=1, alpha=0.25)\n",
    "        myplt.ellipse(axes[1], 2 * cy_exp, 2 * cyp_exp, angle_yyp_exp, lw=1, alpha=0.25)\n",
    "        \n",
    "    # Plot possible points at reconstruction location as lines. \n",
    "    colors = plt.rcParams['axes.prop_cycle'].by_key()['color']\n",
    "    kws = dict(lw=1)\n",
    "    for ws_id, color in zip(ws_ids, colors):\n",
    "        plot_lines(axes[0], transfer_mats[ws_id], moments[ws_id], 'x', twiss, color=color, **kws)\n",
    "        plot_lines(axes[1], transfer_mats[ws_id], moments[ws_id], 'y', twiss, color=color, **kws)\n",
    "\n",
    "    # Legends\n",
    "    custom_lines_1 = [Line2D([0], [0], color='black', lw=2)]\n",
    "    labels_1 = ['calc']\n",
    "    if plot_exp:\n",
    "        custom_lines_1.append(Line2D([0], [0], color='black', lw=1, alpha=0.25))\n",
    "        labels_1.append('exp')\n",
    "    custom_lines_2 = [Line2D([0], [0], color=color) for color in colors[:4]]\n",
    "    axes[1].legend(custom_lines_1, labels_1, ncols=1, loc=(1.02, 0.8), fontsize='small')\n",
    "    axes[1].legend(custom_lines_2, ws_ids, ncols=1, loc=(1.02, 0), fontsize='small')\n",
    "\n",
    "    # Formatting\n",
    "    axes.format(grid=False, xlabel_kw=dict(fontsize='large'), ylabel_kw=dict(fontsize='large'))\n",
    "    if twiss:\n",
    "        axes.format(aspect=1)\n",
    "        labels = [r\"$x_n$ [mm]\", r\"$x'_n$ [mrad]\", r\"$y_n$ [mm]\", r\"$y'_n$ [mrad]\"]\n",
    "    else:\n",
    "        labels = [\"x [mm]\", \"x' [mrad]\", \"y [mm]\", \"y' [mrad]\"]\n",
    "        \n",
    "    max_coords = 2.0 * np.sqrt(np.diag(Sigma))\n",
    "    xmax, xpmax, ymax, ypmax = scale * max_coords\n",
    "    axes[0].format(xlim=(-xmax, xmax), ylim=(-xpmax, xpmax), xlabel=labels[0], ylabel=labels[1])\n",
    "    axes[1].format(xlim=(-ymax, ymax), ylim=(-ypmax, ypmax), xlabel=labels[2], ylabel=labels[3])\n",
    "    return axes"
   ]
  },
  {
   "cell_type": "code",
   "execution_count": null,
   "metadata": {},
   "outputs": [],
   "source": [
    "axes = plot_reconstructed_phasespace(Sigma, Sigma_exp)\n",
    "axes.format(suptitle='Reconstructed phase space')"
   ]
  },
  {
   "cell_type": "code",
   "execution_count": null,
   "metadata": {},
   "outputs": [],
   "source": [
    "axes = plot_reconstructed_phasespace(Sigma, twiss=twiss)\n",
    "axes.format(suptitle='Reconstructed phase space (normalized by measured Twiss)')"
   ]
  },
  {
   "cell_type": "markdown",
   "metadata": {},
   "source": [
    "It appears that changes to the optics did not change the phase advances in the correct way. I'm not sure exactly what happened."
   ]
  }
 ],
 "metadata": {
  "kernelspec": {
   "display_name": "Python 3",
   "language": "python",
   "name": "python3"
  },
  "language_info": {
   "codemirror_mode": {
    "name": "ipython",
    "version": 3
   },
   "file_extension": ".py",
   "mimetype": "text/x-python",
   "name": "python",
   "nbconvert_exporter": "python",
   "pygments_lexer": "ipython3",
   "version": "3.7.6"
  },
  "toc-autonumbering": false
 },
 "nbformat": 4,
 "nbformat_minor": 4
}
