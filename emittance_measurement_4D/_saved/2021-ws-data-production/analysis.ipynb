{
 "cells": [
  {
   "cell_type": "markdown",
   "metadata": {},
   "source": [
    "# Production wire-scan data analysis\n",
    "> 07.15.2021"
   ]
  },
  {
   "cell_type": "code",
   "execution_count": null,
   "metadata": {},
   "outputs": [],
   "source": [
    "import sys\n",
    "import importlib\n",
    "\n",
    "import numpy as np\n",
    "import pandas as pd\n",
    "from matplotlib import pyplot as plt\n",
    "import proplot as plot\n",
    "from matplotlib.lines import Line2D\n",
    "from matplotlib.patches import Patch\n",
    "\n",
    "sys.path.append('/Users/46h/Research/code/')\n",
    "from accphys.tools import utils\n",
    "from accphys.tools import beam_analysis as ba \n",
    "from accphys.tools import plotting as myplt\n",
    "from accphys.tools.accphys_utils import V_matrix_4x4_uncoupled\n",
    "from accphys.tools.accphys_utils import Sigma_from_twiss2D\n",
    "from accphys.tools.accphys_utils import normalize\n",
    "from accphys.tools.accphys_utils import possible_points\n",
    "from accphys.tools.accphys_utils import normalized_Sigma\n",
    "from accphys.tools.emittance_measurement import reconstruct\n",
    "from accphys.tools.emittance_measurement import read_pta\n",
    "from accphys.tools.emittance_measurement import plot_profiles\n",
    "from accphys.tools.emittance_measurement import get_sig_xy"
   ]
  },
  {
   "cell_type": "code",
   "execution_count": null,
   "metadata": {},
   "outputs": [],
   "source": [
    "plot.rc['grid.alpha'] = 0.04\n",
    "plot.rc['figure.facecolor'] = 'white'"
   ]
  },
  {
   "cell_type": "markdown",
   "metadata": {},
   "source": [
    "## Load data "
   ]
  },
  {
   "cell_type": "code",
   "execution_count": null,
   "metadata": {},
   "outputs": [],
   "source": [
    "rec_node_id = 'Begin_Of_RTBT1'\n",
    "# rec_node_id = 'Begin_Of_RTBT2'\n",
    "# rec_node_id = 'RTBT_Diag:BPM19'\n",
    "# rec_node_id = 'RTBT_Diag:WS20'\n",
    "# rec_node_id = 'RTBT_Diag:BLM23'"
   ]
  },
  {
   "cell_type": "code",
   "execution_count": null,
   "metadata": {},
   "outputs": [],
   "source": [
    "ws_ids = ['WS20', 'WS21', 'WS23', 'WS24']"
   ]
  },
  {
   "cell_type": "code",
   "execution_count": null,
   "metadata": {},
   "outputs": [],
   "source": [
    "def is_harp_file(filename):\n",
    "    file = open(filename, 'r')\n",
    "    for line in file:\n",
    "        if 'Harp' in line:\n",
    "            return True\n",
    "    return False"
   ]
  },
  {
   "cell_type": "code",
   "execution_count": null,
   "metadata": {},
   "outputs": [],
   "source": [
    "exp_twiss_filename = 'data/twiss/model_twiss_{}.dat'.format(rec_node_id)\n",
    "transfer_matrices_filename = 'data/transfer_matrix/model_transfer_mat_elems_default_{}.dat'.format(rec_node_id)\n",
    "filenames = utils.list_files('./data/ws/')\n",
    "filenames_ws = [filename for filename in filenames if not is_harp_file(filename)]\n",
    "filenames_harp = [filename for filename in filenames if is_harp_file(filename)]"
   ]
  },
  {
   "cell_type": "code",
   "execution_count": null,
   "metadata": {},
   "outputs": [],
   "source": [
    "filenames_ws"
   ]
  },
  {
   "cell_type": "code",
   "execution_count": null,
   "metadata": {},
   "outputs": [],
   "source": [
    "filenames_harp"
   ]
  },
  {
   "cell_type": "markdown",
   "metadata": {},
   "source": [
    "I don't currenlty understand the harp data format."
   ]
  },
  {
   "cell_type": "code",
   "execution_count": null,
   "metadata": {},
   "outputs": [],
   "source": [
    "# filename = filenames_harp[0]\n",
    "# file = open(filename, 'r')\n",
    "# for line in file:\n",
    "#     print(line.rstrip())\n",
    "# file.close()"
   ]
  },
  {
   "cell_type": "code",
   "execution_count": null,
   "metadata": {},
   "outputs": [],
   "source": [
    "measurements = [read_pta(filename) for filename in filenames_ws]"
   ]
  },
  {
   "cell_type": "code",
   "execution_count": null,
   "metadata": {},
   "outputs": [],
   "source": [
    "profile = measurements[0]['WS24']\n",
    "display(profile.data)\n",
    "display(profile.params)"
   ]
  },
  {
   "cell_type": "code",
   "execution_count": null,
   "metadata": {},
   "outputs": [],
   "source": [
    "kws_raw = dict(legend=False, marker='.', ms=3, lw=0)\n",
    "kws_fit = dict(legend=False, color='k', alpha=0.2, zorder=0)"
   ]
  },
  {
   "cell_type": "code",
   "execution_count": null,
   "metadata": {},
   "outputs": [],
   "source": [
    "axes = plot_profiles(measurements, ws_ids, show_fit=False, kws_raw=kws_raw, kws_fit=kws_fit)\n",
    "plt.savefig('figures/profiles.png', dpi=300, facecolor='white')"
   ]
  },
  {
   "cell_type": "code",
   "execution_count": null,
   "metadata": {},
   "outputs": [],
   "source": [
    "# axes = profile_data.plot_profiles(measurements, ws_ids, show_fit=True, kws_raw=kws_raw, kws_fit=kws_fit)"
   ]
  },
  {
   "cell_type": "markdown",
   "metadata": {},
   "source": [
    "## Reconstruct transverse covariance matrix"
   ]
  },
  {
   "cell_type": "markdown",
   "metadata": {},
   "source": [
    "Collect the measured beam moments at each wire-scanner."
   ]
  },
  {
   "cell_type": "code",
   "execution_count": null,
   "metadata": {},
   "outputs": [],
   "source": [
    "diag_wire_angle = np.radians(-45.0)"
   ]
  },
  {
   "cell_type": "code",
   "execution_count": null,
   "metadata": {},
   "outputs": [],
   "source": [
    "moments = {ws_id: [] for ws_id in ws_ids}\n",
    "for ws_id in ws_ids:\n",
    "    for measurement in measurements:\n",
    "        profile = measurement[ws_id]\n",
    "        sig_xx = profile.get_param('Sigma', dim='x')**2\n",
    "        sig_yy = profile.get_param('Sigma', dim='y')**2\n",
    "        sig_uu = profile.get_param('Sigma', dim='u')**2\n",
    "        sig_xy = get_sig_xy(sig_xx, sig_yy, sig_uu, diag_wire_angle)\n",
    "        moments[ws_id].append([sig_xx, sig_yy, sig_xy])\n",
    "    moments[ws_id] = np.array(moments[ws_id])"
   ]
  },
  {
   "cell_type": "code",
   "execution_count": null,
   "metadata": {},
   "outputs": [],
   "source": [
    "fig, axes = plot.subplots(ncols=4, figsize=(9, 2))\n",
    "plt_kws = dict(marker='.')\n",
    "for ws_id, ax in zip(ws_ids, axes):\n",
    "    ax.plot(moments[ws_id][:, 0], **plt_kws)\n",
    "    ax.plot(moments[ws_id][:, 1], **plt_kws)\n",
    "    ax.plot(moments[ws_id][:, 2], **plt_kws)\n",
    "axes.format(ylabel=r'[mm$^2$]', xlabel='Measurement index', toplabels=ws_ids)\n",
    "ax.legend(labels=[r'$\\langle{x^2}\\rangle$', r'$\\langle{y^2}\\rangle$', r'$\\langle{xy}\\rangle$'],\n",
    "          ncols=1, loc=(1.02, 0), fontsize='small')\n",
    "plt.savefig('figures/moments.png', dpi=300, facecolor='white')"
   ]
  },
  {
   "cell_type": "markdown",
   "metadata": {},
   "source": [
    "Collect the linear transfer matrices at each wire-scanner."
   ]
  },
  {
   "cell_type": "code",
   "execution_count": null,
   "metadata": {},
   "outputs": [],
   "source": [
    "transfer_mats = {ws_id: [] for ws_id in ws_ids}\n",
    "for ws_index, ws_id in enumerate(ws_ids):\n",
    "    if ws_id == 'WS02': # don't have data from this wire-scanner\n",
    "        continue\n",
    "    for _ in range(len(measurements)):\n",
    "        matrix_elements = np.loadtxt(transfer_matrices_filename)[ws_index]\n",
    "        transfer_mats[ws_id].append(matrix_elements.reshape((4, 4)))"
   ]
  },
  {
   "cell_type": "markdown",
   "metadata": {},
   "source": [
    "Reconstruct the covariance matrix at the RTBT entrance."
   ]
  },
  {
   "cell_type": "code",
   "execution_count": null,
   "metadata": {},
   "outputs": [],
   "source": [
    "moments_list, transfer_mats_list = [], []\n",
    "for ws_id in ws_ids:\n",
    "    moments_list.extend(moments[ws_id])\n",
    "    transfer_mats_list.extend(transfer_mats[ws_id])"
   ]
  },
  {
   "cell_type": "code",
   "execution_count": null,
   "metadata": {},
   "outputs": [],
   "source": [
    "Sigma = reconstruct(transfer_mats_list, moments_list)\n",
    "print('Sigma:')\n",
    "print(Sigma)\n",
    "alpha_x, alpha_y, beta_x, beta_y, eps_x, eps_y = ba.get_twiss2D(Sigma)\n",
    "twiss = (alpha_x, alpha_y, beta_x, beta_y)\n",
    "eps_1, eps_2 = ba.intrinsic_emittances(Sigma)\n",
    "print('eps_4D = {:.3f}'.format(np.sqrt(np.linalg.det(Sigma))))\n",
    "print('eps_1, eps_2 = {:.3f}, {:.3f}'.format(eps_1, eps_2))\n",
    "print('eps_x, eps_y = {:.3f}, {:.3f}'.format(eps_x, eps_y))\n",
    "print('alpha_x, alpha_y = {:.3f}, {:.3f}'.format(alpha_x, alpha_y))\n",
    "print('beta_x, beta_y = {:.3f}, {:.3f}'.format(beta_x, beta_y))"
   ]
  },
  {
   "cell_type": "markdown",
   "metadata": {},
   "source": [
    "## Discussion "
   ]
  },
  {
   "cell_type": "code",
   "execution_count": null,
   "metadata": {},
   "outputs": [],
   "source": [
    "correlation_matrix = utils.cov2corr(Sigma)\n",
    "print(correlation_matrix)"
   ]
  },
  {
   "cell_type": "code",
   "execution_count": null,
   "metadata": {},
   "outputs": [],
   "source": [
    "coupling_coeff = 1.0 - np.sqrt((eps_1 * eps_2) / (eps_x * eps_y))\n",
    "print('Coupling coefficient = {}'.format(coupling_coeff))"
   ]
  },
  {
   "cell_type": "markdown",
   "metadata": {},
   "source": [
    "Below are the rms ellipses defined by the covariance matrix. The cross-plane projections are squares in reality."
   ]
  },
  {
   "cell_type": "code",
   "execution_count": null,
   "metadata": {},
   "outputs": [],
   "source": [
    "myplt.rms_ellipses(Sigma, fill=True)\n",
    "plt.savefig('figures/rms_ellipses.png', dpi=300, facecolor='white');"
   ]
  },
  {
   "cell_type": "code",
   "execution_count": null,
   "metadata": {},
   "outputs": [],
   "source": [
    "# Expected covariance matrix at RTBT entrance (from default optics)\n",
    "twiss_exp = np.loadtxt(exp_twiss_filename)\n",
    "alpha_x_exp, alpha_y_exp, beta_x_exp, beta_y_exp = twiss_exp\n",
    "Sigma_exp = Sigma_from_twiss2D(alpha_x_exp, alpha_y_exp, beta_x_exp, beta_y_exp, eps_x, eps_y)"
   ]
  },
  {
   "cell_type": "code",
   "execution_count": null,
   "metadata": {},
   "outputs": [],
   "source": [
    "def plot_lines(ax, transfer_mats, moments, dim='x', twiss=None, **plt_kws):  \n",
    "    for transfer_mat, (sig_xx, sig_yy, sig_xy) in zip(transfer_mats, moments):\n",
    "        h_pts, v_pts = possible_points(transfer_mat, sig_xx, sig_yy, dim, twiss)\n",
    "        ax.plot(h_pts, v_pts, **plt_kws)"
   ]
  },
  {
   "cell_type": "code",
   "execution_count": null,
   "metadata": {},
   "outputs": [],
   "source": [
    "def plot_reconstructed_phasespace(Sigma, Sigma_exp=None, twiss=None, scale=2.0):\n",
    "    fig, axes = plot.subplots(ncols=2, sharex=False, sharey=False, figsize=(6, 2.5))\n",
    "\n",
    "    # Plot reconstructed ellipses\n",
    "    if twiss is not None:\n",
    "        Sigma = normalized_Sigma(Sigma, *twiss)\n",
    "    angle_xxp, cx, cxp = myplt.rms_ellipse_dims(Sigma, 'x', 'xp')\n",
    "    angle_yyp, cy, cyp = myplt.rms_ellipse_dims(Sigma, 'y', 'yp')\n",
    "    myplt.ellipse(axes[0], 2 * cx, 2 * cxp, angle_xxp, lw=2)\n",
    "    myplt.ellipse(axes[1], 2 * cy, 2 * cyp, angle_yyp, lw=2)\n",
    "\n",
    "    # Plot design ellipses\n",
    "    plot_exp = Sigma_exp is not None\n",
    "    if plot_exp:\n",
    "        if twiss is not None:\n",
    "            Sigma_exp = normalized_Sigma(Sigma_exp, *twiss)\n",
    "        angle_xxp_exp, cx_exp, cxp_exp = myplt.rms_ellipse_dims(Sigma_exp, 'x', 'xp')\n",
    "        angle_yyp_exp, cy_exp, cyp_exp = myplt.rms_ellipse_dims(Sigma_exp, 'y', 'yp')\n",
    "        myplt.ellipse(axes[0], 2 * cx_exp, 2 * cxp_exp, angle_xxp_exp, lw=1, alpha=0.25)\n",
    "        myplt.ellipse(axes[1], 2 * cy_exp, 2 * cyp_exp, angle_yyp_exp, lw=1, alpha=0.25)\n",
    "        \n",
    "    # Plot possible points at reconstruction location as lines. \n",
    "    colors = plt.rcParams['axes.prop_cycle'].by_key()['color']\n",
    "    kws = dict(lw=0.3)\n",
    "    for ws_id, color in zip(ws_ids, colors):\n",
    "        plot_lines(axes[0], transfer_mats[ws_id], moments[ws_id], 'x', twiss, color=color, **kws)\n",
    "        plot_lines(axes[1], transfer_mats[ws_id], moments[ws_id], 'y', twiss, color=color, **kws)\n",
    "\n",
    "    # Legends\n",
    "    custom_lines_1 = [Line2D([0], [0], color='black', lw=2)]\n",
    "    labels_1 = ['calc']\n",
    "    if plot_exp:\n",
    "        custom_lines_1.append(Line2D([0], [0], color='black', lw=1, alpha=0.25))\n",
    "        labels_1.append('exp')\n",
    "    custom_lines_2 = [Line2D([0], [0], color=color) for color in colors[:4]]\n",
    "    axes[1].legend(custom_lines_1, labels_1, ncols=1, loc=(1.02, 0.8), fontsize='small')\n",
    "    axes[1].legend(custom_lines_2, ws_ids, ncols=1, loc=(1.02, 0), fontsize='small')\n",
    "\n",
    "    # Formatting\n",
    "    axes.format(grid=False, xlabel_kw=dict(fontsize='large'), ylabel_kw=dict(fontsize='large'))\n",
    "    if twiss:\n",
    "        axes.format(aspect=1)\n",
    "        labels = [r\"$x_n$ [mm]\", r\"$x'_n$ [mrad]\", r\"$y_n$ [mm]\", r\"$y'_n$ [mrad]\"]\n",
    "    else:\n",
    "        labels = [\"x [mm]\", \"x' [mrad]\", \"y [mm]\", \"y' [mrad]\"]\n",
    "        \n",
    "    max_coords = 2.0 * np.sqrt(np.diag(Sigma))\n",
    "    xmax, xpmax, ymax, ypmax = scale * max_coords\n",
    "    axes[0].format(xlim=(-xmax, xmax), ylim=(-xpmax, xpmax), xlabel=labels[0], ylabel=labels[1])\n",
    "    axes[1].format(xlim=(-ymax, ymax), ylim=(-ypmax, ypmax), xlabel=labels[2], ylabel=labels[3])\n",
    "    return axes"
   ]
  },
  {
   "cell_type": "code",
   "execution_count": null,
   "metadata": {},
   "outputs": [],
   "source": [
    "axes = plot_reconstructed_phasespace(Sigma, Sigma_exp)\n",
    "axes.format(suptitle='Reconstructed phase space')\n",
    "plt.savefig('figures/lines.png', dpi=300, facecolor='white')"
   ]
  },
  {
   "cell_type": "code",
   "execution_count": null,
   "metadata": {},
   "outputs": [],
   "source": [
    "axes = plot_reconstructed_phasespace(Sigma, twiss=twiss)\n",
    "axes.format(suptitle='Reconstructed phase space (normalized by measured Twiss)')\n",
    "plt.savefig('figures/lines_norm.png', dpi=300, facecolor='white')"
   ]
  }
 ],
 "metadata": {
  "kernelspec": {
   "display_name": "Python 3",
   "language": "python",
   "name": "python3"
  },
  "language_info": {
   "codemirror_mode": {
    "name": "ipython",
    "version": 3
   },
   "file_extension": ".py",
   "mimetype": "text/x-python",
   "name": "python",
   "nbconvert_exporter": "python",
   "pygments_lexer": "ipython3",
   "version": "3.7.6"
  }
 },
 "nbformat": 4,
 "nbformat_minor": 4
}
