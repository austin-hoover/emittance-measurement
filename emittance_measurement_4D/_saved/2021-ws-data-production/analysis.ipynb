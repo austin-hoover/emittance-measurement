{
 "cells": [
  {
   "cell_type": "markdown",
   "metadata": {},
   "source": [
    "# Production wire-scan data analysis\n",
    "> 07.15.2021"
   ]
  },
  {
   "cell_type": "code",
   "execution_count": null,
   "metadata": {},
   "outputs": [],
   "source": [
    "import sys\n",
    "import importlib\n",
    "from pprint import pprint\n",
    "\n",
    "import numpy as np\n",
    "import pandas as pd\n",
    "from matplotlib import pyplot as plt\n",
    "import proplot as plot\n",
    "from matplotlib.lines import Line2D\n",
    "from matplotlib.patches import Patch\n",
    "\n",
    "sys.path.append('/Users/46h/Research/code/')\n",
    "from accphys.tools import utils\n",
    "from accphys.tools import beam_analysis as ba \n",
    "from accphys.tools import plotting as myplt\n",
    "from accphys.tools.accphys_utils import V_matrix_4x4_uncoupled\n",
    "from accphys.tools.accphys_utils import Sigma_from_twiss2D\n",
    "from accphys.tools import emittance_measurement as em"
   ]
  },
  {
   "cell_type": "code",
   "execution_count": null,
   "metadata": {},
   "outputs": [],
   "source": [
    "plot.rc['grid.alpha'] = 0.04\n",
    "plot.rc['figure.facecolor'] = 'white'"
   ]
  },
  {
   "cell_type": "markdown",
   "metadata": {},
   "source": [
    "## Load data "
   ]
  },
  {
   "cell_type": "markdown",
   "metadata": {},
   "source": [
    "### Settings "
   ]
  },
  {
   "cell_type": "code",
   "execution_count": null,
   "metadata": {},
   "outputs": [],
   "source": [
    "rec_node_id = 'Begin_Of_RTBT1'\n",
    "# rec_node_id = 'Begin_Of_RTBT2'\n",
    "# rec_node_id = 'RTBT_Diag:BPM19'\n",
    "# rec_node_id = 'RTBT_Diag:WS20'\n",
    "# rec_node_id = 'RTBT_Diag:BLM23'"
   ]
  },
  {
   "cell_type": "code",
   "execution_count": null,
   "metadata": {},
   "outputs": [],
   "source": [
    "ws_ids = ['WS20', 'WS21', 'WS23', 'WS24']"
   ]
  },
  {
   "cell_type": "code",
   "execution_count": null,
   "metadata": {},
   "outputs": [],
   "source": [
    "exp_twiss_filename = 'data/twiss/model_twiss_{}.dat'.format(rec_node_id)\n",
    "transfer_matrices_filename = 'data/transfer_matrix/old/model_transfer_mat_elems_default_{}.dat'.format(rec_node_id)"
   ]
  },
  {
   "cell_type": "markdown",
   "metadata": {},
   "source": [
    "Separate harp and wire-scanner files."
   ]
  },
  {
   "cell_type": "code",
   "execution_count": null,
   "metadata": {},
   "outputs": [],
   "source": [
    "def is_harp_file(filename):\n",
    "    file = open(filename, 'r')\n",
    "    for line in file:\n",
    "        if 'Harp' in line:\n",
    "            return True\n",
    "    return False\n",
    "\n",
    "filenames = utils.list_files('./data/ws/')\n",
    "filenames_ws = [filename for filename in filenames if not is_harp_file(filename)]\n",
    "filenames_harp = [filename for filename in filenames if is_harp_file(filename)]\n",
    "\n",
    "print('Wire-scanner files')\n",
    "pprint(filenames_ws)\n",
    "print('')\n",
    "print('Harp files')\n",
    "pprint(filenames_ws)"
   ]
  },
  {
   "cell_type": "markdown",
   "metadata": {},
   "source": [
    "### Harp "
   ]
  },
  {
   "cell_type": "markdown",
   "metadata": {},
   "source": [
    "These aren't used."
   ]
  },
  {
   "cell_type": "code",
   "execution_count": null,
   "metadata": {},
   "outputs": [],
   "source": [
    "harp_profiles = [em.read_pta_harp(filename) for filename in filenames_harp]"
   ]
  },
  {
   "cell_type": "code",
   "execution_count": null,
   "metadata": {},
   "outputs": [],
   "source": [
    "fig, axes = plot.subplots(ncols=3, figsize=(8, 2), spanx=False)\n",
    "axes[0].set_xlabel('x [mm]')\n",
    "axes[1].set_xlabel('y [mm]')\n",
    "axes[2].set_xlabel('u [mm]')\n",
    "axes[0].set_ylabel('Amplitude')\n",
    "for profile in harp_profiles:\n",
    "    signals = [profile.hor, profile.ver, profile.dia]\n",
    "    for ax, signal in zip(axes, signals):\n",
    "        ax.plot(signal.pos, signal.raw, marker=None, lw=1, color='k')\n",
    "axes.grid(axis='x')\n",
    "axes.format(suptitle='Harp profiles')"
   ]
  },
  {
   "cell_type": "markdown",
   "metadata": {},
   "source": [
    "### Wire-scanners "
   ]
  },
  {
   "cell_type": "code",
   "execution_count": null,
   "metadata": {},
   "outputs": [],
   "source": [
    "measurements = [em.read_pta_ws(filename) for filename in filenames_ws]"
   ]
  },
  {
   "cell_type": "code",
   "execution_count": null,
   "metadata": {},
   "outputs": [],
   "source": [
    "axes = em.plot_profiles(measurements, ws_ids, fit=False, kws_raw=dict(marker='.', ms=3, lw=0))\n",
    "plt.savefig('figures/profiles.png', dpi=300, facecolor='white')"
   ]
  },
  {
   "cell_type": "code",
   "execution_count": null,
   "metadata": {},
   "outputs": [],
   "source": [
    "# kws_fit = dict(legend=False, color='k', alpha=0.2, zorder=0)\n",
    "# axes = em.plot_profiles(measurements, ws_ids, fit=True, kws_raw=kws_raw, kws_fit=kws_fit)\n",
    "# plt.savefig('figures/profiles_fit.png', dpi=300, facecolor='white')"
   ]
  },
  {
   "cell_type": "markdown",
   "metadata": {},
   "source": [
    "## Reconstruct covariance matrix"
   ]
  },
  {
   "cell_type": "markdown",
   "metadata": {},
   "source": [
    "Collect the measured beam moments at each wire-scanner."
   ]
  },
  {
   "cell_type": "code",
   "execution_count": null,
   "metadata": {},
   "outputs": [],
   "source": [
    "diag_wire_angle = np.radians(-45.0)"
   ]
  },
  {
   "cell_type": "code",
   "execution_count": null,
   "metadata": {},
   "outputs": [],
   "source": [
    "moments = {ws_id: [] for ws_id in ws_ids}\n",
    "for ws_id in ws_ids:\n",
    "    for measurement in measurements:\n",
    "        profile = measurement[ws_id]\n",
    "        sig_xx = profile.hor.stats['Sigma'].rms**2\n",
    "        sig_yy = profile.ver.stats['Sigma'].rms**2\n",
    "        sig_uu = profile.dia.stats['Sigma'].rms**2\n",
    "        sig_xy = em.get_sig_xy(sig_xx, sig_yy, sig_uu, diag_wire_angle)\n",
    "        moments[ws_id].append([sig_xx, sig_yy, sig_xy])\n",
    "    moments[ws_id] = np.array(moments[ws_id])"
   ]
  },
  {
   "cell_type": "code",
   "execution_count": null,
   "metadata": {},
   "outputs": [],
   "source": [
    "fig, axes = plot.subplots(ncols=4, figsize=(9, 2))\n",
    "plt_kws = dict(marker='.')\n",
    "for ws_id, ax in zip(ws_ids, axes):\n",
    "    ax.plot(moments[ws_id][:, 0], **plt_kws)\n",
    "    ax.plot(moments[ws_id][:, 1], **plt_kws)\n",
    "    ax.plot(moments[ws_id][:, 2], **plt_kws)\n",
    "axes.format(ylabel=r'[mm$^2$]', xlabel='Measurement index', toplabels=ws_ids)\n",
    "ax.legend(labels=[r'$\\langle{x^2}\\rangle$', r'$\\langle{y^2}\\rangle$', r'$\\langle{xy}\\rangle$'],\n",
    "          ncols=1, loc=(1.02, 0), fontsize='small')\n",
    "plt.savefig('figures/moments.png', dpi=300, facecolor='white')"
   ]
  },
  {
   "cell_type": "markdown",
   "metadata": {},
   "source": [
    "Collect the linear transfer matrices at each wire-scanner."
   ]
  },
  {
   "cell_type": "code",
   "execution_count": null,
   "metadata": {},
   "outputs": [],
   "source": [
    "transfer_mats = {ws_id: [] for ws_id in ws_ids}\n",
    "for ws_index, ws_id in enumerate(['WS02', 'WS20', 'WS21', 'WS23', 'WS24']):\n",
    "    if ws_id == 'WS02': # don't have data from this wire-scanner\n",
    "        continue\n",
    "    for filename in filenames_ws:\n",
    "        filename = 'data/transfer_matrix/model_transfer_mat_elems_default_Begin_Of_RTBT1_{}.dat'.format(filename.split('/')[-1]) \n",
    "        matrix_elements = np.loadtxt(filename)[ws_index]\n",
    "        transfer_mats[ws_id].append(matrix_elements.reshape((4, 4)))"
   ]
  },
  {
   "cell_type": "markdown",
   "metadata": {},
   "source": [
    "Form list from dictionaries."
   ]
  },
  {
   "cell_type": "code",
   "execution_count": null,
   "metadata": {},
   "outputs": [],
   "source": [
    "moments_list, transfer_mats_list = [], []\n",
    "for ws_id in ws_ids:\n",
    "    moments_list.extend(moments[ws_id])\n",
    "    transfer_mats_list.extend(transfer_mats[ws_id])"
   ]
  },
  {
   "cell_type": "markdown",
   "metadata": {},
   "source": [
    "Reconstruct the covariance matrix at the RTBT entrance."
   ]
  },
  {
   "cell_type": "code",
   "execution_count": null,
   "metadata": {
    "scrolled": true,
    "tags": []
   },
   "outputs": [],
   "source": [
    "Sigma = em.reconstruct(transfer_mats_list, moments_list, lsq_solver='exact',\n",
    "                       verbose=2, lsmr_tol=1e-5)"
   ]
  },
  {
   "cell_type": "markdown",
   "metadata": {},
   "source": [
    "## Analysis "
   ]
  },
  {
   "cell_type": "code",
   "execution_count": null,
   "metadata": {},
   "outputs": [],
   "source": [
    "alpha_x, alpha_y, beta_x, beta_y, eps_x, eps_y = ba.get_twiss2D(Sigma)\n",
    "eps_1, eps_2 = ba.intrinsic_emittances(Sigma)\n",
    "\n",
    "print('Sigma:')\n",
    "print(Sigma)\n",
    "print('eps_4D = {:.3f}'.format(np.sqrt(np.linalg.det(Sigma))))\n",
    "print('eps_1, eps_2 = {:.3f}, {:.3f}'.format(eps_1, eps_2))\n",
    "print('eps_x, eps_y = {:.3f}, {:.3f}'.format(eps_x, eps_y))\n",
    "print('alpha_x, alpha_y = {:.3f}, {:.3f}'.format(alpha_x, alpha_y))\n",
    "print('beta_x, beta_y = {:.3f}, {:.3f}'.format(beta_x, beta_y))"
   ]
  },
  {
   "cell_type": "code",
   "execution_count": null,
   "metadata": {},
   "outputs": [],
   "source": [
    "correlation_matrix = utils.cov2corr(Sigma)\n",
    "print(correlation_matrix)"
   ]
  },
  {
   "cell_type": "code",
   "execution_count": null,
   "metadata": {},
   "outputs": [],
   "source": [
    "coupling_coeff = 1.0 - np.sqrt((eps_1 * eps_2) / (eps_x * eps_y))\n",
    "print('Coupling coefficient = {}'.format(coupling_coeff))"
   ]
  },
  {
   "cell_type": "markdown",
   "metadata": {},
   "source": [
    "Below are the rms ellipses defined by the covariance matrix. The cross-plane projections are squares in reality."
   ]
  },
  {
   "cell_type": "code",
   "execution_count": null,
   "metadata": {},
   "outputs": [],
   "source": [
    "axes = myplt.rms_ellipses(Sigma, fill=True)\n",
    "for i in range(3):\n",
    "    for j in range(i + 1):\n",
    "        kws = dict(lw=1, alpha=0.05, color='k', zorder=0)\n",
    "        ax = axes[i, j]\n",
    "        ax.axvline(0, **kws)\n",
    "        ax.axhline(0, **kws)\n",
    "        ax.grid(False)\n",
    "plt.savefig('figures/rms_ellipses.png', dpi=300, facecolor='white');"
   ]
  },
  {
   "cell_type": "markdown",
   "metadata": {},
   "source": [
    "Expected covariance matrix at RTBT entrance (from default optics)."
   ]
  },
  {
   "cell_type": "code",
   "execution_count": null,
   "metadata": {},
   "outputs": [],
   "source": [
    "twiss_exp = np.loadtxt(exp_twiss_filename)\n",
    "alpha_x_exp, alpha_y_exp, beta_x_exp, beta_y_exp = twiss_exp\n",
    "print('alpha_x_exp, alpha_y_exp = {:.3f}, {:.3f}'.format(alpha_x_exp, alpha_y_exp))\n",
    "print('beta_x_exp, beta_y_exp = {:.3f}, {:.3f}'.format(beta_x_exp, beta_y_exp))\n",
    "Sigma_exp = Sigma_from_twiss2D(alpha_x_exp, alpha_y_exp, beta_x_exp, beta_y_exp, eps_x, eps_y)"
   ]
  },
  {
   "cell_type": "code",
   "execution_count": null,
   "metadata": {},
   "outputs": [],
   "source": [
    "axes = em.plot_reconstructed_phasespace(transfer_mats, moments, Sigma, Sigma_exp)\n",
    "axes.format(suptitle='Reconstructed phase space')\n",
    "plt.savefig('figures/lines.png', dpi=300, facecolor='white')"
   ]
  },
  {
   "cell_type": "code",
   "execution_count": null,
   "metadata": {},
   "outputs": [],
   "source": [
    "axes = em.plot_reconstructed_phasespace(transfer_mats, moments, \n",
    "                                        Sigma, Sigma_exp=None, \n",
    "                                        twiss=(alpha_x, alpha_y, beta_x, beta_y))\n",
    "axes.format(suptitle='Reconstructed phase space (normalized by measured Twiss)')\n",
    "plt.savefig('figures/lines_norm.png', dpi=300, facecolor='white')"
   ]
  },
  {
   "cell_type": "markdown",
   "metadata": {},
   "source": [
    "### Comparison "
   ]
  },
  {
   "cell_type": "code",
   "execution_count": null,
   "metadata": {},
   "outputs": [],
   "source": [
    "def solve(lsq_solver):\n",
    "    Sigma = em.reconstruct(transfer_mats_list, moments_list, verbose=0, lsq_solver=lsq_solver)\n",
    "    eps_x, eps_y = ba.apparent_emittances(Sigma)\n",
    "    eps_1, eps_2 = ba.intrinsic_emittances(Sigma)\n",
    "    return eps_x, eps_y, eps_1, eps_2\n",
    "\n",
    "def get_moments(n_meas):\n",
    "    \"\"\"Use `n_meas` measurements from each wire-scanner.\"\"\"\n",
    "    moments_list = []\n",
    "    for measurement in measurements[:n_meas]:\n",
    "        for ws_id in ws_ids:\n",
    "            profile = measurement[ws_id]\n",
    "            sig_xx = profile.hor.stats['Sigma'].rms**2\n",
    "            sig_yy = profile.ver.stats['Sigma'].rms**2\n",
    "            sig_uu = profile.dia.stats['Sigma'].rms**2\n",
    "            sig_xy = em.get_sig_xy(sig_xx, sig_yy, sig_uu, diag_wire_angle)\n",
    "            moments_list.append([sig_xx, sig_yy, sig_xy])\n",
    "    return moments_list\n",
    "\n",
    "def get_transfer_mats(n_meas):\n",
    "    \"\"\"Get transfer matrix for each measurement.\"\"\"\n",
    "    transfer_mats_list = []\n",
    "    for filename in filenames_ws[:n_meas]:\n",
    "        filename = 'data/transfer_matrix/model_transfer_mat_elems_default_Begin_Of_RTBT1_{}.dat'.format(filename.split('/')[-1]) \n",
    "        for elements, ws_id in zip(np.loadtxt(filename), ['WS02', 'WS20', 'WS21', 'WS23', 'WS24']):\n",
    "            if ws_id != 'WS02': # don't have data from this wire-scanner\n",
    "                transfer_mats_list.append(elements.reshape(4, 4))\n",
    "    return transfer_mats_list"
   ]
  },
  {
   "cell_type": "code",
   "execution_count": null,
   "metadata": {},
   "outputs": [],
   "source": [
    "results = dict()\n",
    "for lsq_solver in ['exact', 'lsmr']:\n",
    "    data = []\n",
    "    for n_meas in range(1, len(filenames_ws)):\n",
    "        moments_list = get_moments(n_meas)\n",
    "        transfer_mats_list = get_transfer_mats(n_meas)\n",
    "        data.append(solve(lsq_solver))\n",
    "    results[lsq_solver] = np.array(data)"
   ]
  },
  {
   "cell_type": "code",
   "execution_count": null,
   "metadata": {},
   "outputs": [],
   "source": [
    "fig, axes = plot.subplots(ncols=2, figsize=(6, 2))\n",
    "for ax, key in zip(axes, ['exact', 'lsmr']):\n",
    "    ax.plot(results[key], marker='.')\n",
    "    ax.set_title('lsq_solver = ' + key)\n",
    "axes.format(xlabel='Measurements used', ylabel='[mm mrad]', grid=False, \n",
    "            xticks=range(0, len(filenames_ws)), xtickminor=False)\n",
    "axes[1].legend(labels=[r\"$\\varepsilon_{}$\".format(s) for s in ['x', 'y', '1', '2']], \n",
    "               ncols=1, loc=(1.02, 0))\n",
    "plt.savefig('figures/comparison.png', dpi=300, facecolor='white')"
   ]
  }
 ],
 "metadata": {
  "kernelspec": {
   "display_name": "Python 3",
   "language": "python",
   "name": "python3"
  },
  "language_info": {
   "codemirror_mode": {
    "name": "ipython",
    "version": 3
   },
   "file_extension": ".py",
   "mimetype": "text/x-python",
   "name": "python",
   "nbconvert_exporter": "python",
   "pygments_lexer": "ipython3",
   "version": "3.7.6"
  }
 },
 "nbformat": 4,
 "nbformat_minor": 4
}
