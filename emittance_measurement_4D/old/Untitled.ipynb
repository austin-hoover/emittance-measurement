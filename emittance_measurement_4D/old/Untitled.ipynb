{
 "cells": [
  {
   "cell_type": "markdown",
   "metadata": {},
   "source": [
    "# Scratch"
   ]
  },
  {
   "cell_type": "markdown",
   "metadata": {},
   "source": [
    "This was originally included in the main analysis notebook. I took it out because the notebook was getting too large."
   ]
  },
  {
   "cell_type": "markdown",
   "metadata": {},
   "source": [
    "### Simple simulation"
   ]
  },
  {
   "cell_type": "markdown",
   "metadata": {},
   "source": [
    "Let's simulate the measurement very simply. We can start with the \"correct\" $\\Sigma$ at the reconstruction point (the one we reconstructed using all the measurements). We'll transport this to each wire-scanner using the transfer matrices. We can add some error to the measured moments and try the reconstruction method. "
   ]
  },
  {
   "cell_type": "code",
   "execution_count": null,
   "metadata": {},
   "outputs": [],
   "source": [
    "def scatter_hist(x, y, ax, ax_marg_x, ax_marg_y, joint_kws=None, marginal_kws=None):\n",
    "    if joint_kws is None:\n",
    "        joint_kws = dict()\n",
    "    if marginal_kws is None:\n",
    "        marginal_kws = dict()        \n",
    "    if 'range' in joint_kws:\n",
    "        xrange, yrange = joint_kws['range']\n",
    "    else:\n",
    "        xrange = yrange = None\n",
    "    if 'bins' in joint_kws:\n",
    "        bins = joint_kws['bins']\n",
    "    else:\n",
    "        heights, edges, patches = ax_marg_x.hist(x, bins='auto', range=xrange, **marginal_kws)\n",
    "        for patch in patches:\n",
    "            patch.set_visible(False)\n",
    "        bins = len(heights)\n",
    "        joint_kws['bins'] = bins\n",
    "    ax_marg_x.hist(x, range=xrange, bins=bins, **marginal_kws)\n",
    "    ax_marg_y.hist(y, range=yrange, bins=bins, orientation='horizontal', **marginal_kws)\n",
    "    ax.hist2d(x, y, **joint_kws)\n",
    "    return ax\n",
    "\n",
    "def create_grid(fig, gridspec, row, col):\n",
    "    ax_joint = fig.add_subplot(gridspec[row, col])\n",
    "    ax_marg_x = fig.add_subplot(gridspec[row - 1, col])\n",
    "    ax_marg_y = fig.add_subplot(gridspec[row, col + 1])\n",
    "    for ax in [ax_marg_x, ax_marg_y]:\n",
    "        ax.set_xticks([])\n",
    "        ax.set_yticks([])\n",
    "        for side in ['top', 'bottom', 'left', 'right']:\n",
    "            ax.spines[side].set_visible(False)\n",
    "    return ax_joint, ax_marg_x, ax_marg_y\n",
    "\n",
    "def emittances_joint_hist(emittances, lims=((10, 40), (0, 20))):\n",
    "    fig = plt.figure(figsize=(10, 4))\n",
    "    h = 1.5\n",
    "    gridspec = fig.add_gridspec(2, 5, width_ratios=(7, h, 2.5, 7, h), height_ratios=(h, 7),\n",
    "                                left=0.1, right=0.9, bottom=0.1, top=0.9,\n",
    "                                wspace=0, hspace=0)\n",
    "    ax1, ax1_marg_x, ax1_marg_y = create_grid(fig, gridspec, 1, 0)\n",
    "    ax2, ax2_marg_x, ax2_marg_y = create_grid(fig, gridspec, 1, 3)\n",
    "\n",
    "    joint_kws = dict(cmap='fire_r', range=lims, bins=75)\n",
    "    marginal_kws = dict(histtype='step', color='black')\n",
    "\n",
    "    scatter_hist(emittances[:, 0], emittances[:, 1], ax1, ax1_marg_x, ax1_marg_y, joint_kws, marginal_kws)\n",
    "    scatter_hist(emittances[:, 2], emittances[:, 3], ax2, ax2_marg_x, ax2_marg_y, joint_kws, marginal_kws)\n",
    "    ax1_marg_x.set_xlim(lims[0])\n",
    "    ax1_marg_y.set_ylim(lims[1])\n",
    "    ax2_marg_x.set_xlim(lims[0])\n",
    "    ax2_marg_y.set_ylim(lims[1])\n",
    "    ax1.set_xlabel(r'$\\varepsilon_x$ [mm mrad]')\n",
    "    ax1.set_ylabel(r'$\\varepsilon_y$ [mm mrad]')\n",
    "    ax2.set_xlabel(r'$\\varepsilon_1$ [mm mrad]')\n",
    "    ax2.set_ylabel(r'$\\varepsilon_2$ [mm mrad]')\n",
    "    ax1_marg_x.set_title(r'Apparent emittances ($\\varepsilon_x$, $\\varepsilon_y$)')\n",
    "    ax2_marg_x.set_title(r'Intrinsic emittances ($\\varepsilon_1$, $\\varepsilon_2$)')      \n",
    "    return ax1, ax1_marg_x, ax1_marg_y, ax2, ax1_marg_y, ax1_marg_y"
   ]
  },
  {
   "cell_type": "code",
   "execution_count": null,
   "metadata": {},
   "outputs": [],
   "source": [
    "def get_moments(Sigma0, tmats, f=None):\n",
    "    \"\"\"Return [<xx>, <yy>, <xy>] at each wire-scanner.\n",
    "    \n",
    "    `f` is the rms fractional error added to the virtually measured moments. \n",
    "    \"\"\"\n",
    "    moments = []\n",
    "    for M in tmats:            \n",
    "        Sigma = np.linalg.multi_dot([M, Sigma0, M.T])\n",
    "        sig_xx = Sigma[0, 0]\n",
    "        sig_yy = Sigma[2, 2]\n",
    "        sig_xy = Sigma[0, 2]\n",
    "        sig_uu = 0.5 * (2 * sig_xy + sig_xx + sig_yy)\n",
    "        if f:\n",
    "            sig_xx *= (1.0 + np.random.normal(scale=f))**2\n",
    "            sig_yy *= (1.0 + np.random.normal(scale=f))**2\n",
    "            sig_uu *= (1.0 + np.random.normal(scale=f))**2\n",
    "        sig_xy = 0.5 * (2 * sig_uu - sig_xx - sig_yy)\n",
    "        moments.append([sig_xx, sig_yy, sig_xy])\n",
    "    return moments"
   ]
  },
  {
   "cell_type": "code",
   "execution_count": null,
   "metadata": {},
   "outputs": [],
   "source": [
    "def solve(tmats, moments, method='llsq'):\n",
    "    Axx, Ayy, Axy = [], [], []\n",
    "    bxx, byy, bxy = [], [], []\n",
    "    for M, (sig_xx, sig_yy, sig_xy) in zip(tmats, moments):            \n",
    "        Axx.append([M[0, 0]**2, M[0, 1]**2, 2*M[0, 0]*M[0, 1]])\n",
    "        Ayy.append([M[2, 2]**2, M[2, 3]**2, 2*M[2, 2]*M[2, 3]])\n",
    "        Axy.append([M[0, 0]*M[2, 2],  M[0, 1]*M[2, 2],  M[0, 0]*M[2, 3],  M[0, 1]*M[2, 3]])\n",
    "        bxx.append(sig_xx)\n",
    "        byy.append(sig_yy)\n",
    "        bxy.append(sig_xy)\n",
    "        \n",
    "    sig_11, sig_22, sig_12 = opt.lsq_linear(Axx, bxx).x\n",
    "    sig_33, sig_44, sig_34 = opt.lsq_linear(Ayy, byy).x        \n",
    "    \n",
    "    if method == 'llsq':\n",
    "        sig_13, sig_23, sig_14, sig_24 = opt.lsq_linear(Axy, bxy).x\n",
    "        Sigma = to_mat([sig_11, sig_22, sig_12, sig_33, sig_44, sig_34, sig_13, sig_23, sig_14, sig_24])\n",
    "        return Sigma\n",
    "    else:\n",
    "        raise ValueError(\"`method` must be in {'llsq'}\")"
   ]
  },
  {
   "cell_type": "code",
   "execution_count": null,
   "metadata": {},
   "outputs": [],
   "source": [
    "def run_trials(Sigma0, tmats, n_trials, method='llsq', f=None, pbar=False):\n",
    "    emittances, n_fail = [], 0\n",
    "    for _ in (trange(n_trials) if pbar else range(n_trials)):\n",
    "        moments = get_moments(Sigma0, tmats, f)\n",
    "        Sigma = solve(tmats, moments, method)\n",
    "        if not utils.is_positive_definite(Sigma):\n",
    "            n_fail += 1\n",
    "            continue\n",
    "        if np.linalg.det(Sigma) < 0:\n",
    "            n_fail += 1\n",
    "            continue\n",
    "        eps_x, eps_y, eps_1, eps_2 = ba.emittances(Sigma)\n",
    "        if (eps_1 * eps_2 > eps_x * eps_y):\n",
    "            n_fail += 1\n",
    "            continue\n",
    "        emittances.append(ba.emittances(Sigma))\n",
    "    fail_rate = n_fail / n_trials\n",
    "    return fail_rate, np.array(emittances)"
   ]
  },
  {
   "cell_type": "code",
   "execution_count": null,
   "metadata": {},
   "outputs": [],
   "source": [
    "f = 0.02\n",
    "n_trials = 1000\n",
    "method = 'llsq'\n",
    "\n",
    "fail_rates, emittances_list = [], []\n",
    "for meas_index in range(n_meas):\n",
    "    tmats = [tmats_dict[ws_id][meas_index] for ws_id in ws_ids]\n",
    "    fail_rate, emittances = run_trials(Sigma_all_meas, tmats, n_trials, method, f, pbar=True)\n",
    "    fail_rates.append(fail_rate)\n",
    "    emittances_list.append(emittances)"
   ]
  },
  {
   "cell_type": "code",
   "execution_count": null,
   "metadata": {},
   "outputs": [],
   "source": [
    "fig, ax = pplt.subplots(figsize=(3, 2))\n",
    "ax.plot(fail_rates, color='black', marker='.')\n",
    "ax.format(xlabel='Measurement index', ylabel='Fail rate', \n",
    "          ylim=(0, 1), xtickminor=False, xticks=range(len(fail_rates)))"
   ]
  },
  {
   "cell_type": "code",
   "execution_count": null,
   "metadata": {},
   "outputs": [],
   "source": [
    "# line_kws = dict(color='white', lw=0.1)\n",
    "# hist_kws = dict(cmap='viridis', range=((0, 60), (0, 60)), bins=50)\n",
    "# fig, axes = plt.subplots(ncols=2, figsize=(6, 3), sharex=True, sharey=True, constrained_layout=True)\n",
    "# plt.close()\n",
    "\n",
    "# def update(meas_index):\n",
    "#     fail_rate = fail_rates[meas_index]\n",
    "#     emittances = emittances_list[meas_index]\n",
    "#     for j, ax in zip([0, 2], axes):\n",
    "#         ax.clear()\n",
    "#         ax.hist2d(emittances[:, j], emittances[:, j + 1], **hist_kws)\n",
    "#     axes[0].axvline(eps_x_all_meas, **line_kws)\n",
    "#     axes[0].axhline(eps_y_all_meas, **line_kws)\n",
    "#     axes[1].axvline(eps_1_all_meas, **line_kws)\n",
    "#     axes[1].axhline(eps_2_all_meas, **line_kws)\n",
    "#     axes[0].set_xlabel(r'$\\varepsilon_x$ [mm mrad]')\n",
    "#     axes[0].set_ylabel(r'$\\varepsilon_y$ [mm mrad]')\n",
    "#     axes[1].set_xlabel(r'$\\varepsilon_1$ [mm mrad]')\n",
    "#     axes[1].set_ylabel(r'$\\varepsilon_2$ [mm mrad]')\n",
    "#     axes[0].set_title('Apparent emittances')\n",
    "#     axes[1].set_title('Intrinsic emittances');\n",
    "#     axes[1].annotate('f = {}'.format(f), xy=(0.05, 0.92), xycoords='axes fraction', \n",
    "#                      color='white', fontsize='small')\n",
    "#     axes[1].annotate('fail rate = {:.3f}'.format(fail_rate), xy=(0.05, 0.87), xycoords='axes fraction', \n",
    "#                      color='white', fontsize='small')\n",
    "#     axes[1].annotate('meas index = {}'.format(meas_index), xy=(0.05, 0.82), xycoords='axes fraction', \n",
    "#                      color='white', fontsize='small')\n",
    "    \n",
    "# animation.FuncAnimation(fig, update, frames=n_meas)"
   ]
  },
  {
   "cell_type": "markdown",
   "metadata": {},
   "source": [
    "Look at one measurement index as the measurement error is scaled."
   ]
  },
  {
   "cell_type": "code",
   "execution_count": null,
   "metadata": {
    "tags": []
   },
   "outputs": [],
   "source": [
    "meas_index = 2\n",
    "n_trials = 1000\n",
    "rms_frac_errs = np.linspace(0.0, 0.05, 6)\n",
    "\n",
    "tmats = [tmats_dict[ws_id][meas_index] for ws_id in ws_ids]\n",
    "emittances_list, fail_rates = [], []\n",
    "for f in rms_frac_errs:\n",
    "    fail_rate, emittances = run_trials(Sigma_all_meas, tmats, n_trials, method, f, pbar=True)\n",
    "    fail_rates.append(fail_rate)\n",
    "    emittances_list.append(emittances)"
   ]
  },
  {
   "cell_type": "code",
   "execution_count": null,
   "metadata": {
    "tags": []
   },
   "outputs": [],
   "source": [
    "fig, ax = pplt.subplots(figsize=(3, 2))\n",
    "ax.plot(rms_frac_errs, fail_rates, marker='.', color='k')\n",
    "ax.format(xlabel='RMS fractional error in measured moments',\n",
    "          ylabel='Fail rate', grid=True,\n",
    "          title='meas_index = {}'.format(meas_index),\n",
    "          ylim=(0, 1))\n",
    "plt.savefig('_output/failrate_vs_meas_error_{}'.format(meas_index), facecolor='white')"
   ]
  },
  {
   "cell_type": "code",
   "execution_count": null,
   "metadata": {
    "tags": []
   },
   "outputs": [],
   "source": [
    "@gif.frame\n",
    "def plot_errors(f, fail_rate, emittances):\n",
    "    lims = ((15, 60), (0, 40))\n",
    "    ax1, ax1_marg_x, ax1_marg_y, ax2, ax1_marg_y, ax1_marg_y = emittances_joint_hist(emittances, lims=lims)\n",
    "    ax2.annotate('fail rate = {:.2f}'.format(fail_rate), \n",
    "             xy=(0.03, 0.93), xycoords='axes fraction', color='white')  \n",
    "    ax2.annotate(r'rms frac err = {:.0f}%'.format(100 * dsig), \n",
    "             xy=(0.03, 0.87), xycoords='axes fraction', color='white') \n",
    "    line_kws = dict(color='white', lw=0.25, alpha=0.5)\n",
    "    ax1.axvline(eps_x, **line_kws)\n",
    "    ax1.axhline(eps_y, **line_kws)\n",
    "    ax2.axvline(eps_1, **line_kws)\n",
    "    ax2.axhline(eps_2, **line_kws)\n",
    "    figname = '_output/results_f{:.0f}%.png'.format(100*f)\n",
    "    plt.savefig(figname, facecolor='white', dpi=250)\n",
    "    plt.show()\n",
    "    \n",
    "frames = []\n",
    "for dsig, fail_rate, emittances in zip(rms_frac_errs, fail_rates, emittances_list):\n",
    "    frame = plot_errors(dsig, fail_rate, emittances)\n",
    "    frames.append(frame)"
   ]
  },
  {
   "cell_type": "markdown",
   "metadata": {},
   "source": [
    "## Stability conditions"
   ]
  },
  {
   "cell_type": "markdown",
   "metadata": {},
   "source": [
    "Let \"individual reconstruction\" refer to the reconstruction with only four wire-scanners at fixed optics. The \"badness\" of an individual reconstruction seems to depend on the optics. In fact, in some cases it seems to vary smoothly with the measurement index. \n",
    "\n",
    "This has apparently been studied before. Below, we investigate the stability conditions derived in this previous work."
   ]
  },
  {
   "cell_type": "code",
   "execution_count": null,
   "metadata": {},
   "outputs": [],
   "source": [
    "def cond(A):\n",
    "    m, n = A.shape\n",
    "    if m != n:\n",
    "        Ainv = np.matmul(np.linalg.inv(np.matmul(A.T, A)), A.T)\n",
    "    else:\n",
    "        Ainv = np.linalg.inv(A)\n",
    "    return np.linalg.norm(A) * np.linalg.norm(Ainv)"
   ]
  },
  {
   "cell_type": "code",
   "execution_count": null,
   "metadata": {},
   "outputs": [],
   "source": [
    "f = 0.02\n",
    "n_trials = 1000\n",
    "method = 'llsq'\n",
    "\n",
    "fail_rates, condition_numbers, emittances_list = [], [], []\n",
    "for meas_index in range(n_meas):\n",
    "    tmats = [tmats_dict[ws_id][meas_index] for ws_id in ws_ids]\n",
    "    fail_rate, emittances = run_trials(Sigma_all_meas, tmats, n_trials, method, f, pbar=True)\n",
    "    Axx, Ayy, Axy, bxx, byy, bxy = form_coeff_target_arrays(meas_index)\n",
    "    fail_rates.append(fail_rate)\n",
    "    condition_numbers.append(cond(Axy))\n",
    "    emittances_list.append(emittances)"
   ]
  },
  {
   "cell_type": "code",
   "execution_count": null,
   "metadata": {},
   "outputs": [],
   "source": [
    "fig, ax1 = pplt.subplots(figsize=(3, 2))\n",
    "colors = ['black', 'red8']\n",
    "ax1.plot(fail_rates, color=colors[0], marker='.')\n",
    "ax1.set_ylabel('Fail rate', color=colors[0])\n",
    "ax1.tick_params(axis='y', labelcolor=colors[0])\n",
    "ax2 = ax1.twinx()\n",
    "ax2.plot(np.log10(condition_numbers), color=colors[1], marker='.')\n",
    "ax2.set_ylabel(r'log$_{10}$ Condition number', color=colors[1])\n",
    "ax2.tick_params(axis='y', labelcolor=colors[1])\n",
    "ax1.format(xlabel='Measurement index', xtickminor=False, xticks=range(len(fail_rates)), ylim=(0, 1))\n",
    "plt.savefig('_output/fail_rate_and_cond_number.png', facecolor='white', dpi=200)"
   ]
  },
  {
   "cell_type": "markdown",
   "metadata": {},
   "source": [
    "### Regions of stability "
   ]
  },
  {
   "cell_type": "code",
   "execution_count": null,
   "metadata": {},
   "outputs": [],
   "source": [
    "def coeff_arrays(tmats):\n",
    "    Axx, Ayy, Axy = [], [], []\n",
    "    for M in tmats:    \n",
    "        Axx.append([M[0, 0]**2, M[0, 1]**2, 2*M[0, 0]*M[0, 1]])\n",
    "        Ayy.append([M[2, 2]**2, M[2, 3]**2, 2*M[2, 2]*M[2, 3]])\n",
    "        Axy.append([M[0, 0]*M[2, 2],  M[0, 1]*M[2, 2],  M[0, 0]*M[2, 3],  M[0, 1]*M[2, 3]])\n",
    "    return np.array(Axx), np.array(Ayy), np.array(Axy)"
   ]
  },
  {
   "cell_type": "code",
   "execution_count": null,
   "metadata": {},
   "outputs": [],
   "source": [
    "N = 4 # four wire-scanners\n",
    "n_steps = 300\n",
    "dmuxx = np.radians(np.linspace(0.01, 181, n_steps))\n",
    "dmuyy = np.radians(np.linspace(0.01, 181, n_steps))\n",
    "\n",
    "condition_numbers = np.zeros((n_steps, n_steps))\n",
    "fail_rates = np.zeros((n_steps, n_steps))\n",
    "for i, dmux in enumerate(tqdm(dmuxx)):\n",
    "    for j, dmuy in enumerate(dmuyy):\n",
    "        muxx = np.cumsum(np.full(N, dmux)) - dmux\n",
    "        muyy = np.cumsum(np.full(N, dmuy)) - dmuy\n",
    "        tmats = [phase_adv_matrix(mux, muy) for mux, muy in zip(muxx, muyy)]\n",
    "        Axx, Ayy, Axy = coeff_arrays(tmats)\n",
    "        condition_numbers[i, j] = cond(Axy) + cond(Axx) + cond(Ayy)"
   ]
  },
  {
   "cell_type": "code",
   "execution_count": null,
   "metadata": {},
   "outputs": [],
   "source": [
    "fig, ax = plt.subplots()\n",
    "X, Y = np.meshgrid(np.degrees(dmuxx), np.degrees(dmuyy))\n",
    "Z = 2 / (1 + condition_numbers)\n",
    "mesh = ax.pcolormesh(X, Y, Z, snap=True, cmap='binary_r', shading='auto')\n",
    "cbar = fig.colorbar(mesh, ax=ax)\n",
    "cbar.set_label(r'2 / (1 + C)')\n",
    "ax.set_xlabel('Horizontal phase spacing [deg]')\n",
    "ax.set_ylabel('Vertical phase spacing [deg]')\n",
    "ax.set_title(r' Stability regions (evenly spaced WS; $\\beta = 1$; $\\alpha = 0$)');\n",
    "plt.savefig('_output/stability_fodo.png', facecolor='white', dpi=300)"
   ]
  },
  {
   "cell_type": "markdown",
   "metadata": {},
   "source": [
    "We want to create a picture like this for the RTBT wire-scanners. The three phase advances between the wire-scanners in the RTBT are not equal. They are also no located at points where the design $\\beta$ function is maximum/minimum."
   ]
  },
  {
   "cell_type": "code",
   "execution_count": null,
   "metadata": {},
   "outputs": [],
   "source": [
    "def augmented_matrix(A, b):\n",
    "    return np.hstack([A, b[:, np.newaxis]])"
   ]
  },
  {
   "cell_type": "markdown",
   "metadata": {},
   "source": [
    "## Errors "
   ]
  },
  {
   "cell_type": "markdown",
   "metadata": {},
   "source": [
    "### Bounds on cross-plane moments"
   ]
  },
  {
   "cell_type": "code",
   "execution_count": null,
   "metadata": {},
   "outputs": [],
   "source": [
    "def solve_corr_coeff_bounds(meas_index, **solver_kws):\n",
    "    Axx, Ayy, Axy, bxx, byy, bxy = form_coeff_target_arrays(meas_index)\n",
    "    sig_11, sig_22, sig_12 = opt.lsq_linear(Axx, bxx).x\n",
    "    sig_33, sig_44, sig_34 = opt.lsq_linear(Ayy, byy).x  \n",
    "\n",
    "    def cost_func(vec):\n",
    "        return np.sum((np.matmul(Axy, vec) - bxy)**2)\n",
    "\n",
    "    r_13_denom = np.sqrt(sig_11 * sig_33)\n",
    "    r_23_denom = np.sqrt(sig_22 * sig_33)\n",
    "    r_14_denom = np.sqrt(sig_11 * sig_44)\n",
    "    r_24_denom = np.sqrt(sig_22 * sig_44)\n",
    "    lb = [-r_13_denom, -r_23_denom, -r_14_denom, -r_24_denom]\n",
    "    ub = [+r_13_denom, +r_23_denom, +r_14_denom, +r_24_denom]\n",
    "    guess = 0.75 * np.array([lb[0], 0., 0., lb[3]])\n",
    "    result = opt.least_squares(cost_func, guess, bounds=(lb, ub), **solver_kws)\n",
    "    \n",
    "    sig_13, sig_23, sig_14, sig_24 = result.x\n",
    "    S = to_mat([sig_11, sig_22, sig_12, sig_33, sig_44, sig_34, sig_13, sig_23, sig_14, sig_24])\n",
    "    return ba.emittances(S)"
   ]
  },
  {
   "cell_type": "code",
   "execution_count": null,
   "metadata": {},
   "outputs": [],
   "source": [
    "# solver_kws = dict(max_nfev=1000)\n",
    "# emittances = [solve_corr_coeff_bounds(meas_index, **solver_kws) for meas_index in trange(n_meas)]    \n",
    "# plot_with_error_bars(emittances, eps_labels, correct=emittances_all_meas);"
   ]
  },
  {
   "cell_type": "markdown",
   "metadata": {
    "tags": []
   },
   "source": [
    "### Edwards-Teng"
   ]
  },
  {
   "cell_type": "markdown",
   "metadata": {},
   "source": [
    "We can parameterize the covariance matrix as \n",
    "\n",
    "$$\n",
    "\\mathbf{\\Sigma} = \\mathbf{V} \\, \\mathbf{C} \\, \\mathbf{\\Sigma}_n \\, \\mathbf{C}^T \\, \\mathbf{V}^T,\n",
    "$$\n",
    "\n",
    "with\n",
    "\n",
    "$$\n",
    "\\mathbf{\\Sigma}_n = \n",
    "\\begin{bmatrix}\n",
    "    \\varepsilon_1 & 0 & 0 & 0 \\\\\n",
    "    0 & \\varepsilon_1 & 0 & 0 \\\\\n",
    "    0 & 0 & \\varepsilon_2 & 0 \\\\\n",
    "    0 & 0 & 0 & \\varepsilon_2\n",
    "\\end{bmatrix}, \\\\\n",
    "$$\n",
    "\n",
    "$$\n",
    "\\mathbf{C} = \n",
    "\\begin{bmatrix}\n",
    "    1 & 0 & a & b \\\\\n",
    "    0 & 1 & c & d \\\\\n",
    "    -d & b & 1 & 0 \\\\\n",
    "    c & a & 0 & 1\n",
    "\\end{bmatrix}, \\\\\n",
    "$$\n",
    "\n",
    "$$\n",
    "\\mathbf{V} = \n",
    "\\begin{bmatrix}\n",
    "    \\sqrt{\\beta_x} & 0 & 0 & 0 \\\\\n",
    "    -\\frac{\\alpha_x}{\\sqrt{\\beta_x}} & \\frac{1}{\\sqrt{\\beta_x}} & 0 & 0 \\\\\n",
    "    0 & 0 & \\sqrt{\\beta_y} & 0 \\\\\n",
    "    0 & 0 & -\\frac{\\alpha_y}{\\sqrt{\\beta_y}} & \\frac{1}{\\sqrt{\\beta_y}}\n",
    "\\end{bmatrix}. \\\\\n",
    "$$\n",
    "\n",
    "$\\mathbf{C}$ is symplectic if $ad - bc = 0$, so we set $d = bc/a$. If $a = b = c = d = 0$, then we get the normal uncoupled matrix with $\\varepsilon_{x,y} = \\varepsilon_{1,2}$. \n",
    "\n",
    "The strategy is to fit the $x$-$x'$ and $y$-$y'$ planes first, then choose $\\varepsilon_1$, $\\varepsilon_2$, $a$, $b$, and $c$."
   ]
  },
  {
   "cell_type": "code",
   "execution_count": null,
   "metadata": {
    "tags": []
   },
   "outputs": [],
   "source": [
    "def get_cov(eps_1, eps_2, alpha_x, alpha_y, beta_x, beta_y, a, b, c):\n",
    "    E = np.diag([eps_1, eps_1, eps_2, eps_2])\n",
    "    V = V_matrix_4x4_uncoupled(alpha_x, alpha_y, beta_x, beta_y)\n",
    "    if a == 0:\n",
    "        if b == 0 or c == 0:\n",
    "            d = 0\n",
    "        else:\n",
    "            raise ValueError(\"a is zero but b * c is not zero.\")\n",
    "    else:\n",
    "        d = b * c / a\n",
    "    C = np.array([[1, 0, a, b], [0, 1, c, d], [-d, b, 1, 0], [c, -a, 0, 1]])\n",
    "    return np.linalg.multi_dot([V, C, E, C.T, V.T])"
   ]
  },
  {
   "cell_type": "code",
   "execution_count": null,
   "metadata": {},
   "outputs": [],
   "source": [
    "def solve_edwards_teng(meas_index, **solver_kws):\n",
    "    Axx, Ayy, Axy, bxx, byy, bxy = form_coeff_target_arrays(meas_index)\n",
    "    sig_11, sig_22, sig_12 = opt.lsq_linear(Axx, bxx).x\n",
    "    sig_33, sig_44, sig_34 = opt.lsq_linear(Ayy, byy).x \n",
    "    S = np.zeros((4, 4))\n",
    "    S[:2, :2] = [[sig_11, sig_12], [sig_12, sig_22]]\n",
    "    S[2:, 2:] = [[sig_33, sig_34], [sig_34, sig_44]]\n",
    "    eps_x, eps_y = ba.apparent_emittances(S)\n",
    "    alpha_x, alpha_y, beta_x, beta_y = ba.twiss2D(S)\n",
    "\n",
    "    def cost_func(vec):\n",
    "        eps_1, eps_2, a, b, c = vec\n",
    "        S = get_cov(eps_1, eps_2, alpha_x, alpha_y, beta_x, beta_y, a, b, c)\n",
    "        vec_xy = np.array([S[0, 2], S[1, 2], S[0, 3], S[1, 3]])\n",
    "        cost = np.sum((np.matmul(Axy, vec_xy) - bxy)**2)\n",
    "        f = 1.0\n",
    "        cost += f * (S[0, 0] - sig_11)**2\n",
    "        cost += f * (S[0, 1] - sig_12)**2\n",
    "        cost += f * (S[1, 1] - sig_22)**2\n",
    "        cost += f * (S[2, 2] - sig_33)**2\n",
    "        cost += f * (S[2, 3] - sig_34)**2\n",
    "        cost += f * (S[3, 3] - sig_44)**2\n",
    "        return cost\n",
    "\n",
    "    lb = [0., 0., -np.inf, -np.inf, -np.inf]\n",
    "    ub = np.inf\n",
    "    guess = [0.75 * eps_x, 0.75 * eps_y, 0.5, 0.5, -0.5]\n",
    "    result = opt.minimize(cost_func, guess, bounds=opt.Bounds(lb, ub), **solver_kws)\n",
    "    eps_1, eps_2, a, b, c = result.x\n",
    "    S = get_cov(eps_1, eps_2, alpha_x, alpha_y, beta_x, beta_y, a, b, c)\n",
    "    S[:2, :2] = [[sig_11, sig_12], [sig_12, sig_22]]\n",
    "    S[2:, 2:] = [[sig_33, sig_34], [sig_34, sig_44]]\n",
    "    return ba.emittances(S)"
   ]
  },
  {
   "cell_type": "code",
   "execution_count": null,
   "metadata": {},
   "outputs": [],
   "source": [
    "# solver_kws = dict(method='trust-constr', options=dict(verbose=0, xtol=1e-15, maxiter=1000))\n",
    "# emittances = [solve_edwards_teng(meas_index, **solver_kws) for meas_index in trange(n_meas)]\n",
    "# plot_with_error_bars(emittances, eps_labels, correct=emittances_all_meas);"
   ]
  },
  {
   "cell_type": "markdown",
   "metadata": {},
   "source": [
    "### Cholesky decomposition "
   ]
  },
  {
   "cell_type": "code",
   "execution_count": null,
   "metadata": {},
   "outputs": [],
   "source": [
    "def inverse_cholesky(x):\n",
    "    L = np.array([[x[0], 0, 0, 0],\n",
    "                  [x[1], x[2], 0, 0],\n",
    "                  [x[3], x[4], x[5], 0],\n",
    "                  [x[6], x[7], x[8], x[9]]])\n",
    "    return np.matmul(L, L.T)"
   ]
  },
  {
   "cell_type": "code",
   "execution_count": null,
   "metadata": {},
   "outputs": [],
   "source": [
    "def solve_cholesky(meas_index, **solver_kws):\n",
    "    Axx, Ayy, Axy, bxx, byy, bxy = form_coeff_target_arrays(meas_index)\n",
    "    sig_11, sig_22, sig_12 = opt.lsq_linear(Axx, bxx).x\n",
    "    sig_33, sig_44, sig_34 = opt.lsq_linear(Ayy, byy).x  \n",
    "\n",
    "    def cost_func(x):\n",
    "        S = inverse_cholesky(x)\n",
    "        vec_xx = np.array([S[0, 0], S[1, 1], S[0, 1]])\n",
    "        vec_yy = np.array([S[2, 2], S[3, 3], S[2, 3]])\n",
    "        vec_xy = np.array([S[0, 2], S[1, 2], S[0, 3], S[1, 3]])\n",
    "        cost = 0.\n",
    "        cost += np.sum((np.matmul(Axx, vec_xx) - bxx)**2)\n",
    "        cost += np.sum((np.matmul(Ayy, vec_yy) - byy)**2)\n",
    "        cost += np.sum((np.matmul(Axy, vec_xy) - bxy)**2)\n",
    "        return cost\n",
    "\n",
    "    lb = -np.inf\n",
    "    ub = +np.inf\n",
    "    guess = np.ones(10)\n",
    "#     guess = np.random.uniform(-10, 10, size=10)\n",
    "    result = opt.minimize(cost_func, guess, bounds=opt.Bounds(lb, ub), **solver_kws)\n",
    "    S = inverse_cholesky(result.x)\n",
    "    return ba.emittances(S)"
   ]
  },
  {
   "cell_type": "code",
   "execution_count": null,
   "metadata": {},
   "outputs": [],
   "source": [
    "# solver_kws = dict(method='trust-constr', options=dict(verbose=1, maxiter=2000))\n",
    "# emittances = [solve_cholesky(meas_index, **solver_kws) for meas_index in trange(n_meas)]\n",
    "# plot_with_error_bars(emittances, eps_labels, correct=emittances_all_meas);"
   ]
  },
  {
   "cell_type": "code",
   "execution_count": null,
   "metadata": {},
   "outputs": [],
   "source": [
    "def form_coeff_target_arrays(meas_index):\n",
    "    Axx, Ayy, Axy = [], [], []\n",
    "    bxx, byy, bxy = [], [], []\n",
    "    for ws_id in ws_ids:\n",
    "        M = tmats_dict[ws_id][meas_index]\n",
    "        sig_xx, sig_yy, sig_xy = moments_dict[ws_id][meas_index]\n",
    "        Axx.append([M[0, 0]**2, M[0, 1]**2, 2*M[0, 0]*M[0, 1]])\n",
    "        Ayy.append([M[2, 2]**2, M[2, 3]**2, 2*M[2, 2]*M[2, 3]])\n",
    "        Axy.append([M[0, 0]*M[2, 2],  M[0, 1]*M[2, 2],  M[0, 0]*M[2, 3],  M[0, 1]*M[2, 3]])\n",
    "        bxx.append(sig_xx)\n",
    "        byy.append(sig_yy)\n",
    "        bxy.append(sig_xy) \n",
    "    Axx, Ayy, Axy = np.array(Axx), np.array(Ayy), np.array(Axy)\n",
    "    bxx, byy, bxy = np.array(bxx), np.array(byy), np.array(bxy)\n",
    "    return Axx, Ayy, Axy, bxx, byy, bxy"
   ]
  }
 ],
 "metadata": {
  "kernelspec": {
   "display_name": "Python 3",
   "language": "python",
   "name": "python3"
  },
  "language_info": {
   "codemirror_mode": {
    "name": "ipython",
    "version": 3
   },
   "file_extension": ".py",
   "mimetype": "text/x-python",
   "name": "python",
   "nbconvert_exporter": "python",
   "pygments_lexer": "ipython3",
   "version": "3.7.6"
  }
 },
 "nbformat": 4,
 "nbformat_minor": 4
}
