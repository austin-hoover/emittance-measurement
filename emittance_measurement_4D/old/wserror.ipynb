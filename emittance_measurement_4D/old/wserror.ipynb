{
 "cells": [
  {
   "cell_type": "code",
   "execution_count": null,
   "id": "efb1aafc-20ba-4d20-be9f-23b97f8d6471",
   "metadata": {},
   "outputs": [],
   "source": [
    "import os\n",
    "import sys\n",
    "\n",
    "import numpy as np\n",
    "from numpy import linalg as la\n",
    "from scipy import optimize as opt\n",
    "from matplotlib import pyplot as plt\n",
    "from tqdm import tqdm, trange\n",
    "import proplot as plot\n",
    "import gif\n",
    "\n",
    "plot.rc['grid.alpha'] = 0.05\n",
    "plot.rc['axes.grid'] = False\n",
    "\n",
    "sys.path.append('/Users/46h/Research/')\n",
    "from accphys.tools import plotting as myplt\n",
    "from accphys.tools import beam_analysis as ba\n",
    "from accphys.tools import utils\n",
    "from accphys.tools.accphys_utils import phase_adv_matrix\n",
    "from accphys.emittance_measurement_4D.analysis import to_mat"
   ]
  },
  {
   "cell_type": "code",
   "execution_count": null,
   "id": "aa4ff8b4-51db-4ee9-9d8d-73ed4e55f1c5",
   "metadata": {},
   "outputs": [],
   "source": [
    "n_parts = 200000\n",
    "X0 = np.random.normal(size=(n_parts, 4))\n",
    "Sigma0 = np.cov(X0.T)\n",
    "print('Sigma =')\n",
    "print(Sigma0)\n",
    "print('eps_1, eps_2 =', ba.apparent_emittances(Sigma0))\n",
    "print('eps_x, eps_y =', ba.intrinsic_emittances(Sigma0))"
   ]
  },
  {
   "cell_type": "code",
   "execution_count": null,
   "id": "74ef6f6d-3751-4a62-abdc-3e158fa11567",
   "metadata": {},
   "outputs": [],
   "source": [
    "def scan(Sigma0, tmats, dsig=0.0, dphi=0.0):\n",
    "    # Add random error to diagonal wire angle\n",
    "    phi = np.radians(45.0)\n",
    "    phi += np.random.uniform(-dphi, dphi)\n",
    "    A, b = [], []\n",
    "    for M in tmats:            \n",
    "        # Transport\n",
    "        Sigma = la.multi_dot([M, Sigma0, M.T])\n",
    "        # Take measurement\n",
    "        sig_xx = Sigma[0, 0]\n",
    "        sig_yy = Sigma[2, 2]\n",
    "        sig_xy = Sigma[0, 2]\n",
    "        sig_uu = 0.5 * (2 * sig_xy + sig_xx+ sig_yy)\n",
    "        # Add some errors to the measured moments\n",
    "        sig_xx *= (1.0 + np.random.normal(scale=dsig))\n",
    "        sig_yy *= (1.0 + np.random.normal(scale=dsig))\n",
    "        sig_uu *= (1.0 + np.random.normal(scale=dsig))\n",
    "        # Calculate <xy> from the (possibly) wrong angle and modified moments.\n",
    "        sn, cs = np.sin(phi), np.cos(phi)\n",
    "        sig_xy = (sig_uu - sig_xx * cs**2 - sig_yy * sn**2) / (2 * sn * cs)\n",
    "        # Form arrays\n",
    "        A.append([M[0, 0]**2, M[0, 1]**2, 2*M[0, 0]*M[0, 1], 0, 0, 0, 0, 0, 0, 0])\n",
    "        A.append([0, 0, 0, M[2, 2]**2, M[2, 3]**2, 2*M[2, 2]*M[2, 3], 0, 0, 0, 0])\n",
    "        A.append([0, 0, 0, 0, 0, 0, M[0, 0]*M[2, 2],  M[0, 1]*M[2, 2],  M[0, 0]*M[2, 3],  M[0, 1]*M[2, 3]])\n",
    "        b.append(sig_xx)\n",
    "        b.append(sig_yy)\n",
    "        b.append(sig_xy)\n",
    "        \n",
    "    moments, res, rank, s = la.lstsq(A, b, rcond=None)\n",
    "    return moments, res, rank, s"
   ]
  },
  {
   "cell_type": "code",
   "execution_count": null,
   "id": "7588ddd7-7cf1-4c63-ab3e-717fd513b80f",
   "metadata": {},
   "outputs": [],
   "source": [
    "def is_positive_definite(Sigma):\n",
    "    return np.all(np.linalg.eigvals(Sigma) > 0)"
   ]
  },
  {
   "cell_type": "code",
   "execution_count": null,
   "id": "2472c7ef-d94d-47e9-9125-8bf51a74b62d",
   "metadata": {},
   "outputs": [],
   "source": [
    "def run(Sigma0, tmats, n_trials, dsig=0, dphi=0, pbar=False):\n",
    "    emittances = []\n",
    "    n_fail = 0\n",
    "    irange = range(n_trials) if not pbar else trange(n_trials)\n",
    "    for i in irange:\n",
    "        moments, res, rank, s = scan(Sigma0, tmats, dsig, dphi)\n",
    "        Sigma = to_mat(moments)\n",
    "        if not is_positive_definite(Sigma):\n",
    "            n_fail += 1\n",
    "            continue\n",
    "        eps_x, eps_y = ba.apparent_emittances(Sigma)\n",
    "        eps_1, eps_2 = ba.intrinsic_emittances(Sigma)\n",
    "        emittances.append([eps_x, eps_y, eps_1, eps_2])\n",
    "    fail_rate = n_fail / n_trials\n",
    "    return fail_rate, np.array(emittances)"
   ]
  },
  {
   "cell_type": "code",
   "execution_count": null,
   "id": "85f54abc-0260-4bee-9645-9c886626a212",
   "metadata": {},
   "outputs": [],
   "source": [
    "n_trials = 1000\n",
    "dsig = 0.05\n",
    "dphi = np.radians(0.5)\n",
    "\n",
    "phase_coverages = np.radians(np.linspace(10., 180., 30))\n",
    "fail_rates = []\n",
    "emittances_list = []\n",
    "for phase_coverage in tqdm(phase_coverages):\n",
    "    phixx = np.linspace(0.0, phase_coverage, 4)\n",
    "    phiyy = np.linspace(0.0, phase_coverage, 4)\n",
    "    tmats = [phase_adv_matrix(phix, phiy) for phix, phiy in zip(phixx, phiyy)]\n",
    "    fail_rate, emittances = run(Sigma0, tmats, n_trials, dsig=dsig, dphi=dphi)\n",
    "    fail_rates.append(fail_rate)\n",
    "    emittances_list.append(emittances)"
   ]
  },
  {
   "cell_type": "code",
   "execution_count": null,
   "id": "4d2cac7a-d57b-4ce7-a369-88ae51232a04",
   "metadata": {},
   "outputs": [],
   "source": [
    "fig, ax = plot.subplots()\n",
    "ax.plot(np.degrees(phase_coverages), fail_rates, marker='.', color='black');\n",
    "title = ''.join([\n",
    "    'RMS frac. error in measured moments = {}'.format(dsig),\n",
    "    '\\n',\n",
    "    'Max diag. wire angle error = {} [deg]'.format(np.degrees(dphi)),\n",
    "])\n",
    "ax.format(xlabel='phase coverage [deg]', ylabel='Fail rate', title=title,\n",
    "          xticks=[0, 45, 90, 135, 180], ylim=(-0.02, 1.02))"
   ]
  },
  {
   "cell_type": "markdown",
   "id": "82dbde2b-f3e9-46e5-b8e0-69a0b2662072",
   "metadata": {},
   "source": [
    "## Realistic example"
   ]
  },
  {
   "cell_type": "code",
   "execution_count": null,
   "id": "caad3f08-9b39-4d4e-acb2-8277125c80dc",
   "metadata": {},
   "outputs": [],
   "source": [
    "def load_tmats_dict(filename, exclude=None, max_n_meas=None):\n",
    "    \"\"\"Load dictionary of transfer matrix elements at each wire-scanner.\n",
    "    \n",
    "    Each line in the file reads [node_id, M11, M12, M13, M14, M21, M22,\n",
    "    M23, M24, M31, M32, M33, M34, M41, M42, M43, M44].\n",
    "    \"\"\"\n",
    "    tmats_dict = dict()\n",
    "    file = open(filename, 'r')\n",
    "    for line in file:\n",
    "        tokens = line.split()\n",
    "        ws_id = tokens[0]\n",
    "        tmat_elems = [float(token) for token in tokens[1:]]\n",
    "        tmat = np.reshape(tmat_elems, (4, 4))\n",
    "        if ws_id not in tmats_dict:\n",
    "            tmats_dict[ws_id] = []\n",
    "        tmats_dict[ws_id].append(tmat)\n",
    "    file.close()\n",
    "    tmats_dict = utils.blacklist(tmats_dict, exclude)\n",
    "    if max_n_meas:\n",
    "        for ws_id in tmats_dict:\n",
    "            tmats_dict[ws_id] = tmats_dict[ws_id][:max_n_meas]\n",
    "    return tmats_dict"
   ]
  },
  {
   "cell_type": "code",
   "execution_count": null,
   "id": "1d70dfc5-171f-42c5-9ba8-81da4c7c935c",
   "metadata": {},
   "outputs": [],
   "source": [
    "def load_moments_dict(filename, exclude=None, max_n_meas=None):\n",
    "    \"\"\"Load dictionary of moments at each wire-scanner.\n",
    "    \n",
    "    Each line in the file reads [node_id, <xx>, <yy>, <xy>].\n",
    "    \"\"\"\n",
    "    moments_dict = dict()\n",
    "    file = open(filename, 'r')\n",
    "    for line in file:\n",
    "        tokens = line.split()\n",
    "        ws_id = tokens[0]\n",
    "        moments = [float(token) for token in tokens[1:]]\n",
    "        if ws_id not in moments_dict:\n",
    "            moments_dict[ws_id] = []\n",
    "        moments_dict[ws_id].append(moments)\n",
    "    file.close()\n",
    "    moments_dict = utils.blacklist(moments_dict, exclude)\n",
    "    for ws_id in moments_dict:\n",
    "        if max_n_meas:\n",
    "            moments_dict[ws_id] = moments_dict[ws_id][:max_n_meas]\n",
    "        moments_dict[ws_id] = np.array(moments_dict[ws_id])\n",
    "    return moments_dict"
   ]
  },
  {
   "cell_type": "code",
   "execution_count": null,
   "id": "0723a698-4cd5-4044-90f7-382e29813dc2",
   "metadata": {},
   "outputs": [],
   "source": [
    "folder = './_saved/2021-08-10/scan/'\n",
    "exclude = None\n",
    "max_n_meas = 100\n",
    "\n",
    "tmats_dict = load_tmats_dict(os.path.join(folder, 'transfer_mats.dat'), exclude, max_n_meas)\n",
    "moments_dict = load_moments_dict(os.path.join(folder, 'moments.dat'), exclude, max_n_meas)\n",
    "ws_ids = sorted(list(tmats_dict))"
   ]
  },
  {
   "cell_type": "code",
   "execution_count": null,
   "id": "2a967aee-7381-4f09-a1fe-1539f6444bd8",
   "metadata": {},
   "outputs": [],
   "source": [
    "for "
   ]
  },
  {
   "cell_type": "code",
   "execution_count": null,
   "id": "42472957-3089-4d3f-af24-8c94532e2cbb",
   "metadata": {},
   "outputs": [],
   "source": [
    "Sigma0 = np.array([\n",
    "    [132.22438094,  29.02394835,   9.06323335,  -2.50129748],\n",
    "    [ 29.02394835,  10.29463098,   5.93827178,  -0.51453613],\n",
    "    [  9.06323335,   5.93827178, 161.91844364, -10.49587901],\n",
    "    [ -2.50129748,  -0.51453613, -10.49587901,   1.97252215]\n",
    "])\n",
    "print(ba.apparent_emittances(Sigma0))\n",
    "print(ba.intrinsic_emittances(Sigma0))"
   ]
  },
  {
   "cell_type": "code",
   "execution_count": null,
   "id": "e8703ee4-d342-4657-81a5-d8ca38827cbe",
   "metadata": {},
   "outputs": [],
   "source": [
    "def scatter_hist(x, y, ax, ax_marg_x, ax_marg_y, joint_kws=None, marginal_kws=None):\n",
    "    if joint_kws is None:\n",
    "        joint_kws = dict()\n",
    "    if marginal_kws is None:\n",
    "        marginal_kws = dict()        \n",
    "    if 'range' in joint_kws:\n",
    "        xrange, yrange = joint_kws['range']\n",
    "    else:\n",
    "        xrange = yrange = None\n",
    "    if 'bins' in joint_kws:\n",
    "        bins = joint_kws['bins']\n",
    "    else:\n",
    "        heights, edges, patches = ax_marg_x.hist(x, bins='auto', range=xrange, **marginal_kws)\n",
    "        for patch in patches:\n",
    "            patch.set_visible(False)\n",
    "        bins = len(heights)\n",
    "        joint_kws['bins'] = bins\n",
    "    ax_marg_x.hist(x, range=xrange, bins=bins, **marginal_kws)\n",
    "    ax_marg_y.hist(y, range=yrange, bins=bins, orientation='horizontal', **marginal_kws)\n",
    "    ax.hist2d(x, y, **joint_kws)\n",
    "    return ax\n",
    "\n",
    "def create_grid(fig, gridspec, row, col):\n",
    "    ax_joint = fig.add_subplot(gridspec[row, col])\n",
    "    ax_marg_x = fig.add_subplot(gridspec[row - 1, col])\n",
    "    ax_marg_y = fig.add_subplot(gridspec[row, col + 1])\n",
    "    for ax in [ax_marg_x, ax_marg_y]:\n",
    "        ax.set_xticks([])\n",
    "        ax.set_yticks([])\n",
    "        for side in ['top', 'bottom', 'left', 'right']:\n",
    "            ax.spines[side].set_visible(False)\n",
    "    return ax_joint, ax_marg_x, ax_marg_y"
   ]
  },
  {
   "cell_type": "code",
   "execution_count": null,
   "id": "bf163925-72c5-4cba-a3d8-ce262152daf2",
   "metadata": {},
   "outputs": [],
   "source": [
    "def emittances_joint_hist(emittances, lims=((10, 40), (0, 20))):\n",
    "    fig = plt.figure(figsize=(10, 4))\n",
    "    h = 1.5\n",
    "    gridspec = fig.add_gridspec(2, 5, width_ratios=(7, h, 2.5, 7, h), height_ratios=(h, 7),\n",
    "                                left=0.1, right=0.9, bottom=0.1, top=0.9,\n",
    "                                wspace=0, hspace=0)\n",
    "    ax1, ax1_marg_x, ax1_marg_y = create_grid(fig, gridspec, 1, 0)\n",
    "    ax2, ax2_marg_x, ax2_marg_y = create_grid(fig, gridspec, 1, 3)\n",
    "\n",
    "    joint_kws = dict(cmap='fire_r', range=lims, bins=75)\n",
    "    marginal_kws = dict(histtype='step', color='black')\n",
    "\n",
    "    scatter_hist(emittances[:, 0], emittances[:, 1], ax1, ax1_marg_x, ax1_marg_y, joint_kws, marginal_kws)\n",
    "    scatter_hist(emittances[:, 2], emittances[:, 3], ax2, ax2_marg_x, ax2_marg_y, joint_kws, marginal_kws)\n",
    "    ax1_marg_x.set_xlim(lims[0])\n",
    "    ax1_marg_y.set_ylim(lims[1])\n",
    "    ax2_marg_x.set_xlim(lims[0])\n",
    "    ax2_marg_y.set_ylim(lims[1])\n",
    "    ax1.set_xlabel(r'$\\varepsilon_x$ [mm mrad]')\n",
    "    ax1.set_ylabel(r'$\\varepsilon_y$ [mm mrad]')\n",
    "    ax2.set_xlabel(r'$\\varepsilon_1$ [mm mrad]')\n",
    "    ax2.set_ylabel(r'$\\varepsilon_2$ [mm mrad]')\n",
    "    ax1_marg_x.set_title(r'Apparent emittances ($\\varepsilon_x$, $\\varepsilon_y$)')\n",
    "    ax2_marg_x.set_title(r'Intrinsic emittances ($\\varepsilon_1$, $\\varepsilon_2$)')      \n",
    "    return ax1, ax1_marg_x, ax1_marg_y, ax2, ax1_marg_y, ax1_marg_y"
   ]
  },
  {
   "cell_type": "code",
   "execution_count": null,
   "id": "75584f26-15d6-4791-a26c-13a058a47160",
   "metadata": {},
   "outputs": [],
   "source": [
    "meas_index = 4\n",
    "n_trials = 50000\n",
    "dsig_list = np.linspace(0.0, 0.05, 6)\n",
    "dphi = np.radians(0.0)\n",
    "\n",
    "tmats = [tmats_dict[ws_id][meas_index] for ws_id in sorted(list(tmats_dict))]\n",
    "emittances_list, fail_rates = [], []\n",
    "for dsig in dsig_list:\n",
    "    fail_rate, emittances = run(Sigma0, tmats, n_trials, dsig, dphi, pbar=True)\n",
    "    fail_rates.append(fail_rate)\n",
    "    emittances_list.append(emittances)"
   ]
  },
  {
   "cell_type": "code",
   "execution_count": null,
   "id": "4fcca1dc-40e3-494b-a1cc-3339b03d8dd1",
   "metadata": {},
   "outputs": [],
   "source": [
    "fig, ax = plot.subplots(figsize=(3, 2))\n",
    "ax.plot(dsig_list, fail_rates, marker='.', color='k')\n",
    "ax.format(xlabel='RMS fractional error in measured moments',\n",
    "          ylabel='Fail rate', grid=True,\n",
    "          ylim=(0, 1))\n",
    "plt.savefig('_output/failrate_vs_meas_error_{}'.format(meas_index), facecolor='white')"
   ]
  },
  {
   "cell_type": "code",
   "execution_count": null,
   "id": "7768e52c-30ee-48d8-af00-aff14c12b598",
   "metadata": {},
   "outputs": [],
   "source": [
    "eps_x, eps_y = ba.apparent_emittances(Sigma0)\n",
    "eps_1, eps_2 = ba.intrinsic_emittances(Sigma0)"
   ]
  },
  {
   "cell_type": "code",
   "execution_count": null,
   "id": "74522e40-2c7c-4c02-87a0-cb46963a704e",
   "metadata": {},
   "outputs": [],
   "source": [
    "@gif.frame\n",
    "def plot_errors(dsig, fail_rate, emittances):\n",
    "    ax1, ax1_marg_x, ax1_marg_y, ax2, ax1_marg_y, ax1_marg_y = emittances_joint_hist(emittances, lims=((10, 40), (0, 20)))\n",
    "    ax2.annotate('fail rate = {:.2f}'.format(fail_rate), \n",
    "             xy=(0.03, 0.93), xycoords='axes fraction', color='white')  \n",
    "    ax2.annotate(r'rms frac err = {:.0f}%'.format(100 * dsig), \n",
    "             xy=(0.03, 0.87), xycoords='axes fraction', color='white') \n",
    "    line_kws = dict(color='white', lw=0.25, alpha=0.5)\n",
    "    ax1.axvline(eps_x, **line_kws)\n",
    "    ax1.axhline(eps_y, **line_kws)\n",
    "    ax2.axvline(eps_1, **line_kws)\n",
    "    ax2.axhline(eps_2, **line_kws)\n",
    "    figname = '_output/res/results_dsig{}%.png'.format(100*dsig)\n",
    "    plt.savefig(figname, facecolor='white', dpi=250)\n",
    "    plt.show()"
   ]
  },
  {
   "cell_type": "code",
   "execution_count": null,
   "id": "1b1401b5-8dcc-42da-b594-328d599a77e1",
   "metadata": {},
   "outputs": [],
   "source": [
    "frames = []\n",
    "for dsig, fail_rate, emittances in zip(dsig_list, fail_rates, emittances_list):\n",
    "    frame = plot_errors(dsig, fail_rate, emittances)\n",
    "    frames.append(frame)"
   ]
  },
  {
   "cell_type": "code",
   "execution_count": null,
   "id": "654f999e-af7b-4f22-8355-c21c8333a7c6",
   "metadata": {},
   "outputs": [],
   "source": [
    "# gif.options.matplotlib['dpi'] = 200\n",
    "# fps = 0.75\n",
    "# gif.save(frames, '_output/example.gif', duration=len(frames)/fps, unit=\"s\", between=\"startend\")"
   ]
  }
 ],
 "metadata": {
  "kernelspec": {
   "display_name": "Python 3",
   "language": "python",
   "name": "python3"
  },
  "language_info": {
   "codemirror_mode": {
    "name": "ipython",
    "version": 3
   },
   "file_extension": ".py",
   "mimetype": "text/x-python",
   "name": "python",
   "nbconvert_exporter": "python",
   "pygments_lexer": "ipython3",
   "version": "3.7.6"
  }
 },
 "nbformat": 4,
 "nbformat_minor": 5
}
