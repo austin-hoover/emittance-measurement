{
 "cells": [
  {
   "cell_type": "markdown",
   "metadata": {},
   "source": [
    "# 4D emittance measurement data analysis "
   ]
  },
  {
   "cell_type": "markdown",
   "metadata": {},
   "source": [
    "This notebook needs to be rewritten. The uncertainty in the measured moments (2%) needs to be shown in the plots."
   ]
  },
  {
   "cell_type": "code",
   "execution_count": null,
   "metadata": {},
   "outputs": [],
   "source": [
    "import sys\n",
    "import os\n",
    "from os.path import join\n",
    "import copy\n",
    "import importlib\n",
    "from tqdm import trange, tqdm\n",
    "\n",
    "import numpy as np\n",
    "import pandas as pd\n",
    "from scipy import optimize as opt\n",
    "from matplotlib import pyplot as plt\n",
    "from matplotlib.lines import Line2D\n",
    "from matplotlib import animation\n",
    "import proplot as pplt\n",
    "import seaborn as sns\n",
    "\n",
    "from target_image import target_image_analysis\n",
    "\n",
    "sys.path.append('/Users/46h/Research/')\n",
    "from scdist.coupling import coupling as BL\n",
    "from scdist.tools import beam_analysis as ba\n",
    "from scdist.tools import plotting as myplt\n",
    "from scdist.tools import utils\n",
    "from scdist.tools.ap_utils import V_matrix_4x4_uncoupled\n",
    "from scdist.tools.ap_utils import phase_adv_matrix\n",
    "\n",
    "from scdist.measurement import analysis\n",
    "from scdist.measurement import pta\n",
    "from scdist.measurement.plotting import reconstruction_lines"
   ]
  },
  {
   "cell_type": "code",
   "execution_count": null,
   "metadata": {},
   "outputs": [],
   "source": [
    "pplt.rc['figure.facecolor'] = 'white'\n",
    "pplt.rc['grid.alpha'] = 0.04\n",
    "pplt.rc['axes.grid'] = False\n",
    "pplt.rc['cmap.discrete'] = False\n",
    "pplt.rc['savefig.transparent'] = True\n",
    "pplt.rc['savefig.dpi'] = 'figure'\n",
    "pplt.rc['animation.html'] = 'jshtml'"
   ]
  },
  {
   "cell_type": "code",
   "execution_count": null,
   "metadata": {},
   "outputs": [],
   "source": [
    "eps_labels = [r'$\\varepsilon_x$', r'$\\varepsilon_y$', \n",
    "              r'$\\varepsilon_1$', r'$\\varepsilon_2$']\n",
    "format_kws = dict(ygrid=True, xgrid=False)\n",
    "lineplt_kws = dict(marker='.', alpha=0.8)\n",
    "savefig_kws = dict(dpi=300)"
   ]
  },
  {
   "cell_type": "markdown",
   "metadata": {},
   "source": [
    "## Load data "
   ]
  },
  {
   "cell_type": "code",
   "execution_count": null,
   "metadata": {},
   "outputs": [],
   "source": [
    "# folder = './_saved/2021-09-07/TBT_SCBD_0.5ms/ramp_turns/'\n",
    "folder = './_saved/2021-09-26/setting1/ramp_turns/'\n",
    "# folder = './_saved/2021-10-21/setting2/injturns400/ramp_turns/'\n",
    "# folder = './_saved/2021-08-24/'\n",
    "\n",
    "# We can restrict the number of measurements used if we want.\n",
    "max_n_meas = 100 \n",
    "\n",
    "# We can exclude certain wire-scanners if we want.\n",
    "exclude = None"
   ]
  },
  {
   "cell_type": "code",
   "execution_count": null,
   "metadata": {},
   "outputs": [],
   "source": [
    "# xlabel = 'Measurement index' # {'Turn number', 'Measurement index'}\n",
    "xlabel = 'Turn number' # {'Turn number', 'Measurement index'}\n",
    "\n",
    "if xlabel == 'Turn number':\n",
    "    xvals = list(range(50, 550, 50))\n",
    "elif xlabel == 'Measurement index':\n",
    "    xvals = meas_indices\n",
    "else:\n",
    "    raise ValueError('Fix the xlabel.')"
   ]
  },
  {
   "cell_type": "code",
   "execution_count": null,
   "metadata": {},
   "outputs": [],
   "source": [
    "utils.delete_files_not_folders('_output/figures/')"
   ]
  },
  {
   "cell_type": "code",
   "execution_count": null,
   "metadata": {},
   "outputs": [],
   "source": [
    "def load_data_dict(filename, ndarray=True):\n",
    "    dictionary = dict()\n",
    "    file = open(filename, 'r')\n",
    "    for line in file:\n",
    "        tokens = line.rstrip().split(' ')\n",
    "        ws_id = tokens[0]\n",
    "        items = [float(token) for token in tokens[1:]]\n",
    "        if ws_id not in dictionary:\n",
    "            dictionary[ws_id] = []\n",
    "        dictionary[ws_id].append(items)\n",
    "    file.close()\n",
    "    dictionary = utils.blacklist(dictionary, exclude)\n",
    "    for ws_id in dictionary:\n",
    "        if max_n_meas:\n",
    "            dictionary[ws_id] = dictionary[ws_id][:max_n_meas]\n",
    "        if ndarray:\n",
    "            dictionary[ws_id] = np.array(dictionary[ws_id])\n",
    "    return dictionary"
   ]
  },
  {
   "cell_type": "code",
   "execution_count": null,
   "metadata": {},
   "outputs": [],
   "source": [
    "filenames = utils.list_files(os.path.join(folder, 'profiles/'))\n",
    "measurements = pta.read_files(filenames)\n",
    "moments_dict = pta.get_moments_dict(measurements)"
   ]
  },
  {
   "cell_type": "code",
   "execution_count": null,
   "metadata": {},
   "outputs": [],
   "source": [
    "tmats_dict = load_data_dict(os.path.join(folder, 'info/transfer_mats.dat'), ndarray=False)\n",
    "# moments_dict = load_data_dict(os.path.join(folder, 'info/moments.dat'))\n",
    "phases_dict = load_data_dict(os.path.join(folder, 'info/phase_adv.dat'))\n",
    "pos_x_dict = load_data_dict(os.path.join(folder, 'info/pos_x.dat'))\n",
    "pos_y_dict = load_data_dict(os.path.join(folder, 'info/pos_y.dat'))\n",
    "pos_u_dict = load_data_dict(os.path.join(folder, 'info/pos_u.dat'))\n",
    "raw_x_dict = load_data_dict(os.path.join(folder, 'info/raw_x.dat'))\n",
    "raw_y_dict = load_data_dict(os.path.join(folder, 'info/raw_y.dat'))\n",
    "raw_u_dict = load_data_dict(os.path.join(folder, 'info/raw_u.dat'))\n",
    "\n",
    "ws_ids = sorted(list(tmats_dict))\n",
    "n_meas = len(tmats_dict[ws_ids[0]])\n",
    "meas_indices = list(range(n_meas))\n",
    "\n",
    "# Convert from 16 element lists to 4x4 arrays for transfer matrices.\n",
    "for ws_id in ws_ids:\n",
    "    for i in range(n_meas):\n",
    "        tmats_dict[ws_id][i] = np.reshape(tmats_dict[ws_id][i], (4, 4))"
   ]
  },
  {
   "cell_type": "code",
   "execution_count": null,
   "metadata": {
    "tags": []
   },
   "outputs": [],
   "source": [
    "# r = 0.01\n",
    "# dphi = np.radians(0.5)\n",
    "\n",
    "# sig_xx, sig_yy, sig_xy = moments.T\n",
    "# phi = np.radians(45.0)\n",
    "# sig_uu = 0.5 * (sig_xx + sig_yy) + sig_xy\n",
    "\n",
    "# sig_xx_err = r * moments[:, 0]\n",
    "# sig_yy_err = r * moments[:, 1]\n",
    "# sig_xy_err = np.sqrt(r**2 * (sig_uu**2 + 0.25 * (sig_xx**2 + sig_yy**2)) + ((sig_xx - sig_yy) * dphi)**2)"
   ]
  },
  {
   "cell_type": "code",
   "execution_count": null,
   "metadata": {
    "tags": []
   },
   "outputs": [],
   "source": [
    "fig, axes = pplt.subplots(nrows=3, figsize=(4.25, 4.5), spany=False, wspace=1, aligny=True)\n",
    "axes.format(cycle='538')\n",
    "# plot_kws = dict(marker='.')\n",
    "plot_kws = dict(marker='.', capsize=0)\n",
    "handles = []\n",
    "for ws_id in ws_ids:    \n",
    "    sig_xx_list = np.array([measurement[ws_id].hor.stats['Sigma'].rms**2 for measurement in measurements])\n",
    "    sig_yy_list = np.array([measurement[ws_id].ver.stats['Sigma'].rms**2 for measurement in measurements])\n",
    "    sig_uu_list = np.array([measurement[ws_id].dia.stats['Sigma'].rms**2 for measurement in measurements])\n",
    "    sig_xy_list = sig_uu_list - 0.5 * (sig_xx_list + sig_yy_list)\n",
    "    f = 0.02\n",
    "    dsig_xx_list = f * sig_xx_list\n",
    "    dsig_yy_list = f * sig_yy_list\n",
    "    dsig_uu_list = f * sig_uu_list\n",
    "    dsig_xy_list = np.sqrt(dsig_uu_list + 0.25 * (dsig_xx_list**2 + dsig_yy_list**2))\n",
    "    axes[0].errorbar(meas_indices, sig_xx_list, yerr=dsig_xx_list, **lineplt_kws)\n",
    "    axes[1].errorbar(meas_indices, sig_yy_list, yerr=dsig_yy_list, **lineplt_kws)\n",
    "    h = axes[2].errorbar(meas_indices, sig_xy_list, yerr=dsig_xy_list, **lineplt_kws)\n",
    "    \n",
    "    handles.append(h)\n",
    "# handles = [Line2D([0], [0], color=c, **lineplt_kws) for c in ]\n",
    "axes[0].legend(handles, labels=ws_ids, ncols=1, loc='r', fontsize='small')\n",
    "\n",
    "\n",
    "    \n",
    "#     axes[0].plot(meas_indices, moments[:, 0], **plot_kws)    \n",
    "#     axes[1].plot(meas_indices, moments[:, 1], **plot_kws)\n",
    "#     h = axes[2].plot(meas_indices, moments[:, 2], **plot_kws)\n",
    "axes[0].format(ylabel=r'$\\langle{x^2}\\rangle$ [mm$^2$]')\n",
    "axes[1].format(ylabel=r'$\\langle{y^2}\\rangle$ [mm$^2$]')\n",
    "axes[2].format(ylabel=r'$\\langle{xy}\\rangle$ [mm$^2$]')\n",
    "axes.format(xlabel='Measurement index', xtickminor=False, xticks=meas_indices)\n",
    "axes[0].set_title('Measured moments', fontsize='medium')\n",
    "plt.savefig('_output/figures/moments.png', **savefig_kws)"
   ]
  },
  {
   "cell_type": "code",
   "execution_count": null,
   "metadata": {},
   "outputs": [],
   "source": [
    "for ws_id in ws_ids:\n",
    "    moments = []\n",
    "    for measurement in measurements:\n",
    "        sig_xx = measurement[ws_id].hor.stats['Sigma'].rms**2\n",
    "        sig_yy = measurement[ws_id].ver.stats['Sigma'].rms**2\n",
    "        sig_uu = measurement[ws_id].dia.stats['Sigma'].rms**2\n",
    "        moments.append([sig_xx, sig_yy, sig_uu])\n",
    "    moments = np.array(moments)\n",
    "    std = np.std(moments, axis=0)\n",
    "    print('Standard deviations [mm^2 mrad^2]:', std)\n",
    "    f = np.abs(np.max(moments, axis=0) - np.min(moments, axis=0)) / np.min(moments, axis=0)\n",
    "    print('Absolute fractional changes:', f)\n",
    "    print('Average absolute fractional change:', np.mean(f))\n",
    "    print()"
   ]
  },
  {
   "cell_type": "code",
   "execution_count": null,
   "metadata": {},
   "outputs": [],
   "source": [
    "fig, axes = pplt.subplots(ncols=3, figsize=(7.5, 2.1), spanx=False, sharey=False, alignx=True)\n",
    "plot_kws = dict(marker='.')\n",
    "axes.format(cycle='538')\n",
    "for ws_id in ws_ids:\n",
    "    moments = moments_dict[ws_id]\n",
    "    axes[0].plot(xvals, moments[:, 0], **plot_kws)    \n",
    "    axes[1].plot(xvals, moments[:, 1], **plot_kws)\n",
    "    axes[2].plot(xvals, moments[:, 2], **plot_kws)\n",
    "axes[0].format(ylabel=r'$\\langle{x^2}\\rangle$ [mm$^2$]')\n",
    "axes[1].format(ylabel=r'$\\langle{y^2}\\rangle$ [mm$^2$]')\n",
    "axes[2].format(ylabel=r'$\\langle{xy}\\rangle$ [mm$^2$]')\n",
    "axes[0].set_ylim(0., max(axes[0].get_ylim()[1], axes[1].get_ylim()[1]))\n",
    "axes[1].set_ylim(0., max(axes[0].get_ylim()[1], axes[1].get_ylim()[1]))\n",
    "ymax = max(np.abs(axes[2].get_ylim()))\n",
    "axes[2].set_ylim(-ymax, ymax)\n",
    "axes.format(xlabel=xlabel, **format_kws)\n",
    "plt.savefig('_output/figures/moments_hor.png', **savefig_kws)"
   ]
  },
  {
   "cell_type": "code",
   "execution_count": null,
   "metadata": {},
   "outputs": [],
   "source": [
    "fig, axes = pplt.subplots(ncols=3, figsize=(7.5, 2.1), spanx=False, sharey=False, alignx=True)\n",
    "plot_kws = dict(marker='.')\n",
    "axes.format(cycle='538')\n",
    "for ws_id in ws_ids:\n",
    "    moments = moments_dict[ws_id]\n",
    "    axes[0].plot(xvals, np.sqrt(moments[:, 0]), **plot_kws)    \n",
    "    axes[1].plot(xvals, np.sqrt(moments[:, 1]), **plot_kws)\n",
    "    axes[2].plot(xvals, moments[:, 2] / np.sqrt(moments[:, 0] * moments[:, 1]), **plot_kws)\n",
    "axes[0].format(ylabel=r'$\\sqrt{\\langle{x^2}\\rangle}$ [mm]')\n",
    "axes[1].format(ylabel=r'$\\sqrt{\\langle{y^2}\\rangle}$ [mm]', )\n",
    "axes[2].format(ylabel=r'$x$-$y$ cor. coef.')\n",
    "axes[0].set_ylim(0., max(axes[0].get_ylim()[1], axes[1].get_ylim()[1]))\n",
    "axes[1].set_ylim(0., max(axes[0].get_ylim()[1], axes[1].get_ylim()[1]))\n",
    "ymax = max(np.abs(axes[2].get_ylim()))\n",
    "axes[2].set_ylim(-ymax, ymax)\n",
    "axes.format(xlabel=xlabel, **format_kws)\n",
    "plt.savefig('_output/figures/moments_corr_hor.png', **savefig_kws)"
   ]
  },
  {
   "cell_type": "code",
   "execution_count": null,
   "metadata": {},
   "outputs": [],
   "source": [
    "fig, axes = pplt.subplots(ncols=2, figsize=(6, 2.5))\n",
    "axes.format(cycle='538')\n",
    "handles = []\n",
    "for ws_id in ws_ids:\n",
    "    mux, muy = phases_dict[ws_id].T\n",
    "    axes[0].plot(xvals, mux, **plot_kws)\n",
    "    h = axes[1].plot(xvals, muy, **plot_kws)\n",
    "    handles.append(h)\n",
    "axes.format(xlabel=xlabel, ylabel='[rad]', ylim=(0, 2 * np.pi),\n",
    "            xtickminor=False, xticks=range(n_meas))\n",
    "axes[0].set_title('Horizontal phase adv.')\n",
    "axes[1].set_title('Vertical phase adv.')\n",
    "axes[1].legend(handles, ws_ids, ncols=1, loc='r', fontsize='small')\n",
    "axes.format(**format_kws)\n",
    "plt.savefig('_output/figures/phases.png', **savefig_kws)"
   ]
  },
  {
   "cell_type": "code",
   "execution_count": null,
   "metadata": {
    "tags": []
   },
   "outputs": [],
   "source": [
    "# fig, axes = pplt.subplots(ncols=3)\n",
    "# colors = ['red8', 'blue8', 'green8']\n",
    "# for i in range(len(ws_ids) - 1):\n",
    "#     diffs = phases_dict[ws_ids[i + 1]] - phases_dict[ws_ids[i]]\n",
    "#     for j in range(len(diffs)):\n",
    "#         for k in range(2):\n",
    "#             if diffs[j, k] < 0:\n",
    "#                 diffs[j, k] += 2 * np.pi\n",
    "#     axes[0].plot(np.degrees(diffs[:, 0]), color=colors[i], marker='.')\n",
    "#     axes[1].plot(np.degrees(diffs[:, 1]), color=colors[i], marker='.')\n",
    "#     axes[2].plot(np.degrees(np.abs(diffs[:, 0] - diffs[:, 1])), color=colors[i], marker='.')\n",
    "# for ax in axes:\n",
    "#     ax.grid(axis='y')\n",
    "# labels = [r'{} $\\rightarrow$ {}'.format(ws_ids[i], ws_ids[i + 1]) for i in range(len(ws_ids) - 1)]\n",
    "# axes[2].legend(labels=labels, ncol=1, loc=(1.02, 0))\n",
    "# axes[0].set_title(r'Horizontal: $\\Delta\\mu_x$')\n",
    "# axes[1].set_title(r'Vertical: $\\Delta\\mu_y$')\n",
    "# axes[2].set_title(r'Difference: $\\left| \\Delta\\mu_x - \\Delta\\mu_y \\right|$')\n",
    "# axes.format(ylabel='Gap', yformatter='deg', suptitle='Wire-scanner phase spacing',\n",
    "#             xlabel='Measurement index', xtickminor=False, xticks=range(n_meas))\n",
    "# plt.savefig('_output/figures/phase_gaps.png', **savefig_kws)"
   ]
  },
  {
   "cell_type": "code",
   "execution_count": null,
   "metadata": {},
   "outputs": [],
   "source": [
    "fig, axes = pplt.subplots(ncols=4, figsize=(8, 2))\n",
    "xmax = 0.\n",
    "for ax, ws_id in zip(axes, ws_ids):\n",
    "    ax.set_title(ws_id, fontsize='small')\n",
    "    for sig_xx, sig_yy, sig_xy in moments_dict[ws_id]:\n",
    "        angle, c1, c2 = ba._rms_ellipse_dims(sig_xx, sig_yy, sig_xy)\n",
    "        xmax = max(xmax, c1, c2)\n",
    "        myplt.ellipse(ax, c1, c2, angle)\n",
    "xmax *= 1.5\n",
    "axes.format(xlim=(-xmax, xmax), ylim=(-xmax, xmax), \n",
    "            xlabel='x [mm]', ylabel='y [mm]',\n",
    "            suptitle='Measured rms ellipses in x-y plane')\n",
    "plt.savefig('_output/figures/corr.png', **savefig_kws)"
   ]
  },
  {
   "cell_type": "code",
   "execution_count": null,
   "metadata": {
    "tags": []
   },
   "outputs": [],
   "source": [
    "# fig, axes = pplt.subplots(ncols=3, figsize=(8, 2.0), sharex=False)\n",
    "# handles = []\n",
    "# ws_id = 'RTBT_Diag:WS24'\n",
    "\n",
    "# meas_index = 0\n",
    "# plot_kws = dict(marker='.', ms=0, color='black')\n",
    "# axes[0].plot(pos_x_dict[ws_id][meas_index], raw_x_dict[ws_id][meas_index], **plot_kws)\n",
    "# axes[1].plot(pos_y_dict[ws_id][meas_index], raw_y_dict[ws_id][meas_index], **plot_kws)\n",
    "# g1 = axes[2].plot(pos_u_dict[ws_id][meas_index], raw_u_dict[ws_id][meas_index], **plot_kws)\n",
    "\n",
    "# meas_index = 4\n",
    "# plot_kws = dict(marker='.', lw=0, color='red', ms=1.75)\n",
    "# axes[0].plot(pos_x_dict[ws_id][meas_index], raw_x_dict[ws_id][meas_index], **plot_kws)\n",
    "# axes[1].plot(pos_y_dict[ws_id][meas_index], raw_y_dict[ws_id][meas_index], **plot_kws)\n",
    "# g2 = axes[2].plot(pos_u_dict[ws_id][meas_index], raw_u_dict[ws_id][meas_index], **plot_kws)\n",
    "\n",
    "# axes[0].format(xlabel='x [mm]')\n",
    "# axes[1].format(xlabel='y [mm]')\n",
    "# axes[2].format(xlabel='u [mm]')\n",
    "# for ax in axes:\n",
    "#     ax.grid(axis='y')\n",
    "\n",
    "# axes[2].legend([g1, g2], ['Measurment 1', 'Measurement 2'], loc='top', fontsize='medium', framealpha=0)\n",
    "# plt.savefig('_output/figures/WS comparison.png', **savefig_kws)"
   ]
  },
  {
   "cell_type": "code",
   "execution_count": null,
   "metadata": {},
   "outputs": [],
   "source": [
    "ws_plot_kws = dict(marker='.', ms=3, alpha=0.7)\n",
    "width = 120.\n",
    "xcenter = 120.\n",
    "ycenter = 95.\n",
    "ucenter = 100.\n",
    "xlim_x = (xcenter - 0.5 * width, xcenter + 0.5 * width)\n",
    "xlim_y = (ycenter - 0.5 * width, ycenter + 0.5 * width)\n",
    "xlim_u = (ucenter - 0.5 * width, ucenter + 0.5 * width)\n",
    "\n",
    "# for same_ylim in [False, True]:\n",
    "\n",
    "#     # Get global maximum signal height.\n",
    "#     ymax = 0.\n",
    "#     for meas_index in range(n_meas):\n",
    "#         measurement = measurements[meas_index]\n",
    "#         for ws_id in ws_ids:\n",
    "#             fx = measurement[ws_id].hor.raw\n",
    "#             fy = measurement[ws_id].ver.raw\n",
    "#             fu = measurement[ws_id].dia.raw            \n",
    "#             ymax = max(ymax, max(np.max(fx), np.max(fy), np.max(fu)))\n",
    "\n",
    "#     for meas_index in range(n_meas):\n",
    "#         measurement = measurements[meas_index]\n",
    "#         fig, axes = pplt.subplots(ncols=3, figsize=(8, 2.0), sharex=False)\n",
    "#         axes.format(cycle='538', rc_kw={'legend.fontsize': 5}, **format_kws)\n",
    "#         handles = []\n",
    "#         for ws_id in ws_ids:\n",
    "#             axes[0].plot(measurement[ws_id].hor.pos, measurement[ws_id].hor.raw, **ws_plot_kws)\n",
    "#             axes[1].plot(measurement[ws_id].ver.pos, measurement[ws_id].ver.raw, **ws_plot_kws)\n",
    "#             g = axes[2].plot(measurement[ws_id].dia.pos, measurement[ws_id].dia.raw, **ws_plot_kws)            \n",
    "#             handles.append(g)\n",
    "#         axes[0].format(xlabel='x [mm]')\n",
    "#         axes[1].format(xlabel='y [mm]')\n",
    "#         axes[2].format(xlabel='u [mm]')\n",
    "#         if same_ylim:\n",
    "#             ymin = axes[0].get_ylim()[0]\n",
    "#             axes.format(ylim=(ymin, ymax))\n",
    "#         axes[0].set_xlim(xlim_x)\n",
    "#         axes[1].set_xlim(xlim_y)\n",
    "#         axes[2].set_xlim(xlim_u)\n",
    "#         axes[2].legend(handles, labels=ws_ids, ncols=1, loc='r')\n",
    "        \n",
    "#         if xlabel == 'Turn number':\n",
    "#             plt.suptitle('Turn = {}'.format(xvals[meas_index]))\n",
    "#         else:\n",
    "#             plt.suptitle('Measurement index = {}'.format(meas_index))\n",
    "        \n",
    "#         if same_ylim:\n",
    "#             figname = '_output/figures/profiles_sameylim_{}.png'.format(meas_index)\n",
    "#         else:\n",
    "#             figname = '_output/figures/profiles_{}.png'.format(meas_index)\n",
    "#         plt.savefig(figname, **savefig_kws)\n",
    "#         plt.show()\n",
    "        \n",
    "#     print()\n",
    "#     print()"
   ]
  },
  {
   "cell_type": "code",
   "execution_count": null,
   "metadata": {
    "tags": []
   },
   "outputs": [],
   "source": [
    "meas_index = -1\n",
    "measurement = measurements[-1]\n",
    "colors = pplt.Cycle('538').by_key()['color']\n",
    "\n",
    "fig, axes = pplt.subplots(nrows=2, ncols=3, figsize=(8.0, 4.25), sharex=False, sharey=False, height_ratios=[1.0, 1.25], hspace=5.0)\n",
    "axes.format(cycle='538', rc_kw={'legend.fontsize': 'small'}, **format_kws)\n",
    "handles = []\n",
    "for ws_id in ws_ids:\n",
    "    axes[0, 0].plot(measurement[ws_id].hor.pos, measurement[ws_id].hor.raw, **ws_plot_kws)\n",
    "    axes[0, 1].plot(measurement[ws_id].ver.pos, measurement[ws_id].ver.raw, **ws_plot_kws)\n",
    "    g = axes[0, 2].plot(measurement[ws_id].dia.pos, measurement[ws_id].dia.raw, **ws_plot_kws)\n",
    "    handles.append(g)\n",
    "    axes[0, 0].set_xlabel('x [mm]', fontsize='large')\n",
    "    axes[0, 1].set_xlabel('y [mm]', fontsize='large')\n",
    "    axes[0, 2].set_xlabel('u [mm]', fontsize='large')\n",
    "axes[0, 0].set_xlim(xlim_x)\n",
    "axes[0, 1].set_xlim(xlim_y)\n",
    "axes[0, 2].set_xlim(xlim_u)\n",
    "    \n",
    "# pplt.rc['legend.fontsize'] = 8 # 'fontsize' doesn't work in the plot call!\n",
    "axes[0, 2].legend(handles, \n",
    "                  labels=[w.split(':')[-1] for w in ws_ids], \n",
    "                  ncols=2, loc='top', handlelength=1.5)\n",
    "\n",
    "kws = dict(marker='.')\n",
    "for ws_id, color in zip(ws_ids, colors):\n",
    "    axes[1, 0].plot(xvals, np.sqrt(moments_dict[ws_id][:, 0]), **kws)\n",
    "    axes[1, 1].plot(xvals, np.sqrt(moments_dict[ws_id][:, 1]), **kws)\n",
    "    axes[1, 2].plot(xvals, moments_dict[ws_id][:, 2] / np.sqrt(moments_dict[ws_id][:, 0] * moments_dict[ws_id][:, 1]), **kws)\n",
    "axes[0, 0].set_ylabel('Signal', fontsize='large')\n",
    "axes[0, 1:].format(yticklabels=[])\n",
    "axes[1, 2].format(ylim=(-0.5, 0.5))\n",
    "\n",
    "\n",
    "axes[1, :2].format(ylim=(0., max(ax.get_ylim()[1] for ax in axes[1, :2])))\n",
    "axes[1, 0].set_ylabel('[mm]')\n",
    "\n",
    "axes[1, 0].set_ylabel(r'$\\sqrt{\\langle{xx}\\rangle}$ [mm]', fontsize='large')\n",
    "axes[1, 1].set_ylabel(r'$\\sqrt{\\langle{yy}\\rangle}$ [mm]', fontsize='large')\n",
    "axes[1, 2].set_ylabel('x-y corr. coef.', fontsize='large')\n",
    "for ax in axes[1, :]:\n",
    "    ax.set_xlabel('Turn number', fontsize='large')\n",
    "    ax.set_xlim(0, ax.get_xlim()[1])\n",
    "    \n",
    "plt.savefig('_output/figures/wirescanner_measurements.png', **savefig_kws)"
   ]
  },
  {
   "cell_type": "code",
   "execution_count": null,
   "metadata": {},
   "outputs": [],
   "source": [
    "# emittances = []\n",
    "# nkeep = list(range(1, n_meas))\n",
    "# for j in nkeep:\n",
    "#     tmats_list, moments_list = [], []\n",
    "#     for ws_id in ws_ids:\n",
    "#         tmats_list.extend(tmats_dict[ws_id][:j])\n",
    "#         moments_list.extend(moments_dict[ws_id][:j])\n",
    "#     Sigma = reconstruct(tmats_list, moments_list)\n",
    "#     emittances.append(ba.emittances(Sigma))\n",
    "# emittances = np.array(emittances)\n",
    "    \n",
    "# fig, ax = pplt.subplots()\n",
    "# ax.plot(nkeep, np.sqrt(emittances[:, 0] * emittances[:, 1]) - np.sqrt(eps_x * eps_y), \n",
    "#         marker='.', color='red8')\n",
    "# ax.plot(nkeep, np.sqrt(emittances[:, 2] * emittances[:, 3]) - np.sqrt(eps_1 * eps_2),\n",
    "#         marker='.', color='blue8')\n",
    "# ax.legend(labels=[r'$\\sqrt{\\varepsilon_x\\varepsilon_y}$', r'$\\sqrt{\\varepsilon_1\\varepsilon_2}$'], ncols=2)\n",
    "# ax.format(xlabel='Number of measurements used', ylabel='Difference from full fit [mm mrad]')\n",
    "# plt.savefig('_output/figures/nmeas.png', facecolor='white', dpi=300)"
   ]
  },
  {
   "cell_type": "markdown",
   "metadata": {},
   "source": [
    "## Reconstruction from all measurements"
   ]
  },
  {
   "cell_type": "markdown",
   "metadata": {},
   "source": [
    "This section assumes that all measurements correspond to the same beam. Ignore it if that is not true."
   ]
  },
  {
   "cell_type": "code",
   "execution_count": null,
   "metadata": {},
   "outputs": [],
   "source": [
    "tmats_list, moments_list = [], []\n",
    "for ws_id in ws_ids:\n",
    "    tmats_list.extend(tmats_dict[ws_id])\n",
    "    moments_list.extend(moments_dict[ws_id])"
   ]
  },
  {
   "cell_type": "code",
   "execution_count": null,
   "metadata": {},
   "outputs": [],
   "source": [
    "Sigma, C = analysis.reconstruct(tmats_list, moments_list)\n",
    "\n",
    "Corr = utils.cov2corr(Sigma)\n",
    "alpha_x, alpha_y, beta_x, beta_y = ba.twiss2D(Sigma)\n",
    "eps_x, eps_y, eps_1, eps_2 = ba.emittances(Sigma)\n",
    "eps_4D = eps_1 * eps_2\n",
    "coupling_coeff = 1.0 - np.sqrt((eps_1 * eps_2) / (eps_x * eps_y))"
   ]
  },
  {
   "cell_type": "code",
   "execution_count": null,
   "metadata": {},
   "outputs": [],
   "source": [
    "Sigma_std = analysis.to_mat(np.sqrt(C.diagonal()))\n",
    "eps_x_std, eps_y_std, eps_1_std, eps_2_std = analysis.propagate_emittance_errors(Sigma, C)\n",
    "alpha_x_std, alpha_y_std, beta_x_std, beta_y_std = analysis.propagate_twiss_errors(Sigma, C)\n",
    "eps_4D_std = analysis.get_eps4D_std(eps_1, eps_2, eps_1_std, eps_2_std)"
   ]
  },
  {
   "cell_type": "code",
   "execution_count": null,
   "metadata": {},
   "outputs": [],
   "source": [
    "print('Sigma =')\n",
    "print(Sigma)\n",
    "print('Standard deviation in Sigma from LLSQ =')\n",
    "print(Sigma_std)\n",
    "print('Corr =')\n",
    "print(Corr)\n",
    "print('eps_4D = {:.3f} +- {:.3f} [mm^2 mrad^2]'.format(eps_4D, eps_4D_std))\n",
    "print('eps_1 = {:.3f} +- {:.3f} [mm mrad]'.format(eps_1, eps_1_std))\n",
    "print('eps_2 = {:.3f} +- {:.3f} [mm mrad]'.format(eps_2, eps_2_std))\n",
    "print('eps_x = {:.3f} +- {:.3f} [mm mrad]'.format(eps_x, eps_x_std))\n",
    "print('eps_y = {:.3f} +- {:.3f} [mm mrad]'.format(eps_y, eps_y_std))\n",
    "print('beta_x = {:.3f} +- {:.3f} [m/rad]'.format(beta_x, beta_x_std))\n",
    "print('beta_y = {:.3f} +- {:.3f} [m/rad]'.format(beta_y, beta_y_std))\n",
    "print('alpha_x = {:.3f} +- {:.3f} [m/rad]'.format(alpha_x, alpha_x_std))\n",
    "print('alpha_y = {:.3f} +- {:.3f} [m/rad]'.format(alpha_y, alpha_y_std))\n",
    "print('Coupling coefficient = {}'.format(coupling_coeff))"
   ]
  },
  {
   "cell_type": "code",
   "execution_count": null,
   "metadata": {},
   "outputs": [],
   "source": [
    "norm = '2D'\n",
    "V = np.identity(4)\n",
    "if norm == '2D':\n",
    "    alpha_x, alpha_y, beta_x, beta_y = ba.twiss2D(Sigma)\n",
    "    V = V_matrix_4x4_uncoupled(alpha_x, alpha_y, beta_x, beta_y)\n",
    "elif norm == '4D':\n",
    "    U = np.array([[0, 1, 0, 0], [-1, 0, 0, 0], [0, 0, 0, 1], [0, 0, -1, 0]])\n",
    "    eigvals, eigvecs = np.linalg.eig(np.matmul(Sigma, U))\n",
    "    V = BL.construct_V(eigvecs)\n",
    "Vinv = np.linalg.inv(V)\n",
    "Sigma_n = np.linalg.multi_dot([Vinv, Sigma, Vinv.T])"
   ]
  },
  {
   "cell_type": "code",
   "execution_count": null,
   "metadata": {},
   "outputs": [],
   "source": [
    "axes = myplt.rms_ellipses(Sigma, color='black', pad=0.75, alpha=0.15, fill=True, lw=0, zorder=0)\n",
    "plt.suptitle('Reconstructed phase space')\n",
    "reconstruction_lines(axes[2, 2], tmats_dict, moments_dict, plane='y-yp')\n",
    "reconstruction_lines(axes[0, 0], tmats_dict, moments_dict, plane='x-xp',\n",
    "                     legend=True, legend_kws=dict(loc=(1.15, 0)))\n",
    "plt.savefig('_output/figures/corner.png', **savefig_kws)"
   ]
  },
  {
   "cell_type": "code",
   "execution_count": null,
   "metadata": {},
   "outputs": [],
   "source": [
    "axes = myplt.rms_ellipses(Sigma_n, color='black', pad=0.75, alpha=0.15, fill=True, lw=0, zorder=0)\n",
    "plt.suptitle('Reconstructed phase space (normalized {})'.format(norm))\n",
    "reconstruction_lines(axes[2, 2], tmats_dict, moments_dict, plane='y-yp', norm_mat=V)\n",
    "reconstruction_lines(axes[0, 0], tmats_dict, moments_dict, plane='x-xp', norm_mat=V,\n",
    "                     legend=True, legend_kws=dict(loc=(1.15, 0)))\n",
    "labels = [\"x [mm]\", \"x' [mrad]\", \"y [mm]\", \"y' [mrad]\"]\n",
    "for i in range(3):\n",
    "    axes[i, 0].set_ylabel(labels[i + 1])\n",
    "    axes[-1, i].set_xlabel(labels[i])\n",
    "plt.savefig('_output/figures/corner_norm.png', **savefig_kws)"
   ]
  },
  {
   "cell_type": "code",
   "execution_count": null,
   "metadata": {
    "tags": []
   },
   "outputs": [],
   "source": [
    "# ellipse_kws = dict(color=\"black\", alpha=0.15, fill=True, lw=0, zorder=0)\n",
    "# line_kws = dict(lw=1.1)\n",
    "\n",
    "# fig, axes = pplt.subplots(ncols=2, figsize=None, spanx=False, spany=False, sharex=False, sharey=False)\n",
    "# reconstruction_lines(axes[0], tmats_dict, moments_dict, plane=\"x-xp\", norm_mat=V, \n",
    "#                      legend=True, legend_kws=dict(loc='top', framealpha=0., ncol=2), **line_kws\n",
    "#                     )\n",
    "# reconstruction_lines(axes[1], tmats_dict, moments_dict, plane=\"y-yp\", norm_mat=V, **line_kws)\n",
    "# angle, c1, c2 = ba.rms_ellipse_dims(Sigma_n, \"x\", \"xp\")\n",
    "# myplt.ellipse(axes[0], c1, c2, angle, **ellipse_kws)\n",
    "# angle, c1, c2 = ba.rms_ellipse_dims(Sigma_n, \"y\", \"yp\")\n",
    "# myplt.ellipse(axes[1], c1, c2, angle, **ellipse_kws)\n",
    "# axes.format(xlim=(-10, 10), ylim=(-10, 10))\n",
    "# label_kws = dict(fontsize=12)\n",
    "# axes[0].set_xlabel(r\"$x_n$\", **label_kws)\n",
    "# axes[0].set_ylabel(r\"$x'_n$\", **label_kws)\n",
    "# axes[1].set_xlabel(r\"$y_n$\", **label_kws)\n",
    "# axes[1].set_ylabel(r\"$y'_n$\", **label_kws)\n",
    "# axes.format(aspect=1)\n",
    "# plt.savefig('_output/figures/rec_lines.png', **savefig_kws)"
   ]
  },
  {
   "cell_type": "markdown",
   "metadata": {},
   "source": [
    "## Reconstruction at each measurement"
   ]
  },
  {
   "cell_type": "code",
   "execution_count": null,
   "metadata": {},
   "outputs": [],
   "source": [
    "Sigmas = []\n",
    "Cmats = []\n",
    "for meas_index in range(n_meas):\n",
    "    transfer_matrices, moments = [], []\n",
    "    for ws_id in ws_ids:\n",
    "        transfer_matrices.append(tmats_dict[ws_id][meas_index])\n",
    "        moments.append(moments_dict[ws_id][meas_index])\n",
    "    Sigma, C = analysis.reconstruct(transfer_matrices, moments)\n",
    "    Sigmas.append(Sigma)\n",
    "    Cmats.append(C)"
   ]
  },
  {
   "cell_type": "code",
   "execution_count": null,
   "metadata": {},
   "outputs": [],
   "source": [
    "stats = ba.BeamStats()\n",
    "stats.read_moments(np.array([Sigma[np.triu_indices(4)] for Sigma in Sigmas]))"
   ]
  },
  {
   "cell_type": "code",
   "execution_count": null,
   "metadata": {},
   "outputs": [],
   "source": [
    "Sigma_stds = np.array([analysis.to_mat(np.sqrt(C.diagonal())) for C in Cmats])\n",
    "emittance_stds = np.array([analysis.propagate_emittance_errors(Sigma, C) \n",
    "                           for Sigma, C in zip(Sigmas, Cmats)])\n",
    "twiss_stds = np.array([analysis.propagate_twiss_errors(Sigma, C) \n",
    "                       for Sigma, C in zip(Sigmas, Cmats)])\n",
    "eps_4D_stds = np.sqrt((emittance_stds[:, 2] * stats.twiss4D['eps_2'])**2 + (emittance_stds[:, 3] * stats.twiss4D['eps_1'])**2)\n",
    "eps_4D_apparent_stds = np.sqrt((emittance_stds[:, 0] * stats.twiss2D['eps_y'])**2 + (emittance_stds[:, 1] * stats.twiss2D['eps_x'])**2)"
   ]
  },
  {
   "cell_type": "code",
   "execution_count": null,
   "metadata": {},
   "outputs": [],
   "source": [
    "fig, ax = pplt.subplots(figsize=(3.5, 2.5))\n",
    "plt_kws = dict(marker='.', capsize=1.5)\n",
    "g1 = ax.errorbar(xvals, stats.twiss2D['eps_x'], yerr=emittance_stds[:, 0], **plt_kws)\n",
    "g2 = ax.errorbar(xvals, stats.twiss2D['eps_y'], yerr=emittance_stds[:, 1], **plt_kws)\n",
    "\n",
    "# Hard-code the fractional intrinsic emittance error for now. \n",
    "frac_err = 0.04\n",
    "g3 = ax.errorbar(xvals, stats.twiss4D['eps_1'], yerr=frac_err * stats.twiss4D['eps_1'], **plt_kws)\n",
    "g4 = ax.errorbar(xvals, stats.twiss4D['eps_2'], yerr=frac_err * stats.twiss4D['eps_2'], **plt_kws)\n",
    "\n",
    "lkws = dict(marker='.')\n",
    "lines = [\n",
    "    Line2D([0], [0], color=myplt.DEFAULT_COLORCYCLE[0], **lkws),\n",
    "    Line2D([0], [0], color=myplt.DEFAULT_COLORCYCLE[1], **lkws),\n",
    "    Line2D([0], [0], color=myplt.DEFAULT_COLORCYCLE[2], **lkws),\n",
    "    Line2D([0], [0], color=myplt.DEFAULT_COLORCYCLE[3], **lkws),\n",
    "]\n",
    "ax.legend(lines, labels=eps_labels, loc='upper left', ncols=1, handlelength=1.5)\n",
    "ax.format(xlabel=xlabel, ylabel='[mm mrad]', \n",
    "          ylim=(0., ax.get_ylim()[1]), \n",
    "          xlim=(0, ax.get_xlim()[1]),\n",
    "          **format_kws\n",
    "         )\n",
    "# ax.format(ylim=(0., 12.2))\n",
    "plt.savefig('_output/figures/emittances.png', **savefig_kws)"
   ]
  },
  {
   "cell_type": "markdown",
   "metadata": {},
   "source": [
    "### Adding errors"
   ]
  },
  {
   "cell_type": "markdown",
   "metadata": {},
   "source": [
    "These are the absolute differences between the xx, yy, and xy moments for the two measurements we took at 400 turns at each wire-scanner."
   ]
  },
  {
   "cell_type": "code",
   "execution_count": null,
   "metadata": {},
   "outputs": [],
   "source": [
    "meas1 = pta.Measurement('_saved/2021-10-21/setting2/injturns400/turn400/WireAnalysisFmt-2021.10.21_19.22.35.pta.txt')\n",
    "meas2 = pta.Measurement('_saved/2021-10-21/setting2/injturns400/ramp_turns/profiles/WireAnalysisFmt-2021.10.21_20.32.41.pta.txt')\n",
    "moments_dict1 = meas1.get_moments()\n",
    "moments_dict2 = meas2.get_moments()\n",
    "deltas = dict()\n",
    "for ws_id in ws_ids:    \n",
    "    sig_xx1, sig_yy1, sig_xy1 = moments_dict1[ws_id]\n",
    "    sig_xx2, sig_yy2, sig_xy2 = moments_dict2[ws_id]\n",
    "    delta_sig_xx = abs(sig_xx1 - sig_xx2)\n",
    "    delta_sig_yy = abs(sig_yy1 - sig_yy2)\n",
    "    delta_sig_xy = abs(sig_xy1 - sig_xy2)\n",
    "    deltas[ws_id] = [delta_sig_xx, delta_sig_yy, delta_sig_xy]"
   ]
  },
  {
   "cell_type": "code",
   "execution_count": null,
   "metadata": {},
   "outputs": [],
   "source": [
    "for ws_id in ws_ids:\n",
    "    print(ws_id, deltas[ws_id])"
   ]
  },
  {
   "cell_type": "markdown",
   "metadata": {},
   "source": [
    "Plot the profiles."
   ]
  },
  {
   "cell_type": "code",
   "execution_count": null,
   "metadata": {},
   "outputs": [],
   "source": [
    "for ws_id in ws_ids:\n",
    "    profile1 = meas1[ws_id]\n",
    "    profile2 = meas2[ws_id]\n",
    "    fig, axes = pplt.subplots(ncols=3, figsize=(8, 2))\n",
    "    plot_kws1 = dict(lw=1.0)\n",
    "    plot_kws2 = dict(lw=0.0, marker='.', alpha=0.7, ms=3)\n",
    "    axes.format(suptitle=ws_id)\n",
    "    axes[0].plot(profile1.hor.pos, profile1.hor.raw, color='black', **plot_kws1)\n",
    "    axes[0].plot(profile2.hor.pos, profile2.hor.raw, color='red', **plot_kws2)\n",
    "\n",
    "    axes[1].plot(profile1.ver.pos, profile1.ver.raw, color='black', **plot_kws1)\n",
    "    axes[1].plot(profile2.ver.pos, profile2.ver.raw, color='red', **plot_kws2)\n",
    "\n",
    "    axes[2].plot(profile1.dia.pos, profile1.dia.raw, color='black', **plot_kws1)\n",
    "    axes[2].plot(profile2.dia.pos, profile2.dia.raw, color='red', **plot_kws2)\n",
    "\n",
    "    axes[0].set_title('Horizontal')\n",
    "    axes[1].set_title('Vertical')\n",
    "    axes[2].set_title('Diagonal')\n",
    "    \n",
    "    annotate_kws = dict(xycoords='axes fraction', fontsize='small')\n",
    "    xy1 = (0.01, 0.92)\n",
    "    xy2 = (0.01, 0.82)\n",
    "    xy3 = (0.01, 0.75)\n",
    "    sig1 = meas1[ws_id].hor.stats['Sigma'].rms\n",
    "    sig2 = meas2[ws_id].hor.stats['Sigma'].rms\n",
    "    abs_err = abs((sig1**2 - sig2**2))\n",
    "    abs_frac_err = abs_err / (min(sig1, sig2)**2)\n",
    "    axes[0].annotate(r'$\\sigma_1^2$ = {:.3f}'.format(sig1**2), xy=xy1, **annotate_kws)\n",
    "    axes[0].annotate(r'$\\sigma_2^2$ = {:.3f}'.format(sig2**2), xy=xy2, **annotate_kws)\n",
    "    axes[0].annotate('abs. frac. err. = {:.3f}'.format(abs_frac_err), xy=xy3, **annotate_kws)\n",
    "    sig1 = meas1[ws_id].ver.stats['Sigma'].rms\n",
    "    sig2 = meas2[ws_id].ver.stats['Sigma'].rms\n",
    "    abs_err = abs((sig1**2 - sig2**2))\n",
    "    abs_frac_err = abs_err / (min(sig1, sig2)**2)\n",
    "    axes[1].annotate(r'$\\sigma_1^2$ = {:.3f}'.format(sig1**2), xy=xy1, **annotate_kws)\n",
    "    axes[1].annotate(r'$\\sigma_2^2$ = {:.3f}'.format(sig2**2), xy=xy2, **annotate_kws)\n",
    "    axes[1].annotate('abs. frac. err. = {:.3f}'.format(abs_frac_err), xy=xy3, **annotate_kws)\n",
    "    sig1 = meas1[ws_id].dia.stats['Sigma'].rms\n",
    "    sig2 = meas2[ws_id].dia.stats['Sigma'].rms\n",
    "    abs_err = abs((sig1**2 - sig2**2))\n",
    "    abs_frac_err = abs_err / (min(sig1, sig2)**2)\n",
    "    axes[2].annotate(r'$\\sigma_1^2$ = {:.3f}'.format(sig1**2), xy=xy1, **annotate_kws)\n",
    "    axes[2].annotate(r'$\\sigma_2^2$ = {:.3f}'.format(sig2**2), xy=xy2, **annotate_kws)\n",
    "    axes[2].annotate('abs. frac. err. = {:.3f}'.format(abs_frac_err), xy=xy3, **annotate_kws)\n",
    "    \n",
    "    plt.savefig('_output/figures/profiles_{}.png'.format(ws_id), facecolor='white', **savefig_kws)\n",
    "\n",
    "#     dx = 60\n",
    "#     mean = profile1.hor.stats['Mean'].rms\n",
    "#     axes[0].set_xlim(mean - dx, mean + dx)\n",
    "\n",
    "#     mean = profile1.ver.stats['Mean'].rms\n",
    "#     axes[1].set_xlim(mean - dx, mean + dx)\n",
    "\n",
    "#     mean = profile1.dia.stats['Mean'].rms\n",
    "#     axes[2].set_xlim(mean - dx, mean + dx)"
   ]
  },
  {
   "cell_type": "markdown",
   "metadata": {},
   "source": [
    "I think the xy calculation is pretty sensitive. The biggest error there is at WS21, when the difference in xx moments is largest. We will now add random errors to the measurements."
   ]
  },
  {
   "cell_type": "code",
   "execution_count": null,
   "metadata": {},
   "outputs": [],
   "source": [
    "n_trials = 5000\n",
    "emittances_list = []\n",
    "emittances_mean_list = []\n",
    "emittances_std_list = []\n",
    "Sigmas_mean_list = []\n",
    "Sigmas_std_list = []\n",
    "turns = xvals\n",
    "\n",
    "# Set minimum and maximum errors on measured moments.\n",
    "err_sig_xx_max = 5.0 # [mm mrad]\n",
    "err_sig_yy_max = 5.0 # [mm mrad]\n",
    "err_sig_uu_max = 5.0 # [mm mrad]\n",
    "err_sig_xx_min = 2.0 # [mm mrad]\n",
    "err_sig_yy_min = 2.0 # [mm mrad]\n",
    "err_sig_uu_min = 2.0 # [mm mrad]\n",
    "    \n",
    "# Collect transfer matrices and measured moments.\n",
    "for meas_index in meas_indices:\n",
    "    measurement = measurements[meas_index]\n",
    "    transfer_matrices, moments = [], []\n",
    "    for ws_id in ws_ids:\n",
    "        transfer_matrices.append(tmats_dict[ws_id][meas_index])\n",
    "        sig_xx = (measurement[ws_id].hor.stats['Sigma'].rms)**2\n",
    "        sig_yy = (measurement[ws_id].ver.stats['Sigma'].rms)**2\n",
    "        sig_uu = (measurement[ws_id].dia.stats['Sigma'].rms)**2\n",
    "        moments.append([sig_xx, sig_yy, sig_uu])\n",
    "    moments = np.array(moments)\n",
    "\n",
    "    # Reconstruct with noise.  \n",
    "#     ws_noise_index = 'all'\n",
    "#     reduce = float(turns[meas_index]) / turns[-1]\n",
    "#     err_sig_xx = max(err_sig_xx_min, err_sig_xx_max * reduce)\n",
    "#     err_sig_yy = max(err_sig_yy_min, err_sig_yy_max * reduce)\n",
    "#     err_sig_uu = max(err_sig_uu_min, err_sig_uu_max * reduce)\n",
    "#     errs = np.array([err_sig_xx, err_sig_yy, err_sig_uu])\n",
    "#     print('max random errors:', errs)\n",
    "\n",
    "    f = 0.02\n",
    "    lo = 1.0 - f\n",
    "    hi = 1.0 + f\n",
    "    \n",
    "    # Monte Carlo\n",
    "    def run_trial():\n",
    "        _moments = np.random.uniform(lo * moments, hi * moments, size=moments.shape)\n",
    "#         _moments = moments * (1.0 + np.random.normal(scale=f, size=moments.shape))\n",
    "        _moments[:, 2] = pta.get_sig_xy(_moments[:, 0], _moments[:, 1], _moments[:, 2], pta.DIAG_WIRE_ANGLE)\n",
    "        Sigma, C = analysis.reconstruct(transfer_matrices, _moments)\n",
    "        return Sigma\n",
    "    \n",
    "    emittances = []\n",
    "    Sigmas = []\n",
    "    fails = 0\n",
    "    for _ in trange(n_trials):\n",
    "        failed = True\n",
    "        while failed:\n",
    "            Sigma = run_trial()\n",
    "            failed = not analysis.is_physical_cov(Sigma)\n",
    "            if failed:\n",
    "                fails += 1\n",
    "        emittances.append(ba.emittances(Sigma))\n",
    "        Sigmas.append(Sigma)\n",
    "        \n",
    "    emittances = np.array(emittances)\n",
    "    emittances_mean = np.mean(emittances, axis=0)\n",
    "    emittances_std = np.std(emittances, axis=0)\n",
    "    Sigmas = np.array(Sigmas)\n",
    "    Sigmas_mean = np.mean(Sigmas, axis=0)\n",
    "    Sigmas_std = np.std(Sigmas, axis=0)\n",
    "    print('means:', emittances_mean)\n",
    "    print('stds:', emittances_std)\n",
    "    print('fails = {}'.format(fails))\n",
    "    \n",
    "    emittances_list.append(emittances)\n",
    "    emittances_mean_list.append(emittances_mean)\n",
    "    emittances_std_list.append(emittances_std)\n",
    "    Sigmas_mean_list.append(Sigmas_mean)\n",
    "    Sigmas_std_list.append(Sigmas_std)\n",
    "    \n",
    "emittances_list = np.array(emittances_list)\n",
    "emittances_mean_list = np.array(emittances_mean_list)\n",
    "emittances_std_list = np.array(emittances_std_list)\n",
    "Sigmas_mean_list = np.array(Sigmas_mean_list)\n",
    "Sigmas_std_list = np.array(Sigmas_std_list)"
   ]
  },
  {
   "cell_type": "code",
   "execution_count": null,
   "metadata": {},
   "outputs": [],
   "source": [
    "for meas_index in meas_indices:\n",
    "    emittances = emittances_list[meas_index]\n",
    "    g = sns.pairplot(pd.DataFrame(emittances, columns=[r'$\\varepsilon_x$', r'$\\varepsilon_y$', \n",
    "                                                       r'$\\varepsilon_1$', r'$\\varepsilon_2$']), \n",
    "                     kind='hist', corner=False, height=1.5, diag_kws=dict(color='black'), plot_kws=dict(cmap='mono'))\n",
    "\n",
    "    eps_x_rec, eps_y_rec = stats.twiss2D.loc[meas_index, ['eps_x', 'eps_y']].values\n",
    "    eps_1_rec, eps_2_rec = stats.twiss4D.loc[meas_index, ['eps_1', 'eps_2']].values\n",
    "    emittances_rec = [eps_x_rec, eps_y_rec, eps_1_rec, eps_2_rec]\n",
    "    for i in range(4):\n",
    "        for j in range(4):\n",
    "            if i != j:\n",
    "                g.axes[i, j].scatter(emittances_rec[j], emittances_rec[i], c='red', s=10)\n",
    "            else:\n",
    "                g.diag_axes[j].axvline(emittances_rec[j], c='red')\n",
    "    plt.suptitle('meas_index = {}'.format(meas_index))\n",
    "#     plt.tight_layout()\n",
    "    plt.savefig('_output/figures/eps_rand_{}.png'.format(meas_index), facecolor='white', **savefig_kws)\n",
    "    plt.show()"
   ]
  },
  {
   "cell_type": "code",
   "execution_count": null,
   "metadata": {},
   "outputs": [],
   "source": [
    "fig, ax = pplt.subplots(figsize=(3.5, 2.5))\n",
    "capsize = 1.5\n",
    "plt_kws = dict(marker=None, lw=0, elinewidth=1.2, capsize=capsize)\n",
    "g1 = ax.errorbar(xvals, emittances_mean_list[:, 0], yerr=emittances_std_list[:, 0], **plt_kws)\n",
    "g2 = ax.errorbar(xvals, emittances_mean_list[:, 1], yerr=emittances_std_list[:, 1], **plt_kws)\n",
    "g3 = ax.errorbar(xvals, emittances_mean_list[:, 2], yerr=emittances_std_list[:, 2], **plt_kws)\n",
    "g4 = ax.errorbar(xvals, emittances_mean_list[:, 3], yerr=emittances_std_list[:, 3], **plt_kws)\n",
    "lkws = dict(marker='.')\n",
    "lines = [\n",
    "    Line2D([0], [0], color=myplt.DEFAULT_COLORCYCLE[0], **lkws),\n",
    "    Line2D([0], [0], color=myplt.DEFAULT_COLORCYCLE[1], **lkws),\n",
    "    Line2D([0], [0], color=myplt.DEFAULT_COLORCYCLE[2], **lkws),\n",
    "    Line2D([0], [0], color=myplt.DEFAULT_COLORCYCLE[3], **lkws),\n",
    "]\n",
    "\n",
    "# Plot the actual measured values.\n",
    "ax.format(cycle='colorblind')\n",
    "scatter_kws = dict(zorder=99, marker='.', capsize=capsize)\n",
    "ax.errorbar(xvals, stats.twiss2D['eps_x'].values, yerr=0., **scatter_kws)\n",
    "ax.errorbar(xvals, stats.twiss2D['eps_y'].values, yerr=0., **scatter_kws)\n",
    "ax.errorbar(xvals, stats.twiss4D['eps_1'].values, yerr=0., **scatter_kws)\n",
    "ax.errorbar(xvals, stats.twiss4D['eps_2'].values, yerr=0., **scatter_kws)\n",
    "\n",
    "ax.legend(lines, labels=eps_labels, loc='upper left', ncols=1, handlelength=1.5)\n",
    "ax.format(\n",
    "    xlabel=xlabel, ylabel='[mm mrad]', \n",
    "    ylim=(0., ax.get_ylim()[1]), \n",
    "    xlim=(0, ax.get_xlim()[1]),\n",
    "    **format_kws\n",
    ")\n",
    "plt.savefig('_output/figures/emittances_err.png', **savefig_kws)\n",
    "plt.show()"
   ]
  },
  {
   "cell_type": "code",
   "execution_count": null,
   "metadata": {},
   "outputs": [],
   "source": [
    "axes = myplt.rms_ellipses(Sigmas_mean_list, cmap=pplt.Colormap('flare'))\n",
    "labels = [\"x [mm]\", \"x' [mrad]\", \"y [mm]\", \"y' [mrad]\"]\n",
    "for i in range(3):\n",
    "    axes[i, 0].set_ylabel(labels[i + 1])\n",
    "    axes[-1, i].set_xlabel(labels[i])\n",
    "plt.show()"
   ]
  },
  {
   "cell_type": "code",
   "execution_count": null,
   "metadata": {},
   "outputs": [],
   "source": []
  },
  {
   "cell_type": "code",
   "execution_count": null,
   "metadata": {},
   "outputs": [],
   "source": []
  },
  {
   "cell_type": "code",
   "execution_count": null,
   "metadata": {},
   "outputs": [],
   "source": []
  },
  {
   "cell_type": "code",
   "execution_count": null,
   "metadata": {},
   "outputs": [],
   "source": []
  },
  {
   "cell_type": "code",
   "execution_count": null,
   "metadata": {},
   "outputs": [],
   "source": [
    "fig, ax = pplt.subplots(figsize=(3.5, 2.5))\n",
    "plt_kws = dict(marker='.', capsize=1.5)\n",
    "g1 = ax.errorbar(xvals, stats.twiss2D['beta_x'], yerr=twiss_stds[:, 2], **plt_kws)\n",
    "g2 = ax.errorbar(xvals, stats.twiss2D['beta_y'], yerr=twiss_stds[:, 3], **plt_kws)\n",
    "lkws = dict(marker='.')\n",
    "lines = [\n",
    "    Line2D([0], [0], color=myplt.DEFAULT_COLORCYCLE[0], **lkws),\n",
    "    Line2D([0], [0], color=myplt.DEFAULT_COLORCYCLE[1], **lkws),\n",
    "]\n",
    "ax.legend(lines, labels=[r'$\\beta_x$', r'$\\beta_y$'], \n",
    "          loc='r', ncols=1, handlelength=2, framealpha=0.)\n",
    "ax.format(xlabel=xlabel, ylabel='[m/rad]', **format_kws)\n",
    "plt.savefig('_output/figures/beta.png', **savefig_kws)"
   ]
  },
  {
   "cell_type": "code",
   "execution_count": null,
   "metadata": {},
   "outputs": [],
   "source": [
    "fig, ax = pplt.subplots(figsize=(3.5, 2.5))\n",
    "plt_kws = dict(marker='.', capsize=1.5)\n",
    "g1 = ax.errorbar(xvals, stats.twiss2D['alpha_x'], yerr=twiss_stds[:, 0], **plt_kws)\n",
    "g2 = ax.errorbar(xvals, stats.twiss2D['alpha_y'], yerr=twiss_stds[:, 1], **plt_kws)\n",
    "lkws = dict(marker='.')\n",
    "lines = [\n",
    "    Line2D([0], [0], color=myplt.DEFAULT_COLORCYCLE[0], **lkws),\n",
    "    Line2D([0], [0], color=myplt.DEFAULT_COLORCYCLE[1], **lkws),\n",
    "]\n",
    "ax.legend(lines, labels=[r'$\\alpha_x$', r'$\\alpha_y$'], \n",
    "          loc='r', ncols=1, handlelength=2, framealpha=0.)\n",
    "ax.format(xlabel=xlabel, ylabel='[rad]', **format_kws)\n",
    "plt.savefig('_output/figures/alpha.png', **savefig_kws)"
   ]
  },
  {
   "cell_type": "code",
   "execution_count": null,
   "metadata": {},
   "outputs": [],
   "source": [
    "fig, ax = pplt.subplots(figsize=(3.5, 2.5))\n",
    "eps_4D_apparent = stats.twiss2D['eps_x'] * stats.twiss2D['eps_y']\n",
    "eps_4D = stats.twiss4D['eps_1'] * stats.twiss4D['eps_2']\n",
    "g1 = ax.errorbar(xvals, eps_4D_apparent, yerr=eps_4D_apparent_stds, color='red', **plt_kws)\n",
    "g2 = ax.errorbar(xvals, eps_4D, yerr=eps_4D_stds, color='blue', **plt_kws)\n",
    "lines = [\n",
    "    Line2D([0], [0], color='red', **lkws),\n",
    "    Line2D([0], [0], color='blue', **lkws),\n",
    "]\n",
    "ax.legend(lines, labels=[''.join(eps_labels[:2]), ''.join(eps_labels[2:])], \n",
    "          loc='r', ncols=1, framealpha=0.)\n",
    "ax.format(xlabel=xlabel, ylabel=r'[mm$^2$ mrad$^2$]', **format_kws)\n",
    "plt.savefig('_output/figures/emittances4D.png', **savefig_kws)"
   ]
  },
  {
   "cell_type": "code",
   "execution_count": null,
   "metadata": {},
   "outputs": [],
   "source": [
    "eps_x = stats.twiss2D['eps_x']\n",
    "eps_y = stats.twiss2D['eps_y']\n",
    "eps_1 = stats.twiss4D['eps_1']\n",
    "eps_2 = stats.twiss4D['eps_2']\n",
    "C = 1.0 - (eps_1 * eps_2) / (eps_x * eps_y)\n",
    "\n",
    "fig, ax = pplt.subplots(figsize=(2.5, 2.5))\n",
    "ax.plot(xvals, C, marker='.', color='k')\n",
    "ax.grid(axis='y')\n",
    "ax.format(xlabel='Turn number', \n",
    "          title=r'C = 1 - $\\frac{\\varepsilon_1\\varepsilon_2}{\\varepsilon_x\\varepsilon_y}$',\n",
    "          ylim=(0, 0.5), **format_kws)\n",
    "plt.savefig('_output/figures/C.png', **savefig_kws)"
   ]
  },
  {
   "cell_type": "code",
   "execution_count": null,
   "metadata": {
    "tags": []
   },
   "outputs": [],
   "source": [
    "# for meas_index in meas_indices:\n",
    "\n",
    "#     Sigma = Sigmas[meas_index]\n",
    "#     axes = myplt.rms_ellipses(Sigma, color='black', pad=0.75, alpha=0.15, fill=True, lw=0, zorder=0)\n",
    "#     plt.suptitle('Reconstructed phase space - turn {}'.format(n_turns[meas_index]), fontsize='medium')\n",
    "\n",
    "#     _tmats_dict = dict()\n",
    "#     _moments_dict = dict()\n",
    "#     for ws_id in ws_ids:\n",
    "#         _tmats_dict[ws_id] = tmats_dict[ws_id][meas_index:meas_index + 1]\n",
    "#         _moments_dict[ws_id] = moments_dict[ws_id][meas_index:meas_index + 1]\n",
    "#     reconstruction_lines(axes[2, 2], _tmats_dict, _moments_dict, plane='y-yp')\n",
    "#     reconstruction_lines(axes[0, 0], _tmats_dict, _moments_dict, plane='x-xp',\n",
    "#                          legend=True, legend_kws=dict(loc=(1.15, 0)))\n",
    "#     plt.savefig('_output/figures/corner_ninjturns={}.png'.format(n_turns[meas_index]), **savefig_kws)\n",
    "#     plt.show()"
   ]
  },
  {
   "cell_type": "code",
   "execution_count": null,
   "metadata": {},
   "outputs": [],
   "source": [
    "# cmap = pplt.Colormap('flare')\n",
    "\n",
    "# axes = myplt.rms_ellipses(Sigmas, \n",
    "#                           cmap=cmap\n",
    "#                          )\n",
    "# labels = [\"x [mm]\", \"x' [mrad]\", \"y [mm]\", \"y' [mrad]\"]\n",
    "# for i in range(3):\n",
    "#     axes[i, 0].set_ylabel(labels[i + 1])\n",
    "#     axes[-1, i].set_xlabel(labels[i])\n",
    "# plt.savefig('_output/figures/corner_all.png', **savefig_kws)"
   ]
  },
  {
   "cell_type": "markdown",
   "metadata": {},
   "source": [
    "## Target image "
   ]
  },
  {
   "cell_type": "code",
   "execution_count": null,
   "metadata": {},
   "outputs": [],
   "source": [
    "from target_image import target_image_analysis as tis"
   ]
  },
  {
   "cell_type": "code",
   "execution_count": null,
   "metadata": {},
   "outputs": [],
   "source": [
    "images = tis.read_files(\n",
    "    utils.list_files(os.path.join(folder, 'target_images')), \n",
    "    make_square=False, # normal image follows target dimensions\n",
    "#     thresh=2000, # image arrays must sum to at least `thresh` to be included (avoid blanks)\n",
    "    thresh=0,\n",
    "    n_avg=10 # number of images to average for each final image\n",
    ")"
   ]
  },
  {
   "cell_type": "code",
   "execution_count": null,
   "metadata": {},
   "outputs": [],
   "source": [
    "sigma = 4.0\n",
    "plot_kws = dict(cmap='mono_r')\n",
    "ellipse_kws = dict(lw=0.3, alpha=0.75)\n",
    "n_turns = xvals\n",
    "\n",
    "for i in range(len(Sigmas)):\n",
    "    image = images[i]\n",
    "    image.filter(sigma)\n",
    "\n",
    "    fig, ax = pplt.subplots(figsize=(4.2, 2.0))\n",
    "    \n",
    "    # Plot the filtered image.\n",
    "    ax.pcolormesh(image.xx, image.yy, image.Zf.T, **plot_kws)\n",
    "\n",
    "    # Plot wire-scanner measurement. This assumes the wire-scanner reconstruction is\n",
    "    # at the target. \n",
    "    mean_x, mean_y, sig_xx, sig_yy, sig_xy = image.estimate_moments(use_filtered=True)\n",
    "    angle, c1, c2 = ba.rms_ellipse_dims(Sigmas[i])\n",
    "    myplt.ellipse(ax, 2.0 * c1, 2.0 * c2, angle, center=(mean_x, mean_y), color='red8', **ellipse_kws)  \n",
    "    \n",
    "    # Plot the rms ellipse calculated from the image. This should be slightly wrong\n",
    "    # due to the fiducial markers. We should do some interpolation at these points.\n",
    "    angle, c1, c2 = ba._rms_ellipse_dims(sig_xx, sig_yy, sig_xy)\n",
    "    myplt.ellipse(ax, 2.0 * c1, 2.0 * c2, angle, center=(mean_x, mean_y), color='blue8', **ellipse_kws)  \n",
    "\n",
    "    # Formatting\n",
    "    scale = 1.0\n",
    "    xmax = scale * np.max(image.xx)\n",
    "    ymax = scale * np.max(image.yy)\n",
    "    ax.format(aspect=1.0, xlabel='x [mm]', ylabel='y [mm]',\n",
    "              xlim=(-xmax, xmax), ylim=(-ymax, ymax),\n",
    "              title='Turn {}'.format(n_turns[i])\n",
    "             )\n",
    "    plt.savefig('_output/figures/target_image_{}.png'.format(i), **savefig_kws)\n",
    "    plt.show()"
   ]
  },
  {
   "cell_type": "markdown",
   "metadata": {},
   "source": [
    "Set `vmax_manual` if you want to compare beam images for different setups. This will allow the colormap to represent the same thing for each image."
   ]
  },
  {
   "cell_type": "code",
   "execution_count": null,
   "metadata": {},
   "outputs": [],
   "source": [
    "vmax_manual = None "
   ]
  },
  {
   "cell_type": "code",
   "execution_count": null,
   "metadata": {},
   "outputs": [],
   "source": [
    "import time\n",
    "start_time = time.time()\n",
    "\n",
    "scale = 1.0\n",
    "hist = False\n",
    "sigma = 4.0\n",
    "plot_kws = dict(cmap='mono_r', colorbar=True, colorbar_kw=dict(width=0.05, space=-2))\n",
    "marginal_kws = dict(color='k')\n",
    "ellipse_kws = dict(color='red', alpha=0.25, lw=0.25)\n",
    "\n",
    "rms_ellipse = False\n",
    "ws_ellipse = False\n",
    "\n",
    "for same_ylim in [True, False]:\n",
    "    hmax = vmax = None\n",
    "    if same_ylim:\n",
    "        hmax = vmax = 0.\n",
    "        for image in images:\n",
    "            Z = image.filter(sigma).T\n",
    "            hmax = max(hmax, np.max(np.sum(Z, axis=0)))\n",
    "            hmax = max(hmax, np.max(np.sum(Z, axis=1)))\n",
    "            vmax = max(vmax, np.max(Z))\n",
    "    if vmax_manual is not None:\n",
    "        vmax = vmax_manual\n",
    "\n",
    "    for i, image in enumerate(images):\n",
    "        fig, ax = pplt.subplots(figsize=(4.25, 2.25), aspect=1)\n",
    "        ax.pcolormesh(image.xx, image.yy, image.filter(sigma).T, vmax=vmax, **plot_kws)\n",
    "        ax.format(xlabel='x [mm]', ylabel='y [mm]')\n",
    "        ax.set_title('Turn = {}'.format(n_turns[i]))\n",
    "        \n",
    "        if ws_ellipse:\n",
    "            angle, cx, cy = ba.rms_ellipse_dims(Sigmas[i])\n",
    "            mean_x, mean_y, sig_xx, sig_yy, sig_xy = image.estimate_moments(use_filtered=True)\n",
    "            myplt.ellipse(ax, 2.0 * cx, 2.0 * cy, angle, center=(mean_x, mean_y), **ellipse_kws) \n",
    "        \n",
    "        if rms_ellipse:\n",
    "            cx, cy, angle = target_image_analysis.rms_ellipse_dims(sig_xx, sig_yy, sig_xy)\n",
    "            myplt.ellipse(ax, 2.0 * cx, 2.0 * cy, angle, center=(mean_x, mean_y), color='blue5', alpha=0.3, lw=0.25) \n",
    "\n",
    "        xmax = scale * np.max(image.xx)\n",
    "        ymax = scale * np.max(image.yy)\n",
    "        ax.format(xlim=(-xmax, xmax), ylim=(-ymax, ymax), aspect=1.0)\n",
    "\n",
    "        figname = '_output/figures/targetimage_hist={}_sameylim={}_sigma{}_turn{}.png'.format(hist, same_ylim, sigma, n_turns[i])\n",
    "        plt.savefig(figname, **savefig_kws)\n",
    "        plt.close()\n",
    "\n",
    "    print('Runtime = {} [seconds]'.format(time.time() - start_time))"
   ]
  },
  {
   "cell_type": "code",
   "execution_count": null,
   "metadata": {},
   "outputs": [],
   "source": [
    "# print('vmax = {}'.format(vmax))"
   ]
  },
  {
   "cell_type": "code",
   "execution_count": null,
   "metadata": {
    "tags": []
   },
   "outputs": [],
   "source": [
    "# arrays = np.loadtxt('./_saved/2021-10-21/setting1/injturns300/bcm.dat')\n",
    "# arrays = arrays[:, :100]\n",
    "\n",
    "# fig, ax = pplt.subplots()\n",
    "# # ax.pcolormesh(arrays[2:, :], colorbar=True, cmap='viridis')\n",
    "# for array in arrays[2:]:\n",
    "#     ax.plot(np.linspace(0, 1, len(array)), array, color='black')\n",
    "# ax.format(xlabel='Fraction of ring', \n",
    "#           ylabel=r'Time $\\rightarrow$')\n",
    "# plt.savefig('/Users/46h/Research/long.png', **savefig_kws)\n",
    "# plt.show()"
   ]
  },
  {
   "cell_type": "code",
   "execution_count": null,
   "metadata": {},
   "outputs": [],
   "source": []
  },
  {
   "cell_type": "code",
   "execution_count": null,
   "metadata": {},
   "outputs": [],
   "source": []
  },
  {
   "cell_type": "code",
   "execution_count": null,
   "metadata": {},
   "outputs": [],
   "source": []
  },
  {
   "cell_type": "code",
   "execution_count": null,
   "metadata": {},
   "outputs": [],
   "source": []
  },
  {
   "cell_type": "code",
   "execution_count": null,
   "metadata": {},
   "outputs": [],
   "source": [
    "emittances_21mm = np.array([\n",
    "    [5.16, 5.21, 5.42, 4.94], # 300 turns\n",
    "    [6.79, 6.55, 7.44, 5.84], # 400 turns\n",
    "    [7.95, 8.34, 9.52, 6.77], # 500 turns\n",
    "])\n",
    "\n",
    "emittances_31mm = np.array([\n",
    "    [6.76, 6.29, 7.30, 5.70], # 300 turns\n",
    "    [9.14, 7.72, 11.77, 4.73], # 400 turns\n",
    "    [10.89, 8.52, 12.21, 7.09], # 500 turns\n",
    "])\n",
    "\n",
    "intensities = [0.3, 0.4, 0.5]\n",
    "\n",
    "fig, ax = pplt.subplots()\n",
    "plot_kws = dict(marker='.')\n",
    "ax.plot(intensities, emittances_21mm, marker='.', lw=1)\n",
    "ax.format(xlabel='Beam intensity')\n",
    "plt.show()\n",
    "\n",
    "fig, ax = pplt.subplots()\n",
    "plot_kws = dict(marker='.')\n",
    "ax.plot(intensities, emittances_31mm, marker='.', lw=1)\n",
    "ax.format(xlabel='Beam intensity')\n",
    "plt.show()"
   ]
  },
  {
   "cell_type": "code",
   "execution_count": null,
   "metadata": {},
   "outputs": [],
   "source": [
    "for emittances, label in zip([emittances_21mm, emittances_31mm], ['21mm', '31mm']):\n",
    "    fig, ax = pplt.subplots()\n",
    "    x = intensities\n",
    "    gap = abs(np.diff(x)[0])\n",
    "    width = 0.1 * gap\n",
    "    barwidth = 0.1\n",
    "    rects1 = ax.bar(x - 1.5 * width, emittances[:, 0], barwidth, label=r'$\\varepsilon_x$')\n",
    "    rects2 = ax.bar(x - 0.5 * width, emittances[:, 1], barwidth, label=r'$\\varepsilon_y$')\n",
    "    rects3 = ax.bar(x + 0.5 * width, emittances[:, 2], barwidth, label=r'$\\varepsilon_1$')\n",
    "    rects4 = ax.bar(x + 1.5 * width, emittances[:, 3], barwidth, label=r'$\\varepsilon_2$')\n",
    "    ax.format(xticks=intensities, xtickminor=False, xlabel='Intensity / 1.5e14',\n",
    "              ylabel='[mm mrad]', ylim=(0., 13.0)\n",
    "             )\n",
    "    ax.legend(ncols=2, loc=(0.0, 1.01), framealpha=0.)\n",
    "    plt.savefig('_output/figures/intensity_{}.png'.format(label), **savefig_kws)"
   ]
  },
  {
   "cell_type": "code",
   "execution_count": null,
   "metadata": {},
   "outputs": [],
   "source": []
  }
 ],
 "metadata": {
  "kernelspec": {
   "display_name": "Python 3",
   "language": "python",
   "name": "python3"
  },
  "language_info": {
   "codemirror_mode": {
    "name": "ipython",
    "version": 3
   },
   "file_extension": ".py",
   "mimetype": "text/x-python",
   "name": "python",
   "nbconvert_exporter": "python",
   "pygments_lexer": "ipython3",
   "version": "3.7.6"
  }
 },
 "nbformat": 4,
 "nbformat_minor": 4
}
