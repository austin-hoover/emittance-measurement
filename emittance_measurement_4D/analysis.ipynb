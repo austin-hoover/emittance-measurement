{
 "cells": [
  {
   "cell_type": "markdown",
   "metadata": {},
   "source": [
    "# 4D emittance measurement data analysis "
   ]
  },
  {
   "cell_type": "code",
   "execution_count": null,
   "metadata": {},
   "outputs": [],
   "source": [
    "import sys\n",
    "import os\n",
    "import copy\n",
    "import importlib\n",
    "from tqdm import trange, tqdm\n",
    "import gif\n",
    "\n",
    "import numpy as np\n",
    "import pandas as pd\n",
    "from scipy import optimize as opt\n",
    "from matplotlib import pyplot as plt\n",
    "from matplotlib.lines import Line2D\n",
    "from matplotlib import animation\n",
    "import proplot as pplt\n",
    "import seaborn as sns\n",
    "\n",
    "sys.path.append('/Users/46h/Research/')\n",
    "from accphys.tools import beam_analysis as ba\n",
    "from accphys.tools import coupling as BL\n",
    "from accphys.tools import plotting as myplt\n",
    "from accphys.tools import utils\n",
    "from accphys.tools.accphys_utils import V_matrix_4x4_uncoupled, phase_adv_matrix\n",
    "\n",
    "from accphys.emittance_measurement_4D.analysis import reconstruct\n",
    "from accphys.emittance_measurement_4D.analysis import to_mat, to_vec\n",
    "from accphys.emittance_measurement_4D.plotting import reconstruction_lines"
   ]
  },
  {
   "cell_type": "code",
   "execution_count": null,
   "metadata": {},
   "outputs": [],
   "source": [
    "plt.rcParams['figure.facecolor'] = 'white'\n",
    "plt.rcParams['grid.alpha'] = 0.04\n",
    "plt.rcParams['axes.grid'] = False\n",
    "plt.rcParams['savefig.dpi'] = 'figure'\n",
    "plt.rcParams['animation.html'] = 'jshtml'"
   ]
  },
  {
   "cell_type": "code",
   "execution_count": null,
   "metadata": {},
   "outputs": [],
   "source": [
    "eps_labels = [r'$\\varepsilon_x$', r'$\\varepsilon_y$', r'$\\varepsilon_1$', r'$\\varepsilon_2$']"
   ]
  },
  {
   "cell_type": "markdown",
   "metadata": {},
   "source": [
    "## Load data "
   ]
  },
  {
   "cell_type": "code",
   "execution_count": null,
   "metadata": {},
   "outputs": [],
   "source": [
    "# folder = './_saved/2021-08-01/production/'\n",
    "folder = './_saved/2021-08-01/production_scan_phases/'\n",
    "# folder = './_saved/2021-05-31/'\n",
    "# folder = './_saved/2021-08-10/scan/'\n",
    "\n",
    "# We can restrict the number of measurements used if we want.\n",
    "max_n_meas = 100 \n",
    "\n",
    "# We can exclude certain wire-scanners if we want.\n",
    "exclude = None"
   ]
  },
  {
   "cell_type": "code",
   "execution_count": null,
   "metadata": {},
   "outputs": [],
   "source": [
    "def load_tmats_dict(filename, exclude=None, max_n_meas=None):\n",
    "    \"\"\"Load dictionary of transfer matrix elements at each wire-scanner.\n",
    "    \n",
    "    Each line in the file reads [node_id, M11, M12, M13, M14, M21, M22,\n",
    "    M23, M24, M31, M32, M33, M34, M41, M42, M43, M44].\n",
    "    \"\"\"\n",
    "    tmats_dict = dict()\n",
    "    file = open(filename, 'r')\n",
    "    for line in file:\n",
    "        tokens = line.split()\n",
    "        ws_id = tokens[0]\n",
    "        tmat_elems = [float(token) for token in tokens[1:]]\n",
    "        tmat = np.reshape(tmat_elems, (4, 4))\n",
    "        if ws_id not in tmats_dict:\n",
    "            tmats_dict[ws_id] = []\n",
    "        tmats_dict[ws_id].append(tmat)\n",
    "    file.close()\n",
    "    tmats_dict = utils.blacklist(tmats_dict, exclude)\n",
    "    if max_n_meas:\n",
    "        for ws_id in tmats_dict:\n",
    "            tmats_dict[ws_id] = tmats_dict[ws_id][:max_n_meas]\n",
    "    return tmats_dict"
   ]
  },
  {
   "cell_type": "code",
   "execution_count": null,
   "metadata": {},
   "outputs": [],
   "source": [
    "def load_moments_dict(filename, exclude=None, max_n_meas=None):\n",
    "    \"\"\"Load dictionary of moments at each wire-scanner.\n",
    "    \n",
    "    Each line in the file reads [node_id, <xx>, <yy>, <xy>].\n",
    "    \"\"\"\n",
    "    moments_dict = dict()\n",
    "    file = open(filename, 'r')\n",
    "    for line in file:\n",
    "        tokens = line.split()\n",
    "        ws_id = tokens[0]\n",
    "        moments = [float(token) for token in tokens[1:]]\n",
    "        if ws_id not in moments_dict:\n",
    "            moments_dict[ws_id] = []\n",
    "        moments_dict[ws_id].append(moments)\n",
    "    file.close()\n",
    "    moments_dict = utils.blacklist(moments_dict, exclude)\n",
    "    for ws_id in moments_dict:\n",
    "        if max_n_meas:\n",
    "            moments_dict[ws_id] = moments_dict[ws_id][:max_n_meas]\n",
    "        moments_dict[ws_id] = np.array(moments_dict[ws_id])\n",
    "    return moments_dict"
   ]
  },
  {
   "cell_type": "code",
   "execution_count": null,
   "metadata": {},
   "outputs": [],
   "source": [
    "def load_phases_dict(filename, exclude=None, max_n_meas=None):\n",
    "    \"\"\"Load dictionary of phases at each wire-scanner.\n",
    "    \n",
    "    Each line in the file reads [node_id, mux, muy].\n",
    "    \"\"\"\n",
    "    phases_dict = dict()\n",
    "    file = open(filename, 'r')\n",
    "    for line in file:\n",
    "        ws_id, mux, muy = line.split()\n",
    "        mux = float(mux)\n",
    "        muy = float(muy)\n",
    "        if ws_id not in phases_dict:\n",
    "            phases_dict[ws_id] = []\n",
    "        phases_dict[ws_id].append([mux, muy])\n",
    "    file.close()\n",
    "    phases_dict = utils.blacklist(phases_dict, exclude)\n",
    "    for ws_id in phases_dict:\n",
    "        if max_n_meas:\n",
    "            phases_dict[ws_id] = phases_dict[ws_id][:max_n_meas]\n",
    "        phases_dict[ws_id] = np.array(phases_dict[ws_id])\n",
    "    return phases_dict"
   ]
  },
  {
   "cell_type": "code",
   "execution_count": null,
   "metadata": {},
   "outputs": [],
   "source": [
    "tmats_dict = load_tmats_dict(os.path.join(folder, 'transfer_mats.dat'), exclude, max_n_meas)\n",
    "moments_dict = load_moments_dict(os.path.join(folder, 'moments.dat'), exclude, max_n_meas)\n",
    "phases_dict = load_phases_dict(os.path.join(folder, 'phase_adv.dat'), exclude, max_n_meas)\n",
    "ws_ids = sorted(list(tmats_dict))\n",
    "n_meas = len(tmats_dict[ws_ids[0]])"
   ]
  },
  {
   "cell_type": "code",
   "execution_count": null,
   "metadata": {},
   "outputs": [],
   "source": [
    "fig, axes = pplt.subplots(ncols=2, nrows=3, figsize=(7, 4.5), spany=False, sharey=False, wspace=1, aligny=True)\n",
    "plt_kws = dict(marker='.')\n",
    "for ws_id in ws_ids:\n",
    "    moments = moments_dict[ws_id]\n",
    "    axes[0, 0].plot(moments[:, 0], **plt_kws)\n",
    "    axes[1, 0].plot(moments[:, 1], **plt_kws)\n",
    "    axes[2, 0].plot(moments[:, 2], **plt_kws)\n",
    "    axes[0, 1].plot(np.sqrt(moments[:, 0]), **plt_kws)\n",
    "    axes[1, 1].plot(np.sqrt(moments[:, 1]), **plt_kws)\n",
    "    axes[2, 1].plot(moments[:, 2] / np.sqrt(moments[:, 0] * moments[:, 1]), **plt_kws)\n",
    "axes[0, 0].format(ylabel=r'$\\langle{x^2}\\rangle$ [mm$^2$]')\n",
    "axes[1, 0].format(ylabel=r'$\\langle{y^2}\\rangle$ [mm$^2$]')\n",
    "axes[2, 0].format(ylabel=r'$\\langle{xy}\\rangle$ [mm$^2$]')\n",
    "axes[0, 1].format(ylabel=r'$\\sqrt{\\langle{x^2}\\rangle}$ [mm]')\n",
    "axes[1, 1].format(ylabel=r'$\\sqrt{\\langle{y^2}\\rangle}$ [mm]')\n",
    "axes[2, 1].format(ylabel=r'x-y corr. coeff.')\n",
    "for ax in axes:\n",
    "    ax.grid(axis='y', alpha=0.1)\n",
    "axes.format(xlabel='Measurement index', xtickminor=False, xticks=range(len(moments)))\n",
    "axes[0, 1].legend(labels=ws_ids, ncols=1, loc=(1.02, 0), fontsize='small')\n",
    "axes[0, 0].set_title('Measured moments', fontsize='medium')\n",
    "axes[0, 1].set_title('Measured rms size and x-y corr.', fontsize='medium')\n",
    "plt.savefig('_output/moments.png', facecolor='white', dpi=300)"
   ]
  },
  {
   "cell_type": "code",
   "execution_count": null,
   "metadata": {},
   "outputs": [],
   "source": [
    "fig, axes = pplt.subplots(ncols=2)\n",
    "for ws_id in ws_ids:\n",
    "    mux, muy = phases_dict[ws_id].T\n",
    "    axes[0].plot(mux, **plt_kws)\n",
    "    axes[1].plot(muy, **plt_kws)\n",
    "axes.format(xlabel='Measurement index', ylabel='[rad]', ylim=(0, 2 * np.pi),\n",
    "            xtickminor=False, xticks=range(n_meas))\n",
    "axes[0].set_title('Horizontal phase adv.')\n",
    "axes[1].set_title('Vertical phase adv.')\n",
    "axes[1].legend(labels=ws_ids, ncols=1, loc=(1.02, 0), fontsize='small')\n",
    "for ax in axes:\n",
    "    ax.grid(axis='y')\n",
    "plt.savefig('_output/phases.png', facecolor='white', dpi=300)"
   ]
  },
  {
   "cell_type": "code",
   "execution_count": null,
   "metadata": {},
   "outputs": [],
   "source": [
    "fig, axes = pplt.subplots(ncols=3)\n",
    "colors = ['red8', 'blue8', 'green8']\n",
    "for i in range(len(ws_ids) - 1):\n",
    "    diffs = phases_dict[ws_ids[i + 1]] - phases_dict[ws_ids[i]]\n",
    "    for j in range(len(diffs)):\n",
    "        for k in range(2):\n",
    "            if diffs[j, k] < 0:\n",
    "                diffs[j, k] += 2 * np.pi\n",
    "    axes[0].plot(np.degrees(diffs[:, 0]), color=colors[i], marker='.')\n",
    "    axes[1].plot(np.degrees(diffs[:, 1]), color=colors[i], marker='.')\n",
    "    axes[2].plot(np.degrees(np.abs(diffs[:, 0] - diffs[:, 1])), color=colors[i], marker='.')\n",
    "for ax in axes:\n",
    "    ax.grid(axis='y')\n",
    "labels = [r'{} $\\rightarrow$ {}'.format(ws_ids[i], ws_ids[i + 1]) for i in range(len(ws_ids) - 1)]\n",
    "axes[2].legend(labels=labels, ncol=1, loc=(1.02, 0))\n",
    "axes[0].set_title(r'Horizontal: $\\Delta\\mu_x$')\n",
    "axes[1].set_title(r'Vertical: $\\Delta\\mu_y$')\n",
    "axes[2].set_title(r'Difference: $\\left| \\Delta\\mu_x - \\Delta\\mu_y \\right|$')\n",
    "axes.format(ylabel='Gap', yformatter='deg', suptitle='Wire-scanner phase spacing',\n",
    "            xlabel='Measurement index', xtickminor=False, xticks=range(n_meas))"
   ]
  },
  {
   "cell_type": "code",
   "execution_count": null,
   "metadata": {},
   "outputs": [],
   "source": [
    "fig, axes = pplt.subplots(ncols=4, figsize=(8, 2))\n",
    "for ax, ws_id in zip(axes, ws_ids):\n",
    "    ax.set_title(ws_id)\n",
    "    for sig_xx, sig_yy, sig_xy in moments_dict[ws_id]:\n",
    "        angle = -0.5 * np.arctan2(2*sig_xy, sig_xx-sig_yy)\n",
    "        sn, cs = np.sin(angle), np.cos(angle)\n",
    "        c1 = np.sqrt(abs(sig_xx*cs**2 + sig_yy*sn**2 - 2*sig_xy*sn*cs))\n",
    "        c2 = np.sqrt(abs(sig_xx*sn**2 + sig_yy*cs**2 + 2*sig_xy*sn*cs))\n",
    "        myplt.ellipse(ax, c1, c2, angle)\n",
    "axes.format(xlim=(-30, 30), ylim=(-30, 30), xlabel='x [mm]', ylabel='y [mm]',\n",
    "            suptitle='Measured rms ellipses in x-y plane')\n",
    "plt.savefig('_output/corr.png', facecolor='white', dpi=300)"
   ]
  },
  {
   "cell_type": "markdown",
   "metadata": {},
   "source": [
    "## Reconstruction"
   ]
  },
  {
   "cell_type": "code",
   "execution_count": null,
   "metadata": {},
   "outputs": [],
   "source": [
    "tmats_list, moments_list = [], []\n",
    "for ws_id in ws_ids:\n",
    "    tmats_list.extend(tmats_dict[ws_id])\n",
    "    moments_list.extend(moments_dict[ws_id])"
   ]
  },
  {
   "cell_type": "code",
   "execution_count": null,
   "metadata": {},
   "outputs": [],
   "source": [
    "Sigma = reconstruct(tmats_list, moments_list, verbose=2)"
   ]
  },
  {
   "cell_type": "code",
   "execution_count": null,
   "metadata": {},
   "outputs": [],
   "source": [
    "Corr = utils.cov2corr(Sigma)\n",
    "alpha_x, alpha_y, beta_x, beta_y = ba.twiss2D(Sigma)\n",
    "eps_x, eps_y, eps_1, eps_2 = ba.emittances(Sigma)\n",
    "coupling_coeff = 1.0 - np.sqrt((eps_1 * eps_2) / (eps_x * eps_y))\n",
    "\n",
    "print('Sigma =')\n",
    "print(Sigma)\n",
    "print('Corr =')\n",
    "print(Corr)\n",
    "print('eps_4D = {:.3f}'.format(np.sqrt(np.linalg.det(Sigma))))\n",
    "print('eps_1, eps_2 = {:.3f}, {:.3f}'.format(eps_1, eps_2))\n",
    "print('eps_x, eps_y = {:.3f}, {:.3f}'.format(eps_x, eps_y))\n",
    "print('alpha_x, alpha_y = {:.3f}, {:.3f}'.format(alpha_x, alpha_y))\n",
    "print('beta_x, beta_y = {:.3f}, {:.3f}'.format(beta_x, beta_y))\n",
    "print('Coupling coefficient = {}'.format(coupling_coeff))"
   ]
  },
  {
   "cell_type": "code",
   "execution_count": null,
   "metadata": {},
   "outputs": [],
   "source": [
    "norm = '2D'\n",
    "V = np.identity(4)\n",
    "if norm == '2D':\n",
    "    alpha_x, alpha_y, beta_x, beta_y = ba.twiss2D(Sigma)\n",
    "    V = V_matrix_4x4_uncoupled(alpha_x, alpha_y, beta_x, beta_y)\n",
    "elif norm == '4D':\n",
    "    U = np.array([[0, 1, 0, 0], [-1, 0, 0, 0], [0, 0, 0, 1], [0, 0, -1, 0]])\n",
    "    eigvals, eigvecs = np.linalg.eig(np.matmul(Sigma, U))\n",
    "    V = BL.construct_V(eigvecs)\n",
    "Vinv = np.linalg.inv(V)\n",
    "Sigma_n = np.linalg.multi_dot([Vinv, Sigma, Vinv.T])"
   ]
  },
  {
   "cell_type": "code",
   "execution_count": null,
   "metadata": {},
   "outputs": [],
   "source": [
    "axes = myplt.rms_ellipses(Sigma, color='black', pad=0.75, alpha=0.15, fill=True, lw=0, zorder=0)\n",
    "plt.suptitle('Reconstructed phase space')\n",
    "reconstruction_lines(axes[2, 2], tmats_dict, moments_dict, plane='y-yp')\n",
    "reconstruction_lines(axes[0, 0], tmats_dict, moments_dict, plane='x-xp',\n",
    "                     legend=True, legend_kws=dict(loc=(1.15, 0)))\n",
    "plt.savefig('_output/corner.png', dpi=300, facecolor='white')"
   ]
  },
  {
   "cell_type": "code",
   "execution_count": null,
   "metadata": {},
   "outputs": [],
   "source": [
    "axes = myplt.rms_ellipses(Sigma_n, color='black', pad=0.75, alpha=0.15, fill=True, lw=0, zorder=0)\n",
    "plt.suptitle('Reconstructed phase space (normalized {})'.format(norm))\n",
    "reconstruction_lines(axes[2, 2], tmats_dict, moments_dict, plane='y-yp', norm_mat=V)\n",
    "reconstruction_lines(axes[0, 0], tmats_dict, moments_dict, plane='x-xp', norm_mat=V,\n",
    "                     legend=True, legend_kws=dict(loc=(1.15, 0)))\n",
    "plt.savefig('_output/corner_norm.png', dpi=300, facecolor='white')"
   ]
  },
  {
   "cell_type": "markdown",
   "metadata": {},
   "source": [
    "## Errors"
   ]
  },
  {
   "cell_type": "code",
   "execution_count": null,
   "metadata": {},
   "outputs": [],
   "source": [
    "Sigma_all_meas = np.copy(Sigma)\n",
    "emittances_all_meas = ba.emittances(Sigma_all_meas)\n",
    "eps_x_all_meas, eps_y_all_meas, eps_1_all_meas, eps_2_all_meas = emittances_all_meas"
   ]
  },
  {
   "cell_type": "code",
   "execution_count": null,
   "metadata": {},
   "outputs": [],
   "source": [
    "def plot_with_error_bars(data, labels, correct=None):\n",
    "    data = np.array(data)\n",
    "    means, stds = np.mean(data, axis=0), np.std(data, axis=0)\n",
    "    n_rows, n_cols = data.shape\n",
    "    \n",
    "    plt_kws = dict(marker='.', lw=0)\n",
    "    if data.ndim == 1:\n",
    "        colors = ['black']\n",
    "    else:\n",
    "        colors = copy.copy(myplt.DEFAULT_COLORCYCLE)\n",
    "        colors[2], colors[3] = colors[3], colors[2]\n",
    "\n",
    "    fig, ax = pplt.subplots(figsize=None)\n",
    "    for i in range(n_cols):\n",
    "        ax.errorbar(range(n_rows), data[:, i], yerr=stds[i], capsize=3, elinewidth=1, color=colors[i], **plt_kws)\n",
    "        if correct:\n",
    "            ax.axhline(correct[i], color=colors[i], alpha=0.2)\n",
    "    ax.format(xlabel='Measurement index', ylabel='[mm mrad]', xtickminor=False, xticks=range(len(emittances)))\n",
    "\n",
    "    ax.legend([Line2D([0], [0], c=c, **plt_kws) for c in colors[:4]], labels, ncol=1, loc='r')\n",
    "    line = []\n",
    "    for i in range(4):\n",
    "        line.append(r'{} = {:.3f} $\\pm$ {:.3f} [mm mrad]'.format(labels[i], means[i], stds[i]))\n",
    "        line.append('\\n')\n",
    "    ax.set_title(''.join(line[:-1]))\n",
    "    return ax"
   ]
  },
  {
   "cell_type": "code",
   "execution_count": null,
   "metadata": {},
   "outputs": [],
   "source": [
    "def form_coeff_target_arrays(meas_index):\n",
    "    Axx, Ayy, Axy = [], [], []\n",
    "    bxx, byy, bxy = [], [], []\n",
    "    for ws_id in ws_ids:\n",
    "        M = tmats_dict[ws_id][meas_index]\n",
    "        sig_xx, sig_yy, sig_xy = moments_dict[ws_id][meas_index]\n",
    "        Axx.append([M[0, 0]**2, M[0, 1]**2, 2*M[0, 0]*M[0, 1]])\n",
    "        Ayy.append([M[2, 2]**2, M[2, 3]**2, 2*M[2, 2]*M[2, 3]])\n",
    "        Axy.append([M[0, 0]*M[2, 2],  M[0, 1]*M[2, 2],  M[0, 0]*M[2, 3],  M[0, 1]*M[2, 3]])\n",
    "        bxx.append(sig_xx)\n",
    "        byy.append(sig_yy)\n",
    "        bxy.append(sig_xy) \n",
    "    Axx, Ayy, Axy = np.array(Axx), np.array(Ayy), np.array(Axy)\n",
    "    bxx, byy, bxy = np.array(bxx), np.array(byy), np.array(bxy)\n",
    "    return Axx, Ayy, Axy, bxx, byy, bxy"
   ]
  },
  {
   "cell_type": "markdown",
   "metadata": {},
   "source": [
    "### Bounds on cross-plane moments"
   ]
  },
  {
   "cell_type": "code",
   "execution_count": null,
   "metadata": {},
   "outputs": [],
   "source": [
    "def solve_corr_coeff_bounds(meas_index, **solver_kws):\n",
    "    Axx, Ayy, Axy, bxx, byy, bxy = form_coeff_target_arrays(meas_index)\n",
    "    sig_11, sig_22, sig_12 = opt.lsq_linear(Axx, bxx).x\n",
    "    sig_33, sig_44, sig_34 = opt.lsq_linear(Ayy, byy).x  \n",
    "\n",
    "    def cost_func(vec):\n",
    "        return np.sum((np.matmul(Axy, vec) - bxy)**2)\n",
    "\n",
    "    r_13_denom = np.sqrt(sig_11 * sig_33)\n",
    "    r_23_denom = np.sqrt(sig_22 * sig_33)\n",
    "    r_14_denom = np.sqrt(sig_11 * sig_44)\n",
    "    r_24_denom = np.sqrt(sig_22 * sig_44)\n",
    "    lb = [-r_13_denom, -r_23_denom, -r_14_denom, -r_24_denom]\n",
    "    ub = [+r_13_denom, +r_23_denom, +r_14_denom, +r_24_denom]\n",
    "    guess = [0, lb[1], ub[2], 0]\n",
    "    result = opt.least_squares(cost_func, guess, bounds=(lb, ub), **solver_kws)\n",
    "    \n",
    "    sig_13, sig_23, sig_14, sig_24 = result.x\n",
    "    S = to_mat([sig_11, sig_22, sig_12, sig_33, sig_44, sig_34, sig_13, sig_23, sig_14, sig_24])\n",
    "    return ba.emittances(S)"
   ]
  },
  {
   "cell_type": "code",
   "execution_count": null,
   "metadata": {},
   "outputs": [],
   "source": [
    "emittances = [solve_corr_coeff_bounds(meas_index) for meas_index in trange(n_meas)]    \n",
    "plot_with_error_bars(emittances, eps_labels, correct=emittances_all_meas);"
   ]
  },
  {
   "cell_type": "markdown",
   "metadata": {},
   "source": [
    "The method seems to \"work\" if I guess close to the correct answer."
   ]
  },
  {
   "cell_type": "markdown",
   "metadata": {
    "tags": []
   },
   "source": [
    "### Edwards-Teng"
   ]
  },
  {
   "cell_type": "markdown",
   "metadata": {},
   "source": [
    "We can parameterize the covariance matrix as \n",
    "\n",
    "$$\n",
    "\\mathbf{\\Sigma} = \\mathbf{V} \\, \\mathbf{C} \\, \\mathbf{\\Sigma}_n \\, \\mathbf{C}^T \\, \\mathbf{V}^T,\n",
    "$$\n",
    "\n",
    "with\n",
    "\n",
    "$$\n",
    "\\mathbf{\\Sigma}_n = \n",
    "\\begin{bmatrix}\n",
    "    \\varepsilon_1 & 0 & 0 & 0 \\\\\n",
    "    0 & \\varepsilon_1 & 0 & 0 \\\\\n",
    "    0 & 0 & \\varepsilon_2 & 0 \\\\\n",
    "    0 & 0 & 0 & \\varepsilon_2\n",
    "\\end{bmatrix}, \\\\\n",
    "$$\n",
    "\n",
    "$$\n",
    "\\mathbf{C} = \n",
    "\\begin{bmatrix}\n",
    "    1 & 0 & a & b \\\\\n",
    "    0 & 1 & c & d \\\\\n",
    "    -d & b & 1 & 0 \\\\\n",
    "    c & a & 0 & 1\n",
    "\\end{bmatrix}, \\\\\n",
    "$$\n",
    "\n",
    "$$\n",
    "\\mathbf{V} = \n",
    "\\begin{bmatrix}\n",
    "    \\sqrt{\\beta_x} & 0 & 0 & 0 \\\\\n",
    "    -\\frac{\\alpha_x}{\\sqrt{\\beta_x}} & \\frac{1}{\\sqrt{\\beta_x}} & 0 & 0 \\\\\n",
    "    0 & 0 & \\sqrt{\\beta_y} & 0 \\\\\n",
    "    0 & 0 & -\\frac{\\alpha_y}{\\sqrt{\\beta_y}} & \\frac{1}{\\sqrt{\\beta_y}}\n",
    "\\end{bmatrix}. \\\\\n",
    "$$\n",
    "\n",
    "$\\mathbf{C}$ is symplectic if $ad - bc = 0$, so we set $d = bc/a$. If $a = b = c = d = 0$, then we get the normal uncoupled matrix with $\\varepsilon_{x,y} = \\varepsilon_{1,2}$. \n",
    "\n",
    "The strategy is to fit the $x$-$x'$ and $y$-$y'$ planes first, then choose $\\varepsilon_1$, $\\varepsilon_2$, $a$, $b$, and $c$."
   ]
  },
  {
   "cell_type": "code",
   "execution_count": null,
   "metadata": {
    "tags": []
   },
   "outputs": [],
   "source": [
    "def get_cov(eps_1, eps_2, alpha_x, alpha_y, beta_x, beta_y, a, b, c):\n",
    "    E = np.diag([eps_1, eps_1, eps_2, eps_2])\n",
    "    V = V_matrix_4x4_uncoupled(alpha_x, alpha_y, beta_x, beta_y)\n",
    "    if a == 0:\n",
    "        if b == 0 or c == 0:\n",
    "            d = 0\n",
    "        else:\n",
    "            raise ValueError(\"a is zero but b * c is not zero.\")\n",
    "    else:\n",
    "        d = b * c / a\n",
    "    C = np.array([[1, 0, a, b], [0, 1, c, d], [-d, b, 1, 0], [c, -a, 0, 1]])\n",
    "    return np.linalg.multi_dot([V, C, E, C.T, V.T])"
   ]
  },
  {
   "cell_type": "code",
   "execution_count": null,
   "metadata": {},
   "outputs": [],
   "source": [
    "def solve_edwards_teng(meas_index, **solver_kws):\n",
    "    Axx, Ayy, Axy, bxx, byy, bxy = form_coeff_target_arrays(meas_index)\n",
    "    sig_11, sig_22, sig_12 = opt.lsq_linear(Axx, bxx).x\n",
    "    sig_33, sig_44, sig_34 = opt.lsq_linear(Ayy, byy).x \n",
    "    S = np.zeros((4, 4))\n",
    "    S[:2, :2] = [[sig_11, sig_12], [sig_12, sig_22]]\n",
    "    S[2:, 2:] = [[sig_33, sig_34], [sig_34, sig_44]]\n",
    "    eps_x, eps_y = ba.apparent_emittances(S)\n",
    "    alpha_x, alpha_y, beta_x, beta_y = ba.twiss2D(S)\n",
    "\n",
    "    def cost_func(vec):\n",
    "        eps_1, eps_2, a, b, c = vec\n",
    "        S = get_cov(eps_1, eps_2, alpha_x, alpha_y, beta_x, beta_y, a, b, c)\n",
    "        vec_xy = np.array([S[0, 2], S[1, 2], S[0, 3], S[1, 3]])\n",
    "        cost = np.sum((np.matmul(Axy, vec_xy) - bxy)**2)\n",
    "        f = 1.0\n",
    "        cost += f * (S[0, 0] - sig_11)**2\n",
    "        cost += f * (S[0, 1] - sig_12)**2\n",
    "        cost += f * (S[1, 1] - sig_22)**2\n",
    "        cost += f * (S[2, 2] - sig_33)**2\n",
    "        cost += f * (S[2, 3] - sig_34)**2\n",
    "        cost += f * (S[3, 3] - sig_44)**2\n",
    "        return cost\n",
    "\n",
    "    lb = [0., 0., -np.inf, -np.inf, -np.inf]\n",
    "    ub = np.inf\n",
    "    guess = [np.random.random() * eps_x, np.random.random() * eps_y, \n",
    "             np.random.uniform(-10, 10), np.random.uniform(-10, 10), np.random.uniform(-10, 10)]\n",
    "    result = opt.minimize(cost_func, guess, bounds=opt.Bounds(lb, ub), **solver_kws)\n",
    "    eps_1, eps_2, a, b, c = result.x\n",
    "    S = get_cov(eps_1, eps_2, alpha_x, alpha_y, beta_x, beta_y, a, b, c)\n",
    "    S[:2, :2] = [[sig_11, sig_12], [sig_12, sig_22]]\n",
    "    S[2:, 2:] = [[sig_33, sig_34], [sig_34, sig_44]]\n",
    "    return ba.emittances(S)"
   ]
  },
  {
   "cell_type": "code",
   "execution_count": null,
   "metadata": {},
   "outputs": [],
   "source": [
    "solver_kws = dict(method='trust-constr', options=dict(verbose=1, xtol=1e-15, maxiter=1000))\n",
    "emittances = [solve_edwards_teng(meas_index, **solver_kws) for meas_index in trange(n_meas)]\n",
    "plot_with_error_bars(emittances, eps_labels, correct=emittances_all_meas);"
   ]
  },
  {
   "cell_type": "markdown",
   "metadata": {},
   "source": [
    "Again, it depends on how good my initial guess is."
   ]
  },
  {
   "cell_type": "markdown",
   "metadata": {},
   "source": [
    "### Cholesky decomposition "
   ]
  },
  {
   "cell_type": "code",
   "execution_count": null,
   "metadata": {},
   "outputs": [],
   "source": [
    "def inverse_cholesky(x):\n",
    "    L = np.array([[x[0], 0, 0, 0],\n",
    "                  [x[1], x[2], 0, 0],\n",
    "                  [x[3], x[4], x[5], 0],\n",
    "                  [x[6], x[7], x[8], x[9]]])\n",
    "    return np.matmul(L, L.T)"
   ]
  },
  {
   "cell_type": "code",
   "execution_count": null,
   "metadata": {},
   "outputs": [],
   "source": [
    "def solve_cholesky(meas_index, **solver_kws):\n",
    "    Axx, Ayy, Axy, bxx, byy, bxy = form_coeff_target_arrays(meas_index)\n",
    "    sig_11, sig_22, sig_12 = opt.lsq_linear(Axx, bxx).x\n",
    "    sig_33, sig_44, sig_34 = opt.lsq_linear(Ayy, byy).x  \n",
    "\n",
    "    def cost_func(x):\n",
    "            S = inverse_cholesky(x)\n",
    "            vec_xx = np.array([S[0, 0], S[1, 1], S[0, 1]])\n",
    "            vec_yy = np.array([S[2, 2], S[3, 3], S[2, 3]])\n",
    "            vec_xy = np.array([S[0, 2], S[1, 2], S[0, 3], S[1, 3]])\n",
    "            cost = 0.\n",
    "            cost += np.sum((np.matmul(Axx, vec_xx) - bxx)**2)\n",
    "            cost += np.sum((np.matmul(Ayy, vec_yy) - byy)**2)\n",
    "            cost += np.sum((np.matmul(Axy, vec_xy) - bxy)**2)\n",
    "            return cost\n",
    "\n",
    "    lb = -np.inf\n",
    "    ub = +np.inf\n",
    "    guess = np.random.uniform(-10, 10, size=10)\n",
    "    result = opt.minimize(cost_func, guess, bounds=opt.Bounds(lb, ub), **solver_kws)\n",
    "    S = inverse_cholesky(result.x)\n",
    "    return ba.emittances(S)"
   ]
  },
  {
   "cell_type": "code",
   "execution_count": null,
   "metadata": {},
   "outputs": [],
   "source": [
    "solver_kws = dict(method='trust-constr', options=dict(verbose=1, maxiter=2000))\n",
    "emittances = [solve_cholesky(meas_index, **solver_kws) for meas_index in trange(n_meas)]\n",
    "plot_with_error_bars(emittances, eps_labels, correct=emittances_all_meas);"
   ]
  },
  {
   "cell_type": "markdown",
   "metadata": {},
   "source": [
    "### Simple simulation"
   ]
  },
  {
   "cell_type": "markdown",
   "metadata": {},
   "source": [
    "Let's simulate the measurement very simply. We can start with the \"correct\" $\\Sigma$ at the reconstruction point (the one we reconstructed using all the measurements). We'll transport this to each wire-scanner using the transfer matrices. We can add some error to the measured moments and try the reconstruction method. "
   ]
  },
  {
   "cell_type": "code",
   "execution_count": null,
   "metadata": {},
   "outputs": [],
   "source": [
    "def scatter_hist(x, y, ax, ax_marg_x, ax_marg_y, joint_kws=None, marginal_kws=None):\n",
    "    if joint_kws is None:\n",
    "        joint_kws = dict()\n",
    "    if marginal_kws is None:\n",
    "        marginal_kws = dict()        \n",
    "    if 'range' in joint_kws:\n",
    "        xrange, yrange = joint_kws['range']\n",
    "    else:\n",
    "        xrange = yrange = None\n",
    "    if 'bins' in joint_kws:\n",
    "        bins = joint_kws['bins']\n",
    "    else:\n",
    "        heights, edges, patches = ax_marg_x.hist(x, bins='auto', range=xrange, **marginal_kws)\n",
    "        for patch in patches:\n",
    "            patch.set_visible(False)\n",
    "        bins = len(heights)\n",
    "        joint_kws['bins'] = bins\n",
    "    ax_marg_x.hist(x, range=xrange, bins=bins, **marginal_kws)\n",
    "    ax_marg_y.hist(y, range=yrange, bins=bins, orientation='horizontal', **marginal_kws)\n",
    "    ax.hist2d(x, y, **joint_kws)\n",
    "    return ax\n",
    "\n",
    "def create_grid(fig, gridspec, row, col):\n",
    "    ax_joint = fig.add_subplot(gridspec[row, col])\n",
    "    ax_marg_x = fig.add_subplot(gridspec[row - 1, col])\n",
    "    ax_marg_y = fig.add_subplot(gridspec[row, col + 1])\n",
    "    for ax in [ax_marg_x, ax_marg_y]:\n",
    "        ax.set_xticks([])\n",
    "        ax.set_yticks([])\n",
    "        for side in ['top', 'bottom', 'left', 'right']:\n",
    "            ax.spines[side].set_visible(False)\n",
    "    return ax_joint, ax_marg_x, ax_marg_y\n",
    "\n",
    "def emittances_joint_hist(emittances, lims=((10, 40), (0, 20))):\n",
    "    fig = plt.figure(figsize=(10, 4))\n",
    "    h = 1.5\n",
    "    gridspec = fig.add_gridspec(2, 5, width_ratios=(7, h, 2.5, 7, h), height_ratios=(h, 7),\n",
    "                                left=0.1, right=0.9, bottom=0.1, top=0.9,\n",
    "                                wspace=0, hspace=0)\n",
    "    ax1, ax1_marg_x, ax1_marg_y = create_grid(fig, gridspec, 1, 0)\n",
    "    ax2, ax2_marg_x, ax2_marg_y = create_grid(fig, gridspec, 1, 3)\n",
    "\n",
    "    joint_kws = dict(cmap='fire_r', range=lims, bins=75)\n",
    "    marginal_kws = dict(histtype='step', color='black')\n",
    "\n",
    "    scatter_hist(emittances[:, 0], emittances[:, 1], ax1, ax1_marg_x, ax1_marg_y, joint_kws, marginal_kws)\n",
    "    scatter_hist(emittances[:, 2], emittances[:, 3], ax2, ax2_marg_x, ax2_marg_y, joint_kws, marginal_kws)\n",
    "    ax1_marg_x.set_xlim(lims[0])\n",
    "    ax1_marg_y.set_ylim(lims[1])\n",
    "    ax2_marg_x.set_xlim(lims[0])\n",
    "    ax2_marg_y.set_ylim(lims[1])\n",
    "    ax1.set_xlabel(r'$\\varepsilon_x$ [mm mrad]')\n",
    "    ax1.set_ylabel(r'$\\varepsilon_y$ [mm mrad]')\n",
    "    ax2.set_xlabel(r'$\\varepsilon_1$ [mm mrad]')\n",
    "    ax2.set_ylabel(r'$\\varepsilon_2$ [mm mrad]')\n",
    "    ax1_marg_x.set_title(r'Apparent emittances ($\\varepsilon_x$, $\\varepsilon_y$)')\n",
    "    ax2_marg_x.set_title(r'Intrinsic emittances ($\\varepsilon_1$, $\\varepsilon_2$)')      \n",
    "    return ax1, ax1_marg_x, ax1_marg_y, ax2, ax1_marg_y, ax1_marg_y"
   ]
  },
  {
   "cell_type": "code",
   "execution_count": null,
   "metadata": {},
   "outputs": [],
   "source": [
    "def get_moments(Sigma0, tmats, f=None):\n",
    "    \"\"\"Return [<xx>, <yy>, <xy>] at each wire-scanner.\n",
    "    \n",
    "    `f` is the rms fractional error added to the virtually measured moments. \n",
    "    \"\"\"\n",
    "    moments = []\n",
    "    for M in tmats:            \n",
    "        Sigma = np.linalg.multi_dot([M, Sigma0, M.T])\n",
    "        sig_xx = Sigma[0, 0]\n",
    "        sig_yy = Sigma[2, 2]\n",
    "        sig_xy = Sigma[0, 2]\n",
    "        sig_uu = 0.5 * (2 * sig_xy + sig_xx + sig_yy)\n",
    "        if f:\n",
    "            sig_xx *= (1.0 + np.random.normal(scale=f))\n",
    "            sig_yy *= (1.0 + np.random.normal(scale=f))\n",
    "            sig_uu *= (1.0 + np.random.normal(scale=f))\n",
    "        sig_xy = 0.5 * (2 * sig_uu - sig_xx - sig_yy)\n",
    "        moments.append([sig_xx, sig_yy, sig_xy])\n",
    "    return moments"
   ]
  },
  {
   "cell_type": "code",
   "execution_count": null,
   "metadata": {},
   "outputs": [],
   "source": [
    "def solve(tmats, moments, method='llsq'):\n",
    "    Axx, Ayy, Axy = [], [], []\n",
    "    bxx, byy, bxy = [], [], []\n",
    "    for M, (sig_xx, sig_yy, sig_xy) in zip(tmats, moments):            \n",
    "        Axx.append([M[0, 0]**2, M[0, 1]**2, 2*M[0, 0]*M[0, 1]])\n",
    "        Ayy.append([M[2, 2]**2, M[2, 3]**2, 2*M[2, 2]*M[2, 3]])\n",
    "        Axy.append([M[0, 0]*M[2, 2],  M[0, 1]*M[2, 2],  M[0, 0]*M[2, 3],  M[0, 1]*M[2, 3]])\n",
    "        bxx.append(sig_xx)\n",
    "        byy.append(sig_yy)\n",
    "        bxy.append(sig_xy)\n",
    "        \n",
    "    sig_11, sig_22, sig_12 = opt.lsq_linear(Axx, bxx).x\n",
    "    sig_33, sig_44, sig_34 = opt.lsq_linear(Ayy, byy).x        \n",
    "    \n",
    "    if method == 'llsq':\n",
    "        sig_13, sig_23, sig_14, sig_24 = opt.lsq_linear(Axy, bxy).x\n",
    "        Sigma = to_mat([sig_11, sig_22, sig_12, sig_33, sig_44, sig_34, sig_13, sig_23, sig_14, sig_24])\n",
    "        return Sigma\n",
    "    else:\n",
    "        raise ValueError(\"`method` must be in {'llsq'}\")"
   ]
  },
  {
   "cell_type": "code",
   "execution_count": null,
   "metadata": {},
   "outputs": [],
   "source": [
    "def run_trials(Sigma0, tmats, n_trials, method='llsq', f=None, pbar=False):\n",
    "    emittances, n_fail = [], 0\n",
    "    for _ in (trange(n_trials) if pbar else range(n_trials)):\n",
    "        moments = get_moments(Sigma0, tmats, f)\n",
    "        Sigma = solve(tmats, moments, method)\n",
    "        if not utils.is_positive_definite(Sigma):\n",
    "            n_fail += 1\n",
    "            continue\n",
    "        eps_x, eps_y, eps_1, eps_2 = ba.emittances(Sigma)\n",
    "        emittances.append(ba.emittances(Sigma))\n",
    "    fail_rate = n_fail / n_trials\n",
    "    return fail_rate, np.array(emittances)"
   ]
  },
  {
   "cell_type": "code",
   "execution_count": null,
   "metadata": {},
   "outputs": [],
   "source": [
    "f = 0.05\n",
    "n_trials = 10000\n",
    "method = 'llsq'\n",
    "\n",
    "fail_rates, emittances_list = [], []\n",
    "for meas_index in range(n_meas):\n",
    "    tmats = [tmats_dict[ws_id][meas_index] for ws_id in ws_ids]\n",
    "    fail_rate, emittances = run_trials(Sigma_all_meas, tmats, n_trials, method, f, pbar=True)\n",
    "    fail_rates.append(fail_rate)\n",
    "    emittances_list.append(emittances)"
   ]
  },
  {
   "cell_type": "code",
   "execution_count": null,
   "metadata": {},
   "outputs": [],
   "source": [
    "fig, ax = pplt.subplots(figsize=(3, 2))\n",
    "ax.plot(fail_rates, color='black', marker='.')\n",
    "ax.format(xlabel='Measurement index', ylabel='Fail rate', \n",
    "          ylim=(0, 1), xtickminor=False, xticks=range(len(fail_rates)))"
   ]
  },
  {
   "cell_type": "code",
   "execution_count": null,
   "metadata": {},
   "outputs": [],
   "source": [
    "line_kws = dict(color='white', lw=0.1)\n",
    "hist_kws = dict(cmap='viridis', range=((0, 60), (0, 60)), bins=50)\n",
    "fig, axes = plt.subplots(ncols=2, figsize=(6, 3), sharex=True, sharey=True, constrained_layout=True)\n",
    "plt.close()\n",
    "\n",
    "def update(meas_index):\n",
    "    fail_rate = fail_rates[meas_index]\n",
    "    emittances = emittances_list[meas_index]\n",
    "    for j, ax in zip([0, 2], axes):\n",
    "        ax.clear()\n",
    "        ax.hist2d(emittances[:, j], emittances[:, j + 1], **hist_kws)\n",
    "    axes[0].axvline(eps_x_all_meas, **line_kws)\n",
    "    axes[0].axhline(eps_y_all_meas, **line_kws)\n",
    "    axes[1].axvline(eps_1_all_meas, **line_kws)\n",
    "    axes[1].axhline(eps_2_all_meas, **line_kws)\n",
    "    axes[0].set_xlabel(r'$\\varepsilon_x$ [mm mrad]')\n",
    "    axes[0].set_ylabel(r'$\\varepsilon_y$ [mm mrad]')\n",
    "    axes[1].set_xlabel(r'$\\varepsilon_1$ [mm mrad]')\n",
    "    axes[1].set_ylabel(r'$\\varepsilon_2$ [mm mrad]')\n",
    "    axes[0].set_title('Apparent emittances')\n",
    "    axes[1].set_title('Intrinsic emittances');\n",
    "    axes[1].annotate('f = {}'.format(f), xy=(0.05, 0.92), xycoords='axes fraction', \n",
    "                     color='white', fontsize='small')\n",
    "    axes[1].annotate('fail rate = {:.3f}'.format(fail_rate), xy=(0.05, 0.87), xycoords='axes fraction', \n",
    "                     color='white', fontsize='small')\n",
    "    axes[1].annotate('meas index = {}'.format(meas_index), xy=(0.05, 0.82), xycoords='axes fraction', \n",
    "                     color='white', fontsize='small')\n",
    "    \n",
    "animation.FuncAnimation(fig, update, frames=n_meas)"
   ]
  },
  {
   "cell_type": "code",
   "execution_count": null,
   "metadata": {
    "jupyter": {
     "source_hidden": true
    },
    "tags": []
   },
   "outputs": [],
   "source": [
    "# Sigma0 = np.copy(Sigma)\n",
    "# meas_index = 5\n",
    "# n_trials = 1000\n",
    "# dsig_list = np.linspace(0.0, 0.05, 6)\n",
    "# dphi = np.radians(0.0)\n",
    "\n",
    "# # Use real transfer matrices\n",
    "# tmats = [tmats_dict[ws_id][meas_index] for ws_id in ws_ids]\n",
    "\n",
    "# emittances_list, fail_rates = [], []\n",
    "# for dsig in dsig_list:\n",
    "#     fail_rate, emittances = run(Sigma0, tmats, n_trials, dsig, dphi, pbar=True)\n",
    "#     fail_rates.append(fail_rate)\n",
    "#     emittances_list.append(emittances)"
   ]
  },
  {
   "cell_type": "code",
   "execution_count": null,
   "metadata": {
    "jupyter": {
     "source_hidden": true
    },
    "tags": []
   },
   "outputs": [],
   "source": [
    "# fig, ax = plot.subplots(figsize=(3, 2))\n",
    "# ax.plot(dsig_list, fail_rates, marker='.', color='k')\n",
    "# ax.format(xlabel='RMS fractional error in measured moments',\n",
    "#           ylabel='Fail rate', grid=True,\n",
    "#           ylim=(0, 1))\n",
    "# plt.savefig('_output/failrate_vs_meas_error_{}'.format(meas_index), facecolor='white')"
   ]
  },
  {
   "cell_type": "code",
   "execution_count": null,
   "metadata": {
    "jupyter": {
     "source_hidden": true
    },
    "tags": []
   },
   "outputs": [],
   "source": [
    "#### @gif.frame\n",
    "# def plot_errors(dsig, fail_rate, emittances):\n",
    "#     ax1, ax1_marg_x, ax1_marg_y, ax2, ax1_marg_y, ax1_marg_y = emittances_joint_hist(emittances, lims=((15, 60), (0, 40)))\n",
    "#     ax2.annotate('fail rate = {:.2f}'.format(fail_rate), \n",
    "#              xy=(0.03, 0.93), xycoords='axes fraction', color='white')  \n",
    "#     ax2.annotate(r'rms frac err = {:.0f}%'.format(100 * dsig), \n",
    "#              xy=(0.03, 0.87), xycoords='axes fraction', color='white') \n",
    "#     line_kws = dict(color='white', lw=0.25, alpha=0.5)\n",
    "#     ax1.axvline(eps_x, **line_kws)\n",
    "#     ax1.axhline(eps_y, **line_kws)\n",
    "#     ax2.axvline(eps_1, **line_kws)\n",
    "#     ax2.axhline(eps_2, **line_kws)\n",
    "#     figname = '_output/results_dsig{:.0f}%.png'.format(100*dsig)\n",
    "#     plt.savefig(figname, facecolor='white', dpi=250)\n",
    "#     plt.show()\n",
    "    \n",
    "    \n",
    "# frames = []\n",
    "# for dsig, fail_rate, emittances in zip(dsig_list, fail_rates, emittances_list):\n",
    "#     frame = plot_errors(dsig, fail_rate, emittances)\n",
    "#     frames.append(frame)"
   ]
  },
  {
   "cell_type": "markdown",
   "metadata": {},
   "source": [
    "## Stability conditions"
   ]
  },
  {
   "cell_type": "markdown",
   "metadata": {},
   "source": [
    "Let \"individual reconstruction\" refer to the reconstruction with only four wire-scanners at fixed optics. The \"badness\" of an individual reconstruction seems to depend on the optics. In fact, in some cases it seems to vary smoothly with the measurement index. \n",
    "\n",
    "This has apparently been studied before. Below, we investigate the stability conditions derived in this previous work."
   ]
  },
  {
   "cell_type": "code",
   "execution_count": null,
   "metadata": {},
   "outputs": [],
   "source": [
    "def cond(A):\n",
    "    return np.linalg.norm(A) * np.linalg.norm(np.linalg.inv(A))"
   ]
  },
  {
   "cell_type": "code",
   "execution_count": null,
   "metadata": {},
   "outputs": [],
   "source": [
    "condition_numbers = []\n",
    "for meas_index in range(n_meas):\n",
    "    Axx, Ayy, Axy, bxx, byy, bxy = form_coeff_target_arrays(meas_index)\n",
    "    condition_numbers.append(cond(Axy))"
   ]
  },
  {
   "cell_type": "code",
   "execution_count": null,
   "metadata": {},
   "outputs": [],
   "source": [
    "fig, ax1 = pplt.subplots(figsize=(3, 2))\n",
    "colors = ['black', 'red8']\n",
    "ax1.plot(fail_rates, color=colors[0], marker='.')\n",
    "ax1.set_ylabel('Fail rate', color=colors[0])\n",
    "ax1.tick_params(axis='y', labelcolor=colors[0])\n",
    "ax1.format(xlabel='Measurement index', xtickminor=False, xticks=range(len(fail_rates)), ylim=(0, 1))\n",
    "ax2 = ax1.twinx()\n",
    "ax2.plot(np.log10(condition_numbers), color=colors[1], marker='.')\n",
    "ax2.set_ylabel(r'log$_{10}$ Condition number', color=colors[1])\n",
    "ax2.tick_params(axis='y', labelcolor=colors[1])"
   ]
  },
  {
   "cell_type": "markdown",
   "metadata": {},
   "source": [
    "### Regions of stability "
   ]
  },
  {
   "cell_type": "code",
   "execution_count": null,
   "metadata": {},
   "outputs": [],
   "source": [
    "def coeff_arrays(tmats):\n",
    "    Axx, Ayy, Axy = [], [], []\n",
    "    for M in tmats:    \n",
    "        Axx.append([M[0, 0]**2, M[0, 1]**2, 2*M[0, 0]*M[0, 1]])\n",
    "        Ayy.append([M[2, 2]**2, M[2, 3]**2, 2*M[2, 2]*M[2, 3]])\n",
    "        Axy.append([M[0, 0]*M[2, 2],  M[0, 1]*M[2, 2],  M[0, 0]*M[2, 3],  M[0, 1]*M[2, 3]])\n",
    "    return np.array(Axx), np.array(Ayy), np.array(Axy)"
   ]
  },
  {
   "cell_type": "code",
   "execution_count": null,
   "metadata": {},
   "outputs": [],
   "source": [
    "N = 4 # four wire-scanners\n",
    "\n",
    "n_steps = 300\n",
    "dmuxx = np.radians(np.linspace(0.01, 181, n_steps))\n",
    "dmuyy = np.radians(np.linspace(0.01, 181, n_steps))\n",
    "\n",
    "cond_arr = np.zeros((n_steps, n_steps))\n",
    "for i, dmux in enumerate(tqdm(dmuxx)):\n",
    "    for j, dmuy in enumerate(dmuyy):\n",
    "        muxx = np.cumsum(np.full(N, dmux)) - dmux\n",
    "        muyy = np.cumsum(np.full(N, dmuy)) - dmuy\n",
    "        tmats = [phase_adv_matrix(mux, muy) for mux, muy in zip(muxx, muyy)]\n",
    "        Axx, Ayy, Axy = coeff_arrays(tmats)\n",
    "        cond_arr[i, j] = cond(Axy)"
   ]
  },
  {
   "cell_type": "code",
   "execution_count": null,
   "metadata": {},
   "outputs": [],
   "source": [
    "fig, ax = plt.subplots()\n",
    "X, Y = np.meshgrid(np.degrees(dmuxx), np.degrees(dmuyy))\n",
    "Z = 2 / (1 + cond_arr)\n",
    "mesh = ax.pcolormesh(X, Y, Z, snap=True, cmap='binary_r', shading='auto')\n",
    "cbar = fig.colorbar(mesh, ax=ax)\n",
    "cbar.set_label(r'1 / (2 + cond($A_{xy}$))')\n",
    "ax.set_xlabel('Horizontal phase advance gaps [deg]')\n",
    "ax.set_ylabel('Vertical phase advance gaps [deg]')\n",
    "ax.set_title(''.join([r'Stability regions (evenly spaced WS)',\n",
    "                      '\\n',\n",
    "                      r'$\\beta = 1$, $\\alpha = 0$ (M = rotation matrix)'\n",
    "                      '\\n',\n",
    "                      'Dark regions are unstable'\n",
    "                     ]));"
   ]
  },
  {
   "cell_type": "markdown",
   "metadata": {},
   "source": [
    "We want to create a picture like this for the RTBT wire-scanners. The three phase advances between the wire-scanners in the RTBT are not equal. They are also no located at points where the design $\\beta$ function is maximum/minimum."
   ]
  },
  {
   "cell_type": "code",
   "execution_count": null,
   "metadata": {},
   "outputs": [],
   "source": [
    "def augmented_matrix(A, b):\n",
    "    return np.hstack([A, b[:, np.newaxis]])"
   ]
  },
  {
   "cell_type": "code",
   "execution_count": null,
   "metadata": {},
   "outputs": [],
   "source": [
    "meas_index = 0\n",
    "Axx, Ayy, Axy, bxx, byy, bxy = form_coeff_target_arrays(meas_index)\n",
    "Axx_star = augmented_matrix(Axx, bxx)\n",
    "Ayy_star = augmented_matrix(Ayy, byy)\n",
    "Axy_star = augmented_matrix(Axy, bxy)\n",
    "\n",
    "def split_submatrix(A, submat_shape):\n",
    "    p, q = submat_shape      # Store submatrix shape\n",
    "    m, n = A.shape\n",
    "    A4D = A.reshape(-1, p, n//q, q).transpose(0, 2, 1, 3).reshape(-1, p, q)\n",
    "    return np.array_split(A4D, x.size/(p*q), axis=0)\n",
    "\n",
    "A = np.array([[1, 2, 3, 4], [4, 5, 6, 4], [7, 8, 9, 4], [1, 2, 3, 4]])\n",
    "split_submatrix(A, (3, 3))"
   ]
  },
  {
   "cell_type": "code",
   "execution_count": null,
   "metadata": {},
   "outputs": [],
   "source": []
  }
 ],
 "metadata": {
  "kernelspec": {
   "display_name": "Python 3",
   "language": "python",
   "name": "python3"
  },
  "language_info": {
   "codemirror_mode": {
    "name": "ipython",
    "version": 3
   },
   "file_extension": ".py",
   "mimetype": "text/x-python",
   "name": "python",
   "nbconvert_exporter": "python",
   "pygments_lexer": "ipython3",
   "version": "3.7.6"
  }
 },
 "nbformat": 4,
 "nbformat_minor": 4
}
