{
 "cells": [
  {
   "cell_type": "code",
   "execution_count": null,
   "metadata": {},
   "outputs": [],
   "source": [
    "import numpy as np\n",
    "import pandas as pd\n",
    "from matplotlib import pyplot as plt\n",
    "import proplot as pplt\n",
    "import seaborn as sns\n",
    "from tqdm import trange\n",
    "from tqdm import tqdm"
   ]
  },
  {
   "cell_type": "code",
   "execution_count": null,
   "metadata": {},
   "outputs": [],
   "source": [
    "pplt.rc['cmap.discrete'] = False\n",
    "pplt.rc['cmap.sequential'] = 'viridis'\n",
    "pplt.rc['figure.facecolor'] = 'white'\n",
    "pplt.rc['grid'] = False"
   ]
  },
  {
   "cell_type": "code",
   "execution_count": null,
   "metadata": {},
   "outputs": [],
   "source": [
    "phase_devs_x = np.degrees(np.loadtxt('_output/data/phase_devs_x.dat'))\n",
    "phase_devs_y = np.degrees(np.loadtxt('_output/data/phase_devs_y.dat'))\n",
    "C = np.loadtxt('_output/data/condition_numbers.dat')\n",
    "Cxx = np.loadtxt('_output/data/condition_numbers_xx.dat')\n",
    "Cyy = np.loadtxt('_output/data/condition_numbers_yy.dat')\n",
    "Cxy = np.loadtxt('_output/data/condition_numbers_xy.dat')\n",
    "Csum = Cxx + Cyy + Cxy\n",
    "fail_rates = np.loadtxt('_output/data/fail_rates.dat')\n",
    "eps_x_means = 1e6 * np.loadtxt('_output/data/eps_x_means.dat')\n",
    "eps_y_means = 1e6 * np.loadtxt('_output/data/eps_y_means.dat')\n",
    "eps_1_means = 1e6 * np.loadtxt('_output/data/eps_1_means.dat')\n",
    "eps_2_means = 1e6 * np.loadtxt('_output/data/eps_2_means.dat')\n",
    "eps_x_stds = 1e6 * np.loadtxt('_output/data/eps_x_stds.dat')\n",
    "eps_y_stds = 1e6 * np.loadtxt('_output/data/eps_y_stds.dat')\n",
    "eps_1_stds = 1e6 * np.loadtxt('_output/data/eps_1_stds.dat')\n",
    "eps_2_stds = 1e6 * np.loadtxt('_output/data/eps_2_stds.dat')\n",
    "eps_x_true, eps_y_true, eps_1_true, eps_2_true = 1e6 * np.loadtxt('_output/data/true_emittances.dat')"
   ]
  },
  {
   "cell_type": "code",
   "execution_count": null,
   "metadata": {},
   "outputs": [],
   "source": [
    "total_fail_idx = np.where(fail_rates >= 0.99)\n",
    "arrays = [eps_1_means, eps_2_means, eps_1_stds, eps_2_stds]\n",
    "for i in range(len(arrays)):\n",
    "    arrays[i][total_fail_idx] = None"
   ]
  },
  {
   "cell_type": "code",
   "execution_count": null,
   "metadata": {},
   "outputs": [],
   "source": [
    "eps_x_errs = eps_x_means - eps_x_true\n",
    "eps_y_errs = eps_y_means - eps_y_true\n",
    "eps_1_errs = eps_1_means - eps_1_true\n",
    "eps_2_errs = eps_2_means - eps_2_true"
   ]
  },
  {
   "cell_type": "code",
   "execution_count": null,
   "metadata": {},
   "outputs": [],
   "source": [
    "plot_kws = dict(ec='None', colorbar=True)"
   ]
  },
  {
   "cell_type": "code",
   "execution_count": null,
   "metadata": {},
   "outputs": [],
   "source": [
    "fig, ax = pplt.subplots()\n",
    "Z = 2.0 / (1.0 + Cxx)\n",
    "ax.pcolormesh(phase_devs_x, phase_devs_y, Z.T, \n",
    "              colorbar_kw=dict(label=r'2 / (1 + $C_{xx}$)'),\n",
    "              **plot_kws\n",
    "             )\n",
    "ax.format(xlabel=r'$\\mu_x - \\mu_{x0}$ [deg]', ylabel=r'$\\mu_y - \\mu_{y0}$ [deg]')\n",
    "plt.savefig('_output/figures/inv_condition_numbers_xx.png', facecolor='white', dpi=300)\n",
    "plt.show()"
   ]
  },
  {
   "cell_type": "code",
   "execution_count": null,
   "metadata": {},
   "outputs": [],
   "source": [
    "fig, ax = pplt.subplots()\n",
    "Z = 2.0 / (1.0 + Cyy)\n",
    "ax.pcolormesh(phase_devs_x, phase_devs_y, Z.T, \n",
    "              colorbar_kw=dict(label=r'2 / (1 + $C_{yy}$)'),\n",
    "              **plot_kws)\n",
    "ax.format(xlabel=r'$\\mu_x - \\mu_{x0}$ [deg]', ylabel=r'$\\mu_y - \\mu_{y0}$ [deg]')\n",
    "plt.savefig('_output/figures/inv_condition_numbers_yy.png', facecolor='white', dpi=300)\n",
    "plt.show()"
   ]
  },
  {
   "cell_type": "code",
   "execution_count": null,
   "metadata": {},
   "outputs": [],
   "source": [
    "fig, ax = pplt.subplots()\n",
    "Z = 2.0 / (1.0 + Cxy)\n",
    "ax.pcolormesh(phase_devs_x, phase_devs_y, Z.T,\n",
    "              cmap='viridis',\n",
    "              colorbar_kw=dict(label=r'2 / (1 + $C_{xy}$)'),\n",
    "              **plot_kws)\n",
    "ax.format(xlabel=r'$\\mu_x - \\mu_{x0}$', ylabel=r'$\\mu_y - \\mu_{y0}$',\n",
    "          xformatter='deg', yformatter='deg')\n",
    "plt.savefig('_output/figures/inv_condition_numbers_xy.png', facecolor='white', dpi=300)\n",
    "plt.show()"
   ]
  },
  {
   "cell_type": "code",
   "execution_count": null,
   "metadata": {},
   "outputs": [],
   "source": [
    "fig, ax = pplt.subplots()\n",
    "Z = 2.0 / (1.0 + (Cxx + Cxy + Cyy))\n",
    "ax.pcolormesh(phase_devs_x, phase_devs_y, Z.T, cmap='viridis',\n",
    "              colorbar_kw=dict(label=r'2 / (1 + ($C_{xx} + C_{yy} + C_{xy}$))'),\n",
    "              **plot_kws\n",
    "             )\n",
    "ax.format(xlabel=r'$\\mu_x - \\mu_{x0}$ [deg]', ylabel=r'$\\mu_y - \\mu_{y0}$ [deg]',\n",
    "          xformatter='deg', yformatter='deg')\n",
    "plt.savefig('_output/figures/inv_condition_numbers_sum.png', facecolor='white', dpi=300)\n",
    "plt.show()"
   ]
  },
  {
   "cell_type": "code",
   "execution_count": null,
   "metadata": {},
   "outputs": [],
   "source": [
    "fig, ax = pplt.subplots()\n",
    "ax.pcolormesh(phase_devs_x, phase_devs_y, fail_rates.T, \n",
    "              vmin=0, vmax=1,\n",
    "              colorbar=True, colorbar_kw=dict(label='Fail rate'))\n",
    "ax.format(xlabel=r'$\\mu_x - \\mu_{x0}$ [deg]', ylabel=r'$\\mu_y - \\mu_{y0}$ [deg]')\n",
    "plt.savefig('_output/figures//fail_rates.png', dpi=300, facecolor='white')\n",
    "plt.show()"
   ]
  },
  {
   "cell_type": "code",
   "execution_count": null,
   "metadata": {},
   "outputs": [],
   "source": [
    "def plot_condition_numbers(Cxx, Cyy, Cxy, xvals, yvals, \n",
    "                           opt='inv', figwidth=8.0, space=None,\n",
    "                           share=False, **plot_kws):\n",
    "    Cs = [Cxx, Cyy, Cxy]\n",
    "    labels = (r'$C_{xx}$', r'$C_{yy}$', r'$C_{xy}$')\n",
    "    if opt == 'inv':\n",
    "        Zs = [2.0 / (1.0 + C) for C in Cs]\n",
    "        cbar_labels = [r'2 / (1 + {})'.format(label) for label in labels]\n",
    "    elif opt == 'log':\n",
    "        Zs = [np.log10(C) for C in Cs],\n",
    "        cbar_labels = [r'$\\log_{10} ({})$'.format(label) for label in labels]\n",
    "    vmin = min(np.min(Z) for Z in Zs) if share else None\n",
    "    vmax = max(np.max(Z) for Z in Zs) if share else None\n",
    "    fig, axes = pplt.subplots(ncols=3, figwidth=figwidth, space=space)\n",
    "    for ax, Z, label in zip(axes, Zs, cbar_labels):\n",
    "        m = ax.pcolormesh(xvals, yvals, Z.T, ec='None', vmin=vmin, vmax=vmax, **plot_kws)\n",
    "        ax.colorbar(m, width=0.1, loc='right')\n",
    "        ax.set_title(label, fontsize='large')\n",
    "    axes.format(titlepad=12.0)\n",
    "    return axes"
   ]
  },
  {
   "cell_type": "code",
   "execution_count": null,
   "metadata": {},
   "outputs": [],
   "source": [
    "grey = pplt.Colormap('mono_r', right=1.0)\n",
    "axes = plot_condition_numbers(Cxx, Cyy, Cxy, phase_devs_x, phase_devs_y, cmap=grey, figwidth=8.5)\n",
    "axes.format(xlabel=r'$\\mu_x - \\mu_{x0}$', ylabel=r'$\\mu_y - \\mu_{y0}$', \n",
    "            xlabel_kw=dict(fontsize='large'), ylabel_kw=dict(fontsize='large'),\n",
    "            xformatter='deg', yformatter='deg')"
   ]
  },
  {
   "cell_type": "code",
   "execution_count": null,
   "metadata": {},
   "outputs": [],
   "source": [
    "errs = [eps_x_errs, eps_y_errs, eps_1_errs, eps_2_errs]\n",
    "stds = [eps_x_stds, eps_y_stds, eps_1_stds, eps_2_stds]\n",
    "frac_errs = [\n",
    "    eps_x_errs / eps_x_true, \n",
    "    eps_y_errs / eps_y_true, \n",
    "    eps_1_errs / eps_1_true, \n",
    "    eps_2_errs / eps_2_true\n",
    "]\n",
    "frac_stds = [\n",
    "    eps_x_stds / eps_x_true,\n",
    "    eps_y_stds / eps_y_true,\n",
    "    eps_1_stds / eps_1_true, \n",
    "    eps_2_stds / eps_2_true,\n",
    "]\n",
    "vmax = np.nanmax(frac_errs)\n",
    "vmin = np.nanmin(frac_errs)\n",
    "vmax = max(abs(vmax), abs(vmin))\n",
    "vmin = -vmax"
   ]
  },
  {
   "cell_type": "code",
   "execution_count": null,
   "metadata": {},
   "outputs": [],
   "source": [
    "colorbar_kws = dict(loc='right', width=0.1)\n",
    "eps_labels = [r'$\\varepsilon_x$', r'$\\varepsilon_y$',\n",
    "              r'$\\varepsilon_1$', r'$\\varepsilon_2$']\n",
    "vmax_frac_errs = max(abs(np.nanmax(frac_errs)), abs(np.nanmin(frac_errs)))\n",
    "vmax_frac_stds = np.nanmax(frac_stds)\n",
    "vmin_frac_stds = np.nanmin(frac_stds)\n",
    "share = False\n",
    "\n",
    "fig, axes = pplt.subplots(ncols=4, nrows=2, space=None, figwidth=9.5)\n",
    "for ax, err in zip(axes[0, :], frac_errs):\n",
    "    vmax_ = vmax_frac_errs if share else max(abs(np.nanmax(err)), abs(np.nanmin(err))) \n",
    "    m = ax.pcolormesh(phase_devs_x, phase_devs_y, err.T,\n",
    "                      cmap='Vlag', diverging=True, \n",
    "                      vmax=vmax_, vmin=-vmax_,\n",
    "                      ec='None',)\n",
    "    if not share:\n",
    "        ax.colorbar(m, label='frac. error' if ax is axes[0, -1] else '', **colorbar_kws)\n",
    "if share:\n",
    "    fig.colorbar(m, ax=axes[0, -1], label='frac. error', **colorbar_kws)\n",
    "for ax, std in zip(axes[1, :], frac_stds):\n",
    "    vmax_ = vmax_frac_stds if share else max(abs(np.nanmax(std)), abs(np.nanmin(std)))\n",
    "    m = ax.pcolormesh(phase_devs_x, phase_devs_y, std.T, \n",
    "                      vmin=0.0, vmax=vmax_, ec='None',)\n",
    "    if not share:\n",
    "        ax.colorbar(m, label='frac. std' if ax is axes[1, -1] else '', **colorbar_kws)\n",
    "if share:\n",
    "    fig.colorbar(m, ax=axes[1, -1], label='frac. std', **colorbar_kws)\n",
    "axes.format(xlabel=r'$\\mu_x - \\mu_{x0}$', ylabel=r'$\\mu_y - \\mu_{y0}$',\n",
    "            xformatter='deg', yformatter='deg',\n",
    "            toplabels=eps_labels, \n",
    "            toplabels_kw=dict(fontweight='normal', fontsize='large'),\n",
    "            xlabel_kw=dict(fontsize='large'), ylabel_kw=dict(fontsize='large')\n",
    "           )\n",
    "plt.savefig('_output/figures/montecarlo_emittances.png', dpi=500)\n",
    "plt.show()"
   ]
  },
  {
   "cell_type": "code",
   "execution_count": null,
   "metadata": {},
   "outputs": [],
   "source": [
    "colorbar_kws = dict(loc='right', width=0.1)\n",
    "\n",
    "fig, axes = pplt.subplots(nrows=2, ncols=2, figwidth=5.5)\n",
    "vmax = np.nanmax(np.abs(frac_errs[2:]))\n",
    "for ax, err in zip(axes[0, :], frac_errs[2:]):\n",
    "    m = ax.pcolormesh(phase_devs_x, phase_devs_y, err.T, ec='None',\n",
    "                      diverging=True, cmap='Vlag', vmax=vmax, vmin=-vmax)\n",
    "axes[0, 1].colorbar(m, label='frac. error', **colorbar_kws)\n",
    "vmin = 0.0\n",
    "vmax = np.nanmax(frac_stds[2:])\n",
    "for ax, std in zip(axes[1, :], frac_stds[2:]):\n",
    "    m = ax.pcolormesh(phase_devs_x, phase_devs_y, std.T, \n",
    "                      vmin=vmin, vmax=vmax, ec='None')\n",
    "axes[1, 1].colorbar(m, label='frac. std', **colorbar_kws)\n",
    "axes.format(xlabel=r'$\\mu_x - \\mu_{x0}$', ylabel=r'$\\mu_y - \\mu_{y0}$',\n",
    "            xformatter='deg', yformatter='deg',\n",
    "            toplabels=eps_labels[2:],\n",
    "            toplabels_kw=dict(fontweight='normal'))\n",
    "plt.savefig('_output/figures/rtbt_montecarlo_emittances.png', dpi=400)\n",
    "plt.show()"
   ]
  },
  {
   "cell_type": "code",
   "execution_count": null,
   "metadata": {},
   "outputs": [],
   "source": [
    "colorbar_kws = dict(loc='right', width=0.1)\n",
    "\n",
    "fig, axes = pplt.subplots(nrows=2, ncols=2, figwidth=5.5)\n",
    "vmax = np.nanmax(np.abs(errs[2:]))\n",
    "for ax, err in zip(axes[0, :], errs[2:]):\n",
    "    m = ax.pcolormesh(phase_devs_x, phase_devs_y, err.T, ec='None',\n",
    "                      diverging=True, cmap='Vlag', vmax=vmax, vmin=-vmax)\n",
    "axes[0, 1].colorbar(m, label='error [mm mrad]', **colorbar_kws)\n",
    "vmax = np.nanmax(stds[2:])\n",
    "for ax, std in zip(axes[1, :], stds[2:]):\n",
    "    m = ax.pcolormesh(phase_devs_x, phase_devs_y, std.T, vmin=0, vmax=vmax, ec='None')\n",
    "axes[1, 1].colorbar(m, label='std. [mm mrad]', **colorbar_kws)\n",
    "axes.format(xlabel=r'$\\mu_x - \\mu_{x0}$', ylabel=r'$\\mu_y - \\mu_{y0}$',\n",
    "            xformatter='deg', yformatter='deg',\n",
    "#             toplabels=eps_labels[2:],\n",
    "#             toplabels_kw=dict(fontweight='normal')\n",
    "           )\n",
    "plt.savefig('_output/figures/rtbt_mc_emittances.png', dpi=400)\n",
    "plt.show()"
   ]
  },
  {
   "cell_type": "code",
   "execution_count": null,
   "metadata": {},
   "outputs": [],
   "source": [
    "for i in [2, 3]:\n",
    "    print('i =', i)\n",
    "    print(errs[i][-1, :])\n",
    "    print()\n",
    "    print(stds[i][-1, :])\n",
    "    print()\n",
    "    print()"
   ]
  },
  {
   "cell_type": "code",
   "execution_count": null,
   "metadata": {},
   "outputs": [],
   "source": [
    "titles = ['eps_x_errs', 'eps_y_errs', 'eps_1_errs', 'eps_2_errs', \n",
    "          'eps_x_stds', 'eps_y_stds', 'eps_1_stds', 'eps_2_stds']\n",
    "datas = [eps_x_errs, eps_y_errs, eps_1_errs, eps_2_errs,\n",
    "         eps_x_stds, eps_y_stds, eps_1_stds, eps_2_stds]\n",
    "\n",
    "for data in datas:\n",
    "    data[data == 0.0] = None\n",
    "\n",
    "for title, data in zip(titles, datas):\n",
    "    fig, ax = pplt.subplots()\n",
    "    ax.pcolormesh(phase_devs_x, phase_devs_y, data.T, \n",
    "                  vmin=0.0 if 'std' in title else None,\n",
    "                  diverging='std' not in title,\n",
    "                  cmap=None if 'std' in title else 'Vlag',\n",
    "                  colorbar=True, colorbar_kw=dict(label='[mm mrad]'))\n",
    "#     for (dmux, dmuy) in dmus:\n",
    "#         ax.scatter(dmux, dmuy, color='red')\n",
    "    ax.format(xlabel=r'$\\mu_x - \\mu_{x0}$ [deg]', ylabel=r'$\\mu_y - \\mu_{y0}$ [deg]', title=title, \n",
    "             )\n",
    "    plt.show()"
   ]
  },
  {
   "cell_type": "code",
   "execution_count": null,
   "metadata": {},
   "outputs": [],
   "source": []
  },
  {
   "cell_type": "code",
   "execution_count": null,
   "metadata": {},
   "outputs": [],
   "source": [
    "model = np.array([-0.75, 1.91, 5.62, 19.40])\n",
    "meas = np.array([-0.65, 1.17, 5.78, 20.41])\n",
    "(model - meas) / model"
   ]
  },
  {
   "cell_type": "code",
   "execution_count": null,
   "metadata": {},
   "outputs": [],
   "source": []
  },
  {
   "cell_type": "code",
   "execution_count": null,
   "metadata": {},
   "outputs": [],
   "source": []
  },
  {
   "cell_type": "markdown",
   "metadata": {},
   "source": [
    "## Plot"
   ]
  },
  {
   "cell_type": "code",
   "execution_count": null,
   "metadata": {},
   "outputs": [],
   "source": [
    "def rotation_matrix_2D(mu):\n",
    "    return np.array([[np.cos(mu), np.sin(mu)], [-np.sin(mu), np.cos(mu)]])\n",
    "\n",
    "def rotation_matrix_4D(mux, muy):\n",
    "    M = np.zeros((4, 4))\n",
    "    M[:2, :2] = rotation_matrix_2D(mux)\n",
    "    M[2:, 2:] = rotation_matrix_2D(muy)\n",
    "    return M\n",
    "\n",
    "def get_tmats(dmux, dmuy):\n",
    "    return [rotation_matrix_4D(i * dmux, i * dmuy) for i in range(4)]\n",
    "        \n",
    "def cond(A):\n",
    "    A = np.array(A)\n",
    "    inv = np.linalg.inv if A.shape[0] == A.shape[1] else np.linalg.pinv\n",
    "    return np.linalg.norm(A) * np.linalg.norm(inv(A))\n",
    "\n",
    "n = 150\n",
    "pad = 0.1\n",
    "dmuxx = np.radians(np.linspace(0.0 + pad, 180.0 - pad, n))\n",
    "dmuyy = np.radians(np.linspace(0.0 + pad, 180.0 - pad, n))\n",
    "Cxx = np.zeros((n, n))\n",
    "Cyy = np.zeros((n, n))\n",
    "Cxy = np.zeros((n, n))\n",
    "for i, dmux in enumerate(tqdm(dmuxx)):\n",
    "    for j, dmuy in enumerate(dmuyy):  \n",
    "        Axx, Ayy, Axy = [], [], []\n",
    "        for M in get_tmats(dmux, dmuy):\n",
    "            Axx.append([M[0, 0]**2, M[0, 1]**2, 2*M[0, 0]*M[0, 1]])\n",
    "            Ayy.append([M[2, 2]**2, M[2, 3]**2, 2*M[2, 2]*M[2, 3]])\n",
    "            Axy.append([M[0, 0]*M[2, 2], M[0, 1]*M[2, 2], M[0, 0]*M[2, 3], M[0, 1]*M[2, 3]])\n",
    "        Cxx[i, j] = cond(Axx)\n",
    "        Cyy[i, j] = cond(Ayy)\n",
    "        Cxy[i, j] = cond(Axy)"
   ]
  },
  {
   "cell_type": "code",
   "execution_count": null,
   "metadata": {},
   "outputs": [],
   "source": [
    "axes = plot_condition_numbers(Cxx, Cyy, Cxy, \n",
    "                              np.degrees(dmuxx),\n",
    "                              np.degrees(dmuyy),\n",
    "                              cmap=pplt.Colormap('mono_r', right=0.94), \n",
    "                              figwidth=8.5)\n",
    "axes.format(xlabel=r'$\\Delta\\mu_x$', ylabel=r'$\\Delta\\mu_y$', \n",
    "            xlabel_kw=dict(fontsize='large'), ylabel_kw=dict(fontsize='large'),\n",
    "            xformatter='deg', yformatter='deg')\n",
    "plt.savefig('_output/figures/cond.png', dpi=400)"
   ]
  },
  {
   "cell_type": "code",
   "execution_count": null,
   "metadata": {},
   "outputs": [],
   "source": [
    "def getZ(C):\n",
    "    return 2.0 / (1.0 + C)\n",
    "\n",
    "Z = getZ(Cxx + Cyy + Cxy)\n",
    "fig, ax = pplt.subplots()\n",
    "ax.pcolormesh(Z.T, cmap='mono_r', ec='None', colorbar=True, colorbar_kw=dict(label=r'2'))"
   ]
  },
  {
   "cell_type": "code",
   "execution_count": null,
   "metadata": {},
   "outputs": [],
   "source": []
  }
 ],
 "metadata": {
  "kernelspec": {
   "display_name": "Python 3",
   "language": "python",
   "name": "python3"
  },
  "language_info": {
   "codemirror_mode": {
    "name": "ipython",
    "version": 3
   },
   "file_extension": ".py",
   "mimetype": "text/x-python",
   "name": "python",
   "nbconvert_exporter": "python",
   "pygments_lexer": "ipython3",
   "version": "3.7.6"
  }
 },
 "nbformat": 4,
 "nbformat_minor": 4
}
