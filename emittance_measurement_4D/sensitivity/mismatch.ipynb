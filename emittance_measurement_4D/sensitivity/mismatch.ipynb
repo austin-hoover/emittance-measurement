{
 "cells": [
  {
   "cell_type": "code",
   "execution_count": null,
   "metadata": {},
   "outputs": [],
   "source": [
    "import pickle\n",
    "\n",
    "from matplotlib import pyplot as plt\n",
    "import numpy as np\n",
    "import pandas as pd\n",
    "import proplot as pplt\n",
    "import seaborn as sns\n",
    "from tqdm import trange\n",
    "import xarray as xr"
   ]
  },
  {
   "cell_type": "code",
   "execution_count": null,
   "metadata": {},
   "outputs": [],
   "source": [
    "pplt.rc['cmap.discrete'] = False\n",
    "pplt.rc['cmap.diverging'] = 'vlag'\n",
    "pplt.rc['cmap.sequential'] = 'viridis'\n",
    "pplt.rc['figure.facecolor'] = 'white'\n",
    "pplt.rc['grid'] = False"
   ]
  },
  {
   "cell_type": "code",
   "execution_count": null,
   "metadata": {},
   "outputs": [],
   "source": [
    "dims = ['alpha_x', 'alpha_y', 'beta_x', 'beta_y']\n",
    "eps_labels = [r'$\\varepsilon_x$', r'$\\varepsilon_y$', r'$\\varepsilon_1$', r'$\\varepsilon_2$']\n",
    "twiss_labels = [r'$\\alpha_x$', r'$\\alpha_y$', r'$\\beta_x$', r'$\\beta_y$']  \n",
    "twiss_labels_dict = {dim: label for dim, label in zip(dims, twiss_labels)}"
   ]
  },
  {
   "cell_type": "markdown",
   "metadata": {},
   "source": [
    "Load the data."
   ]
  },
  {
   "cell_type": "code",
   "execution_count": null,
   "metadata": {},
   "outputs": [],
   "source": [
    "alpha_xs = np.loadtxt('_output/data/alpha_xs.dat')\n",
    "alpha_ys = np.loadtxt('_output/data/alpha_ys.dat')\n",
    "beta_xs = np.loadtxt('_output/data/beta_xs.dat')\n",
    "beta_ys = np.loadtxt('_output/data/beta_ys.dat')\n",
    "alpha_x_true, alpha_y_true, beta_x_true, beta_y_true = np.loadtxt('_output/data/true_twiss.dat')\n",
    "eps_x_true, eps_y_true, eps_1_true, eps_2_true = 1e6 * np.loadtxt('_output/data/true_emittances.dat')\n",
    "eps_true = np.array([eps_x_true, eps_y_true, eps_1_true, eps_2_true])"
   ]
  },
  {
   "cell_type": "code",
   "execution_count": null,
   "metadata": {},
   "outputs": [],
   "source": [
    "def load_pickled_file(filename):\n",
    "    file = open(filename, 'rb')\n",
    "    data = pickle.load(file)\n",
    "    file.close()\n",
    "    return data\n",
    "\n",
    "def load_data(filename):\n",
    "    data = load_pickled_file(filename)\n",
    "    data = np.array(data)\n",
    "    data *= 1e6\n",
    "    data = xr.DataArray(\n",
    "        data, \n",
    "        dims=dims+['emittance'], \n",
    "        coords={'alpha_x': alpha_xs, \n",
    "                'alpha_y': alpha_ys, \n",
    "                'beta_x': beta_xs, \n",
    "                'beta_y': beta_ys}\n",
    "    )\n",
    "    return data"
   ]
  },
  {
   "cell_type": "code",
   "execution_count": null,
   "metadata": {},
   "outputs": [],
   "source": [
    "fail_rates = np.array(load_pickled_file('_output/data/fail_rates.pkl'))\n",
    "fail_rates = xr.DataArray(\n",
    "    fail_rates,\n",
    "    dims=dims,\n",
    "    coords={'alpha_x': alpha_xs, \n",
    "            'alpha_y': alpha_ys, \n",
    "            'beta_x': beta_xs, \n",
    "            'beta_y': beta_ys},\n",
    ")\n",
    "means = load_data('_output/data/emittance_means.pkl')\n",
    "stds = load_data('_output/data/emittance_stds.pkl')\n",
    "errs = eps_true - means\n",
    "frac_stds = stds / eps_true\n",
    "frac_errs = errs / eps_true"
   ]
  },
  {
   "cell_type": "markdown",
   "metadata": {},
   "source": [
    "Plot."
   ]
  },
  {
   "cell_type": "code",
   "execution_count": null,
   "metadata": {},
   "outputs": [],
   "source": [
    "n = len(beta_xs)"
   ]
  },
  {
   "cell_type": "code",
   "execution_count": null,
   "metadata": {},
   "outputs": [],
   "source": [
    "dim1 = 'alpha_x'\n",
    "dim2 = 'alpha_y'\n",
    "shared_norm = False\n",
    "\n",
    "for diverging, data in zip([True, False], [frac_errs, frac_stds]):\n",
    "\n",
    "    idx = {dim: n//2 for dim in dims if dim not in [dim1, dim2]}\n",
    "    H = data.isel(idx)\n",
    "\n",
    "    vmin = vmax = None\n",
    "    if shared_norm:\n",
    "        vmin = np.nanmin(H)\n",
    "        vmax = np.nanmax(H)\n",
    "        vmax = max(abs(vmax), abs(vmin))\n",
    "        vmin = -vmax\n",
    "\n",
    "    fig, axes = pplt.subplots(ncols=2, nrows=2, )\n",
    "    for i, (ax, label) in enumerate(zip(axes, eps_labels)):\n",
    "        ax.set_title(label)\n",
    "        ax.pcolormesh(\n",
    "            data.coords[dim1], data.coords[dim2], H[:, :, i].T, \n",
    "            vmin=vmin, vmax=vmax, \n",
    "            diverging=data is frac_errs,\n",
    "            colorbar=True,\n",
    "        )\n",
    "    axes.format(xlabel=twiss_labels_dict[dim1], ylabel=twiss_labels_dict[dim2])\n",
    "    plt.show()\n",
    "    \n",
    "fig, ax = pplt.subplots()\n",
    "idx = {dim: n//2 for dim in dims if dim not in [dim1, dim2]}\n",
    "ax.pcolormesh(fail_rates.coords[dim1], fail_rates.coords[dim2], fail_rates.isel(idx).T, colorbar=True)\n",
    "ax.set_title('Fail rates')\n",
    "plt.show()"
   ]
  },
  {
   "cell_type": "code",
   "execution_count": null,
   "metadata": {},
   "outputs": [],
   "source": [
    "measured = np.array([6.26, 20.82, -0.89, 1.17])\n",
    "model = np.array([5.48, 19.25, -0.77, 1.9])\n",
    "strings = ['$\\\\beta_x$', '$\\\\beta_y$', '$\\\\alpha_x$', '$\\\\alpha_y$']\n",
    "print((model - measured) / model)\n",
    "for array, meas, mod, string in zip([beta_xs, beta_ys, alpha_xs, alpha_ys], measured, model, strings):\n",
    "    print('{} & {:.2f} & {:.2f} & {:.2f} & {:.2f} \\\\\\\\'.format(string, meas, mod, np.min(array), np.max(array)))"
   ]
  },
  {
   "cell_type": "code",
   "execution_count": null,
   "metadata": {},
   "outputs": [],
   "source": [
    "def mismatch_parameter(alpha1, beta1, alpha2, beta2):\n",
    "    gamma1 = (1.0 + alpha1**2) / beta1\n",
    "    gamma2 = (1.0 + alpha2**2) / beta2\n",
    "    return 0.5 * (beta1 * gamma2 - 2.0 * alpha1 * alpha2 + gamma1 * beta2)"
   ]
  },
  {
   "cell_type": "code",
   "execution_count": null,
   "metadata": {},
   "outputs": [],
   "source": [
    "Mx = np.zeros((len(alpha_xs), len(alpha_ys), len(beta_xs), len(beta_ys)))\n",
    "My = np.zeros((len(alpha_xs), len(alpha_ys), len(beta_xs), len(beta_ys)))\n",
    "for i, alpha_x in enumerate(alpha_xs):\n",
    "    for k, beta_x in enumerate(beta_xs):\n",
    "        for j, alpha_y in enumerate(alpha_ys):\n",
    "            for l, beta_y in enumerate(beta_ys): \n",
    "                Mx[i, j, k, l] = mismatch_parameter(alpha_x, beta_x, alpha_x_true, beta_x_true)\n",
    "                My[i, j, k, l] = mismatch_parameter(alpha_y, beta_y, alpha_y_true, beta_y_true)\n",
    "M = Mx + My"
   ]
  },
  {
   "cell_type": "code",
   "execution_count": null,
   "metadata": {},
   "outputs": [],
   "source": [
    "def correct_xlim(ax):\n",
    "    xlim = ax.get_xlim()\n",
    "    if xlim[1] < xlim[0]:\n",
    "        ax.set_xlim(list(reversed(ax.get_xlim())))"
   ]
  },
  {
   "cell_type": "code",
   "execution_count": null,
   "metadata": {},
   "outputs": [],
   "source": [
    "fig, ax = pplt.subplots(figsize=(6.0, 2.0))\n",
    "ax.plot(M.ravel(), fail_rates.values.ravel(), color='black', lw=0, marker='.', ms=1)\n",
    "ax.format(xlabel=r'$M_x + M_y$', ylabel='Fail rates')\n",
    "correct_xlim(ax)\n",
    "plt.show()"
   ]
  },
  {
   "cell_type": "code",
   "execution_count": null,
   "metadata": {},
   "outputs": [],
   "source": [
    "for i, eps_label in enumerate(eps_labels):\n",
    "    fig, ax = pplt.subplots(figsize=(6.0, 2.0))\n",
    "    ax.plot(M.ravel(), frac_errs[..., i].values.ravel(), color='black', lw=0, marker='.', ms=1)\n",
    "    ax.format(xlabel=r'$M_x + M_y$', ylabel='Frac. error', title=eps_label)\n",
    "    correct_xlim(ax)\n",
    "    plt.show()"
   ]
  },
  {
   "cell_type": "code",
   "execution_count": null,
   "metadata": {},
   "outputs": [],
   "source": [
    "cmap = pplt.Colormap('mono', left=0.4)"
   ]
  },
  {
   "cell_type": "code",
   "execution_count": null,
   "metadata": {},
   "outputs": [],
   "source": [
    "fig, axes = pplt.subplots(nrows=2, ncols=2, figsize=(4.0, 4.0))\n",
    "for i, (eps_label, ax) in enumerate(zip(eps_labels, axes)):\n",
    "    x = M.ravel()\n",
    "    y = frac_errs[..., i].values.ravel()\n",
    "    ax.scatter(x, y, c='black', s=1, alpha=0.25)\n",
    "    ax.format(xlabel=r'$M_x + M_y$', ylabel='Frac. std', title=eps_label)\n",
    "    correct_xlim(ax)\n",
    "plt.show()"
   ]
  },
  {
   "cell_type": "code",
   "execution_count": null,
   "metadata": {},
   "outputs": [],
   "source": [
    "fig, axes = pplt.subplots(nrows=2, ncols=2, figwidth=4.0)\n",
    "for i, (eps_label, ax) in enumerate(zip(eps_labels, axes)):\n",
    "    x = M.ravel()\n",
    "    y = frac_stds[..., i].values.ravel()\n",
    "    sns.histplot(x=x, y=y, ax=ax, cmap='blues', ec='None', colorbar=True)\n",
    "    ax.format(xlabel=r'$M_x + M_y$', ylabel='Frac. std', title=eps_label)\n",
    "    correct_xlim(ax)\n",
    "plt.show()"
   ]
  },
  {
   "cell_type": "code",
   "execution_count": null,
   "metadata": {},
   "outputs": [],
   "source": [
    "fig, axes = pplt.subplots(nrows=2, ncols=2, figsize=(5.0, 4.0), \n",
    "                          sharey=False, spany=False, aligny=True)\n",
    "# kws = dict(c='black', s=10.0, ec='None', alpha=0.1)\n",
    "kws = dict(c='black', s=0.1, ec='None')\n",
    "x = 0.5 * M.ravel()\n",
    "for j in range(2):\n",
    "    for i, data in enumerate([frac_errs, frac_stds]):\n",
    "        y = data[..., j + 2].values.ravel()\n",
    "        axes[i, j].scatter(x, y, **kws)\n",
    "axes.format(xlabel=r'$\\frac{1}{2} (M_x + M_y)$')\n",
    "axes[0, 0].format(ylabel='Frac. error')\n",
    "axes[1, 0].format(ylabel='Frac. std')\n",
    "\n",
    "ymax = np.max(np.abs([ax.get_ylim() for ax in axes[0, :]]))\n",
    "ymax *= 1.05\n",
    "# ymax = 0.15\n",
    "axes[0, :].format(ylim=(-ymax, ymax))\n",
    "\n",
    "ymax = np.max(np.abs([ax.get_ylim() for ax in axes[1, :]]))\n",
    "axes[1, :].format(ylim=(0.0, ymax))\n",
    "\n",
    "xlims = np.zeros((2, 2, 2))\n",
    "ylims = np.zeros((2, 2, 2))\n",
    "for i in range(2):\n",
    "    for j in range(2):\n",
    "        xlims[i, j] = axes[i, j].get_xlim()\n",
    "        ylims[i, j] = axes[i, j].get_ylim()\n",
    "\n",
    "for ax, label in zip(axes[0, :], eps_labels[2:]):\n",
    "    ax.set_title(label)\n",
    "axes[:, 1].format(yticklabels=[])\n",
    "plt.savefig('_output/figures/mismatch')\n",
    "plt.show()"
   ]
  },
  {
   "cell_type": "code",
   "execution_count": null,
   "metadata": {},
   "outputs": [],
   "source": [
    "fig, axes = pplt.subplots(nrows=2, ncols=2, figsize=(5.0, 4.0), \n",
    "                          sharey=False, spany=False, aligny=True)\n",
    "x = 0.5 * M.ravel()\n",
    "for j in range(2):\n",
    "    for i, data in enumerate([frac_errs, frac_stds]):\n",
    "        y = data[..., j + 2].values.ravel()\n",
    "        sns.histplot(ax=axes[i, j], x=x, y=y, binrange=[xlims[i, j], ylims[i, j]],\n",
    "                     cmap='mono', bins=150, thresh=None,\n",
    "                    )\n",
    "axes.format(xlabel=r'$\\frac{1}{2} (M_x + M_y)$')\n",
    "axes[0, 0].format(ylabel='Frac. error')\n",
    "axes[1, 0].format(ylabel='Frac. std')\n",
    "\n",
    "for ax, label in zip(axes[0, :], eps_labels[2:]):\n",
    "    ax.set_title(label)\n",
    "axes[:, 1].format(yticklabels=[])\n",
    "plt.savefig('_output/figures/mismatch2.png', dpi=400)\n",
    "plt.show()"
   ]
  },
  {
   "cell_type": "code",
   "execution_count": null,
   "metadata": {},
   "outputs": [],
   "source": [
    "frac_errs.isel(alpha_x=-1, beta_x=-1, beta_y=-1, alpha_y=0)"
   ]
  },
  {
   "cell_type": "code",
   "execution_count": null,
   "metadata": {},
   "outputs": [],
   "source": []
  }
 ],
 "metadata": {
  "kernelspec": {
   "display_name": "Python 3",
   "language": "python",
   "name": "python3"
  },
  "language_info": {
   "codemirror_mode": {
    "name": "ipython",
    "version": 3
   },
   "file_extension": ".py",
   "mimetype": "text/x-python",
   "name": "python",
   "nbconvert_exporter": "python",
   "pygments_lexer": "ipython3",
   "version": "3.7.6"
  }
 },
 "nbformat": 4,
 "nbformat_minor": 4
}
