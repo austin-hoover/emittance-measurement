{
 "cells": [
  {
   "cell_type": "code",
   "execution_count": null,
   "metadata": {},
   "outputs": [],
   "source": [
    "import numpy as np\n",
    "import pandas as pd\n",
    "from matplotlib import pyplot as plt\n",
    "import proplot as pplt\n",
    "import seaborn as sns"
   ]
  },
  {
   "cell_type": "code",
   "execution_count": null,
   "metadata": {},
   "outputs": [],
   "source": [
    "phase_devs_x = np.loadtxt('_output/phase_devs_x.dat')\n",
    "phase_devs_y = np.loadtxt('_output/phase_devs_y.dat')\n",
    "condition_numbers = np.loadtxt('_output/condition_numbers.dat')\n",
    "fail_rates = np.loadtxt('_output/fail_rates.dat')\n",
    "eps_x_means = np.loadtxt('_output/eps_x_means.dat')\n",
    "eps_y_means = np.loadtxt('_output/eps_y_means.dat')\n",
    "eps_1_means = np.loadtxt('_output/eps_1_means.dat')\n",
    "eps_2_means = np.loadtxt('_output/eps_2_means.dat')\n",
    "eps_x_stds = np.loadtxt('_output/eps_x_stds.dat')\n",
    "eps_y_stds = np.loadtxt('_output/eps_y_stds.dat')\n",
    "eps_1_stds = np.loadtxt('_output/eps_1_stds.dat')\n",
    "eps_2_stds = np.loadtxt('_output/eps_2_stds.dat')"
   ]
  },
  {
   "cell_type": "code",
   "execution_count": null,
   "metadata": {},
   "outputs": [],
   "source": [
    "X = np.random.normal(size=(1000000, 2))\n",
    "x, y = X.T\n",
    "\n",
    "xmax = 3\n",
    "lims = (-xmax, xmax)\n",
    "\n",
    "fig, ax = plt.subplots(figsize=(3, 3))\n",
    "ax.hist2d(x, y, cmap='viridis', bins=60, range=(lims, lims))\n",
    "ax.grid(False)\n",
    "ax.set_xticks([])\n",
    "ax.set_yticks([])\n",
    "for side in ['left', 'right', 'top', 'bottom']:\n",
    "    ax.spines[side].set_visible(False)\n",
    "ax.set_xlim(lims)\n",
    "ax.set_ylim(lims)\n",
    "    \n",
    "S = np.cov(X.T)\n",
    "a, b = np.sqrt(S.diagonal())\n",
    "psi = np.linspace(0, 2 * np.pi, 100)\n",
    "x = a * np.sin(psi)\n",
    "y = b * np.cos(psi)\n",
    "ax.plot(x, y, c='white', lw=1)\n",
    "ax.set_xlabel('x')\n",
    "ax.set_ylabel(r\"$x'$\")\n",
    "plt.savefig('ellipse.png', dpi=250, facecolor='white')"
   ]
  },
  {
   "cell_type": "code",
   "execution_count": null,
   "metadata": {},
   "outputs": [],
   "source": [
    "fig, ax = plt.subplots()\n",
    "X, Y = np.meshgrid(np.degrees(phase_devs_x), np.degrees(phase_devs_y))\n",
    "Z = 2 / (1 + condition_numbers)\n",
    "mesh = ax.pcolormesh(X, Y, Z, cmap='binary_r', shading='auto')\n",
    "cbar = fig.colorbar(mesh, ax=ax)\n",
    "cbar.set_label(r'2 / (1 + cond(A))')\n",
    "ax.set_xlabel(r'$\\mu_x - \\mu_{x0}$ [deg]')\n",
    "ax.set_ylabel(r'$\\mu_y - \\mu_{y0}$ [deg]')\n",
    "ax.scatter(0, 0, color='red', s=18, label='Default optics')\n",
    "ax.scatter(45.0, -45.0, color='blue6', s=18, label='Modified optics')\n",
    "ax.legend(loc=(0, 1), ncol=2, framealpha=0)\n",
    "plt.savefig('_output/figures/inv_condition_numbers.png', facecolor='white', dpi=300)\n",
    "plt.show()"
   ]
  },
  {
   "cell_type": "code",
   "execution_count": null,
   "metadata": {},
   "outputs": [],
   "source": [
    "cmap = 'binary'"
   ]
  },
  {
   "cell_type": "code",
   "execution_count": null,
   "metadata": {},
   "outputs": [],
   "source": [
    "fig, ax = plt.subplots()\n",
    "mesh = ax.pcolormesh(X, Y, fail_rates, cmap=cmap, shading='auto', vmin=0, vmax=1)\n",
    "cbar = fig.colorbar(mesh, ax=ax)\n",
    "cbar.set_label('Fail rate')\n",
    "ax.set_xlabel(r'$\\mu_x - \\mu_{x0}$ [deg]')\n",
    "ax.set_ylabel(r'$\\mu_y - \\mu_{y0}$ [deg]')\n",
    "ax.scatter(0, 0, color='red', s=18, label='Default optics')\n",
    "ax.scatter(45.0, -45.0, color='blue6', s=18, label='Modified optics')\n",
    "ax.legend(loc=(0, 1), ncol=2, framealpha=0)\n",
    "plt.savefig('_output/figures//fail_rates.png', dpi=300, facecolor='white')\n",
    "plt.show()"
   ]
  },
  {
   "cell_type": "code",
   "execution_count": null,
   "metadata": {},
   "outputs": [],
   "source": [
    "for title, data in zip(['eps_x_means', 'eps_y_means', 'eps_1_means', 'eps_2_means'],\n",
    "                       [eps_x_means, eps_y_means, eps_1_means, eps_2_means]):\n",
    "    fig, ax = plt.subplots()\n",
    "    mesh = ax.pcolormesh(X, Y, data, cmap=cmap, shading='auto')\n",
    "    cbar = fig.colorbar(mesh, ax=ax)\n",
    "    ax.set_title(title)\n",
    "    ax.set_xlabel('Deviation from default horizontal phase advance [deg]')\n",
    "    ax.set_ylabel('Deviation from default vertical phase advance [deg]')\n",
    "    plt.show()"
   ]
  },
  {
   "cell_type": "code",
   "execution_count": null,
   "metadata": {},
   "outputs": [],
   "source": [
    "eps_x_stds"
   ]
  },
  {
   "cell_type": "code",
   "execution_count": null,
   "metadata": {},
   "outputs": [],
   "source": [
    "for title, data in zip(['eps_x_stds', 'eps_y_stds', 'eps_1_stds', 'eps_2_stds'],\n",
    "                       [eps_x_stds, eps_y_stds, eps_1_stds, eps_2_stds]):\n",
    "    fig, ax = plt.subplots()\n",
    "    mesh = ax.pcolormesh(X, Y, data, cmap=cmap, shading='auto')\n",
    "    cbar = fig.colorbar(mesh, ax=ax)\n",
    "    ax.set_title(title)\n",
    "    ax.set_xlabel('Deviation from default horizontal phase advance [deg]')\n",
    "    ax.set_ylabel('Deviation from default vertical phase advance [deg]')\n",
    "    plt.show()"
   ]
  },
  {
   "cell_type": "code",
   "execution_count": null,
   "metadata": {},
   "outputs": [],
   "source": []
  },
  {
   "cell_type": "code",
   "execution_count": null,
   "metadata": {},
   "outputs": [],
   "source": []
  },
  {
   "cell_type": "code",
   "execution_count": null,
   "metadata": {},
   "outputs": [],
   "source": []
  },
  {
   "cell_type": "code",
   "execution_count": null,
   "metadata": {},
   "outputs": [],
   "source": []
  },
  {
   "cell_type": "code",
   "execution_count": null,
   "metadata": {},
   "outputs": [],
   "source": [
    "step_size = 50 # turns\n",
    "for [SCBD painting, production painting]:\n",
    "    for intensity in [half, full]:\n",
    "        for n_turns_in_ring in range(max_accumulated_turns, min_n_turns, step_size):\n",
    "            # Take parallel scan.\n",
    "            # Collect data."
   ]
  }
 ],
 "metadata": {
  "kernelspec": {
   "display_name": "Python 3",
   "language": "python",
   "name": "python3"
  },
  "language_info": {
   "codemirror_mode": {
    "name": "ipython",
    "version": 3
   },
   "file_extension": ".py",
   "mimetype": "text/x-python",
   "name": "python",
   "nbconvert_exporter": "python",
   "pygments_lexer": "ipython3",
   "version": "3.7.6"
  }
 },
 "nbformat": 4,
 "nbformat_minor": 4
}
