{
 "cells": [
  {
   "cell_type": "code",
   "execution_count": 16,
   "metadata": {},
   "outputs": [],
   "source": [
    "import math\n",
    "import numpy as np\n",
    "from matplotlib import pyplot as plt"
   ]
  },
  {
   "cell_type": "code",
   "execution_count": 7,
   "metadata": {},
   "outputs": [],
   "source": [
    "def radians(angle_in_degrees):\n",
    "    \"\"\"Convert degrees to radians.\"\"\"\n",
    "    return angle_in_degrees * (math.pi / 180)"
   ]
  },
  {
   "cell_type": "code",
   "execution_count": 8,
   "metadata": {},
   "outputs": [],
   "source": [
    "  def put_angle_in_range(angle):\n",
    "    \"\"\"Put angle in range [0, 2pi].\"\"\"\n",
    "    lim = 2 * math.pi\n",
    "    if angle < 0:\n",
    "        if abs(angle) > lim:\n",
    "            angle = -(abs(angle) % lim)\n",
    "        angle += lim\n",
    "    if angle > lim:\n",
    "        angle %= lim\n",
    "    return angle"
   ]
  },
  {
   "cell_type": "code",
   "execution_count": 25,
   "metadata": {},
   "outputs": [],
   "source": [
    "def get_phases_for_scan(phase_coverage, n_steps):\n",
    "    \n",
    "    def phase_range(center_phase, n_steps, reverse=False):\n",
    "            min_phase = put_angle_in_range(center_phase - 0.5 * radians(phase_coverage))\n",
    "            max_phase = put_angle_in_range(center_phase + 0.5 * radians(phase_coverage))\n",
    "            # Difference between and max phase is always <= 180 degrees.\n",
    "            abs_diff = abs(max_phase - min_phase)\n",
    "            if abs_diff > math.pi:\n",
    "                abs_diff = 2*math.pi - abs_diff\n",
    "            # Return list of phases.\n",
    "            step = abs_diff / (n_steps - 1)\n",
    "            phases = [min_phase]\n",
    "            for _ in range(n_steps - 1):\n",
    "                phase = put_angle_in_range(phases[-1] + step)\n",
    "                phases.append(phase)\n",
    "            if reverse:\n",
    "                phases = phases[::-1]\n",
    "            return phases\n",
    "        \n",
    "    mu_x0 = 1.5\n",
    "    mu_y0 = 2.5\n",
    "    n_steps = n_steps // 2\n",
    "    phases_x = phase_range(mu_x0, n_steps) + n_steps * [mu_x0]\n",
    "    phases_y = n_steps * [mu_y0] + phase_range(mu_y0, n_steps)\n",
    "    phases = [(mu_x, mu_y) for mu_x, mu_y in zip(phases_x, phases_y)]\n",
    "    return phases"
   ]
  },
  {
   "cell_type": "code",
   "execution_count": 28,
   "metadata": {},
   "outputs": [],
   "source": [
    "phase_coverage = 30.0\n",
    "n_steps = 24\n",
    "phases = get_phases_for_scan(phase_coverage, n_steps)\n",
    "phases = np.array(phases)"
   ]
  },
  {
   "cell_type": "code",
   "execution_count": 29,
   "metadata": {},
   "outputs": [
    {
     "data": {
      "text/plain": [
       "[<matplotlib.lines.Line2D at 0x11e204790>]"
      ]
     },
     "execution_count": 29,
     "metadata": {},
     "output_type": "execute_result"
    },
    {
     "data": {
      "image/png": "[encoded data removed]",
      "text/plain": [
       "<Figure size 432x288 with 1 Axes>"
      ]
     },
     "metadata": {
      "needs_background": "light"
     },
     "output_type": "display_data"
    }
   ],
   "source": [
    "plt.plot(phases[:, 0], marker='.')\n",
    "plt.plot(phases[:, 1], marker='.')"
   ]
  },
  {
   "cell_type": "code",
   "execution_count": null,
   "metadata": {},
   "outputs": [],
   "source": []
  }
 ],
 "metadata": {
  "kernelspec": {
   "display_name": "Python 3",
   "language": "python",
   "name": "python3"
  },
  "language_info": {
   "codemirror_mode": {
    "name": "ipython",
    "version": 3
   },
   "file_extension": ".py",
   "mimetype": "text/x-python",
   "name": "python",
   "nbconvert_exporter": "python",
   "pygments_lexer": "ipython3",
   "version": "3.7.6"
  }
 },
 "nbformat": 4,
 "nbformat_minor": 4
}
