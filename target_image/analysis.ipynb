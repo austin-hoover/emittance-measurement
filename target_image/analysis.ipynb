{
 "cells": [
  {
   "cell_type": "markdown",
   "metadata": {},
   "source": [
    "# Target image analysis"
   ]
  },
  {
   "cell_type": "markdown",
   "metadata": {},
   "source": [
    "This notebook processes image data from the SNS target imaging system (TIS)."
   ]
  },
  {
   "cell_type": "code",
   "execution_count": null,
   "metadata": {},
   "outputs": [],
   "source": [
    "import sys\n",
    "from datetime import datetime\n",
    "import collections\n",
    "from pprint import pprint\n",
    "\n",
    "import numpy as np\n",
    "from matplotlib import pyplot as plt\n",
    "import proplot as pplt\n",
    "import seaborn as sns\n",
    "from scipy import ndimage\n",
    "\n",
    "sys.path.append('/Users/46h/Research/')\n",
    "from accphys.tools import utils"
   ]
  },
  {
   "cell_type": "code",
   "execution_count": null,
   "metadata": {},
   "outputs": [],
   "source": [
    "plt.rcParams['grid.alpha'] = 0.05\n",
    "plt.rcParams['axes.grid'] = False\n",
    "plt.rcParams['figure.facecolor'] = 'white'"
   ]
  },
  {
   "cell_type": "markdown",
   "metadata": {},
   "source": [
    "## Preliminaries "
   ]
  },
  {
   "cell_type": "code",
   "execution_count": null,
   "metadata": {},
   "outputs": [],
   "source": [
    "pixel_width = 1.0 / 1.77"
   ]
  },
  {
   "cell_type": "code",
   "execution_count": null,
   "metadata": {},
   "outputs": [],
   "source": [
    "TFile = collections.namedtuple('TFile', ['filename', 'timestamp'])"
   ]
  },
  {
   "cell_type": "code",
   "execution_count": null,
   "metadata": {},
   "outputs": [],
   "source": [
    "class Image:\n",
    "    def __init__(self, Z, pixel_width=1):\n",
    "        self.Z = Z\n",
    "        self.Zf = None\n",
    "        self.n_rows, self.n_cols = Z.shape\n",
    "        self.xx = np.array(list(range(self.n_cols))).astype(float)\n",
    "        self.yy = np.array(list(range(self.n_rows))).astype(float)\n",
    "        self.pixel_width = pixel_width\n",
    "        self.width = abs(self.xx[-1] - self.xx[0])\n",
    "        self.height = abs(self.yy[-1] - self.yy[0])\n",
    "        self.set_pixel_width(pixel_width)\n",
    "        self.X, self.Y = np.meshgrid(self.xx, self.yy)\n",
    "        \n",
    "    def set_pixel_width(self, pixel_width):\n",
    "        self.xx *= pixel_width\n",
    "        self.yy *= pixel_width\n",
    "        \n",
    "    def filter(self, sigma, **kws):\n",
    "        Zf = ndimage.gaussian_filter(self.Z, sigma=2*[sigma], order=0, **kws)\n",
    "        return Zf"
   ]
  },
  {
   "cell_type": "code",
   "execution_count": null,
   "metadata": {},
   "outputs": [],
   "source": [
    "utils.delete_files_not_folders('_output/')"
   ]
  },
  {
   "cell_type": "markdown",
   "metadata": {},
   "source": [
    "## Load files"
   ]
  },
  {
   "cell_type": "code",
   "execution_count": null,
   "metadata": {},
   "outputs": [],
   "source": [
    "folder = '_saved/2021-09-07/TBT_production_0.5ms/data/'"
   ]
  },
  {
   "cell_type": "code",
   "execution_count": null,
   "metadata": {},
   "outputs": [],
   "source": [
    "tfiles = []\n",
    "for filename in utils.list_files(folder):\n",
    "    datetime_str = filename.split('image_')[-1].split('.dat')[0]\n",
    "    date_str, time_str = datetime_str.split('_')\n",
    "    year, month, day = [int(s) for s in date_str.split('.')]\n",
    "    hour, minute, second = [int(s) for s in time_str.split('.')]\n",
    "    tfiles.append(TFile(filename, datetime(year, month, day, hour, minute, second)))\n",
    "tfiles = sorted(tfiles, key=lambda tfile: tfile.timestamp)"
   ]
  },
  {
   "cell_type": "code",
   "execution_count": null,
   "metadata": {},
   "outputs": [],
   "source": [
    "images = []\n",
    "for tfile in tfiles:\n",
    "    Z = np.loadtxt(tfile.filename).reshape(200, 400)\n",
    "    Z = np.vstack([np.zeros((100, 400)), Z, np.zeros((100, 400))]) # make square image\n",
    "    images.append(Image(Z, pixel_width=pixel_width))"
   ]
  },
  {
   "cell_type": "markdown",
   "metadata": {},
   "source": [
    "## Visualization "
   ]
  },
  {
   "cell_type": "code",
   "execution_count": null,
   "metadata": {},
   "outputs": [],
   "source": [
    "n_turns_list = list(range(50, 550, 50))"
   ]
  },
  {
   "cell_type": "code",
   "execution_count": null,
   "metadata": {},
   "outputs": [],
   "source": [
    "def add_joint_grid(fig, gridspec, row, col):\n",
    "    ax_joint = fig.add_subplot(gridspec[row, col])\n",
    "    ax_marg_x = fig.add_subplot(gridspec[row - 1, col])\n",
    "    ax_marg_y = fig.add_subplot(gridspec[row, col + 1])\n",
    "    for ax in [ax_marg_x, ax_marg_y]:\n",
    "        ax.set_xticks([])\n",
    "        ax.set_yticks([])\n",
    "        for side in ['top', 'bottom', 'left', 'right']:\n",
    "            ax.spines[side].set_visible(False)\n",
    "    for side in ['top', 'right']:\n",
    "        ax_joint.spines[side].set_visible(False)\n",
    "    return ax_joint, ax_marg_x, ax_marg_y"
   ]
  },
  {
   "cell_type": "code",
   "execution_count": null,
   "metadata": {},
   "outputs": [],
   "source": [
    "zoom = 1.25\n",
    "sigma = 1.75 # for Gaussian filter"
   ]
  },
  {
   "cell_type": "code",
   "execution_count": null,
   "metadata": {},
   "outputs": [],
   "source": [
    "for image, n_turns in zip(images, n_turns_list):\n",
    "    fig = plt.figure(figsize=(9, 4))\n",
    "    h = 1.5\n",
    "    gridspec = fig.add_gridspec(2, 5, width_ratios=(7, h, 2.5, 7, h), height_ratios=(h, 7),\n",
    "                                left=0.1, right=0.9, bottom=0.1, top=0.9,\n",
    "                                wspace=0, hspace=0)\n",
    "    ax1, ax1_marg_x, ax1_marg_y = add_joint_grid(fig, gridspec, 1, 0)\n",
    "    ax2, ax2_marg_x, ax2_marg_y = add_joint_grid(fig, gridspec, 1, 3)\n",
    "\n",
    "    joint_kws = dict(cmap='dusk_r')\n",
    "    marginal_kws = dict(color='black')\n",
    "    \n",
    "    X, Y, Z = image.X, image.Y, image.Z\n",
    "    Zf = image.filter(sigma)\n",
    "    ax1.pcolormesh(X, Y, Z, cmap='dusk_r', shading='auto')\n",
    "    ax2.pcolormesh(X, Y, Zf, cmap='dusk_r', shading='auto')\n",
    "    \n",
    "    ax1_marg_x.step(image.xx, np.sum(Z, axis=0), **marginal_kws)\n",
    "    ax1_marg_y.step(np.sum(Z, axis=1), image.yy, **marginal_kws)\n",
    "    ax2_marg_x.step(image.xx, np.sum(Zf, axis=0), **marginal_kws)\n",
    "    ax2_marg_y.step(np.sum(Zf, axis=1), image.yy, **marginal_kws)\n",
    "    \n",
    "    # Zoom in/out\n",
    "    new_width = image.width / zoom\n",
    "    delta_x = 0.5 * (image.width - new_width)\n",
    "    xmin, xmax = ax1.get_xlim()\n",
    "    xlim = (xmin + delta_x, xmax - delta_x)\n",
    "    for ax in [ax1, ax2]:\n",
    "        ax.set_xlim(xlim)\n",
    "        ax.set_ylim(xlim)\n",
    "        \n",
    "    for ax in [ax1_marg_x, ax2_marg_x]:\n",
    "        ax.set_xlim(xlim)\n",
    "    for ax in [ax1_marg_y, ax2_marg_y]:\n",
    "        ax.set_ylim(xlim)\n",
    "    for ax in [ax1, ax2]:\n",
    "        ax.set_xlabel('x [mm]')\n",
    "        ax.set_ylabel('y [mm]')\n",
    "        ax.set_aspect(1)\n",
    "        \n",
    "    ax2.annotate(r'Gauss filter ($\\sigma = {}$)'.format(sigma), xy=(0.01, 0.95), xycoords='axes fraction', color='white', fontsize='small')\n",
    "    ax1_marg_x.set_title('n_inj_turns = {}'.format(n_turns))\n",
    "    plt.savefig('_output/target_image_ninjturns={}.png'.format(n_turns), facecolor='white', dpi=300)\n",
    "    plt.show()"
   ]
  },
  {
   "cell_type": "code",
   "execution_count": null,
   "metadata": {},
   "outputs": [],
   "source": []
  }
 ],
 "metadata": {
  "kernelspec": {
   "display_name": "Python 3",
   "language": "python",
   "name": "python3"
  },
  "language_info": {
   "codemirror_mode": {
    "name": "ipython",
    "version": 3
   },
   "file_extension": ".py",
   "mimetype": "text/x-python",
   "name": "python",
   "nbconvert_exporter": "python",
   "pygments_lexer": "ipython3",
   "version": "3.7.6"
  }
 },
 "nbformat": 4,
 "nbformat_minor": 4
}
